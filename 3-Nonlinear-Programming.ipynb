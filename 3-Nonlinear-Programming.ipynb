{
 "cells": [
  {
   "cell_type": "markdown",
   "id": "e12a1324-7139-4ce6-acd5-94778d095e31",
   "metadata": {},
   "source": [
    "# Exercise: Nonlinear Programming¶"
   ]
  },
  {
   "cell_type": "code",
   "execution_count": 1,
   "id": "3a6669a3-ca33-4652-80fa-62aa0aeb34ea",
   "metadata": {},
   "outputs": [],
   "source": [
    "import os\n",
    "import numpy as np\n",
    "import matplotlib.pyplot as plt\n",
    "from casadi import (\n",
    "    MX, Function, \n",
    "    vertcat, horzcat,\n",
    "    gradient, hessian, jacobian,\n",
    "    tanh, sin, cos\n",
    ")\n"
   ]
  },
  {
   "cell_type": "code",
   "execution_count": 2,
   "id": "eaca20d0-b9aa-4bfe-9530-0047db5af18a",
   "metadata": {},
   "outputs": [],
   "source": [
    "plot_dir = 'plots'\n",
    "if not os.path.exists(plot_dir):\n",
    "    os.mkdir(plot_dir)"
   ]
  },
  {
   "cell_type": "markdown",
   "id": "fb04c9b5-09a4-4877-be66-0399f992170f",
   "metadata": {},
   "source": [
    "## Sequential Quadratic Programming (SQP) Method"
   ]
  },
  {
   "cell_type": "markdown",
   "id": "ba382e95-497f-4cfa-9134-6600b1ffdbb1",
   "metadata": {},
   "source": [
    "### 1. Decision variables and expressions for f, g, h"
   ]
  },
  {
   "cell_type": "code",
   "execution_count": 3,
   "id": "67b90cde-0470-472a-9670-cad03fd03150",
   "metadata": {},
   "outputs": [
    {
     "data": {
      "text/plain": [
       "(2, 1)"
      ]
     },
     "execution_count": 3,
     "metadata": {},
     "output_type": "execute_result"
    }
   ],
   "source": [
    "x = MX.sym('x', 2)\n",
    "x.shape"
   ]
  },
  {
   "cell_type": "code",
   "execution_count": 4,
   "id": "cb886394-1d67-4ecd-9bed-22917c6013b2",
   "metadata": {},
   "outputs": [
    {
     "data": {
      "text/plain": [
       "MX((sq(x[0])+sq(tanh(x[1]))))"
      ]
     },
     "execution_count": 4,
     "metadata": {},
     "output_type": "execute_result"
    }
   ],
   "source": [
    "f = x[0]**2 + tanh(x[1]) ** 2\n",
    "f"
   ]
  },
  {
   "cell_type": "code",
   "execution_count": 5,
   "id": "bdcee2dc-58e2-43fc-8757-8dd2eeeabe3d",
   "metadata": {},
   "outputs": [
    {
     "data": {
      "text/plain": [
       "MX((0.5+cos((x[0]+x[1]))))"
      ]
     },
     "execution_count": 5,
     "metadata": {},
     "output_type": "execute_result"
    }
   ],
   "source": [
    "g = cos(x[0] + x[1]) + 0.5\n",
    "g"
   ]
  },
  {
   "cell_type": "code",
   "execution_count": 6,
   "id": "cccb2069-ce45-404a-8487-fbf995402821",
   "metadata": {},
   "outputs": [
    {
     "data": {
      "text/plain": [
       "MX((0.5+sin(x[0])))"
      ]
     },
     "execution_count": 6,
     "metadata": {},
     "output_type": "execute_result"
    }
   ],
   "source": [
    "h = sin(x[0]) + 0.5\n",
    "h"
   ]
  },
  {
   "cell_type": "markdown",
   "id": "4aae909d-9757-4deb-bfc5-ad4573db009a",
   "metadata": {},
   "source": [
    "### 2. Symbolic expression for the Lagrangian"
   ]
  },
  {
   "cell_type": "code",
   "execution_count": 7,
   "id": "1ddbc5af-a891-4a1b-b5a3-342b21faaa43",
   "metadata": {},
   "outputs": [
    {
     "data": {
      "text/plain": [
       "MX((((sq(x[0])+sq(tanh(x[1])))+(λ*(0.5+cos((x[0]+x[1])))))+(ν*(0.5+sin(x[0])))))"
      ]
     },
     "execution_count": 7,
     "metadata": {},
     "output_type": "execute_result"
    }
   ],
   "source": [
    "lam = MX.sym('λ')\n",
    "nu = MX.sym('ν')\n",
    "lagrangian_exp = f + lam * g + nu * h\n",
    "lagrangian_exp"
   ]
  },
  {
   "cell_type": "code",
   "execution_count": 8,
   "id": "0b15300f-4d83-45da-96a0-b289708dd575",
   "metadata": {},
   "outputs": [
    {
     "data": {
      "text/plain": [
       "Function(lag:(i0[2],i1,i2)->(o0) MXFunction)"
      ]
     },
     "execution_count": 8,
     "metadata": {},
     "output_type": "execute_result"
    }
   ],
   "source": [
    "lagrangian_func = Function('lag', [x, lam, nu], [lagrangian_exp])\n",
    "lagrangian_func"
   ]
  },
  {
   "cell_type": "code",
   "execution_count": 9,
   "id": "129330ee-ef20-446f-a71c-9b805a57b655",
   "metadata": {},
   "outputs": [
    {
     "data": {
      "text/plain": [
       "DM(0.875613)"
      ]
     },
     "execution_count": 9,
     "metadata": {},
     "output_type": "execute_result"
    }
   ],
   "source": [
    "lag = lagrangian_func(vertcat(-0.5, -1.8), 2, 3)\n",
    "lag"
   ]
  },
  {
   "cell_type": "code",
   "execution_count": 10,
   "id": "d0f2ce22-2d3f-4a43-8348-38a8a4974d60",
   "metadata": {},
   "outputs": [],
   "source": [
    "assert abs(lag - 0.875613) < 1e-6"
   ]
  },
  {
   "cell_type": "markdown",
   "id": "8e39d57b-7088-4691-a280-0ef3a72d5ea4",
   "metadata": {},
   "source": [
    "### 3. QP approximation setup"
   ]
  },
  {
   "cell_type": "code",
   "execution_count": 11,
   "id": "6772c55f-55bb-495f-aa6e-44fe5857e178",
   "metadata": {},
   "outputs": [
    {
     "data": {
      "text/plain": [
       "(1, 2)"
      ]
     },
     "execution_count": 11,
     "metadata": {},
     "output_type": "execute_result"
    }
   ],
   "source": [
    "df_dx = jacobian(f, x)\n",
    "df_dx.shape"
   ]
  },
  {
   "cell_type": "code",
   "execution_count": 12,
   "id": "024fd2b9-67a0-4b15-8942-731a1f6c52af",
   "metadata": {},
   "outputs": [
    {
     "data": {
      "text/plain": [
       "(2, 2)"
      ]
     },
     "execution_count": 12,
     "metadata": {},
     "output_type": "execute_result"
    }
   ],
   "source": [
    "d2lag_dx2 = hessian(lagrangian_exp, x)[0]\n",
    "d2lag_dx2.shape"
   ]
  },
  {
   "cell_type": "code",
   "execution_count": 13,
   "id": "e55ad387-27a8-4d98-8489-b6e59c309654",
   "metadata": {},
   "outputs": [
    {
     "data": {
      "text/plain": [
       "(2, 1)"
      ]
     },
     "execution_count": 13,
     "metadata": {},
     "output_type": "execute_result"
    }
   ],
   "source": [
    "dx = MX.sym('Δx', 2)\n",
    "dx.shape"
   ]
  },
  {
   "cell_type": "code",
   "execution_count": 14,
   "id": "0323be2a-716d-46d8-96ae-6e18cc1c3646",
   "metadata": {},
   "outputs": [
    {
     "data": {
      "text/plain": [
       "(1, 2)"
      ]
     },
     "execution_count": 14,
     "metadata": {},
     "output_type": "execute_result"
    }
   ],
   "source": [
    "dg_dx = jacobian(g, x)\n",
    "dg_dx.shape"
   ]
  },
  {
   "cell_type": "code",
   "execution_count": 15,
   "id": "71505978-bd45-43c0-8818-bade8822c5b9",
   "metadata": {},
   "outputs": [
    {
     "data": {
      "text/plain": [
       "(1, 2)"
      ]
     },
     "execution_count": 15,
     "metadata": {},
     "output_type": "execute_result"
    }
   ],
   "source": [
    "dh_dx = jacobian(h, x)\n",
    "dh_dx.shape"
   ]
  },
  {
   "cell_type": "code",
   "execution_count": 25,
   "id": "5a3187e2-3d07-4557-86fa-19160d6d6be2",
   "metadata": {},
   "outputs": [
    {
     "data": {
      "text/plain": [
       "Function(QP_problem:(x[2],lam,nu)->(f,g,h,df_dx[1x2],dg_dx[1x2],dh_dx[1x2,1nz],d2lag_dx2[2x2]) MXFunction)"
      ]
     },
     "execution_count": 25,
     "metadata": {},
     "output_type": "execute_result"
    }
   ],
   "source": [
    "formulate_QP_problem = Function(\n",
    "    'QP_problem', \n",
    "    [x, lam, nu], \n",
    "    [f, g, h, df_dx, dg_dx, dh_dx, d2lag_dx2],\n",
    "    ['x', 'lam', 'nu'], \n",
    "    ['f', 'g', 'h', 'df_dx', 'dg_dx', 'dh_dx', 'd2lag_dx2']\n",
    ")\n",
    "formulate_QP_problem"
   ]
  },
  {
   "cell_type": "markdown",
   "id": "f1dc3986-1f08-4425-9d81-15a6fc6b475a",
   "metadata": {},
   "source": [
    "### 4. Evaluate numerically at a point"
   ]
  },
  {
   "cell_type": "code",
   "execution_count": 26,
   "id": "8f3aee79-6a88-449a-bc29-7b7bea262c41",
   "metadata": {},
   "outputs": [
    {
     "data": {
      "text/plain": [
       "{'d2lag_dx2': DM(\n",
       " [[2, 0], \n",
       "  [0, -0.349887]]),\n",
       " 'df_dx': DM([[-1, -0.196099]]),\n",
       " 'dg_dx': DM([[0.745705, 0.745705]]),\n",
       " 'dh_dx': DM([[0.877583, 00]]),\n",
       " 'f': DM(1.14644),\n",
       " 'g': DM(-0.166276),\n",
       " 'h': DM(0.0205745)}"
      ]
     },
     "execution_count": 26,
     "metadata": {},
     "output_type": "execute_result"
    }
   ],
   "source": [
    "x0 = vertcat(-0.5, -1.8)\n",
    "lam0 = 0.\n",
    "nu0 = 0.\n",
    "qp_prob = formulate_QP_problem(x=x0, lam=lam0, nu=nu0)\n",
    "qp_prob"
   ]
  },
  {
   "cell_type": "code",
   "execution_count": 27,
   "id": "89517ebc-14a5-4244-a73a-fa04dc5d31d4",
   "metadata": {},
   "outputs": [],
   "source": [
    "assert qp_prob['f'].shape == (1, 1)\n",
    "assert qp_prob['g'].shape == (1, 1)\n",
    "assert qp_prob['h'].shape == (1, 1)\n",
    "assert qp_prob['df_dx'].shape == (1, 2)\n",
    "assert qp_prob['dg_dx'].shape == (1, 2)\n",
    "assert qp_prob['dh_dx'].shape == (1, 2)\n",
    "assert qp_prob['d2lag_dx2'].shape == (2, 2)"
   ]
  },
  {
   "cell_type": "code",
   "execution_count": 28,
   "id": "d0d6a2a9-5294-4715-8f06-ecb5293d1e2d",
   "metadata": {},
   "outputs": [
    {
     "data": {
      "text/plain": [
       "DM(\n",
       "[[2, 0], \n",
       " [0, -0.349887]])"
      ]
     },
     "execution_count": 28,
     "metadata": {},
     "output_type": "execute_result"
    }
   ],
   "source": [
    "qp_prob['d2lag_dx2']"
   ]
  },
  {
   "cell_type": "code",
   "execution_count": 32,
   "id": "3b4ed0b0-5983-46a6-8adc-aae7c10f450f",
   "metadata": {},
   "outputs": [],
   "source": [
    "assert np.max(np.abs(\n",
    "    qp_prob['d2lag_dx2'] - np.array([[2, 0], [0, -0.3499]])\n",
    ")) < 1e-4"
   ]
  },
  {
   "cell_type": "markdown",
   "id": "e725e0ee-3dc4-4419-a674-8779e67bdd09",
   "metadata": {},
   "source": [
    "### 5. Solve QP"
   ]
  },
  {
   "cell_type": "code",
   "execution_count": null,
   "id": "716794a5-55bc-47ff-9420-ce00ab97ef2b",
   "metadata": {},
   "outputs": [],
   "source": []
  },
  {
   "cell_type": "code",
   "execution_count": null,
   "id": "7b4a0554-2024-4e63-b9b8-20084ce28142",
   "metadata": {},
   "outputs": [],
   "source": []
  },
  {
   "cell_type": "code",
   "execution_count": null,
   "id": "72da513a-460e-44f3-95fe-55181616754c",
   "metadata": {},
   "outputs": [],
   "source": []
  }
 ],
 "metadata": {
  "kernelspec": {
   "display_name": "Python (casadi)",
   "language": "python",
   "name": "casadi"
  },
  "language_info": {
   "codemirror_mode": {
    "name": "ipython",
    "version": 3
   },
   "file_extension": ".py",
   "mimetype": "text/x-python",
   "name": "python",
   "nbconvert_exporter": "python",
   "pygments_lexer": "ipython3",
   "version": "3.10.13"
  }
 },
 "nbformat": 4,
 "nbformat_minor": 5
}
