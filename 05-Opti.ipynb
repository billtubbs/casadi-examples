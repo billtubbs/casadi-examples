{
 "cells": [
  {
   "cell_type": "markdown",
   "id": "247fb311-dabf-41f1-a441-4ea2917bbb1f",
   "metadata": {},
   "source": [
    "# CasADi's Opti Tool"
   ]
  },
  {
   "cell_type": "code",
   "execution_count": 1,
   "id": "f943ad8b-3fbb-4b45-bc66-91331e636a10",
   "metadata": {},
   "outputs": [
    {
     "name": "stdout",
     "output_type": "stream",
     "text": [
      "Casadi: 3.6.5\n",
      "Python: 3.10.13\n"
     ]
    }
   ],
   "source": [
    "import numpy as np\n",
    "from numpy.testing import assert_array_equal, assert_array_almost_equal\n",
    "import matplotlib.pyplot as plt\n",
    "from casadi import Opti\n",
    "import casadi as cas\n",
    "from platform import python_version\n",
    "\n",
    "print(f\"Casadi: {cas.__version__}\")\n",
    "print(f\"Python: {python_version()}\")"
   ]
  },
  {
   "cell_type": "markdown",
   "id": "4cb7cc71-72b4-45ef-ad01-f875580b631f",
   "metadata": {},
   "source": [
    "## 1. Regular Springs"
   ]
  },
  {
   "cell_type": "markdown",
   "id": "c6a85843-b35a-4d50-ab55-53a8d0ce8620",
   "metadata": {},
   "source": [
    "### 1.1. Find the equilibrium position of the hanging chain"
   ]
  },
  {
   "cell_type": "code",
   "execution_count": 2,
   "id": "ddb10d70-a694-4405-8000-62755a2d7255",
   "metadata": {},
   "outputs": [],
   "source": [
    "N = 25  # number of point masses"
   ]
  },
  {
   "cell_type": "code",
   "execution_count": 3,
   "id": "f0d9541f-09e2-4960-b1ff-3182916317ec",
   "metadata": {},
   "outputs": [],
   "source": [
    "# Constants\n",
    "m = 40 / N # mass [kg]\n",
    "D = 70 * N # spring constant [J/m^2]\n",
    "g = 9.81 # gravitational constant [m/s^2]\n",
    "L = 5 / N  # reference length [m]"
   ]
  },
  {
   "cell_type": "code",
   "execution_count": 4,
   "id": "e3c7b115-7f77-49a1-aa2f-b4c67d20db9f",
   "metadata": {},
   "outputs": [
    {
     "data": {
      "text/plain": [
       "((25, 1), (25, 1))"
      ]
     },
     "execution_count": 4,
     "metadata": {},
     "output_type": "execute_result"
    }
   ],
   "source": [
    "opti = Opti()\n",
    "\n",
    "x = opti.variable(N)\n",
    "y = opti.variable(N)\n",
    "\n",
    "x.shape, y.shape"
   ]
  },
  {
   "cell_type": "code",
   "execution_count": 5,
   "id": "a4c7c7f5-1701-4383-a193-3f0d05110b73",
   "metadata": {},
   "outputs": [],
   "source": [
    "spring_potential = D * cas.sum1(cas.diff(x) ** 2 + cas.diff(y) ** 2) / 2.\n",
    "gravitional_potential = m * g * cas.sum1(y)\n",
    "V = spring_potential + gravitional_potential\n",
    "assert V.shape == (1, 1)"
   ]
  },
  {
   "cell_type": "code",
   "execution_count": 6,
   "id": "0ce357e0-d2bb-4f93-a7c3-0d0998b0974c",
   "metadata": {},
   "outputs": [
    {
     "data": {
      "text/plain": [
       "(50, 1)"
      ]
     },
     "execution_count": 6,
     "metadata": {},
     "output_type": "execute_result"
    }
   ],
   "source": [
    "opti.minimize(V)\n",
    "opti.x.shape"
   ]
  },
  {
   "cell_type": "code",
   "execution_count": 7,
   "id": "12467bb7-7261-45ec-8fd3-838df2846dbf",
   "metadata": {},
   "outputs": [
    {
     "data": {
      "text/plain": [
       "(1, 1)"
      ]
     },
     "execution_count": 7,
     "metadata": {},
     "output_type": "execute_result"
    }
   ],
   "source": [
    "opti.f.shape"
   ]
  },
  {
   "cell_type": "code",
   "execution_count": 8,
   "id": "99d6228b-d4ef-4b78-b483-397a45746e7a",
   "metadata": {},
   "outputs": [
    {
     "data": {
      "text/plain": [
       "(4, 1)"
      ]
     },
     "execution_count": 8,
     "metadata": {},
     "output_type": "execute_result"
    }
   ],
   "source": [
    "# Add constraints\n",
    "opti.subject_to(x[0] == -2)\n",
    "opti.subject_to(y[0] == 0)\n",
    "opti.subject_to(x[-1] == 2)\n",
    "opti.subject_to(y[-1] == 0)\n",
    "opti.g.shape"
   ]
  },
  {
   "cell_type": "code",
   "execution_count": 9,
   "id": "711f9f42-2f94-46ce-9c04-4a21c712a166",
   "metadata": {},
   "outputs": [
    {
     "name": "stdout",
     "output_type": "stream",
     "text": [
      "\n",
      "******************************************************************************\n",
      "This program contains Ipopt, a library for large-scale nonlinear optimization.\n",
      " Ipopt is released as open source code under the Eclipse Public License (EPL).\n",
      "         For more information visit https://github.com/coin-or/Ipopt\n",
      "******************************************************************************\n",
      "\n",
      "This is Ipopt version 3.14.11, running with linear solver MUMPS 5.4.1.\n",
      "\n",
      "Number of nonzeros in equality constraint Jacobian...:        4\n",
      "Number of nonzeros in inequality constraint Jacobian.:        0\n",
      "Number of nonzeros in Lagrangian Hessian.............:       98\n",
      "\n",
      "Total number of variables............................:       50\n",
      "                     variables with only lower bounds:        0\n",
      "                variables with lower and upper bounds:        0\n",
      "                     variables with only upper bounds:        0\n",
      "Total number of equality constraints.................:        4\n",
      "Total number of inequality constraints...............:        0\n",
      "        inequality constraints with only lower bounds:        0\n",
      "   inequality constraints with lower and upper bounds:        0\n",
      "        inequality constraints with only upper bounds:        0\n",
      "\n",
      "iter    objective    inf_pr   inf_du lg(mu)  ||d||  lg(rg) alpha_du alpha_pr  ls\n",
      "   0  0.0000000e+00 2.00e+00 1.57e+01  -1.0 0.00e+00    -  0.00e+00 0.00e+00   0\n",
      "   1  5.0238503e+02 1.54e-33 7.96e-13  -1.0 2.00e+00    -  1.00e+00 1.00e+00h  1\n",
      "\n",
      "Number of Iterations....: 1\n",
      "\n",
      "                                   (scaled)                 (unscaled)\n",
      "Objective...............:   5.0238502521904752e+02    5.0238502521904752e+02\n",
      "Dual infeasibility......:   7.9580786405131221e-13    7.9580786405131221e-13\n",
      "Constraint violation....:   1.5407439555097887e-33    1.5407439555097887e-33\n",
      "Variable bound violation:   0.0000000000000000e+00    0.0000000000000000e+00\n",
      "Complementarity.........:   0.0000000000000000e+00    0.0000000000000000e+00\n",
      "Overall NLP error.......:   3.2623990054030290e-13    7.9580786405131221e-13\n",
      "\n",
      "\n",
      "Number of objective function evaluations             = 2\n",
      "Number of objective gradient evaluations             = 2\n",
      "Number of equality constraint evaluations            = 2\n",
      "Number of inequality constraint evaluations          = 0\n",
      "Number of equality constraint Jacobian evaluations   = 2\n",
      "Number of inequality constraint Jacobian evaluations = 0\n",
      "Number of Lagrangian Hessian evaluations             = 1\n",
      "Total seconds in IPOPT                               = 0.011\n",
      "\n",
      "EXIT: Optimal Solution Found.\n",
      "      solver  :   t_proc      (avg)   t_wall      (avg)    n_eval\n",
      "       nlp_f  |  16.00us (  8.00us)  16.18us (  8.09us)         2\n",
      "       nlp_g  |  18.00us (  9.00us)  10.90us (  5.45us)         2\n",
      "  nlp_grad_f  |  49.00us ( 16.33us)  47.24us ( 15.75us)         3\n",
      "  nlp_hess_l  |  21.00us ( 21.00us)  20.81us ( 20.81us)         1\n",
      "   nlp_jac_g  |  18.00us (  6.00us)  17.58us (  5.86us)         3\n",
      "       total  |   3.66ms (  3.66ms)  11.66ms ( 11.66ms)         1\n"
     ]
    }
   ],
   "source": [
    "opti.solver('ipopt')\n",
    "sol = opti.solve()"
   ]
  },
  {
   "cell_type": "code",
   "execution_count": 10,
   "id": "55feacdd-98f2-4f2f-a433-db10cc2141e6",
   "metadata": {},
   "outputs": [
    {
     "data": {
      "image/png": "[encoded data removed]",
      "text/plain": [
       "<Figure size 640x480 with 1 Axes>"
      ]
     },
     "metadata": {},
     "output_type": "display_data"
    }
   ],
   "source": [
    "fig, ax = plt.subplots()\n",
    "ax.plot(sol.value(x), sol.value(y), '-o')\n",
    "ax.set_aspect('equal')\n",
    "ax.set_xlabel('$x$')\n",
    "ax.set_ylabel('$y$')\n",
    "ax.grid()\n",
    "plt.show()"
   ]
  },
  {
   "cell_type": "code",
   "execution_count": 11,
   "id": "e361934c-bda3-4f0b-bb8a-51eb35360e87",
   "metadata": {},
   "outputs": [
    {
     "data": {
      "text/plain": [
       "((23, 1), (23, 1))"
      ]
     },
     "execution_count": 11,
     "metadata": {},
     "output_type": "execute_result"
    }
   ],
   "source": [
    "# Alternative without constraints\n",
    "opti2 = Opti()\n",
    "\n",
    "x2 = opti2.variable(N - 2)\n",
    "y2 = opti2.variable(N - 2)\n",
    "\n",
    "x2.shape, y2.shape"
   ]
  },
  {
   "cell_type": "code",
   "execution_count": 12,
   "id": "ae8a9806-c061-4d7a-85ea-765903cff42d",
   "metadata": {},
   "outputs": [],
   "source": [
    "spring_potential = D * (\n",
    "    (x2[0] - -2.) ** 2\n",
    "    + y2[0] ** 2\n",
    "    + (x2[-1] - 2.) ** 2\n",
    "    + y2[-1] ** 2 \n",
    "    + cas.sum1((x2[1:] - x2[:-1]) ** 2 + (y2[1:] - y2[:-1]) ** 2)\n",
    ") / 2.\n",
    "gravitional_potential = m * g * cas.sum1(y2)\n",
    "V2 = spring_potential + gravitional_potential\n",
    "assert V2.shape == (1, 1)"
   ]
  },
  {
   "cell_type": "code",
   "execution_count": 13,
   "id": "f95d37d4-f823-4884-ae2f-fa1e29c57bcb",
   "metadata": {},
   "outputs": [
    {
     "name": "stdout",
     "output_type": "stream",
     "text": [
      "This is Ipopt version 3.14.11, running with linear solver MUMPS 5.4.1.\n",
      "\n",
      "Number of nonzeros in equality constraint Jacobian...:        0\n",
      "Number of nonzeros in inequality constraint Jacobian.:        0\n",
      "Number of nonzeros in Lagrangian Hessian.............:       90\n",
      "\n",
      "Total number of variables............................:       46\n",
      "                     variables with only lower bounds:        0\n",
      "                variables with lower and upper bounds:        0\n",
      "                     variables with only upper bounds:        0\n",
      "Total number of equality constraints.................:        0\n",
      "Total number of inequality constraints...............:        0\n",
      "        inequality constraints with only lower bounds:        0\n",
      "   inequality constraints with lower and upper bounds:        0\n",
      "        inequality constraints with only upper bounds:        0\n",
      "\n",
      "iter    objective    inf_pr   inf_du lg(mu)  ||d||  lg(rg) alpha_du alpha_pr  ls\n",
      "   0  7.0000000e+03 0.00e+00 1.00e+02  -1.0 0.00e+00    -  0.00e+00 0.00e+00   0\n",
      "   1  5.0238503e+02 0.00e+00 1.14e-14  -1.0 1.83e+00    -  1.00e+00 1.00e+00f  1\n",
      "\n",
      "Number of Iterations....: 1\n",
      "\n",
      "                                   (scaled)                 (unscaled)\n",
      "Objective...............:   1.4353857863401357e+01    5.0238502521904752e+02\n",
      "Dual infeasibility......:   1.1368683772161602e-14    3.9790393202565605e-13\n",
      "Constraint violation....:   0.0000000000000000e+00    0.0000000000000000e+00\n",
      "Variable bound violation:   0.0000000000000000e+00    0.0000000000000000e+00\n",
      "Complementarity.........:   0.0000000000000000e+00    0.0000000000000000e+00\n",
      "Overall NLP error.......:   1.1368683772161602e-14    3.9790393202565605e-13\n",
      "\n",
      "\n",
      "Number of objective function evaluations             = 2\n",
      "Number of objective gradient evaluations             = 2\n",
      "Number of equality constraint evaluations            = 0\n",
      "Number of inequality constraint evaluations          = 0\n",
      "Number of equality constraint Jacobian evaluations   = 0\n",
      "Number of inequality constraint Jacobian evaluations = 0\n",
      "Number of Lagrangian Hessian evaluations             = 1\n",
      "Total seconds in IPOPT                               = 0.001\n",
      "\n",
      "EXIT: Optimal Solution Found.\n",
      "      solver  :   t_proc      (avg)   t_wall      (avg)    n_eval\n",
      "       nlp_f  |  15.00us (  7.50us)  12.45us (  6.23us)         2\n",
      "  nlp_grad_f  |  43.00us ( 14.33us)  41.68us ( 13.89us)         3\n",
      "  nlp_hess_l  |  12.00us ( 12.00us)  11.65us ( 11.65us)         1\n",
      "       total  |   1.57ms (  1.57ms)   1.54ms (  1.54ms)         1\n"
     ]
    }
   ],
   "source": [
    "opti2.minimize(V2)\n",
    "opti2.solver('ipopt')\n",
    "sol2 = opti2.solve()"
   ]
  },
  {
   "cell_type": "code",
   "execution_count": 14,
   "id": "f5441911-6b7b-43ab-a156-faea4feac85c",
   "metadata": {},
   "outputs": [
    {
     "data": {
      "image/png": "[encoded data removed]",
      "text/plain": [
       "<Figure size 640x480 with 1 Axes>"
      ]
     },
     "metadata": {},
     "output_type": "display_data"
    }
   ],
   "source": [
    "fig, ax = plt.subplots()\n",
    "ax.plot(sol2.value(x2), sol2.value(y2), '-o')\n",
    "ax.set_aspect('equal')\n",
    "ax.set_xlabel('$x$')\n",
    "ax.set_ylabel('$y$')\n",
    "ax.grid()\n",
    "plt.show()"
   ]
  },
  {
   "cell_type": "code",
   "execution_count": 15,
   "id": "d338a17e-60fd-4a36-b6c8-dc8b1b489929",
   "metadata": {},
   "outputs": [],
   "source": [
    "assert max(np.abs(np.array(sol.value(x[1:-1])) - np.array(sol2.value(x2)))) < 1e-9\n",
    "assert max(np.abs(np.array(sol.value(y[1:-1])) - np.array(sol2.value(y2)))) < 1e-8"
   ]
  },
  {
   "cell_type": "markdown",
   "id": "d86ce605-044a-4fab-a511-05134381e237",
   "metadata": {},
   "source": [
    "### 1.2. Inspect the structure of the Hessian"
   ]
  },
  {
   "cell_type": "code",
   "execution_count": 16,
   "id": "39075eac-d65c-4ac6-84c7-67bdaf9b57f2",
   "metadata": {},
   "outputs": [
    {
     "data": {
      "text/plain": [
       "MX(vertcat(opti0_x_1, opti0_x_2))"
      ]
     },
     "execution_count": 16,
     "metadata": {},
     "output_type": "execute_result"
    }
   ],
   "source": [
    "opti.x"
   ]
  },
  {
   "cell_type": "code",
   "execution_count": 17,
   "id": "ebc4adca-5552-4cfe-9ea5-02db3aa55b01",
   "metadata": {},
   "outputs": [
    {
     "name": "stdout",
     "output_type": "stream",
     "text": [
      "**................................................\n",
      "***...............................................\n",
      ".***..............................................\n",
      "..***.............................................\n",
      "...***............................................\n",
      "....***...........................................\n",
      ".....***..........................................\n",
      "......***.........................................\n",
      ".......***........................................\n",
      "........***.......................................\n",
      ".........***......................................\n",
      "..........***.....................................\n",
      "...........***....................................\n",
      "............***...................................\n",
      ".............***..................................\n",
      "..............***.................................\n",
      "...............***................................\n",
      "................***...............................\n",
      ".................***..............................\n",
      "..................***.............................\n",
      "...................***............................\n",
      "....................***...........................\n",
      ".....................***..........................\n",
      "......................***.........................\n",
      ".......................**.........................\n",
      ".........................**.......................\n",
      ".........................***......................\n",
      "..........................***.....................\n",
      "...........................***....................\n",
      "............................***...................\n",
      ".............................***..................\n",
      "..............................***.................\n",
      "...............................***................\n",
      "................................***...............\n",
      ".................................***..............\n",
      "..................................***.............\n",
      "...................................***............\n",
      "....................................***...........\n",
      ".....................................***..........\n",
      "......................................***.........\n",
      ".......................................***........\n",
      "........................................***.......\n",
      ".........................................***......\n",
      "..........................................***.....\n",
      "...........................................***....\n",
      "............................................***...\n",
      ".............................................***..\n",
      "..............................................***.\n",
      "...............................................***\n",
      "................................................**\n"
     ]
    }
   ],
   "source": [
    "cas.hessian(opti.f, opti.x)[0].sparsity().spy()"
   ]
  },
  {
   "cell_type": "code",
   "execution_count": 18,
   "id": "44e805a9-2b10-441b-a406-fa76641e07b7",
   "metadata": {},
   "outputs": [
    {
     "data": {
      "text/plain": [
       "(50, 50)"
      ]
     },
     "execution_count": 18,
     "metadata": {},
     "output_type": "execute_result"
    }
   ],
   "source": [
    "cas.hessian(opti.f, opti.x)[0].shape"
   ]
  },
  {
   "cell_type": "code",
   "execution_count": 19,
   "id": "8e68c63c-40b6-4e7d-9e40-63118b43956d",
   "metadata": {},
   "outputs": [
    {
     "data": {
      "text/plain": [
       "array([[ 3500., -1750.],\n",
       "       [-1750.,  3500.]])"
      ]
     },
     "execution_count": 19,
     "metadata": {},
     "output_type": "execute_result"
    }
   ],
   "source": [
    "# There are cross terms between x_i and x_{i-1}\n",
    "sol.value(cas.hessian(opti.f, opti.x)[0][5:7, 5:7])"
   ]
  },
  {
   "cell_type": "code",
   "execution_count": 20,
   "id": "1ce94b86-eb32-4b11-9eea-9f1be8212f0e",
   "metadata": {},
   "outputs": [
    {
     "data": {
      "text/plain": [
       "array([[ 3500., -1750.],\n",
       "       [-1750.,  3500.]])"
      ]
     },
     "execution_count": 20,
     "metadata": {},
     "output_type": "execute_result"
    }
   ],
   "source": [
    "# and between y_i and y_{i-1}\n",
    "sol.value(cas.hessian(opti.f, opti.x)[0][30:32, 30:32])"
   ]
  },
  {
   "cell_type": "markdown",
   "id": "80e6d0b2-cf1a-40b6-98f2-684793ee00ea",
   "metadata": {},
   "source": [
    "### 1.3. Inspect the value of the Lagrange gradient at the solution"
   ]
  },
  {
   "cell_type": "code",
   "execution_count": 21,
   "id": "5f39dfff-f3a5-462e-86c7-6feb2a264054",
   "metadata": {},
   "outputs": [
    {
     "data": {
      "text/plain": [
       "(4, 1)"
      ]
     },
     "execution_count": 21,
     "metadata": {},
     "output_type": "execute_result"
    }
   ],
   "source": [
    "# Lagrange multipliers - shape corresponds to the number of constraints\n",
    "# because each constraint comes with a multiplier\n",
    "opti.lam_g.shape"
   ]
  },
  {
   "cell_type": "code",
   "execution_count": 22,
   "id": "5298e430-9e77-47c0-b37a-b8411afea4e0",
   "metadata": {},
   "outputs": [
    {
     "data": {
      "text/plain": [
       "(1, 1)"
      ]
     },
     "execution_count": 22,
     "metadata": {},
     "output_type": "execute_result"
    }
   ],
   "source": [
    "lag = opti.f + opti.lam_g.T @ opti.g\n",
    "lag.shape"
   ]
  },
  {
   "cell_type": "code",
   "execution_count": 23,
   "id": "f6af17da-9b04-4493-892a-6a02c753436a",
   "metadata": {},
   "outputs": [
    {
     "data": {
      "text/plain": [
       "array([ 2.27373675e-13, -3.97903932e-13,  0.00000000e+00,  0.00000000e+00,\n",
       "        3.97903932e-13,  0.00000000e+00, -3.97903932e-13,  3.97903932e-13,\n",
       "       -3.97903932e-13,  1.70530257e-13,  5.68434189e-14, -5.68434189e-14,\n",
       "        5.68434189e-14, -1.70530257e-13,  2.27373675e-13, -2.84217094e-13,\n",
       "        1.70530257e-13, -3.41060513e-13,  5.68434189e-13, -3.97903932e-13,\n",
       "       -3.97903932e-13,  7.95807864e-13, -3.97903932e-13,  0.00000000e+00,\n",
       "        5.68434189e-14,  0.00000000e+00,  2.84217094e-14, -2.84217094e-14,\n",
       "        2.84217094e-14, -5.68434189e-14, -8.52651283e-14, -7.10542736e-14,\n",
       "        2.27373675e-13, -7.10542736e-14,  1.20792265e-13, -7.10542736e-14,\n",
       "       -7.10542736e-14,  1.24344979e-13, -7.10542736e-14,  1.24344979e-13,\n",
       "       -6.39488462e-14, -7.81597009e-14,  2.84217094e-14,  2.84217094e-14,\n",
       "        1.42108547e-14,  4.26325641e-14, -1.42108547e-13,  5.68434189e-14,\n",
       "        2.84217094e-14, -2.84217094e-14])"
      ]
     },
     "execution_count": 23,
     "metadata": {},
     "output_type": "execute_result"
    }
   ],
   "source": [
    "grad_lag = sol.value(cas.gradient(lag, opti.x)) # note: this is the Jacobian also\n",
    "grad_lag"
   ]
  },
  {
   "cell_type": "markdown",
   "id": "f58ef1f2-b55f-49b0-8b82-0613684ca72d",
   "metadata": {},
   "source": [
    "This gradient should be close to zero if the solution is good."
   ]
  },
  {
   "cell_type": "code",
   "execution_count": 24,
   "id": "5fa09bdf-1a81-4e28-bdbe-c2d48ea693a9",
   "metadata": {},
   "outputs": [
    {
     "data": {
      "text/plain": [
       "1.6727132820544395e-12"
      ]
     },
     "execution_count": 24,
     "metadata": {},
     "output_type": "execute_result"
    }
   ],
   "source": [
    "np.linalg.norm(grad_lag)"
   ]
  },
  {
   "cell_type": "markdown",
   "id": "562a9431-d19a-441e-a60d-d032b67af504",
   "metadata": {},
   "source": [
    "### 1.4 Why does the solver need only 1 iteration?"
   ]
  },
  {
   "cell_type": "markdown",
   "id": "a0b71912-bcc1-4e3b-9398-46ed339bb9d1",
   "metadata": {},
   "source": [
    "Because the system is a second-order polynomial function of the states, and the constraints are linear, which a second-order, i.e. quadratic programming (QP) solver can solve in one iteration."
   ]
  },
  {
   "cell_type": "markdown",
   "id": "1421b1c5-0b0d-4f59-ad3d-33fd0c6d09b9",
   "metadata": {},
   "source": [
    "## 2. Springs with a nonzero rest-length"
   ]
  },
  {
   "cell_type": "code",
   "execution_count": 25,
   "id": "a9e93d14-d00c-4956-9729-5412c5f90ff1",
   "metadata": {},
   "outputs": [],
   "source": [
    "opti = Opti()\n",
    "\n",
    "x = opti.variable(N)\n",
    "y = opti.variable(N)\n",
    "L = opti.parameter()"
   ]
  },
  {
   "cell_type": "markdown",
   "id": "8cd00697-0c86-4c3f-ac65-f585a5240558",
   "metadata": {},
   "source": [
    "$$ D \\left( \\sqrt{(x_{i+1} - x_{i})^2 + (y_{i+1} - y_{i})^2} - L \\right) ^ 2$$"
   ]
  },
  {
   "cell_type": "code",
   "execution_count": 26,
   "id": "f6752e84-c3c4-4728-91d7-ce70d05e24f2",
   "metadata": {},
   "outputs": [],
   "source": [
    "dx_dy_sq = cas.diff(x) ** 2 + cas.diff(y) ** 2\n",
    "spring_potential = D * cas.sum1(dx_dy_sq - L * cas.sqrt(dx_dy_sq) + L ** 2) / 2.\n",
    "gravitional_potential = m * g * cas.sum1(y)\n",
    "V = spring_potential + gravitional_potential\n",
    "assert V.shape == (1, 1)"
   ]
  },
  {
   "cell_type": "code",
   "execution_count": 27,
   "id": "31b911d2-08fc-43ca-8031-8f246ddfcb9e",
   "metadata": {},
   "outputs": [
    {
     "data": {
      "text/plain": [
       "(50, 1)"
      ]
     },
     "execution_count": 27,
     "metadata": {},
     "output_type": "execute_result"
    }
   ],
   "source": [
    "opti.minimize(V)\n",
    "opti.x.shape"
   ]
  },
  {
   "cell_type": "code",
   "execution_count": 28,
   "id": "027b2b5f-0a50-4df9-9fe0-437dce8aa4a5",
   "metadata": {},
   "outputs": [
    {
     "data": {
      "text/plain": [
       "(1, 1)"
      ]
     },
     "execution_count": 28,
     "metadata": {},
     "output_type": "execute_result"
    }
   ],
   "source": [
    "opti.f.shape"
   ]
  },
  {
   "cell_type": "code",
   "execution_count": 29,
   "id": "0f7be080-2a36-4a86-962b-9168cb429756",
   "metadata": {},
   "outputs": [
    {
     "data": {
      "text/plain": [
       "(4, 1)"
      ]
     },
     "execution_count": 29,
     "metadata": {},
     "output_type": "execute_result"
    }
   ],
   "source": [
    "# Add constraints\n",
    "opti.subject_to(x[0] == -2)\n",
    "opti.subject_to(y[0] == 0)\n",
    "opti.subject_to(x[-1] == 2)\n",
    "opti.subject_to(y[-1] == 0)\n",
    "opti.g.shape"
   ]
  },
  {
   "cell_type": "code",
   "execution_count": 30,
   "id": "c6273d0d-f6da-40ab-8009-221b6b4c175b",
   "metadata": {},
   "outputs": [
    {
     "name": "stdout",
     "output_type": "stream",
     "text": [
      "This is Ipopt version 3.14.11, running with linear solver MUMPS 5.4.1.\n",
      "\n",
      "Number of nonzeros in equality constraint Jacobian...:        4\n",
      "Number of nonzeros in inequality constraint Jacobian.:        0\n",
      "Number of nonzeros in Lagrangian Hessian.............:      171\n",
      "\n",
      "Total number of variables............................:       50\n",
      "                     variables with only lower bounds:        0\n",
      "                variables with lower and upper bounds:        0\n",
      "                     variables with only upper bounds:        0\n",
      "Total number of equality constraints.................:        4\n",
      "Total number of inequality constraints...............:        0\n",
      "        inequality constraints with only lower bounds:        0\n",
      "   inequality constraints with lower and upper bounds:        0\n",
      "        inequality constraints with only upper bounds:        0\n",
      "\n",
      "iter    objective    inf_pr   inf_du lg(mu)  ||d||  lg(rg) alpha_du alpha_pr  ls\n",
      "   0  7.2333333e+02 0.00e+00 1.35e+01  -1.0 0.00e+00    -  0.00e+00 0.00e+00   0\n",
      "   1  5.8770031e+02 1.48e-31 1.06e+02  -1.0 1.61e+00    -  1.00e+00 1.00e+00f  1\n",
      "   2  5.5542982e+02 1.33e-30 2.47e+00  -1.0 3.70e-01    -  1.00e+00 1.00e+00f  1\n",
      "   3  5.5537815e+02 1.81e-32 1.34e-02  -1.0 1.36e-02    -  1.00e+00 1.00e+00f  1\n",
      "   4  5.5537815e+02 1.11e-34 1.51e-07  -3.8 5.59e-05    -  1.00e+00 1.00e+00f  1\n",
      "   5  5.5537815e+02 1.02e-40 3.41e-13  -8.6 8.29e-10    -  1.00e+00 1.00e+00f  1\n",
      "\n",
      "Number of Iterations....: 5\n",
      "\n",
      "                                   (scaled)                 (unscaled)\n",
      "Objective...............:   4.7603841549097677e+02    5.5537815140614202e+02\n",
      "Dual infeasibility......:   3.4106051316484657e-13    3.9790393202565610e-13\n",
      "Constraint violation....:   1.0188000355027150e-40    1.0188000355027150e-40\n",
      "Variable bound violation:   0.0000000000000000e+00    0.0000000000000000e+00\n",
      "Complementarity.........:   0.0000000000000000e+00    0.0000000000000000e+00\n",
      "Overall NLP error.......:   2.3246087699644489e-13    3.9790393202565610e-13\n",
      "\n",
      "\n",
      "Number of objective function evaluations             = 6\n",
      "Number of objective gradient evaluations             = 6\n",
      "Number of equality constraint evaluations            = 6\n",
      "Number of inequality constraint evaluations          = 0\n",
      "Number of equality constraint Jacobian evaluations   = 6\n",
      "Number of inequality constraint Jacobian evaluations = 0\n",
      "Number of Lagrangian Hessian evaluations             = 5\n",
      "Total seconds in IPOPT                               = 0.005\n",
      "\n",
      "EXIT: Optimal Solution Found.\n",
      "      solver  :   t_proc      (avg)   t_wall      (avg)    n_eval\n",
      "       nlp_f  |  26.00us (  4.33us)  27.82us (  4.64us)         6\n",
      "       nlp_g  |  24.00us (  4.00us)  18.60us (  3.10us)         6\n",
      "  nlp_grad_f  |  57.00us (  8.14us)  52.13us (  7.45us)         7\n",
      "  nlp_hess_l  | 117.00us ( 23.40us) 115.60us ( 23.12us)         5\n",
      "   nlp_jac_g  | 123.00us ( 17.57us)  21.00us (  3.00us)         7\n",
      "       total  |   5.57ms (  5.57ms)   5.10ms (  5.10ms)         1\n"
     ]
    }
   ],
   "source": [
    "opti.set_value(L, 5 / N)\n",
    "\n",
    "# Need to specify non-zero initial x in this case\n",
    "opti.set_initial(x, np.linspace(-2, 2, N))\n",
    "opti.solver('ipopt')\n",
    "sol = opti.solve()"
   ]
  },
  {
   "cell_type": "markdown",
   "id": "5a721609-c840-4c23-8d87-0a9cb8a6109e",
   "metadata": {},
   "source": [
    "### 2.2 Why is the Hessian no longer banded?"
   ]
  },
  {
   "cell_type": "code",
   "execution_count": 31,
   "id": "bb3cdde3-90c8-423c-897d-96d784e5cc6e",
   "metadata": {},
   "outputs": [
    {
     "name": "stdout",
     "output_type": "stream",
     "text": [
      "**.......................**.......................\n",
      "***......................***......................\n",
      ".***......................***.....................\n",
      "..***......................***....................\n",
      "...***......................***...................\n",
      "....***......................***..................\n",
      ".....***......................***.................\n",
      "......***......................***................\n",
      ".......***......................***...............\n",
      "........***......................***..............\n",
      ".........***......................***.............\n",
      "..........***......................***............\n",
      "...........***......................***...........\n",
      "............***......................***..........\n",
      ".............***......................***.........\n",
      "..............***......................***........\n",
      "...............***......................***.......\n",
      "................***......................***......\n",
      ".................***......................***.....\n",
      "..................***......................***....\n",
      "...................***......................***...\n",
      "....................***......................***..\n",
      ".....................***......................***.\n",
      "......................***......................***\n",
      ".......................**.......................**\n",
      "**.......................**.......................\n",
      "***......................***......................\n",
      ".***......................***.....................\n",
      "..***......................***....................\n",
      "...***......................***...................\n",
      "....***......................***..................\n",
      ".....***......................***.................\n",
      "......***......................***................\n",
      ".......***......................***...............\n",
      "........***......................***..............\n",
      ".........***......................***.............\n",
      "..........***......................***............\n",
      "...........***......................***...........\n",
      "............***......................***..........\n",
      ".............***......................***.........\n",
      "..............***......................***........\n",
      "...............***......................***.......\n",
      "................***......................***......\n",
      ".................***......................***.....\n",
      "..................***......................***....\n",
      "...................***......................***...\n",
      "....................***......................***..\n",
      ".....................***......................***.\n",
      "......................***......................***\n",
      ".......................**.......................**\n"
     ]
    }
   ],
   "source": [
    "cas.hessian(opti.f, opti.x)[0].sparsity().spy()"
   ]
  },
  {
   "cell_type": "markdown",
   "id": "23684ed3-10ce-4d77-855c-bf522d473524",
   "metadata": {},
   "source": [
    "Because of the cross terms, $-\\frac{DL}{2}\\sqrt{(x_{i+1} - x_i)^2 + (y_{i+1} - y_i)^2}$, which involve both $y$ and $x$ positions.\n",
    "\n",
    "We could make the assumption that $y \\approx 0$ and that would eliminate these terms (but this would not give an exact solution).  \n",
    "\n",
    "The better option is to manually re-order the variables, e.g. x1, y1, x2, y2, ... so the structure remains diagonal."
   ]
  },
  {
   "cell_type": "markdown",
   "id": "d2351063-70d1-4a70-9d25-c2b761a858d5",
   "metadata": {},
   "source": [
    "Note that IPOPT will re-order the state variables to produce a more banded structure (as close as possible to the diagonal).  This makes it cheaper to factorize (in terms of memory and computation)."
   ]
  },
  {
   "cell_type": "markdown",
   "id": "ce966aa8-57d9-4699-a15e-ddae49ca95ed",
   "metadata": {},
   "source": [
    "### 2.3 Visualize the intermediate solution for each NLP step"
   ]
  },
  {
   "cell_type": "code",
   "execution_count": 32,
   "id": "c870059f-72bd-4484-92a6-a2cba9891107",
   "metadata": {},
   "outputs": [],
   "source": [
    "# Introduce a call-back\n",
    "\n",
    "def plot_iteration(i, x, y):\n",
    "    ax.plot(sol2.value(x), sol2.value(y), '-o', label=f'i = {i}')\n",
    "\n",
    "opti.callback(lambda i: plot_iteration(i, opti.debug.value(x), opti.debug.value(y)))"
   ]
  },
  {
   "cell_type": "code",
   "execution_count": 33,
   "id": "afc3978f-fd91-4ddb-a540-c2e56de72e9e",
   "metadata": {},
   "outputs": [
    {
     "name": "stdout",
     "output_type": "stream",
     "text": [
      "This is Ipopt version 3.14.11, running with linear solver MUMPS 5.4.1.\n",
      "\n",
      "Number of nonzeros in equality constraint Jacobian...:        4\n",
      "Number of nonzeros in inequality constraint Jacobian.:        0\n",
      "Number of nonzeros in Lagrangian Hessian.............:      171\n",
      "\n",
      "Total number of variables............................:       50\n",
      "                     variables with only lower bounds:        0\n",
      "                variables with lower and upper bounds:        0\n",
      "                     variables with only upper bounds:        0\n",
      "Total number of equality constraints.................:        4\n",
      "Total number of inequality constraints...............:        0\n",
      "        inequality constraints with only lower bounds:        0\n",
      "   inequality constraints with lower and upper bounds:        0\n",
      "        inequality constraints with only upper bounds:        0\n",
      "\n",
      "iter    objective    inf_pr   inf_du lg(mu)  ||d||  lg(rg) alpha_du alpha_pr  ls\n",
      "   0  7.2333333e+02 0.00e+00 1.35e+01  -1.0 0.00e+00    -  0.00e+00 0.00e+00   0\n",
      "   1  5.8770031e+02 1.48e-31 1.06e+02  -1.0 1.61e+00    -  1.00e+00 1.00e+00f  1\n",
      "   2  5.5542982e+02 1.33e-30 2.47e+00  -1.0 3.70e-01    -  1.00e+00 1.00e+00f  1\n",
      "   3  5.5537815e+02 1.81e-32 1.34e-02  -1.0 1.36e-02    -  1.00e+00 1.00e+00f  1\n",
      "   4  5.5537815e+02 1.11e-34 1.51e-07  -3.8 5.59e-05    -  1.00e+00 1.00e+00f  1\n",
      "   5  5.5537815e+02 1.02e-40 3.41e-13  -8.6 8.29e-10    -  1.00e+00 1.00e+00f  1\n",
      "\n",
      "Number of Iterations....: 5\n",
      "\n",
      "                                   (scaled)                 (unscaled)\n",
      "Objective...............:   4.7603841549097677e+02    5.5537815140614202e+02\n",
      "Dual infeasibility......:   3.4106051316484657e-13    3.9790393202565610e-13\n",
      "Constraint violation....:   1.0188000355027150e-40    1.0188000355027150e-40\n",
      "Variable bound violation:   0.0000000000000000e+00    0.0000000000000000e+00\n",
      "Complementarity.........:   0.0000000000000000e+00    0.0000000000000000e+00\n",
      "Overall NLP error.......:   2.3246087699644489e-13    3.9790393202565610e-13\n",
      "\n",
      "\n",
      "Number of objective function evaluations             = 6\n",
      "Number of objective gradient evaluations             = 6\n",
      "Number of equality constraint evaluations            = 6\n",
      "Number of inequality constraint evaluations          = 0\n",
      "Number of equality constraint Jacobian evaluations   = 6\n",
      "Number of inequality constraint Jacobian evaluations = 0\n",
      "Number of Lagrangian Hessian evaluations             = 5\n",
      "Total seconds in IPOPT                               = 0.016\n",
      "\n",
      "EXIT: Optimal Solution Found.\n",
      "      solver  :   t_proc      (avg)   t_wall      (avg)    n_eval\n",
      "callback_fun  |   5.75ms (958.17us)   5.65ms (941.27us)         6\n",
      "       nlp_f  |  34.00us (  5.67us)  34.61us (  5.77us)         6\n",
      "       nlp_g  |  33.00us (  5.50us)  22.17us (  3.70us)         6\n",
      "  nlp_grad_f  |  44.00us (  6.29us)  44.04us (  6.29us)         7\n",
      "  nlp_hess_l  | 135.00us ( 27.00us) 132.67us ( 26.53us)         5\n",
      "   nlp_jac_g  |  27.00us (  3.86us)  27.66us (  3.95us)         7\n",
      "       total  |  10.53ms ( 10.53ms)  16.69ms ( 16.69ms)         1\n"
     ]
    },
    {
     "data": {
      "image/png": "[encoded data removed]",
      "text/plain": [
       "<Figure size 640x480 with 1 Axes>"
      ]
     },
     "metadata": {},
     "output_type": "display_data"
    }
   ],
   "source": [
    "fig, ax = plt.subplots()\n",
    "\n",
    "opti.set_initial(x, np.linspace(-2, 2, N)); \n",
    "opti.solver('ipopt')\n",
    "sol = opti.solve()\n",
    "\n",
    "ax.set_xlabel('$x$')\n",
    "ax.set_ylabel('$y$')\n",
    "ax.grid()\n",
    "ax.legend()\n",
    "ax.set_title('Intermediate solutions')\n",
    "plt.show()"
   ]
  },
  {
   "cell_type": "markdown",
   "id": "d4a7ab7f-aabb-4cba-a2af-9c47310f2477",
   "metadata": {},
   "source": [
    "For some reason on the solution video, his solver takes 28 steps to converge, unlike 4 here."
   ]
  },
  {
   "cell_type": "markdown",
   "id": "00f0b294-1799-4fc9-b030-4037e5ad254b",
   "metadata": {},
   "source": [
    "## 3. Rigid Bars"
   ]
  },
  {
   "cell_type": "markdown",
   "id": "2162781e-585f-4c29-b99a-464875f61730",
   "metadata": {},
   "source": [
    "### 3.1 Drop the terms for spring potential energy"
   ]
  },
  {
   "cell_type": "code",
   "execution_count": 34,
   "id": "b21e5208-01f0-4e81-942d-cc4f0753885b",
   "metadata": {},
   "outputs": [],
   "source": [
    "opti = Opti()\n",
    "\n",
    "x = opti.variable(N)\n",
    "y = opti.variable(N)\n",
    "L = opti.parameter()"
   ]
  },
  {
   "cell_type": "code",
   "execution_count": 35,
   "id": "1b4ce389-a8ee-4290-969e-ef32ed4a915a",
   "metadata": {},
   "outputs": [
    {
     "data": {
      "text/plain": [
       "(28, 1)"
      ]
     },
     "execution_count": 35,
     "metadata": {},
     "output_type": "execute_result"
    }
   ],
   "source": [
    "# Remove spring potential energy and require fixed distance between masses\n",
    "dx_dy_sq = cas.diff(x) ** 2 + cas.diff(y) ** 2\n",
    "assert dx_dy_sq.shape == (N-1, 1)\n",
    "gravitional_potential = m * g * cas.sum1(y)\n",
    "V = gravitional_potential\n",
    "assert V.shape == (1, 1)\n",
    "\n",
    "opti.minimize(V)\n",
    "assert opti.x.shape == (N, 1)\n",
    "\n",
    "# Add boundary constraints\n",
    "opti.subject_to(x[0] == -2)\n",
    "opti.subject_to(y[0] == 0)\n",
    "opti.subject_to(x[-1] == 2)\n",
    "opti.subject_to(y[-1] == 0)\n",
    "\n",
    "# Add length constraints\n",
    "opti.subject_to(dx_dy_sq == L ** 2)\n",
    "\n",
    "opti.g.shape"
   ]
  },
  {
   "cell_type": "code",
   "execution_count": 36,
   "id": "73fc3ea3-f438-461f-aaf7-1d46351b6e5a",
   "metadata": {},
   "outputs": [
    {
     "name": "stdout",
     "output_type": "stream",
     "text": [
      "This is Ipopt version 3.14.11, running with linear solver MUMPS 5.4.1.\n",
      "\n",
      "Number of nonzeros in equality constraint Jacobian...:      100\n",
      "Number of nonzeros in inequality constraint Jacobian.:        0\n",
      "Number of nonzeros in Lagrangian Hessian.............:       98\n",
      "\n",
      "Total number of variables............................:       50\n",
      "                     variables with only lower bounds:        0\n",
      "                variables with lower and upper bounds:        0\n",
      "                     variables with only upper bounds:        0\n",
      "Total number of equality constraints.................:       28\n",
      "Total number of inequality constraints...............:        0\n",
      "        inequality constraints with only lower bounds:        0\n",
      "   inequality constraints with lower and upper bounds:        0\n",
      "        inequality constraints with only upper bounds:        0\n",
      "\n",
      "iter    objective    inf_pr   inf_du lg(mu)  ||d||  lg(rg) alpha_du alpha_pr  ls\n",
      "   0  0.0000000e+00 1.22e-02 1.57e+01  -1.0 0.00e+00    -  0.00e+00 0.00e+00   0\n",
      "   1 -1.7707442e+04 2.41e+03 6.60e+06  -1.0 1.57e+03  -2.0 1.00e+00 3.12e-02f  6\n",
      "   2 -1.7137990e+04 1.10e+03 6.92e+07  -1.0 2.45e+01   5.8 1.00e+00 1.00e+00h  1\n",
      "   3 -1.5228227e+04 6.22e+02 1.39e+10  -1.0 2.88e+01   8.1 1.00e+00 5.00e-01h  2\n",
      "   4 -1.4533110e+04 3.51e+02 2.60e+10  -1.0 2.16e+01   9.4 1.00e+00 5.00e-01h  2\n",
      "   5 -1.3969758e+04 5.70e+02 1.07e+11  -1.0 1.69e+01   9.8 1.00e+00 1.00e+00h  1\n",
      "   6 -1.4417829e+04 7.10e+02 7.66e+10  -1.0 4.08e+01   9.4 1.00e+00 2.50e-01f  3\n",
      "   7 -1.4343955e+04 6.65e+02 6.59e+10  -1.0 3.09e+01   9.8 1.00e+00 1.25e-01h  4\n",
      "   8 -1.3708352e+04 4.16e+02 3.22e+11  -1.0 1.51e+01  10.2 1.00e+00 5.00e-01h  2\n",
      "   9 -1.3584940e+04 2.40e+02 2.50e+11  -1.0 1.41e+01  10.6 1.00e+00 5.00e-01h  2\n",
      "iter    objective    inf_pr   inf_du lg(mu)  ||d||  lg(rg) alpha_du alpha_pr  ls\n",
      "  10 -1.3581686e+04 2.07e+02 2.23e+11  -1.0 1.52e+01  10.2 1.00e+00 2.50e-01h  3\n",
      "  11 -1.3230484e+04 1.93e+02 2.27e+11  -1.0 1.35e+01  10.6 1.00e+00 5.00e-01h  2\n",
      "  12 -6.6367372e+03 4.82e+01 1.15e+11  -1.0 2.43e+01    -  1.00e+00 1.00e+00h  1\n",
      "  13 -3.3424520e+03 1.21e+01 2.86e+10  -1.0 1.21e+01    -  1.00e+00 1.00e+00h  1\n",
      "  14 -1.7043192e+03 3.03e+00 7.10e+09  -1.0 6.03e+00    -  1.00e+00 1.00e+00h  1\n",
      "  15 -8.9290219e+02 7.68e-01 1.63e+09  -1.0 3.04e+00    -  1.00e+00 1.00e+00h  1\n",
      "  16 -5.0125585e+02 2.03e-01 2.92e+08  -1.0 1.50e+00    -  1.00e+00 1.00e+00h  1\n",
      "  17 -3.2762442e+02 5.74e-02 9.91e+07  -1.0 6.78e-01    -  1.00e+00 1.00e+00h  1\n",
      "  18 -3.2181845e+02 4.19e-02 1.10e+09  -1.0 1.86e-01  10.1 1.00e+00 5.00e-01h  2\n",
      "  19 -2.6557582e+02 5.88e-03 4.05e+08  -1.0 2.13e-01    -  1.00e+00 1.00e+00h  1\n",
      "iter    objective    inf_pr   inf_du lg(mu)  ||d||  lg(rg) alpha_du alpha_pr  ls\n",
      "  20 -2.5602968e+02 1.91e-04 3.71e+07  -1.0 3.45e-02    -  1.00e+00 1.00e+00h  1\n",
      "  21 -2.5566558e+02 2.27e-07 1.04e+05  -1.0 1.27e-03    -  1.00e+00 1.00e+00h  1\n",
      "  22 -2.5633797e+02 1.78e-06 5.46e+01  -1.0 5.34e-03    -  1.00e+00 1.00e+00f  1\n",
      "  23 -3.1052048e+02 8.51e-03 7.49e+00  -1.0 4.23e-01    -  1.00e+00 1.00e+00f  1\n",
      "  24 -2.8168980e+02 7.55e-04 1.83e+00  -1.0 1.62e-01    -  1.00e+00 1.00e+00h  1\n",
      "  25 -2.7903502e+02 4.21e-06 4.34e-02  -1.7 1.02e-02    -  1.00e+00 1.00e+00h  1\n",
      "  26 -2.7900748e+02 1.54e-09 1.31e-05  -3.8 1.56e-04    -  1.00e+00 1.00e+00h  1\n",
      "  27 -2.7900748e+02 2.98e-16 1.03e-12  -8.6 2.15e-08    -  1.00e+00 1.00e+00h  1\n",
      "\n",
      "Number of Iterations....: 27\n",
      "\n",
      "                                   (scaled)                 (unscaled)\n",
      "Objective...............:  -2.7900748118789386e+02   -2.7900748118789386e+02\n",
      "Dual infeasibility......:   1.0338396805309458e-12    1.0338396805309458e-12\n",
      "Constraint violation....:   2.9837243786801082e-16    2.9837243786801082e-16\n",
      "Variable bound violation:   0.0000000000000000e+00    0.0000000000000000e+00\n",
      "Complementarity.........:   0.0000000000000000e+00    0.0000000000000000e+00\n",
      "Overall NLP error.......:   2.5082737101901064e-13    1.0338396805309458e-12\n",
      "\n",
      "\n",
      "Number of objective function evaluations             = 44\n",
      "Number of objective gradient evaluations             = 28\n",
      "Number of equality constraint evaluations            = 56\n",
      "Number of inequality constraint evaluations          = 0\n",
      "Number of equality constraint Jacobian evaluations   = 28\n",
      "Number of inequality constraint Jacobian evaluations = 0\n",
      "Number of Lagrangian Hessian evaluations             = 27\n",
      "Total seconds in IPOPT                               = 0.030\n",
      "\n",
      "EXIT: Optimal Solution Found.\n",
      "      solver  :   t_proc      (avg)   t_wall      (avg)    n_eval\n",
      "       nlp_f  |  84.00us (  1.91us)  85.11us (  1.93us)        44\n",
      "       nlp_g  | 190.00us (  3.39us) 153.01us (  2.73us)        56\n",
      "  nlp_grad_f  |  72.00us (  2.48us)  69.55us (  2.40us)        29\n",
      "  nlp_hess_l  | 210.00us (  7.78us) 205.17us (  7.60us)        27\n",
      "   nlp_jac_g  | 154.00us (  5.31us) 152.14us (  5.25us)        29\n",
      "       total  |  30.73ms ( 30.73ms)  30.22ms ( 30.22ms)         1\n"
     ]
    }
   ],
   "source": [
    "opti.set_value(L, 5 / N)\n",
    "\n",
    "# Need to specify non-zero initial x in this case\n",
    "opti.set_initial(x, np.linspace(-2, 2, N))\n",
    "#opti.set_initial(y, -np.sin(np.linspace(0, np.pi, N)))\n",
    "\n",
    "opti.solver('ipopt')\n",
    "sol = opti.solve()"
   ]
  },
  {
   "cell_type": "markdown",
   "id": "4e7770d8-7dea-4258-8ec9-3484f1abb4a3",
   "metadata": {},
   "source": [
    "Inspect solution"
   ]
  },
  {
   "cell_type": "code",
   "execution_count": 37,
   "id": "33531073-ae97-47b3-8fb4-1e1ce9191881",
   "metadata": {},
   "outputs": [
    {
     "data": {
      "image/png": "[encoded data removed]",
      "text/plain": [
       "<Figure size 640x480 with 1 Axes>"
      ]
     },
     "metadata": {},
     "output_type": "display_data"
    }
   ],
   "source": [
    "fig, ax = plt.subplots()\n",
    "\n",
    "ax.plot(sol.value(x), sol.value(y), marker='o')\n",
    "ax.set_aspect('equal')\n",
    "ax.set_xlabel('$x$')\n",
    "ax.set_ylabel('$y$')\n",
    "ax.grid()\n",
    "ax.set_title('Solution')\n",
    "plt.show()"
   ]
  },
  {
   "cell_type": "code",
   "execution_count": 38,
   "id": "4d6a9631-cb27-4174-b834-ee1d719fbdf2",
   "metadata": {},
   "outputs": [
    {
     "data": {
      "text/plain": [
       "(28, 50)"
      ]
     },
     "execution_count": 38,
     "metadata": {},
     "output_type": "execute_result"
    }
   ],
   "source": [
    "J = cas.jacobian(opti.g, opti.x)\n",
    "J.shape"
   ]
  },
  {
   "cell_type": "code",
   "execution_count": 39,
   "id": "ca9717a4-c1c0-4839-9a84-773a8b6919b3",
   "metadata": {},
   "outputs": [
    {
     "data": {
      "text/plain": [
       "<28x50 sparse matrix of type '<class 'numpy.float64'>'\n",
       "\twith 100 stored elements in Compressed Sparse Column format>"
      ]
     },
     "execution_count": 39,
     "metadata": {},
     "output_type": "execute_result"
    }
   ],
   "source": [
    "sol.value(J)"
   ]
  },
  {
   "cell_type": "code",
   "execution_count": 40,
   "id": "9af309e0-507a-467f-bf25-7445cf7a23df",
   "metadata": {},
   "outputs": [
    {
     "data": {
      "text/plain": [
       "28"
      ]
     },
     "execution_count": 40,
     "metadata": {},
     "output_type": "execute_result"
    }
   ],
   "source": [
    "# Check rank\n",
    "rank = np.linalg.matrix_rank(opti.debug.value(J).toarray())\n",
    "rank"
   ]
  },
  {
   "cell_type": "code",
   "execution_count": 41,
   "id": "5c852084-367b-4543-a6f9-3cad57eec8be",
   "metadata": {},
   "outputs": [],
   "source": [
    "assert rank >= J.shape[0]"
   ]
  },
  {
   "cell_type": "markdown",
   "id": "3a57331a-95a5-46b4-8eda-a8c13bea6f1f",
   "metadata": {},
   "source": [
    "If the Jacobian is not full rank the optimization will fail.  Often this is due to poor initial conditions.  E.g. here it was necessary to provide a sinusoidal initial condition which is not too far from the final solution."
   ]
  },
  {
   "cell_type": "code",
   "execution_count": null,
   "id": "14f368fe-4992-4092-8d1b-38aa51345ad9",
   "metadata": {},
   "outputs": [],
   "source": []
  },
  {
   "cell_type": "code",
   "execution_count": null,
   "id": "3884b0b9-7bf4-4c89-a213-6a21d40db973",
   "metadata": {},
   "outputs": [],
   "source": []
  },
  {
   "cell_type": "code",
   "execution_count": null,
   "id": "1b81d5f7-9b5f-48e2-a32b-fc9aaee62f41",
   "metadata": {},
   "outputs": [],
   "source": []
  }
 ],
 "metadata": {
  "kernelspec": {
   "display_name": "casadi",
   "language": "python",
   "name": "python3"
  },
  "language_info": {
   "codemirror_mode": {
    "name": "ipython",
    "version": 3
   },
   "file_extension": ".py",
   "mimetype": "text/x-python",
   "name": "python",
   "nbconvert_exporter": "python",
   "pygments_lexer": "ipython3",
   "version": "3.10.13"
  }
 },
 "nbformat": 4,
 "nbformat_minor": 5
}
