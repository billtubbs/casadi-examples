{
 "cells": [
  {
   "cell_type": "markdown",
   "id": "e0df1abe-c9e0-4c86-8ae8-dfad55c802b0",
   "metadata": {},
   "source": [
    "# Optimal Control"
   ]
  },
  {
   "cell_type": "code",
   "execution_count": 1,
   "id": "f943ad8b-3fbb-4b45-bc66-91331e636a10",
   "metadata": {},
   "outputs": [],
   "source": [
    "import os\n",
    "import numpy as np\n",
    "from numpy.testing import assert_array_equal, assert_array_almost_equal\n",
    "import matplotlib.pyplot as plt\n",
    "from casadi import (\n",
    "    MX, DM, Function, Opti,\n",
    "    vec, vcat, vertcat, horzcat, sum1, sum2, triu,\n",
    "    gradient, jacobian, hessian\n",
    ")"
   ]
  },
  {
   "cell_type": "code",
   "execution_count": 2,
   "id": "79e68b50-2ea8-4980-aeb3-b45831bc9f39",
   "metadata": {},
   "outputs": [],
   "source": [
    "data_dir = 'data'"
   ]
  },
  {
   "cell_type": "markdown",
   "id": "192cbb13-884d-4ca6-9780-c48176b5e951",
   "metadata": {},
   "source": [
    "## 1. Solve Multiple Shooting Problem"
   ]
  },
  {
   "cell_type": "code",
   "execution_count": 3,
   "id": "7ac1e1d4-6eb7-4984-8ecf-e4e399dfa3e4",
   "metadata": {},
   "outputs": [
    {
     "data": {
      "text/plain": [
       "Function(F:(xk,uk)->(xkp1) MXFunction)"
      ]
     },
     "execution_count": 3,
     "metadata": {},
     "output_type": "execute_result"
    }
   ],
   "source": [
    "# State transition function\n",
    "uk = MX.sym('uk')\n",
    "xk = MX.sym('xk')\n",
    "F = Function('F', [xk, uk], [xk ** 2 + uk], ['xk', 'uk'], ['xkp1'])\n",
    "F"
   ]
  },
  {
   "cell_type": "markdown",
   "id": "636025d4-cf67-4f9a-a549-537a9443d0fe",
   "metadata": {},
   "source": [
    "Discrete optimal control problem:\n",
    "\n",
    "$$\n",
    "\\DeclareMathOperator*{\\minimize}{minimize}\n",
    "\\begin{aligned}\n",
    "\\minimize_{x_1,x_2,...,x_{N+1},u_1,u_2,...,u_N} \\quad & \\sum_{k=1}^{N}{u_k^2} + \\sum_{k=1}^{N+1}{x_k^2} \\\\\n",
    "\\text{subject to} \\quad & F(x_k,u_k) = x_{k+1}, \\quad k=1, ..., N \\\\\n",
    "                  & x_1 = 2 \\\\\n",
    "                  & x_{N+1} = 3 \\\\\n",
    "                  & x_k \\ge 0, \\quad k=1, ..., N+1 \\\\\n",
    "\\end{aligned}\n",
    "$$\n"
   ]
  },
  {
   "cell_type": "code",
   "execution_count": 4,
   "id": "0c96ae8a-afc5-44f5-be98-0971eebe852a",
   "metadata": {},
   "outputs": [],
   "source": [
    "opti = Opti()\n",
    "N = 4\n",
    "X = opti.variable(N + 1)\n",
    "U = opti.variable(N)\n",
    "\n",
    "# Define objective function\n",
    "f = sum1(X ** 2) + sum1(U ** 2)\n",
    "\n",
    "# Define constraints\n",
    "for k in range(1, N + 1):\n",
    "    opti.subject_to(X[k] == F(X[k-1], U[k-1]))\n",
    "opti.subject_to(X[0] == 2)\n",
    "opti.subject_to(X[-1] == 3)\n",
    "opti.subject_to(X >= 0)\n",
    "\n",
    "opti.minimize(f)"
   ]
  },
  {
   "cell_type": "code",
   "execution_count": 5,
   "id": "838f1fc7-6752-41ed-a27b-c2f46025caff",
   "metadata": {},
   "outputs": [
    {
     "name": "stdout",
     "output_type": "stream",
     "text": [
      "\n",
      "******************************************************************************\n",
      "This program contains Ipopt, a library for large-scale nonlinear optimization.\n",
      " Ipopt is released as open source code under the Eclipse Public License (EPL).\n",
      "         For more information visit https://github.com/coin-or/Ipopt\n",
      "******************************************************************************\n",
      "\n",
      "This is Ipopt version 3.14.11, running with linear solver MUMPS 5.4.1.\n",
      "\n",
      "Number of nonzeros in equality constraint Jacobian...:       14\n",
      "Number of nonzeros in inequality constraint Jacobian.:        5\n",
      "Number of nonzeros in Lagrangian Hessian.............:        9\n",
      "\n",
      "Total number of variables............................:        9\n",
      "                     variables with only lower bounds:        0\n",
      "                variables with lower and upper bounds:        0\n",
      "                     variables with only upper bounds:        0\n",
      "Total number of equality constraints.................:        6\n",
      "Total number of inequality constraints...............:        5\n",
      "        inequality constraints with only lower bounds:        5\n",
      "   inequality constraints with lower and upper bounds:        0\n",
      "        inequality constraints with only upper bounds:        0\n",
      "\n",
      "iter    objective    inf_pr   inf_du lg(mu)  ||d||  lg(rg) alpha_du alpha_pr  ls\n",
      "   0  0.0000000e+00 3.00e+00 3.33e-01  -1.0 0.00e+00    -  0.00e+00 0.00e+00   0\n",
      "   1  2.2067702e+01 4.00e+00 2.89e+02  -1.0 3.00e+00    -  3.41e-03 1.00e+00h  1\n",
      "   2  3.4960379e+01 1.48e+00 1.05e+01  -1.0 3.34e+00    -  8.57e-02 1.00e+00h  1\n",
      "   3  2.8119843e+01 2.07e+00 5.70e+00  -1.0 2.50e+00    -  1.36e-01 1.00e+00f  1\n",
      "   4  2.6498402e+01 2.60e-01 1.10e+00  -1.0 5.42e-01    -  1.00e+00 1.00e+00f  1\n",
      "   5  2.6404428e+01 5.61e-04 9.93e-03  -1.0 2.72e-01    -  1.00e+00 1.00e+00h  1\n",
      "   6  2.6403967e+01 1.26e-04 9.11e-04  -2.5 2.03e-02    -  1.00e+00 1.00e+00h  1\n",
      "   7  2.6403913e+01 2.81e-07 1.82e-06  -3.8 8.59e-04    -  1.00e+00 1.00e+00h  1\n",
      "   8  2.6403913e+01 2.90e-10 2.06e-09  -5.7 3.02e-05    -  1.00e+00 1.00e+00h  1\n",
      "   9  2.6403913e+01 4.29e-14 3.04e-13  -8.6 3.68e-07    -  1.00e+00 1.00e+00h  1\n",
      "\n",
      "Number of Iterations....: 9\n",
      "\n",
      "                                   (scaled)                 (unscaled)\n",
      "Objective...............:   2.6403912716984614e+01    2.6403912716984614e+01\n",
      "Dual infeasibility......:   3.0375701953744283e-13    3.0375701953744283e-13\n",
      "Constraint violation....:   4.2854608750531042e-14    4.2854608750531042e-14\n",
      "Variable bound violation:   0.0000000000000000e+00    0.0000000000000000e+00\n",
      "Complementarity.........:   2.5062383758409111e-09    2.5062383758409111e-09\n",
      "Overall NLP error.......:   2.5062383758409111e-09    2.5062383758409111e-09\n",
      "\n",
      "\n",
      "Number of objective function evaluations             = 10\n",
      "Number of objective gradient evaluations             = 10\n",
      "Number of equality constraint evaluations            = 10\n",
      "Number of inequality constraint evaluations          = 10\n",
      "Number of equality constraint Jacobian evaluations   = 10\n",
      "Number of inequality constraint Jacobian evaluations = 10\n",
      "Number of Lagrangian Hessian evaluations             = 9\n",
      "Total seconds in IPOPT                               = 0.010\n",
      "\n",
      "EXIT: Optimal Solution Found.\n",
      "      solver  :   t_proc      (avg)   t_wall      (avg)    n_eval\n",
      "       nlp_f  |  54.00us (  5.40us)  44.38us (  4.44us)        10\n",
      "       nlp_g  | 136.00us ( 13.60us)  94.99us (  9.50us)        10\n",
      "  nlp_grad_f  | 130.00us ( 11.82us)  56.80us (  5.16us)        11\n",
      "  nlp_hess_l  |  99.00us ( 11.00us)  96.99us ( 10.78us)         9\n",
      "   nlp_jac_g  | 183.00us ( 16.64us) 151.58us ( 13.78us)        11\n",
      "       total  |  11.15ms ( 11.15ms)  10.44ms ( 10.44ms)         1\n"
     ]
    }
   ],
   "source": [
    "opti.solver('ipopt')\n",
    "sol = opti.solve()"
   ]
  },
  {
   "cell_type": "code",
   "execution_count": 6,
   "id": "66fa1fd3-5ced-4847-b3b6-8c0a661c1548",
   "metadata": {},
   "outputs": [
    {
     "data": {
      "text/plain": [
       "array([-2.70380638, -0.54297936,  0.26125189,  0.58403971])"
      ]
     },
     "execution_count": 6,
     "metadata": {},
     "output_type": "execute_result"
    }
   ],
   "source": [
    "sol.value(U)"
   ]
  },
  {
   "cell_type": "code",
   "execution_count": 7,
   "id": "39272469-24bb-4c2a-b32a-0fae546b02ce",
   "metadata": {},
   "outputs": [],
   "source": [
    "assert_array_almost_equal(sol.value(U), [-2.7038, -0.5430, 0.2613, 0.5840], decimal=4)"
   ]
  },
  {
   "cell_type": "markdown",
   "id": "99c6460d-52e5-4fad-88ec-b92f460b776f",
   "metadata": {},
   "source": [
    "## 2. Adapt to single-shooting problem"
   ]
  },
  {
   "cell_type": "code",
   "execution_count": 8,
   "id": "311de2ef-3af6-4555-a1cc-7151379c4175",
   "metadata": {},
   "outputs": [],
   "source": [
    "opti = Opti()\n",
    "\n",
    "# Objective function\n",
    "N = 4\n",
    "x0 = opti.variable()\n",
    "U = opti.variable(N)\n",
    "X = [x0]\n",
    "for k in range(1, N + 1):\n",
    "    X.append(F(X[k-1], U[k-1]))\n",
    "X = vertcat(*X)\n",
    "f = sum1(X ** 2) + sum1(U ** 2)\n",
    "\n",
    "# Define constraints\n",
    "opti.subject_to(X[0] == 2)\n",
    "opti.subject_to(X[-1] == 3)\n",
    "opti.subject_to(X >= 0)\n",
    "\n",
    "opti.minimize(f)"
   ]
  },
  {
   "cell_type": "code",
   "execution_count": 9,
   "id": "f8cad520-3386-4605-afbd-462cc49e922f",
   "metadata": {},
   "outputs": [
    {
     "name": "stdout",
     "output_type": "stream",
     "text": [
      "This is Ipopt version 3.14.11, running with linear solver MUMPS 5.4.1.\n",
      "\n",
      "Number of nonzeros in equality constraint Jacobian...:        6\n",
      "Number of nonzeros in inequality constraint Jacobian.:       15\n",
      "Number of nonzeros in Lagrangian Hessian.............:       15\n",
      "\n",
      "Total number of variables............................:        5\n",
      "                     variables with only lower bounds:        0\n",
      "                variables with lower and upper bounds:        0\n",
      "                     variables with only upper bounds:        0\n",
      "Total number of equality constraints.................:        2\n",
      "Total number of inequality constraints...............:        5\n",
      "        inequality constraints with only lower bounds:        5\n",
      "   inequality constraints with lower and upper bounds:        0\n",
      "        inequality constraints with only upper bounds:        0\n",
      "\n",
      "iter    objective    inf_pr   inf_du lg(mu)  ||d||  lg(rg) alpha_du alpha_pr  ls\n",
      "   0  0.0000000e+00 3.00e+00 5.00e-01  -1.0 0.00e+00    -  0.00e+00 0.00e+00   0\n",
      "   1  1.4677940e+00 2.25e+00 7.15e+01  -1.0 3.00e+00    -  3.41e-03 2.50e-01h  3\n",
      "   2  1.2034995e+01 7.88e-01 3.57e+01  -1.0 2.24e+00    -  2.71e-01 5.00e-01h  2\n",
      "   3  1.0273150e+01 1.05e+00 4.04e+02  -1.0 1.69e+00    -  1.00e+00 1.64e-03H  1\n",
      "   4  3.1649119e+01 3.10e-01 2.44e+02  -1.0 2.30e+00    -  3.92e-01 1.00e+00H  1\n",
      "   5  3.7536786e+01 1.44e-01 7.93e+01  -1.0 5.97e-01   2.0 7.56e-01 1.00e+00h  1\n",
      "   6  3.4116870e+01 1.41e-03 2.25e+01  -1.0 2.74e-01    -  7.55e-01 1.00e+00f  1\n",
      "   7  3.3942934e+01 1.41e-03 3.42e+00  -1.0 7.65e-02   1.5 7.34e-01 1.00e+00f  1\n",
      "   8  2.5546908e+01 8.13e-01 1.52e+02  -1.0 2.29e+00    -  1.00e+00 1.10e-02F  1\n",
      "   9  3.2769268e+01 1.12e-02 4.74e+01  -1.0 8.29e-01    -  6.92e-01 1.00e+00h  1\n",
      "iter    objective    inf_pr   inf_du lg(mu)  ||d||  lg(rg) alpha_du alpha_pr  ls\n",
      "  10  2.3684951e+01 5.89e-01 9.47e+01  -1.0 1.18e+00    -  9.96e-01 1.00e+00F  1\n",
      "  11  2.9419526e+01 7.21e-02 1.36e+02  -1.0 2.41e+00    -  2.74e-02 5.00e-01h  2\n",
      "  12  2.8597013e+01 7.97e-02 1.51e+02  -1.0 4.55e+00    -  7.95e-01 1.25e-01f  4\n",
      "  13  2.8110702e+01 2.30e-01 5.20e+01  -1.0 1.19e+00    -  4.46e-01 1.00e+00f  1\n",
      "  14  2.6456088e+01 6.78e-03 3.76e+00  -1.0 6.74e-02    -  1.00e+00 1.00e+00f  1\n",
      "  15  2.6409831e+01 6.90e-04 1.67e-01  -1.0 1.96e-02    -  1.00e+00 1.00e+00h  1\n",
      "  16  2.6409107e+01 7.24e-04 1.25e-01  -2.5 1.95e-02    -  1.00e+00 1.00e+00h  1\n",
      "  17  2.6403917e+01 4.27e-07 1.31e-04  -2.5 3.40e-04    -  1.00e+00 1.00e+00h  1\n",
      "  18  2.6403913e+01 2.21e-10 9.19e-05  -3.8 5.34e-04    -  1.00e+00 1.00e+00H  1\n",
      "  19  2.6403913e+01 3.82e-14 2.89e-07  -5.7 2.99e-05    -  1.00e+00 1.00e+00H  1\n",
      "iter    objective    inf_pr   inf_du lg(mu)  ||d||  lg(rg) alpha_du alpha_pr  ls\n",
      "  20  2.6403913e+01 8.88e-16 4.33e-11  -8.6 3.68e-07    -  1.00e+00 1.00e+00H  1\n",
      "\n",
      "Number of Iterations....: 20\n",
      "\n",
      "                                   (scaled)                 (unscaled)\n",
      "Objective...............:   2.6403912716984593e+01    2.6403912716984593e+01\n",
      "Dual infeasibility......:   4.3314685171935707e-11    4.3314685171935707e-11\n",
      "Constraint violation....:   8.8817841970012523e-16    8.8817841970012523e-16\n",
      "Variable bound violation:   0.0000000000000000e+00    0.0000000000000000e+00\n",
      "Complementarity.........:   2.5062382026624806e-09    2.5062382026624806e-09\n",
      "Overall NLP error.......:   2.5062382026624806e-09    2.5062382026624806e-09\n",
      "\n",
      "\n",
      "Number of objective function evaluations             = 39\n",
      "Number of objective gradient evaluations             = 21\n",
      "Number of equality constraint evaluations            = 41\n",
      "Number of inequality constraint evaluations          = 41\n",
      "Number of equality constraint Jacobian evaluations   = 21\n",
      "Number of inequality constraint Jacobian evaluations = 21\n",
      "Number of Lagrangian Hessian evaluations             = 20\n",
      "Total seconds in IPOPT                               = 0.034\n",
      "\n",
      "EXIT: Optimal Solution Found.\n",
      "      solver  :   t_proc      (avg)   t_wall      (avg)    n_eval\n",
      "       nlp_f  | 242.00us (  6.21us) 245.16us (  6.29us)        39\n",
      "       nlp_g  | 520.00us ( 12.68us) 400.76us (  9.77us)        41\n",
      "  nlp_grad_f  | 285.00us ( 12.95us) 273.53us ( 12.43us)        22\n",
      "  nlp_hess_l  | 974.00us ( 48.70us) 973.91us ( 48.70us)        20\n",
      "   nlp_jac_g  | 706.00us ( 32.09us) 707.58us ( 32.16us)        22\n",
      "       total  |  36.23ms ( 36.23ms)  33.81ms ( 33.81ms)         1\n"
     ]
    }
   ],
   "source": [
    "opti.solver('ipopt')\n",
    "sol = opti.solve()"
   ]
  },
  {
   "cell_type": "code",
   "execution_count": 10,
   "id": "f2d39ad6-1b46-419b-987f-f11608e06bc5",
   "metadata": {},
   "outputs": [
    {
     "data": {
      "text/plain": [
       "array([-2.70380638, -0.54297936,  0.26125189,  0.58403971])"
      ]
     },
     "execution_count": 10,
     "metadata": {},
     "output_type": "execute_result"
    }
   ],
   "source": [
    "sol.value(U)"
   ]
  },
  {
   "cell_type": "code",
   "execution_count": 11,
   "id": "8f884ef8-f0cc-4ddf-91b8-92a1c4360a4c",
   "metadata": {},
   "outputs": [],
   "source": [
    "assert_array_almost_equal(sol.value(U), [-2.7038, -0.5430, 0.2613, 0.5840], decimal=4)"
   ]
  },
  {
   "cell_type": "markdown",
   "id": "15b01bbe-e0f2-418f-b863-a6ed660efb54",
   "metadata": {},
   "source": [
    "## 3. Plot sparsities of the Hessian"
   ]
  },
  {
   "cell_type": "code",
   "execution_count": null,
   "id": "d9544526-2cce-4534-9f6e-a456894bcfa9",
   "metadata": {},
   "outputs": [],
   "source": []
  },
  {
   "cell_type": "code",
   "execution_count": null,
   "id": "f91abf44-54d1-49e7-8abf-c5eae0e37998",
   "metadata": {},
   "outputs": [],
   "source": []
  },
  {
   "cell_type": "code",
   "execution_count": null,
   "id": "ba139bb7-2f8e-4337-983c-9637119c58ba",
   "metadata": {},
   "outputs": [],
   "source": []
  },
  {
   "cell_type": "code",
   "execution_count": null,
   "id": "35d642cb-0c0a-46c1-94fa-5fa681034549",
   "metadata": {},
   "outputs": [],
   "source": []
  }
 ],
 "metadata": {
  "kernelspec": {
   "display_name": "Python (casadi)",
   "language": "python",
   "name": "casadi"
  },
  "language_info": {
   "codemirror_mode": {
    "name": "ipython",
    "version": 3
   },
   "file_extension": ".py",
   "mimetype": "text/x-python",
   "name": "python",
   "nbconvert_exporter": "python",
   "pygments_lexer": "ipython3",
   "version": "3.10.13"
  }
 },
 "nbformat": 4,
 "nbformat_minor": 5
}
