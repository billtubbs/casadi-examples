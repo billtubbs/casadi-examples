{
 "cells": [
  {
   "cell_type": "markdown",
   "id": "e0df1abe-c9e0-4c86-8ae8-dfad55c802b0",
   "metadata": {},
   "source": [
    "# Optimal Control"
   ]
  },
  {
   "cell_type": "code",
   "execution_count": 1,
   "id": "f943ad8b-3fbb-4b45-bc66-91331e636a10",
   "metadata": {},
   "outputs": [],
   "source": [
    "import os\n",
    "import numpy as np\n",
    "from numpy.testing import assert_array_equal, assert_array_almost_equal\n",
    "import matplotlib.pyplot as plt\n",
    "from casadi import (\n",
    "    MX, DM, Function, Opti, sparsify,\n",
    "    vec, vcat, vertcat, horzcat, blockcat, sum1, sum2, sumsqr,\n",
    "    gradient, jacobian, hessian\n",
    ")"
   ]
  },
  {
   "cell_type": "code",
   "execution_count": 2,
   "id": "79e68b50-2ea8-4980-aeb3-b45831bc9f39",
   "metadata": {},
   "outputs": [],
   "source": [
    "data_dir = 'data'"
   ]
  },
  {
   "cell_type": "markdown",
   "id": "192cbb13-884d-4ca6-9780-c48176b5e951",
   "metadata": {},
   "source": [
    "## 1. Solve Multiple Shooting Problem"
   ]
  },
  {
   "cell_type": "code",
   "execution_count": 3,
   "id": "7ac1e1d4-6eb7-4984-8ecf-e4e399dfa3e4",
   "metadata": {},
   "outputs": [
    {
     "data": {
      "text/plain": [
       "Function(F:(xk,uk)->(xkp1) MXFunction)"
      ]
     },
     "execution_count": 3,
     "metadata": {},
     "output_type": "execute_result"
    }
   ],
   "source": [
    "# State transition function\n",
    "uk = MX.sym('uk')\n",
    "xk = MX.sym('xk')\n",
    "F = Function('F', [xk, uk], [xk ** 2 + uk], ['xk', 'uk'], ['xkp1'])\n",
    "F"
   ]
  },
  {
   "cell_type": "markdown",
   "id": "636025d4-cf67-4f9a-a549-537a9443d0fe",
   "metadata": {},
   "source": [
    "Discrete optimal control problem:\n",
    "\n",
    "$$\n",
    "\\DeclareMathOperator*{\\minimize}{minimize}\n",
    "\\begin{aligned}\n",
    "\\minimize_{x_1,x_2,...,x_{N+1},u_1,u_2,...,u_N} \\quad & \\sum_{k=1}^{N}{u_k^2} + \\sum_{k=1}^{N+1}{x_k^2} \\\\\n",
    "\\text{subject to} \\quad & F(x_k,u_k) = x_{k+1}, \\quad k=1, ..., N \\\\\n",
    "                  & x_1 = 2 \\\\\n",
    "                  & x_{N+1} = 3 \\\\\n",
    "                  & x_k \\ge 0, \\quad k=1, ..., N+1 \\\\\n",
    "\\end{aligned}\n",
    "$$\n"
   ]
  },
  {
   "cell_type": "code",
   "execution_count": 4,
   "id": "0c96ae8a-afc5-44f5-be98-0971eebe852a",
   "metadata": {},
   "outputs": [],
   "source": [
    "opti_MS = Opti()\n",
    "N = 4\n",
    "X = opti_MS.variable(N + 1)\n",
    "U = opti_MS.variable(N)\n",
    "\n",
    "# Define objective function\n",
    "f = sum1(X ** 2) + sum1(U ** 2)\n",
    "# or sumsqr(X) + sumsqr(U)\n",
    "\n",
    "# Define constraints\n",
    "for k in range(1, N + 1):\n",
    "    opti_MS.subject_to(X[k] == F(X[k-1], U[k-1]))\n",
    "opti_MS.subject_to(X[0] == 2)  # initial constraint\n",
    "opti_MS.subject_to(X[-1] == 3)  # final constraint\n",
    "opti_MS.subject_to(X >= 0)  # path constraint\n",
    "\n",
    "opti_MS.minimize(f)"
   ]
  },
  {
   "cell_type": "code",
   "execution_count": 5,
   "id": "838f1fc7-6752-41ed-a27b-c2f46025caff",
   "metadata": {},
   "outputs": [
    {
     "name": "stdout",
     "output_type": "stream",
     "text": [
      "\n",
      "******************************************************************************\n",
      "This program contains Ipopt, a library for large-scale nonlinear optimization.\n",
      " Ipopt is released as open source code under the Eclipse Public License (EPL).\n",
      "         For more information visit https://github.com/coin-or/Ipopt\n",
      "******************************************************************************\n",
      "\n",
      "This is Ipopt version 3.14.11, running with linear solver MUMPS 5.4.1.\n",
      "\n",
      "Number of nonzeros in equality constraint Jacobian...:       14\n",
      "Number of nonzeros in inequality constraint Jacobian.:        5\n",
      "Number of nonzeros in Lagrangian Hessian.............:        9\n",
      "\n",
      "Total number of variables............................:        9\n",
      "                     variables with only lower bounds:        0\n",
      "                variables with lower and upper bounds:        0\n",
      "                     variables with only upper bounds:        0\n",
      "Total number of equality constraints.................:        6\n",
      "Total number of inequality constraints...............:        5\n",
      "        inequality constraints with only lower bounds:        5\n",
      "   inequality constraints with lower and upper bounds:        0\n",
      "        inequality constraints with only upper bounds:        0\n",
      "\n",
      "iter    objective    inf_pr   inf_du lg(mu)  ||d||  lg(rg) alpha_du alpha_pr  ls\n",
      "   0  0.0000000e+00 3.00e+00 3.33e-01  -1.0 0.00e+00    -  0.00e+00 0.00e+00   0\n",
      "   1  2.2067702e+01 4.00e+00 2.89e+02  -1.0 3.00e+00    -  3.41e-03 1.00e+00h  1\n",
      "   2  3.4960379e+01 1.48e+00 1.05e+01  -1.0 3.34e+00    -  8.57e-02 1.00e+00h  1\n",
      "   3  2.8119843e+01 2.07e+00 5.70e+00  -1.0 2.50e+00    -  1.36e-01 1.00e+00f  1\n",
      "   4  2.6498402e+01 2.60e-01 1.10e+00  -1.0 5.42e-01    -  1.00e+00 1.00e+00f  1\n",
      "   5  2.6404428e+01 5.61e-04 9.93e-03  -1.0 2.72e-01    -  1.00e+00 1.00e+00h  1\n",
      "   6  2.6403967e+01 1.26e-04 9.11e-04  -2.5 2.03e-02    -  1.00e+00 1.00e+00h  1\n",
      "   7  2.6403913e+01 2.81e-07 1.82e-06  -3.8 8.59e-04    -  1.00e+00 1.00e+00h  1\n",
      "   8  2.6403913e+01 2.90e-10 2.06e-09  -5.7 3.02e-05    -  1.00e+00 1.00e+00h  1\n",
      "   9  2.6403913e+01 4.29e-14 3.04e-13  -8.6 3.68e-07    -  1.00e+00 1.00e+00h  1\n",
      "\n",
      "Number of Iterations....: 9\n",
      "\n",
      "                                   (scaled)                 (unscaled)\n",
      "Objective...............:   2.6403912716984614e+01    2.6403912716984614e+01\n",
      "Dual infeasibility......:   3.0375701953744283e-13    3.0375701953744283e-13\n",
      "Constraint violation....:   4.2854608750531042e-14    4.2854608750531042e-14\n",
      "Variable bound violation:   0.0000000000000000e+00    0.0000000000000000e+00\n",
      "Complementarity.........:   2.5062383758409111e-09    2.5062383758409111e-09\n",
      "Overall NLP error.......:   2.5062383758409111e-09    2.5062383758409111e-09\n",
      "\n",
      "\n",
      "Number of objective function evaluations             = 10\n",
      "Number of objective gradient evaluations             = 10\n",
      "Number of equality constraint evaluations            = 10\n",
      "Number of inequality constraint evaluations          = 10\n",
      "Number of equality constraint Jacobian evaluations   = 10\n",
      "Number of inequality constraint Jacobian evaluations = 10\n",
      "Number of Lagrangian Hessian evaluations             = 9\n",
      "Total seconds in IPOPT                               = 0.018\n",
      "\n",
      "EXIT: Optimal Solution Found.\n",
      "      solver  :   t_proc      (avg)   t_wall      (avg)    n_eval\n",
      "       nlp_f  |  85.00us (  8.50us)  36.62us (  3.66us)        10\n",
      "       nlp_g  |  74.00us (  7.40us)  63.31us (  6.33us)        10\n",
      "  nlp_grad_f  | 222.00us ( 20.18us) 224.90us ( 20.45us)        11\n",
      "  nlp_hess_l  | 131.00us ( 14.56us) 128.41us ( 14.27us)         9\n",
      "   nlp_jac_g  | 189.00us ( 17.18us) 191.21us ( 17.38us)        11\n",
      "       total  |  18.30ms ( 18.30ms)  19.67ms ( 19.67ms)         1\n"
     ]
    }
   ],
   "source": [
    "opti_MS.solver('ipopt')\n",
    "sol_MS = opti_MS.solve()"
   ]
  },
  {
   "cell_type": "code",
   "execution_count": 6,
   "id": "66fa1fd3-5ced-4847-b3b6-8c0a661c1548",
   "metadata": {},
   "outputs": [
    {
     "data": {
      "text/plain": [
       "array([-2.70380638, -0.54297936,  0.26125189,  0.58403971])"
      ]
     },
     "execution_count": 6,
     "metadata": {},
     "output_type": "execute_result"
    }
   ],
   "source": [
    "sol_MS.value(U)"
   ]
  },
  {
   "cell_type": "code",
   "execution_count": 7,
   "id": "39272469-24bb-4c2a-b32a-0fae546b02ce",
   "metadata": {},
   "outputs": [],
   "source": [
    "assert_array_almost_equal(sol_MS.value(U), [-2.7038, -0.5430, 0.2613, 0.5840], decimal=4)"
   ]
  },
  {
   "cell_type": "markdown",
   "id": "99c6460d-52e5-4fad-88ec-b92f460b776f",
   "metadata": {},
   "source": [
    "## 2. Adapt to single-shooting problem"
   ]
  },
  {
   "cell_type": "code",
   "execution_count": 15,
   "id": "311de2ef-3af6-4555-a1cc-7151379c4175",
   "metadata": {},
   "outputs": [],
   "source": [
    "opti_SS = Opti()\n",
    "\n",
    "# Objective function\n",
    "N = 4\n",
    "x0 = 2  # initial state\n",
    "U = opti_SS.variable(N)\n",
    "X = [x0]\n",
    "for k in range(1, N + 1):\n",
    "    X.append(F(X[k-1], U[k-1]))\n",
    "X = vertcat(*X)\n",
    "f = sum1(X ** 2) + sum1(U ** 2)\n",
    "\n",
    "# Define constraints\n",
    "opti_SS.subject_to(X[-1] == 3)\n",
    "opti_SS.subject_to(X[1:-1] >= 0)\n",
    "\n",
    "opti_SS.minimize(f)"
   ]
  },
  {
   "cell_type": "code",
   "execution_count": 16,
   "id": "30ef4505-420b-4573-addf-782cebfcd17b",
   "metadata": {},
   "outputs": [
    {
     "data": {
      "text/plain": [
       "MX(F(F(F(F(2, opti2_x_1[0]){0}, opti2_x_1[1]){0}, opti2_x_1[2]){0}, opti2_x_1[3]){0})"
      ]
     },
     "execution_count": 16,
     "metadata": {},
     "output_type": "execute_result"
    }
   ],
   "source": [
    "X[-1]"
   ]
  },
  {
   "cell_type": "code",
   "execution_count": 17,
   "id": "f8cad520-3386-4605-afbd-462cc49e922f",
   "metadata": {},
   "outputs": [
    {
     "name": "stdout",
     "output_type": "stream",
     "text": [
      "This is Ipopt version 3.14.11, running with linear solver MUMPS 5.4.1.\n",
      "\n",
      "Number of nonzeros in equality constraint Jacobian...:        4\n",
      "Number of nonzeros in inequality constraint Jacobian.:        6\n",
      "Number of nonzeros in Lagrangian Hessian.............:       10\n",
      "\n",
      "Total number of variables............................:        4\n",
      "                     variables with only lower bounds:        0\n",
      "                variables with lower and upper bounds:        0\n",
      "                     variables with only upper bounds:        0\n",
      "Total number of equality constraints.................:        1\n",
      "Total number of inequality constraints...............:        3\n",
      "        inequality constraints with only lower bounds:        3\n",
      "   inequality constraints with lower and upper bounds:        0\n",
      "        inequality constraints with only upper bounds:        0\n",
      "\n",
      "iter    objective    inf_pr   inf_du lg(mu)  ||d||  lg(rg) alpha_du alpha_pr  ls\n",
      "   0  4.2950331e+09 6.55e+04 1.21e-01  -1.0 0.00e+00    -  0.00e+00 0.00e+00   0\n",
      "   1  6.5583323e+08 6.36e+03 2.55e+01  -1.0 2.48e+04    -  9.93e-01 1.00e+00f  1\n",
      "   2  1.9383321e+08 2.45e+03 1.22e+01  -1.0 1.11e+04    -  1.00e+00 1.00e+00f  1\n",
      "   3  4.8337368e+07 1.35e+03 4.80e+00  -1.0 6.89e+03    -  1.00e+00 1.00e+00f  1\n",
      "   4  1.2760639e+07 6.71e+02 1.67e+00  -1.0 3.32e+03    -  1.00e+00 1.00e+00h  1\n",
      "   5  4.4112966e+06 2.96e+02 4.76e-01  -1.0 1.44e+03    -  1.00e+00 1.00e+00h  1\n",
      "   6  1.4248381e+06 1.62e+02 2.26e-01  -1.7 9.11e+02    -  1.00e+00 1.00e+00h  1\n",
      "   7  7.1173602e+05 8.59e+01 6.87e-02  -1.7 3.64e+02    -  1.00e+00 1.00e+00h  1\n",
      "   8  7.0050356e+05 2.78e+02 1.61e-01  -1.7 7.67e+01    -  1.00e+00 1.00e+00h  1\n",
      "   9  6.6115828e+05 7.76e+01 4.97e-02  -1.7 3.17e+01    -  1.00e+00 1.00e+00h  1\n",
      "iter    objective    inf_pr   inf_du lg(mu)  ||d||  lg(rg) alpha_du alpha_pr  ls\n",
      "  10  9.1130381e+05 4.55e+01 3.14e-01  -1.7 6.83e+01    -  1.00e+00 1.00e+00H  1\n",
      "  11  7.2980045e+05 1.74e+01 1.68e-02  -1.7 1.24e+02    -  1.00e+00 1.00e+00h  1\n",
      "  12  3.5199364e+05 1.33e+02 1.03e-01  -2.5 3.11e+02    -  1.00e+00 1.00e+00h  1\n",
      "  13  2.5117809e+05 3.20e+01 3.25e-02  -2.5 1.04e+02    -  1.00e+00 1.00e+00h  1\n",
      "  14  2.0552202e+05 4.02e+01 1.93e-02  -2.5 3.51e+01    -  1.00e+00 1.00e+00h  1\n",
      "  15  1.8204115e+05 5.69e+01 2.47e-02  -2.5 3.55e+01    -  1.00e+00 1.00e+00h  1\n",
      "  16  1.6847082e+05 2.61e+01 1.17e-02  -2.5 1.75e+01    -  1.00e+00 1.00e+00h  1\n",
      "  17  1.6026127e+05 7.26e+01 3.07e-02  -2.5 2.10e+01    -  1.00e+00 1.00e+00h  1\n",
      "  18  1.5317322e+05 1.39e+01 7.17e-03  -2.5 4.73e+00    -  1.00e+00 1.00e+00h  1\n",
      "  19  1.7074497e+05 1.25e+01 6.09e-02  -2.5 1.22e+01    -  1.00e+00 1.00e+00H  1\n",
      "iter    objective    inf_pr   inf_du lg(mu)  ||d||  lg(rg) alpha_du alpha_pr  ls\n",
      "  20  1.4753187e+05 2.96e+00 3.19e-03  -2.5 3.89e+01    -  1.00e+00 1.00e+00h  1\n",
      "  21  8.4077027e+04 3.71e+00 9.98e-02  -3.8 1.29e+02    -  1.00e+00 1.00e+00H  1\n",
      "  22  5.0623324e+04 9.13e+00 1.85e-02  -3.8 9.17e+01    -  1.00e+00 1.00e+00h  1\n",
      "  23  3.2647540e+04 1.77e+01 6.25e-03  -3.8 6.08e+01    -  1.00e+00 1.00e+00h  1\n",
      "  24  2.2814995e+04 3.58e+01 6.67e-03  -3.8 3.39e+01    -  1.00e+00 1.00e+00h  1\n",
      "  25  1.7716690e+04 1.42e+01 2.95e-03  -3.8 1.69e+01    -  1.00e+00 1.00e+00h  1\n",
      "  26  1.3446337e+04 1.90e+01 2.80e-03  -3.8 2.11e+01    -  1.00e+00 1.00e+00h  1\n",
      "  27  1.1308097e+04 7.36e+00 1.15e-03  -3.8 1.07e+01    -  1.00e+00 1.00e+00h  1\n",
      "  28  9.7111809e+03 8.46e+00 1.02e-03  -3.8 1.10e+01    -  1.00e+00 1.00e+00h  1\n",
      "  29  9.1041896e+03 3.74e+00 4.45e-04  -3.8 4.57e+00    -  1.00e+00 1.00e+00h  1\n",
      "iter    objective    inf_pr   inf_du lg(mu)  ||d||  lg(rg) alpha_du alpha_pr  ls\n",
      "  30  9.0168000e+03 9.23e+00 1.01e-03  -3.8 2.85e+00    -  1.00e+00 1.00e+00h  1\n",
      "  31  8.9405837e+03 1.92e+00 2.33e-04  -3.8 1.09e+00    -  1.00e+00 1.00e+00h  1\n",
      "  32  9.8331611e+03 1.07e+00 2.11e-03  -3.8 3.62e+00    -  1.00e+00 1.00e+00H  1\n",
      "  33  9.2436413e+03 3.08e-01 7.72e-05  -3.8 4.91e+00    -  1.00e+00 1.00e+00h  1\n",
      "  34  1.1597817e+04 4.82e-01 6.63e-03  -3.8 6.27e+00    -  1.00e+00 1.00e+00H  1\n",
      "  35  1.0171404e+04 4.13e-01 4.32e-04  -3.8 1.07e+01    -  1.00e+00 1.00e+00h  1\n",
      "  36  7.1128942e+03 4.52e+01 4.55e-03  -5.7 3.21e+01    -  1.00e+00 1.00e+00h  1\n",
      "  37  4.5881368e+03 8.41e+00 1.64e-03  -5.7 4.81e+00    -  1.00e+00 1.00e+00h  1\n",
      "  38  3.6214657e+03 5.36e+00 5.89e-04  -5.7 1.30e+01    -  1.00e+00 1.00e+00h  1\n",
      "  39  2.9215804e+03 8.15e+00 4.17e-04  -5.7 8.51e+00    -  1.00e+00 1.00e+00h  1\n",
      "iter    objective    inf_pr   inf_du lg(mu)  ||d||  lg(rg) alpha_du alpha_pr  ls\n",
      "  40  2.4310205e+03 6.66e+00 2.84e-04  -5.7 5.38e+00    -  1.00e+00 1.00e+00h  1\n",
      "  41  2.0328219e+03 6.91e+00 2.34e-04  -5.7 3.78e+00    -  1.00e+00 1.00e+00h  1\n",
      "  42  1.6992315e+03 5.95e+00 1.78e-04  -5.7 3.15e+00    -  1.00e+00 1.00e+00h  1\n",
      "  43  1.4152706e+03 6.03e+00 1.54e-04  -5.7 3.36e+00    -  1.00e+00 1.00e+00h  1\n",
      "  44  1.1737595e+03 5.05e+00 1.18e-04  -5.7 3.08e+00    -  1.00e+00 1.00e+00h  1\n",
      "  45  9.7153307e+02 5.10e+00 1.03e-04  -5.7 3.12e+00    -  1.00e+00 1.00e+00h  1\n",
      "  46  8.0122526e+02 4.10e+00 7.72e-05  -5.7 2.71e+00    -  1.00e+00 1.00e+00h  1\n",
      "  47  6.6200290e+02 4.20e+00 6.84e-05  -5.7 2.73e+00    -  1.00e+00 1.00e+00h  1\n",
      "  48  5.4559572e+02 3.20e+00 4.91e-05  -5.7 2.28e+00    -  1.00e+00 1.00e+00h  1\n",
      "  49  4.5311475e+02 3.37e+00 4.45e-05  -5.7 2.31e+00    -  1.00e+00 1.00e+00h  1\n",
      "iter    objective    inf_pr   inf_du lg(mu)  ||d||  lg(rg) alpha_du alpha_pr  ls\n",
      "  50  3.7581661e+02 2.37e+00 3.00e-05  -5.7 1.84e+00    -  1.00e+00 1.00e+00h  1\n",
      "  51  3.1669008e+02 2.63e+00 2.82e-05  -5.7 1.92e+00    -  1.00e+00 1.00e+00h  1\n",
      "  52  2.6679633e+02 1.63e+00 1.71e-05  -5.7 1.41e+00    -  1.00e+00 1.00e+00h  1\n",
      "  53  2.3057493e+02 1.95e+00 1.71e-05  -5.7 1.55e+00    -  1.00e+00 1.00e+00h  1\n",
      "  54  1.9945668e+02 9.84e-01 8.81e-06  -5.7 1.01e+00    -  1.00e+00 1.00e+00h  1\n",
      "  55  1.7824583e+02 1.29e+00 9.44e-06  -5.7 1.18e+00    -  1.00e+00 1.00e+00h  1\n",
      "  56  1.6012567e+02 4.75e-01 3.71e-06  -5.7 6.51e-01    -  1.00e+00 1.00e+00h  1\n",
      "  57  1.4843422e+02 6.18e-01 3.89e-06  -5.7 7.72e-01    -  1.00e+00 1.00e+00h  1\n",
      "  58  1.3993752e+02 1.40e-01 9.69e-07  -5.7 3.35e-01    -  1.00e+00 1.00e+00h  1\n",
      "  59  1.3538718e+02 9.67e-02 5.59e-07  -5.7 2.93e-01    -  1.00e+00 1.00e+00h  1\n",
      "iter    objective    inf_pr   inf_du lg(mu)  ||d||  lg(rg) alpha_du alpha_pr  ls\n",
      "  60  1.3381979e+02 5.92e-03 3.74e-08  -5.7 6.83e-02    -  1.00e+00 1.00e+00h  1\n",
      "  61  1.3361839e+02 1.61e-04 9.19e-10  -5.7 1.17e-02    -  1.00e+00 1.00e+00h  1\n",
      "  62  9.0897532e+01 7.79e-01 5.92e-05  -8.6 3.51e+00    -  1.00e+00 1.00e+00H  1\n",
      "  63  6.1631060e+01 1.92e-01 8.97e-06  -8.6 3.28e+00    -  1.00e+00 1.00e+00h  1\n",
      "  64  4.6656977e+01 6.22e-01 3.16e-06  -8.6 2.56e+00    -  1.00e+00 1.00e+00h  1\n",
      "  65  3.9779410e+01 7.11e-01 1.66e-06  -8.6 1.04e+00    -  1.00e+00 1.00e+00h  1\n",
      "  66  3.4696874e+01 5.75e-01 9.32e-07  -8.6 6.04e-01    -  1.00e+00 1.00e+00h  1\n",
      "  67  3.1303507e+01 4.28e-01 5.18e-07  -8.6 4.48e-01    -  1.00e+00 1.00e+00h  1\n",
      "  68  2.9055075e+01 2.78e-01 2.64e-07  -8.6 3.57e-01    -  1.00e+00 1.00e+00h  1\n",
      "  69  2.7661925e+01 1.51e-01 1.15e-07  -8.6 2.44e-01    -  1.00e+00 1.00e+00h  1\n",
      "iter    objective    inf_pr   inf_du lg(mu)  ||d||  lg(rg) alpha_du alpha_pr  ls\n",
      "  70  2.6843492e+01 5.67e-02 3.69e-08  -8.6 1.35e-01    -  1.00e+00 1.00e+00h  1\n",
      "  71  2.6480826e+01 9.64e-03 5.73e-09  -8.6 4.96e-02    -  1.00e+00 1.00e+00h  1\n",
      "  72  2.6411492e+01 2.86e-04 1.67e-10  -8.6 8.15e-03    -  1.00e+00 1.00e+00h  1\n",
      "  73  2.6409388e+01 2.42e-07 1.43e-13  -8.6 2.44e-04    -  1.00e+00 1.00e+00h  1\n",
      "  74  2.6409386e+01 1.84e-13 2.51e-14  -8.6 2.13e-07    -  1.00e+00 1.00e+00h  1\n",
      "  75  2.6404866e+01 1.32e-04 1.77e-09 -12.9 4.62e-02    -  1.00e+00 1.00e+00H  1\n",
      "  76  2.6403948e+01 4.97e-06 4.63e-12 -12.9 1.96e-03    -  1.00e+00 1.00e+00h  1\n",
      "\n",
      "Number of Iterations....: 76\n",
      "\n",
      "                                   (scaled)                 (unscaled)\n",
      "Objective...............:   2.6403948350105938e-07    2.6403948350105939e+01\n",
      "Dual infeasibility......:   4.6266696844170170e-12    4.6266696844170170e-04\n",
      "Constraint violation....:   3.7925663233821447e-09    4.9709925313834447e-06\n",
      "Variable bound violation:   0.0000000000000000e+00    0.0000000000000000e+00\n",
      "Complementarity.........:   1.7459891149014958e-13    1.7459891149014956e-05\n",
      "Overall NLP error.......:   3.7925663233821447e-09    4.6266696844170170e-04\n",
      "\n",
      "\n",
      "Number of objective function evaluations             = 85\n",
      "Number of objective gradient evaluations             = 77\n",
      "Number of equality constraint evaluations            = 85\n",
      "Number of inequality constraint evaluations          = 85\n",
      "Number of equality constraint Jacobian evaluations   = 77\n",
      "Number of inequality constraint Jacobian evaluations = 77\n",
      "Number of Lagrangian Hessian evaluations             = 76\n",
      "Total seconds in IPOPT                               = 0.060\n",
      "\n",
      "EXIT: Optimal Solution Found.\n",
      "      solver  :   t_proc      (avg)   t_wall      (avg)    n_eval\n",
      "       nlp_f  | 379.00us (  4.46us) 378.20us (  4.45us)        85\n",
      "       nlp_g  | 524.00us (  6.16us) 442.42us (  5.20us)        85\n",
      "  nlp_grad_f  | 584.00us (  7.49us) 600.41us (  7.70us)        78\n",
      "  nlp_hess_l  |   1.92ms ( 25.25us)   1.84ms ( 24.17us)        76\n",
      "   nlp_jac_g  | 859.00us ( 11.01us) 844.41us ( 10.83us)        78\n",
      "       total  |  60.61ms ( 60.61ms)  60.30ms ( 60.30ms)         1\n"
     ]
    }
   ],
   "source": [
    "opti_SS.solver('ipopt')\n",
    "sol_SS = opti_SS.solve()"
   ]
  },
  {
   "cell_type": "code",
   "execution_count": 18,
   "id": "f2d39ad6-1b46-419b-987f-f11608e06bc5",
   "metadata": {},
   "outputs": [
    {
     "data": {
      "text/plain": [
       "array([-2.70380008, -0.54298561,  0.26123341,  0.58403084])"
      ]
     },
     "execution_count": 18,
     "metadata": {},
     "output_type": "execute_result"
    }
   ],
   "source": [
    "sol_SS.value(U)"
   ]
  },
  {
   "cell_type": "code",
   "execution_count": 19,
   "id": "8f884ef8-f0cc-4ddf-91b8-92a1c4360a4c",
   "metadata": {},
   "outputs": [],
   "source": [
    "assert_array_almost_equal(sol_SS.value(U), [-2.7038, -0.5430, 0.2613, 0.5840], decimal=4)"
   ]
  },
  {
   "cell_type": "markdown",
   "id": "15b01bbe-e0f2-418f-b863-a6ed660efb54",
   "metadata": {},
   "source": [
    "## 3. Plot sparsities of the Hessian"
   ]
  },
  {
   "cell_type": "code",
   "execution_count": 12,
   "id": "0f700619-3c05-4a7d-b7f9-5888f9a70427",
   "metadata": {},
   "outputs": [
    {
     "data": {
      "text/plain": [
       "((1, 1), (9, 1))"
      ]
     },
     "execution_count": 12,
     "metadata": {},
     "output_type": "execute_result"
    }
   ],
   "source": [
    "opti_MS.f.shape, opti_MS.x.shape"
   ]
  },
  {
   "cell_type": "code",
   "execution_count": 13,
   "id": "f91abf44-54d1-49e7-8abf-c5eae0e37998",
   "metadata": {},
   "outputs": [
    {
     "data": {
      "text/plain": [
       "(9, 9)"
      ]
     },
     "execution_count": 13,
     "metadata": {},
     "output_type": "execute_result"
    }
   ],
   "source": [
    "H_MS = hessian(opti_MS.f, opti_MS.x)[0]\n",
    "H_MS.shape"
   ]
  },
  {
   "cell_type": "code",
   "execution_count": 14,
   "id": "35d642cb-0c0a-46c1-94fa-5fa681034549",
   "metadata": {},
   "outputs": [
    {
     "name": "stdout",
     "output_type": "stream",
     "text": [
      "*........\n",
      ".*.......\n",
      "..*......\n",
      "...*.....\n",
      "....*....\n",
      ".....*...\n",
      "......*..\n",
      ".......*.\n",
      "........*\n"
     ]
    }
   ],
   "source": [
    "H_MS.sparsity().spy()"
   ]
  },
  {
   "cell_type": "code",
   "execution_count": 15,
   "id": "957494ec-a7c1-45ed-ade1-bab62fe9ad58",
   "metadata": {},
   "outputs": [
    {
     "data": {
      "text/plain": [
       "((1, 1), (4, 1))"
      ]
     },
     "execution_count": 15,
     "metadata": {},
     "output_type": "execute_result"
    }
   ],
   "source": [
    "opti_SS.f.shape, opti_SS.x.shape"
   ]
  },
  {
   "cell_type": "code",
   "execution_count": 16,
   "id": "259a6048-67e3-4214-b43b-0f392936d3af",
   "metadata": {},
   "outputs": [
    {
     "data": {
      "text/plain": [
       "(4, 4)"
      ]
     },
     "execution_count": 16,
     "metadata": {},
     "output_type": "execute_result"
    }
   ],
   "source": [
    "H_SS = hessian(opti_SS.f, opti_SS.x)[0]\n",
    "H_SS.shape"
   ]
  },
  {
   "cell_type": "code",
   "execution_count": 17,
   "id": "0c1c0970-277b-4880-b315-c965cbd317f6",
   "metadata": {},
   "outputs": [
    {
     "name": "stdout",
     "output_type": "stream",
     "text": [
      "****\n",
      "****\n",
      "****\n",
      "****\n"
     ]
    }
   ],
   "source": [
    "H_SS.sparsity().spy()"
   ]
  },
  {
   "cell_type": "code",
   "execution_count": 18,
   "id": "4b7ceec7-c956-41c7-b54a-d47cba2a53fd",
   "metadata": {},
   "outputs": [
    {
     "data": {
      "text/plain": [
       "(11, 9)"
      ]
     },
     "execution_count": 18,
     "metadata": {},
     "output_type": "execute_result"
    }
   ],
   "source": [
    "constraint_J_MS = jacobian(opti_MS.g, opti_MS.x)\n",
    "constraint_J_MS.shape"
   ]
  },
  {
   "cell_type": "code",
   "execution_count": 19,
   "id": "89caf6d8-9139-4762-ae70-f3fb006de9be",
   "metadata": {},
   "outputs": [
    {
     "name": "stdout",
     "output_type": "stream",
     "text": [
      "**...*...\n",
      ".**...*..\n",
      "..**...*.\n",
      "...**...*\n",
      "*........\n",
      "....*....\n",
      "*........\n",
      ".*.......\n",
      "..*......\n",
      "...*.....\n",
      "....*....\n"
     ]
    }
   ],
   "source": [
    "constraint_J_MS.sparsity().spy()"
   ]
  },
  {
   "cell_type": "code",
   "execution_count": 20,
   "id": "d682f4d4-b4fe-40bf-96d9-624b672bc9c0",
   "metadata": {},
   "outputs": [
    {
     "data": {
      "text/plain": [
       "(6, 4)"
      ]
     },
     "execution_count": 20,
     "metadata": {},
     "output_type": "execute_result"
    }
   ],
   "source": [
    "constraint_J_SS = jacobian(opti_SS.g, opti_SS.x)\n",
    "constraint_J_SS.shape"
   ]
  },
  {
   "cell_type": "code",
   "execution_count": 21,
   "id": "d42463d2-ed62-4fc8-9369-e48516aa5fb4",
   "metadata": {},
   "outputs": [
    {
     "name": "stdout",
     "output_type": "stream",
     "text": [
      "****\n",
      "....\n",
      "*...\n",
      "**..\n",
      "***.\n",
      "****\n"
     ]
    }
   ],
   "source": [
    "constraint_J_SS.sparsity().spy()"
   ]
  },
  {
   "attachments": {},
   "cell_type": "markdown",
   "id": "ece62147-dfdb-48da-941b-3f26aabb9f77",
   "metadata": {},
   "source": [
    "In multiple-shooting there are more decision variables but each decision variable is only dependent on the states and inputs in the previous time-step, therefore the Hessian is sparse.  In this example, the dependency on the previous input is linear therefore the Hessian has no cross-terms.\n",
    "\n",
    "In single-shooting, the future states are dependent on the inputs in all previous time steps so the Hessian has many cross-terms (i.e. dense). The way the objective is defined, the relationship between f and u is highly non-linear and therefore all the terms in the Hessian are non-zero."
   ]
  },
  {
   "cell_type": "markdown",
   "id": "7d4db753-85d2-4d4c-a0b7-d448015337c0",
   "metadata": {},
   "source": [
    "## 4. Banded constraint Jacobian"
   ]
  },
  {
   "cell_type": "code",
   "execution_count": 22,
   "id": "77d7af9d-e051-4356-a467-02a8796c09bc",
   "metadata": {},
   "outputs": [],
   "source": [
    "# To make the constraint Jacobian more banded, arrange the xk and uk terms next to each other:\n",
    "\n",
    "opti = Opti()\n",
    "x0 = opti.variable()\n",
    "opti.subject_to(x0==2)\n",
    "\n",
    "U = []\n",
    "X = [x0]\n",
    "for k in range(1, N + 1):\n",
    "    xkm1 = X[k-1]\n",
    "    uk = opti.variable()\n",
    "    xk = opti.variable()\n",
    "    opti.subject_to(F(xkm1, uk) == xk)\n",
    "    if k < N:\n",
    "        opti.subject_to(xk >= 0)\n",
    "    U.append(uk)\n",
    "    X.append(xk)\n",
    "opti.subject_to(X[-1] == 3)\n",
    "\n",
    "U = vcat(U)\n",
    "X = vcat(X)"
   ]
  },
  {
   "cell_type": "code",
   "execution_count": 23,
   "id": "99e0d7c9-7679-4325-ae48-2222807083a5",
   "metadata": {},
   "outputs": [
    {
     "name": "stdout",
     "output_type": "stream",
     "text": [
      "This is Ipopt version 3.14.11, running with linear solver MUMPS 5.4.1.\n",
      "\n",
      "Number of nonzeros in equality constraint Jacobian...:       14\n",
      "Number of nonzeros in inequality constraint Jacobian.:        3\n",
      "Number of nonzeros in Lagrangian Hessian.............:        9\n",
      "\n",
      "Total number of variables............................:        9\n",
      "                     variables with only lower bounds:        0\n",
      "                variables with lower and upper bounds:        0\n",
      "                     variables with only upper bounds:        0\n",
      "Total number of equality constraints.................:        6\n",
      "Total number of inequality constraints...............:        3\n",
      "        inequality constraints with only lower bounds:        3\n",
      "   inequality constraints with lower and upper bounds:        0\n",
      "        inequality constraints with only upper bounds:        0\n",
      "\n",
      "iter    objective    inf_pr   inf_du lg(mu)  ||d||  lg(rg) alpha_du alpha_pr  ls\n",
      "   0  0.0000000e+00 3.00e+00 3.33e-01  -1.0 0.00e+00    -  0.00e+00 0.00e+00   0\n",
      "   1  2.2067702e+01 4.00e+00 1.27e+00  -1.0 3.00e+00    -  1.00e+00 1.00e+00h  1\n",
      "   2  3.0648677e+01 1.74e+00 2.68e+02  -1.0 2.68e+00   2.0 9.23e-02 1.00e+00h  1\n",
      "   3  3.2118180e+01 1.20e-01 1.70e+01  -1.0 5.11e-01   1.5 1.00e+00 1.00e+00h  1\n",
      "   4  3.2052739e+01 1.31e-02 1.27e+00  -1.0 1.14e-01   1.0 1.00e+00 1.00e+00h  1\n",
      "   5  3.0816662e+01 4.33e-01 2.48e+00  -1.0 6.58e-01   0.6 7.86e-01 1.00e+00f  1\n",
      "   6  3.0118972e+01 1.66e+00 9.23e+00  -1.0 1.74e+01    -  7.52e-02 1.25e-01f  4\n",
      "   7  2.6875193e+01 4.60e-01 1.15e+00  -1.0 6.78e-01    -  1.00e+00 1.00e+00f  1\n",
      "   8  2.6431815e+01 3.53e-02 5.75e-02  -1.0 1.88e-01    -  1.00e+00 1.00e+00h  1\n",
      "   9  2.6404168e+01 4.49e-04 7.88e-04  -2.5 2.12e-02    -  1.00e+00 1.00e+00h  1\n",
      "iter    objective    inf_pr   inf_du lg(mu)  ||d||  lg(rg) alpha_du alpha_pr  ls\n",
      "  10  2.6403913e+01 4.54e-07 2.20e-06  -3.8 8.17e-04    -  1.00e+00 1.00e+00h  1\n",
      "  11  2.6403913e+01 2.97e-10 2.09e-09  -5.7 3.04e-05    -  1.00e+00 1.00e+00h  1\n",
      "  12  2.6403913e+01 4.26e-14 3.04e-13  -8.6 3.68e-07    -  1.00e+00 1.00e+00h  1\n",
      "\n",
      "Number of Iterations....: 12\n",
      "\n",
      "                                   (scaled)                 (unscaled)\n",
      "Objective...............:   2.6403912716984614e+01    2.6403912716984614e+01\n",
      "Dual infeasibility......:   3.0375701953744283e-13    3.0375701953744283e-13\n",
      "Constraint violation....:   4.2632564145606011e-14    4.2632564145606011e-14\n",
      "Variable bound violation:   0.0000000000000000e+00    0.0000000000000000e+00\n",
      "Complementarity.........:   2.5062383967614809e-09    2.5062383967614809e-09\n",
      "Overall NLP error.......:   2.5062383967614809e-09    2.5062383967614809e-09\n",
      "\n",
      "\n",
      "Number of objective function evaluations             = 18\n",
      "Number of objective gradient evaluations             = 13\n",
      "Number of equality constraint evaluations            = 18\n",
      "Number of inequality constraint evaluations          = 18\n",
      "Number of equality constraint Jacobian evaluations   = 13\n",
      "Number of inequality constraint Jacobian evaluations = 13\n",
      "Number of Lagrangian Hessian evaluations             = 12\n",
      "Total seconds in IPOPT                               = 0.012\n",
      "\n",
      "EXIT: Optimal Solution Found.\n",
      "      solver  :   t_proc      (avg)   t_wall      (avg)    n_eval\n",
      "       nlp_f  |  51.00us (  2.83us)  43.75us (  2.43us)        18\n",
      "       nlp_g  | 113.00us (  6.28us)  91.93us (  5.11us)        18\n",
      "  nlp_grad_f  |  62.00us (  4.43us)  52.03us (  3.72us)        14\n",
      "  nlp_hess_l  |  98.00us (  8.17us) 101.71us (  8.48us)        12\n",
      "   nlp_jac_g  | 199.00us ( 14.21us) 194.73us ( 13.91us)        14\n",
      "       total  |  12.48ms ( 12.48ms)  11.92ms ( 11.92ms)         1\n",
      "[-2.70380638 -0.54297936  0.26125189  0.58403971]\n"
     ]
    }
   ],
   "source": [
    "opti.minimize(sumsqr(U) + sumsqr(X))\n",
    "\n",
    "opti.solver('ipopt')\n",
    "sol = opti.solve()\n",
    "\n",
    "Usol = sol.value(U) # should be [-2.7038;-0.5430;0.2613;0.5840]\n",
    "print(Usol)"
   ]
  },
  {
   "cell_type": "code",
   "execution_count": 24,
   "id": "8f000647-154f-400d-8ee1-a49c7afa930f",
   "metadata": {},
   "outputs": [],
   "source": [
    "# In fact the ordering didn't significantly affected the convergence"
   ]
  },
  {
   "cell_type": "code",
   "execution_count": 25,
   "id": "5e452a73-d679-40a6-8e58-f4ea8ad65b0d",
   "metadata": {},
   "outputs": [],
   "source": [
    "assert_array_almost_equal(sol.value(U), [-2.7038, -0.5430, 0.2613, 0.5840], decimal=4)"
   ]
  },
  {
   "cell_type": "code",
   "execution_count": 26,
   "id": "dd749fee-1c61-4467-913d-511b3409d195",
   "metadata": {},
   "outputs": [
    {
     "data": {
      "text/plain": [
       "(9, 9)"
      ]
     },
     "execution_count": 26,
     "metadata": {},
     "output_type": "execute_result"
    }
   ],
   "source": [
    "H = hessian(opti.f, opti.x)[0]\n",
    "H.shape"
   ]
  },
  {
   "cell_type": "code",
   "execution_count": 27,
   "id": "1f9f879e-6da5-4dbd-952a-651086f3e005",
   "metadata": {},
   "outputs": [
    {
     "name": "stdout",
     "output_type": "stream",
     "text": [
      "*........\n",
      ".*.......\n",
      "..*......\n",
      "...*.....\n",
      "....*....\n",
      ".....*...\n",
      "......*..\n",
      ".......*.\n",
      "........*\n"
     ]
    }
   ],
   "source": [
    "H.sparsity().spy()"
   ]
  },
  {
   "cell_type": "code",
   "execution_count": 28,
   "id": "4ed5ca8b-fd9c-4717-9906-2e478936ff5a",
   "metadata": {},
   "outputs": [
    {
     "data": {
      "text/plain": [
       "(9, 9)"
      ]
     },
     "execution_count": 28,
     "metadata": {},
     "output_type": "execute_result"
    }
   ],
   "source": [
    "constraint_J = jacobian(opti.g, opti.x)\n",
    "constraint_J.shape"
   ]
  },
  {
   "cell_type": "code",
   "execution_count": 29,
   "id": "32f58a46-fcbe-4c83-ae7e-201a20b71a07",
   "metadata": {},
   "outputs": [
    {
     "name": "stdout",
     "output_type": "stream",
     "text": [
      "*........\n",
      "***......\n",
      "..*......\n",
      "..***....\n",
      "....*....\n",
      "....***..\n",
      "......*..\n",
      "......***\n",
      "........*\n"
     ]
    }
   ],
   "source": [
    "constraint_J.sparsity().spy()"
   ]
  },
  {
   "cell_type": "markdown",
   "id": "b6b72caa-9cec-4b12-bcbb-7a19cab4e551",
   "metadata": {},
   "source": [
    "## 5. Which transcription scales best for large N?"
   ]
  },
  {
   "cell_type": "markdown",
   "id": "7cdc7835-124b-4d74-bf05-0afdf796a091",
   "metadata": {},
   "source": [
    "The Hessian becomes part of the KKT matrix, which must be factorized/inverted by the NLP solver.\n",
    "\n",
    "Inverting a dense system of shape N-by-N costs $O(N^3)$.\n",
    "\n",
    "Solvers can take advantage of the sparsity of the Hessian in multiple-shooting (MS) and so it scales better to long time horizons (i.e. large $N$)."
   ]
  },
  {
   "cell_type": "markdown",
   "id": "be05c965-b14c-4c7a-8b8c-5f14d2a5d5b8",
   "metadata": {},
   "source": [
    "## 6. Numerical values of the constraint Jacobian at initialization"
   ]
  },
  {
   "cell_type": "code",
   "execution_count": 30,
   "id": "8deaaac3-133e-4802-83e9-15e5ab87b1b2",
   "metadata": {},
   "outputs": [
    {
     "data": {
      "text/plain": [
       "array([[ 0.,  1.,  0.,  0.,  0., -1.,  0.,  0.,  0.],\n",
       "       [ 0.,  0.,  1.,  0.,  0.,  0., -1.,  0.,  0.],\n",
       "       [ 0.,  0.,  0.,  1.,  0.,  0.,  0., -1.,  0.],\n",
       "       [ 0.,  0.,  0.,  0.,  1.,  0.,  0.,  0., -1.],\n",
       "       [ 1.,  0.,  0.,  0.,  0.,  0.,  0.,  0.,  0.],\n",
       "       [ 0.,  0.,  0.,  0.,  1.,  0.,  0.,  0.,  0.],\n",
       "       [ 1.,  0.,  0.,  0.,  0.,  0.,  0.,  0.,  0.],\n",
       "       [ 0.,  1.,  0.,  0.,  0.,  0.,  0.,  0.,  0.],\n",
       "       [ 0.,  0.,  1.,  0.,  0.,  0.,  0.,  0.,  0.],\n",
       "       [ 0.,  0.,  0.,  1.,  0.,  0.,  0.,  0.,  0.],\n",
       "       [ 0.,  0.,  0.,  0.,  1.,  0.,  0.,  0.,  0.]])"
      ]
     },
     "execution_count": 30,
     "metadata": {},
     "output_type": "execute_result"
    }
   ],
   "source": [
    "sol_MS.value(constraint_J_MS, opti_MS.initial()).toarray()"
   ]
  },
  {
   "cell_type": "code",
   "execution_count": 31,
   "id": "644a38a6-d562-497d-938a-7cc8b54823a4",
   "metadata": {},
   "outputs": [
    {
     "data": {
      "text/plain": [
       "array([[1.31072e+05, 1.63840e+04, 5.12000e+02, 1.00000e+00],\n",
       "       [0.00000e+00, 0.00000e+00, 0.00000e+00, 0.00000e+00],\n",
       "       [1.00000e+00, 0.00000e+00, 0.00000e+00, 0.00000e+00],\n",
       "       [8.00000e+00, 1.00000e+00, 0.00000e+00, 0.00000e+00],\n",
       "       [2.56000e+02, 3.20000e+01, 1.00000e+00, 0.00000e+00],\n",
       "       [1.31072e+05, 1.63840e+04, 5.12000e+02, 1.00000e+00]])"
      ]
     },
     "execution_count": 31,
     "metadata": {},
     "output_type": "execute_result"
    }
   ],
   "source": [
    "sol_SS.value(constraint_J_SS, opti_SS.initial()).toarray()"
   ]
  },
  {
   "cell_type": "markdown",
   "id": "af0d1bd9-9632-4e0a-8c44-72a9f47e2d7d",
   "metadata": {},
   "source": [
    "For single-shooting (SS) the initial values of the states can get high (especially if for example, the system is unstable), therefore initialization can be tricky unless you already have a reasonable intitial solution."
   ]
  },
  {
   "cell_type": "markdown",
   "id": "458b58aa-8624-4850-b3a5-cd1de3b7f397",
   "metadata": {},
   "source": [
    "## 8. Compare the number of iterations"
   ]
  },
  {
   "cell_type": "code",
   "execution_count": 40,
   "id": "22f3073c-1915-4381-be60-39eb00d65914",
   "metadata": {},
   "outputs": [
    {
     "data": {
      "text/plain": [
       "78"
      ]
     },
     "execution_count": 40,
     "metadata": {},
     "output_type": "execute_result"
    }
   ],
   "source": [
    "sol_SS.stats()['iter_count']"
   ]
  },
  {
   "cell_type": "code",
   "execution_count": 41,
   "id": "2f98995c-5aa5-4fcc-96f9-607f471311ec",
   "metadata": {},
   "outputs": [
    {
     "data": {
      "text/plain": [
       "9"
      ]
     },
     "execution_count": 41,
     "metadata": {},
     "output_type": "execute_result"
    }
   ],
   "source": [
    "sol_MS.stats()['iter_count']"
   ]
  },
  {
   "cell_type": "markdown",
   "id": "1d82ef27-fa07-45d9-8e92-ec896872297c",
   "metadata": {},
   "source": [
    "Order of polynomial $F(x, 0)$ is 1 (linear)\n",
    "\n",
    "Order of polynomial $F(F(x, 0), 0)$ is 2 (quadratic)\n",
    "\n",
    "Therefore as the prediction horizon $N$ increases the order of the resulting polynomial gets higher.\n",
    "\n",
    "Since each iteration involves a linearization, which is an approximation, the non-linearities will reduce the speed of convergence, requiring more iterations to converge to the solution."
   ]
  },
  {
   "cell_type": "markdown",
   "id": "fc5497c6-014d-40a2-9edc-01865ec0f12d",
   "metadata": {},
   "source": [
    "## 9. Use of a reasonable initial guess"
   ]
  },
  {
   "cell_type": "markdown",
   "id": "c35bdfc3-ad50-40d5-b074-f0057af21d7a",
   "metadata": {},
   "source": [
    "Gaving an initial guess which is close (in some sense) to the solutioin helps because the initial value of the objective function will be lower and therefore less itrations will be needed to reach the solution."
   ]
  },
  {
   "cell_type": "markdown",
   "id": "eca8109a-2189-45d6-8b9e-0f45b31b5e37",
   "metadata": {},
   "source": [
    "## 10. Multiple shooting with a 2x3 system"
   ]
  },
  {
   "cell_type": "code",
   "execution_count": 18,
   "id": "6a057785-4cd4-493b-ae7b-27b4af8967ad",
   "metadata": {},
   "outputs": [
    {
     "data": {
      "text/plain": [
       "DM(\n",
       "[[1, 0.1, 0.2], \n",
       " [2, 0.3, 0.4], \n",
       " [6, 1, 3]])"
      ]
     },
     "execution_count": 18,
     "metadata": {},
     "output_type": "execute_result"
    }
   ],
   "source": [
    "A = sparsify(DM([[1, 0.1, 0.2], [2, 0.3, 0.4], [6, 1, 3]]))\n",
    "A"
   ]
  },
  {
   "cell_type": "code",
   "execution_count": 19,
   "id": "f0238ad9-6073-4c22-ac9d-269c682a74cb",
   "metadata": {},
   "outputs": [
    {
     "data": {
      "text/plain": [
       "DM(\n",
       "[[1, 00], \n",
       " [00, 1], \n",
       " [2, 1]])"
      ]
     },
     "execution_count": 19,
     "metadata": {},
     "output_type": "execute_result"
    }
   ],
   "source": [
    "B = sparsify(DM([[1, 0], [0, 1], [2, 1]]))\n",
    "# or B = sparsify(blockcat([[1,0],[0,1],[2,1]]))\n",
    "B"
   ]
  },
  {
   "cell_type": "code",
   "execution_count": 20,
   "id": "64acfa7b-b68d-4844-8b1c-893e70edcbaf",
   "metadata": {},
   "outputs": [
    {
     "data": {
      "text/plain": [
       "Function(F:(xk[3],uk[2])->(xkp1[3]) MXFunction)"
      ]
     },
     "execution_count": 20,
     "metadata": {},
     "output_type": "execute_result"
    }
   ],
   "source": [
    "xk = MX.sym('xk', 3)\n",
    "uk = MX.sym('uk', 2)\n",
    "F = Function('F', [xk, uk], [A @ xk + B @ uk], ['xk', 'uk'], ['xkp1'])\n",
    "# or simply, F = lambda x,u: A @ x + B @ u\n",
    "F"
   ]
  },
  {
   "cell_type": "code",
   "execution_count": 21,
   "id": "056d6e30-2e8c-4019-91c6-3f605819aae4",
   "metadata": {},
   "outputs": [],
   "source": [
    "opti_MS = Opti()\n",
    "N = 4\n",
    "X = opti_MS.variable(N + 1, 3)\n",
    "U = opti_MS.variable(N, 2)\n",
    "\n",
    "# Define objective function\n",
    "f = sumsqr(X) + sumsqr(U)\n",
    "\n",
    "# Define constraints\n",
    "for k in range(1, N + 1):\n",
    "    xkm1, ukm1 = X[k-1, :].T, U[k-1, :].T\n",
    "    opti_MS.subject_to(X[k, :] == F(xkm1, ukm1).T)\n",
    "opti_MS.subject_to(X[0, :] == DM([1, 2, 3]).T)\n",
    "opti_MS.subject_to(X[-1, :] == DM.zeros(3).T)\n",
    "\n",
    "opti_MS.minimize(f)"
   ]
  },
  {
   "cell_type": "code",
   "execution_count": 22,
   "id": "d5df61b7-e365-4dce-85d9-b5093836746d",
   "metadata": {},
   "outputs": [
    {
     "name": "stdout",
     "output_type": "stream",
     "text": [
      "This is Ipopt version 3.14.11, running with linear solver MUMPS 5.4.1.\n",
      "\n",
      "Number of nonzeros in equality constraint Jacobian...:       70\n",
      "Number of nonzeros in inequality constraint Jacobian.:        0\n",
      "Number of nonzeros in Lagrangian Hessian.............:       23\n",
      "\n",
      "Total number of variables............................:       23\n",
      "                     variables with only lower bounds:        0\n",
      "                variables with lower and upper bounds:        0\n",
      "                     variables with only upper bounds:        0\n",
      "Total number of equality constraints.................:       18\n",
      "Total number of inequality constraints...............:        0\n",
      "        inequality constraints with only lower bounds:        0\n",
      "   inequality constraints with lower and upper bounds:        0\n",
      "        inequality constraints with only upper bounds:        0\n",
      "\n",
      "iter    objective    inf_pr   inf_du lg(mu)  ||d||  lg(rg) alpha_du alpha_pr  ls\n",
      "   0  0.0000000e+00 3.00e+00 0.00e+00  -1.0 0.00e+00    -  0.00e+00 0.00e+00   0\n",
      "   1  8.4016658e+01 2.66e-15 3.55e-15  -1.0 4.29e+00    -  1.00e+00 1.00e+00h  1\n",
      "\n",
      "Number of Iterations....: 1\n",
      "\n",
      "                                   (scaled)                 (unscaled)\n",
      "Objective...............:   8.4016657861213119e+01    8.4016657861213119e+01\n",
      "Dual infeasibility......:   3.5527136788005009e-15    3.5527136788005009e-15\n",
      "Constraint violation....:   2.6645352591003757e-15    2.6645352591003757e-15\n",
      "Variable bound violation:   0.0000000000000000e+00    0.0000000000000000e+00\n",
      "Complementarity.........:   0.0000000000000000e+00    0.0000000000000000e+00\n",
      "Overall NLP error.......:   3.5527136788005009e-15    3.5527136788005009e-15\n",
      "\n",
      "\n",
      "Number of objective function evaluations             = 2\n",
      "Number of objective gradient evaluations             = 2\n",
      "Number of equality constraint evaluations            = 2\n",
      "Number of inequality constraint evaluations          = 0\n",
      "Number of equality constraint Jacobian evaluations   = 2\n",
      "Number of inequality constraint Jacobian evaluations = 0\n",
      "Number of Lagrangian Hessian evaluations             = 1\n",
      "Total seconds in IPOPT                               = 0.002\n",
      "\n",
      "EXIT: Optimal Solution Found.\n",
      "      solver  :   t_proc      (avg)   t_wall      (avg)    n_eval\n",
      "       nlp_f  |   6.00us (  3.00us)   5.05us (  2.52us)         2\n",
      "       nlp_g  |  20.00us ( 10.00us)  17.50us (  8.75us)         2\n",
      "  nlp_grad_f  |  17.00us (  5.67us)  14.78us (  4.93us)         3\n",
      "  nlp_hess_l  |  19.00us ( 19.00us)  19.65us ( 19.65us)         1\n",
      "   nlp_jac_g  |  93.00us ( 31.00us)  99.92us ( 33.31us)         3\n",
      "       total  |   2.47ms (  2.47ms)   2.41ms (  2.41ms)         1\n"
     ]
    }
   ],
   "source": [
    "opti_MS.solver('ipopt')\n",
    "sol = opti_MS.solve()"
   ]
  },
  {
   "cell_type": "code",
   "execution_count": 23,
   "id": "19052755-2c9e-47b9-b051-df7e2acd8453",
   "metadata": {},
   "outputs": [
    {
     "data": {
      "text/plain": [
       "array([-4.28944779, -4.19298955])"
      ]
     },
     "execution_count": 23,
     "metadata": {},
     "output_type": "execute_result"
    }
   ],
   "source": [
    "sol.value(U[0, :])"
   ]
  },
  {
   "cell_type": "code",
   "execution_count": 24,
   "id": "197b3bd4-399c-47d2-9981-126a328ecbc1",
   "metadata": {},
   "outputs": [],
   "source": [
    "assert_array_almost_equal(sol.value(U[0, :]), [-4.2894, -4.1930], decimal=4)"
   ]
  },
  {
   "cell_type": "code",
   "execution_count": null,
   "id": "824a2fc9-f990-48b9-86d1-cf8ff4d3f47b",
   "metadata": {},
   "outputs": [],
   "source": []
  },
  {
   "cell_type": "code",
   "execution_count": null,
   "id": "b3932fab-7007-431e-a336-a69199254a99",
   "metadata": {},
   "outputs": [],
   "source": []
  },
  {
   "cell_type": "code",
   "execution_count": null,
   "id": "72bc9fa1-749c-4f77-b266-c294ca067097",
   "metadata": {},
   "outputs": [],
   "source": []
  },
  {
   "cell_type": "code",
   "execution_count": null,
   "id": "bbdb8167-f192-42c7-a5c0-4e951772f8e1",
   "metadata": {},
   "outputs": [],
   "source": []
  }
 ],
 "metadata": {
  "kernelspec": {
   "display_name": "Python (casadi)",
   "language": "python",
   "name": "casadi"
  },
  "language_info": {
   "codemirror_mode": {
    "name": "ipython",
    "version": 3
   },
   "file_extension": ".py",
   "mimetype": "text/x-python",
   "name": "python",
   "nbconvert_exporter": "python",
   "pygments_lexer": "ipython3",
   "version": "3.11.8"
  }
 },
 "nbformat": 4,
 "nbformat_minor": 5
}
