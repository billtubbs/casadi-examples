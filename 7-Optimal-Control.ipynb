{
 "cells": [
  {
   "cell_type": "markdown",
   "id": "e0df1abe-c9e0-4c86-8ae8-dfad55c802b0",
   "metadata": {},
   "source": [
    "# Optimal Control"
   ]
  },
  {
   "cell_type": "code",
   "execution_count": 1,
   "id": "f943ad8b-3fbb-4b45-bc66-91331e636a10",
   "metadata": {},
   "outputs": [],
   "source": [
    "import os\n",
    "import numpy as np\n",
    "from numpy.testing import assert_array_equal, assert_array_almost_equal\n",
    "import matplotlib.pyplot as plt\n",
    "from casadi import (\n",
    "    MX, DM, Function, Opti, sparsify,\n",
    "    vec, vcat, vertcat, horzcat, blockcat, sum1, sum2, sumsqr,\n",
    "    gradient, jacobian, hessian\n",
    ")"
   ]
  },
  {
   "cell_type": "code",
   "execution_count": 2,
   "id": "79e68b50-2ea8-4980-aeb3-b45831bc9f39",
   "metadata": {},
   "outputs": [],
   "source": [
    "data_dir = 'data'"
   ]
  },
  {
   "cell_type": "markdown",
   "id": "192cbb13-884d-4ca6-9780-c48176b5e951",
   "metadata": {},
   "source": [
    "## 1. Solve Multiple Shooting Problem"
   ]
  },
  {
   "cell_type": "code",
   "execution_count": 3,
   "id": "7ac1e1d4-6eb7-4984-8ecf-e4e399dfa3e4",
   "metadata": {},
   "outputs": [
    {
     "data": {
      "text/plain": [
       "Function(F:(xk,uk)->(xkp1) MXFunction)"
      ]
     },
     "execution_count": 3,
     "metadata": {},
     "output_type": "execute_result"
    }
   ],
   "source": [
    "# State transition function\n",
    "uk = MX.sym('uk')\n",
    "xk = MX.sym('xk')\n",
    "F = Function('F', [xk, uk], [xk ** 2 + uk], ['xk', 'uk'], ['xkp1'])\n",
    "F"
   ]
  },
  {
   "cell_type": "markdown",
   "id": "636025d4-cf67-4f9a-a549-537a9443d0fe",
   "metadata": {},
   "source": [
    "Discrete optimal control problem:\n",
    "\n",
    "$$\n",
    "\\DeclareMathOperator*{\\minimize}{minimize}\n",
    "\\begin{aligned}\n",
    "\\minimize_{x_1,x_2,...,x_{N+1},u_1,u_2,...,u_N} \\quad & \\sum_{k=1}^{N}{u_k^2} + \\sum_{k=1}^{N+1}{x_k^2} \\\\\n",
    "\\text{subject to} \\quad & F(x_k,u_k) = x_{k+1}, \\quad k=1, ..., N \\\\\n",
    "                  & x_1 = 2 \\\\\n",
    "                  & x_{N+1} = 3 \\\\\n",
    "                  & x_k \\ge 0, \\quad k=1, ..., N+1 \\\\\n",
    "\\end{aligned}\n",
    "$$\n"
   ]
  },
  {
   "cell_type": "code",
   "execution_count": 4,
   "id": "0c96ae8a-afc5-44f5-be98-0971eebe852a",
   "metadata": {},
   "outputs": [],
   "source": [
    "opti_MS = Opti()\n",
    "N = 4\n",
    "X = opti_MS.variable(N + 1)\n",
    "U = opti_MS.variable(N)\n",
    "\n",
    "# Define objective function\n",
    "f = sum1(X ** 2) + sum1(U ** 2)\n",
    "# or sumsqr(X) + sumsqr(U)\n",
    "\n",
    "# Define constraints\n",
    "for k in range(1, N + 1):\n",
    "    opti_MS.subject_to(X[k] == F(X[k-1], U[k-1]))\n",
    "opti_MS.subject_to(X[0] == 2)  # initial constraint\n",
    "opti_MS.subject_to(X[1:-1] >= 0)  # path constraint\n",
    "opti_MS.subject_to(X[-1] == 3)  # final constraint\n",
    "\n",
    "opti_MS.minimize(f)"
   ]
  },
  {
   "cell_type": "code",
   "execution_count": 5,
   "id": "838f1fc7-6752-41ed-a27b-c2f46025caff",
   "metadata": {},
   "outputs": [
    {
     "name": "stdout",
     "output_type": "stream",
     "text": [
      "\n",
      "******************************************************************************\n",
      "This program contains Ipopt, a library for large-scale nonlinear optimization.\n",
      " Ipopt is released as open source code under the Eclipse Public License (EPL).\n",
      "         For more information visit https://github.com/coin-or/Ipopt\n",
      "******************************************************************************\n",
      "\n",
      "This is Ipopt version 3.14.11, running with linear solver MUMPS 5.4.1.\n",
      "\n",
      "Number of nonzeros in equality constraint Jacobian...:       14\n",
      "Number of nonzeros in inequality constraint Jacobian.:        3\n",
      "Number of nonzeros in Lagrangian Hessian.............:        9\n",
      "\n",
      "Total number of variables............................:        9\n",
      "                     variables with only lower bounds:        0\n",
      "                variables with lower and upper bounds:        0\n",
      "                     variables with only upper bounds:        0\n",
      "Total number of equality constraints.................:        6\n",
      "Total number of inequality constraints...............:        3\n",
      "        inequality constraints with only lower bounds:        3\n",
      "   inequality constraints with lower and upper bounds:        0\n",
      "        inequality constraints with only upper bounds:        0\n",
      "\n",
      "iter    objective    inf_pr   inf_du lg(mu)  ||d||  lg(rg) alpha_du alpha_pr  ls\n",
      "   0  0.0000000e+00 3.00e+00 3.33e-01  -1.0 0.00e+00    -  0.00e+00 0.00e+00   0\n",
      "   1  2.2067702e+01 4.00e+00 1.27e+00  -1.0 3.00e+00    -  1.00e+00 1.00e+00h  1\n",
      "   2  3.0648677e+01 1.74e+00 2.68e+02  -1.0 2.68e+00   2.0 9.23e-02 1.00e+00h  1\n",
      "   3  3.2118180e+01 1.20e-01 1.70e+01  -1.0 5.11e-01   1.5 1.00e+00 1.00e+00h  1\n",
      "   4  3.2052739e+01 1.31e-02 1.27e+00  -1.0 1.14e-01   1.0 1.00e+00 1.00e+00h  1\n",
      "   5  3.0816662e+01 4.33e-01 2.48e+00  -1.0 6.58e-01   0.6 7.86e-01 1.00e+00f  1\n",
      "   6  3.0118972e+01 1.66e+00 9.23e+00  -1.0 1.74e+01    -  7.52e-02 1.25e-01f  4\n",
      "   7  2.6875193e+01 4.60e-01 1.15e+00  -1.0 6.78e-01    -  1.00e+00 1.00e+00f  1\n",
      "   8  2.6431815e+01 3.53e-02 5.75e-02  -1.0 1.88e-01    -  1.00e+00 1.00e+00h  1\n",
      "   9  2.6404168e+01 4.49e-04 7.88e-04  -2.5 2.12e-02    -  1.00e+00 1.00e+00h  1\n",
      "iter    objective    inf_pr   inf_du lg(mu)  ||d||  lg(rg) alpha_du alpha_pr  ls\n",
      "  10  2.6403913e+01 4.54e-07 2.20e-06  -3.8 8.17e-04    -  1.00e+00 1.00e+00h  1\n",
      "  11  2.6403913e+01 2.97e-10 2.09e-09  -5.7 3.04e-05    -  1.00e+00 1.00e+00h  1\n",
      "  12  2.6403913e+01 4.29e-14 3.03e-13  -8.6 3.68e-07    -  1.00e+00 1.00e+00h  1\n",
      "\n",
      "Number of Iterations....: 12\n",
      "\n",
      "                                   (scaled)                 (unscaled)\n",
      "Objective...............:   2.6403912716984614e+01    2.6403912716984614e+01\n",
      "Dual infeasibility......:   3.0331293032759277e-13    3.0331293032759277e-13\n",
      "Constraint violation....:   4.2854608750531042e-14    4.2854608750531042e-14\n",
      "Variable bound violation:   0.0000000000000000e+00    0.0000000000000000e+00\n",
      "Complementarity.........:   2.5062383967614809e-09    2.5062383967614809e-09\n",
      "Overall NLP error.......:   2.5062383967614809e-09    2.5062383967614809e-09\n",
      "\n",
      "\n",
      "Number of objective function evaluations             = 18\n",
      "Number of objective gradient evaluations             = 13\n",
      "Number of equality constraint evaluations            = 18\n",
      "Number of inequality constraint evaluations          = 18\n",
      "Number of equality constraint Jacobian evaluations   = 13\n",
      "Number of inequality constraint Jacobian evaluations = 13\n",
      "Number of Lagrangian Hessian evaluations             = 12\n",
      "Total seconds in IPOPT                               = 0.018\n",
      "\n",
      "EXIT: Optimal Solution Found.\n",
      "      solver  :   t_proc      (avg)   t_wall      (avg)    n_eval\n",
      "       nlp_f  |  64.00us (  3.56us)  54.42us (  3.02us)        18\n",
      "       nlp_g  | 196.00us ( 10.89us) 217.96us ( 12.11us)        18\n",
      "  nlp_grad_f  |  89.00us (  6.36us)  90.73us (  6.48us)        14\n",
      "  nlp_hess_l  | 168.00us ( 14.00us) 159.78us ( 13.32us)        12\n",
      "   nlp_jac_g  | 251.00us ( 17.93us) 264.30us ( 18.88us)        14\n",
      "       total  |  18.70ms ( 18.70ms)  18.21ms ( 18.21ms)         1\n"
     ]
    }
   ],
   "source": [
    "opti_MS.solver('ipopt')\n",
    "sol_MS = opti_MS.solve()"
   ]
  },
  {
   "cell_type": "code",
   "execution_count": 6,
   "id": "66fa1fd3-5ced-4847-b3b6-8c0a661c1548",
   "metadata": {},
   "outputs": [
    {
     "data": {
      "text/plain": [
       "array([-2.70380638, -0.54297936,  0.26125189,  0.58403971])"
      ]
     },
     "execution_count": 6,
     "metadata": {},
     "output_type": "execute_result"
    }
   ],
   "source": [
    "sol_MS.value(U)"
   ]
  },
  {
   "cell_type": "code",
   "execution_count": 7,
   "id": "39272469-24bb-4c2a-b32a-0fae546b02ce",
   "metadata": {},
   "outputs": [],
   "source": [
    "assert_array_almost_equal(sol_MS.value(U), [-2.7038, -0.5430, 0.2613, 0.5840], decimal=4)"
   ]
  },
  {
   "cell_type": "markdown",
   "id": "99c6460d-52e5-4fad-88ec-b92f460b776f",
   "metadata": {},
   "source": [
    "## 2. Adapt to single-shooting problem"
   ]
  },
  {
   "cell_type": "code",
   "execution_count": 8,
   "id": "311de2ef-3af6-4555-a1cc-7151379c4175",
   "metadata": {},
   "outputs": [],
   "source": [
    "opti_SS = Opti()\n",
    "\n",
    "# Objective function\n",
    "N = 4\n",
    "x0 = 2  # initial state\n",
    "U = opti_SS.variable(N)\n",
    "X = [x0]\n",
    "for k in range(1, N + 1):\n",
    "    X.append(F(X[k-1], U[k-1]))\n",
    "X = vertcat(*X)\n",
    "f = sum1(X ** 2) + sum1(U ** 2)\n",
    "\n",
    "# Define constraints\n",
    "opti_SS.subject_to(X[1:-1] >= 0)\n",
    "opti_SS.subject_to(X[-1] == 3)\n",
    "\n",
    "opti_SS.minimize(f)"
   ]
  },
  {
   "cell_type": "code",
   "execution_count": 9,
   "id": "30ef4505-420b-4573-addf-782cebfcd17b",
   "metadata": {},
   "outputs": [
    {
     "data": {
      "text/plain": [
       "MX(F(F(F(F(2, opti1_x_1[0]){0}, opti1_x_1[1]){0}, opti1_x_1[2]){0}, opti1_x_1[3]){0})"
      ]
     },
     "execution_count": 9,
     "metadata": {},
     "output_type": "execute_result"
    }
   ],
   "source": [
    "X[-1]"
   ]
  },
  {
   "cell_type": "code",
   "execution_count": 10,
   "id": "f8cad520-3386-4605-afbd-462cc49e922f",
   "metadata": {},
   "outputs": [
    {
     "name": "stdout",
     "output_type": "stream",
     "text": [
      "This is Ipopt version 3.14.11, running with linear solver MUMPS 5.4.1.\n",
      "\n",
      "Number of nonzeros in equality constraint Jacobian...:        4\n",
      "Number of nonzeros in inequality constraint Jacobian.:        6\n",
      "Number of nonzeros in Lagrangian Hessian.............:       10\n",
      "\n",
      "Total number of variables............................:        4\n",
      "                     variables with only lower bounds:        0\n",
      "                variables with lower and upper bounds:        0\n",
      "                     variables with only upper bounds:        0\n",
      "Total number of equality constraints.................:        1\n",
      "Total number of inequality constraints...............:        3\n",
      "        inequality constraints with only lower bounds:        3\n",
      "   inequality constraints with lower and upper bounds:        0\n",
      "        inequality constraints with only upper bounds:        0\n",
      "\n",
      "iter    objective    inf_pr   inf_du lg(mu)  ||d||  lg(rg) alpha_du alpha_pr  ls\n",
      "   0  4.2950331e+09 6.55e+04 1.21e-01  -1.0 0.00e+00    -  0.00e+00 0.00e+00   0\n",
      "   1  6.5583323e+08 6.36e+03 2.55e+01  -1.0 2.48e+04    -  9.93e-01 1.00e+00f  1\n",
      "   2  1.9383321e+08 2.45e+03 1.22e+01  -1.0 1.11e+04    -  1.00e+00 1.00e+00f  1\n",
      "   3  4.8337368e+07 1.35e+03 4.80e+00  -1.0 6.89e+03    -  1.00e+00 1.00e+00f  1\n",
      "   4  1.2760639e+07 6.71e+02 1.67e+00  -1.0 3.32e+03    -  1.00e+00 1.00e+00h  1\n",
      "   5  4.4112966e+06 2.96e+02 4.76e-01  -1.0 1.44e+03    -  1.00e+00 1.00e+00h  1\n",
      "   6  1.4248381e+06 1.62e+02 2.26e-01  -1.7 9.11e+02    -  1.00e+00 1.00e+00h  1\n",
      "   7  7.1173602e+05 8.59e+01 6.87e-02  -1.7 3.64e+02    -  1.00e+00 1.00e+00h  1\n",
      "   8  7.0050356e+05 2.78e+02 1.61e-01  -1.7 7.67e+01    -  1.00e+00 1.00e+00h  1\n",
      "   9  6.6115828e+05 7.76e+01 4.97e-02  -1.7 3.17e+01    -  1.00e+00 1.00e+00h  1\n",
      "iter    objective    inf_pr   inf_du lg(mu)  ||d||  lg(rg) alpha_du alpha_pr  ls\n",
      "  10  9.1130381e+05 4.55e+01 3.14e-01  -1.7 6.83e+01    -  1.00e+00 1.00e+00H  1\n",
      "  11  7.2980045e+05 1.74e+01 1.68e-02  -1.7 1.24e+02    -  1.00e+00 1.00e+00h  1\n",
      "  12  3.5199364e+05 1.33e+02 1.03e-01  -2.5 3.11e+02    -  1.00e+00 1.00e+00h  1\n",
      "  13  2.5117809e+05 3.20e+01 3.25e-02  -2.5 1.04e+02    -  1.00e+00 1.00e+00h  1\n",
      "  14  2.0552202e+05 4.02e+01 1.93e-02  -2.5 3.51e+01    -  1.00e+00 1.00e+00h  1\n",
      "  15  1.8204115e+05 5.69e+01 2.47e-02  -2.5 3.55e+01    -  1.00e+00 1.00e+00h  1\n",
      "  16  1.6847082e+05 2.61e+01 1.17e-02  -2.5 1.75e+01    -  1.00e+00 1.00e+00h  1\n",
      "  17  1.6026127e+05 7.26e+01 3.07e-02  -2.5 2.10e+01    -  1.00e+00 1.00e+00h  1\n",
      "  18  1.5317322e+05 1.39e+01 7.17e-03  -2.5 4.73e+00    -  1.00e+00 1.00e+00h  1\n",
      "  19  1.7074497e+05 1.25e+01 6.09e-02  -2.5 1.22e+01    -  1.00e+00 1.00e+00H  1\n",
      "iter    objective    inf_pr   inf_du lg(mu)  ||d||  lg(rg) alpha_du alpha_pr  ls\n",
      "  20  1.4753187e+05 2.96e+00 3.19e-03  -2.5 3.89e+01    -  1.00e+00 1.00e+00h  1\n",
      "  21  8.4077027e+04 3.71e+00 9.98e-02  -3.8 1.29e+02    -  1.00e+00 1.00e+00H  1\n",
      "  22  5.0623324e+04 9.13e+00 1.85e-02  -3.8 9.17e+01    -  1.00e+00 1.00e+00h  1\n",
      "  23  3.2647540e+04 1.77e+01 6.25e-03  -3.8 6.08e+01    -  1.00e+00 1.00e+00h  1\n",
      "  24  2.2814995e+04 3.58e+01 6.67e-03  -3.8 3.39e+01    -  1.00e+00 1.00e+00h  1\n",
      "  25  1.7716690e+04 1.42e+01 2.95e-03  -3.8 1.69e+01    -  1.00e+00 1.00e+00h  1\n",
      "  26  1.3446337e+04 1.90e+01 2.80e-03  -3.8 2.11e+01    -  1.00e+00 1.00e+00h  1\n",
      "  27  1.1308097e+04 7.36e+00 1.15e-03  -3.8 1.07e+01    -  1.00e+00 1.00e+00h  1\n",
      "  28  9.7111809e+03 8.46e+00 1.02e-03  -3.8 1.10e+01    -  1.00e+00 1.00e+00h  1\n",
      "  29  9.1041896e+03 3.74e+00 4.45e-04  -3.8 4.57e+00    -  1.00e+00 1.00e+00h  1\n",
      "iter    objective    inf_pr   inf_du lg(mu)  ||d||  lg(rg) alpha_du alpha_pr  ls\n",
      "  30  9.0168000e+03 9.23e+00 1.01e-03  -3.8 2.85e+00    -  1.00e+00 1.00e+00h  1\n",
      "  31  8.9405837e+03 1.92e+00 2.33e-04  -3.8 1.09e+00    -  1.00e+00 1.00e+00h  1\n",
      "  32  9.8331611e+03 1.07e+00 2.11e-03  -3.8 3.62e+00    -  1.00e+00 1.00e+00H  1\n",
      "  33  9.2436413e+03 3.08e-01 7.72e-05  -3.8 4.91e+00    -  1.00e+00 1.00e+00h  1\n",
      "  34  1.1597817e+04 4.82e-01 6.63e-03  -3.8 6.27e+00    -  1.00e+00 1.00e+00H  1\n",
      "  35  1.0171404e+04 4.13e-01 4.32e-04  -3.8 1.07e+01    -  1.00e+00 1.00e+00h  1\n",
      "  36  7.1128942e+03 4.52e+01 4.55e-03  -5.7 3.21e+01    -  1.00e+00 1.00e+00h  1\n",
      "  37  4.5881368e+03 8.41e+00 1.64e-03  -5.7 4.81e+00    -  1.00e+00 1.00e+00h  1\n",
      "  38  3.6214657e+03 5.36e+00 5.89e-04  -5.7 1.30e+01    -  1.00e+00 1.00e+00h  1\n",
      "  39  2.9215804e+03 8.15e+00 4.17e-04  -5.7 8.51e+00    -  1.00e+00 1.00e+00h  1\n",
      "iter    objective    inf_pr   inf_du lg(mu)  ||d||  lg(rg) alpha_du alpha_pr  ls\n",
      "  40  2.4310205e+03 6.66e+00 2.84e-04  -5.7 5.38e+00    -  1.00e+00 1.00e+00h  1\n",
      "  41  2.0328219e+03 6.91e+00 2.34e-04  -5.7 3.78e+00    -  1.00e+00 1.00e+00h  1\n",
      "  42  1.6992315e+03 5.95e+00 1.78e-04  -5.7 3.15e+00    -  1.00e+00 1.00e+00h  1\n",
      "  43  1.4152706e+03 6.03e+00 1.54e-04  -5.7 3.36e+00    -  1.00e+00 1.00e+00h  1\n",
      "  44  1.1737595e+03 5.05e+00 1.18e-04  -5.7 3.08e+00    -  1.00e+00 1.00e+00h  1\n",
      "  45  9.7153307e+02 5.10e+00 1.03e-04  -5.7 3.12e+00    -  1.00e+00 1.00e+00h  1\n",
      "  46  8.0122526e+02 4.10e+00 7.72e-05  -5.7 2.71e+00    -  1.00e+00 1.00e+00h  1\n",
      "  47  6.6200290e+02 4.20e+00 6.84e-05  -5.7 2.73e+00    -  1.00e+00 1.00e+00h  1\n",
      "  48  5.4559572e+02 3.20e+00 4.91e-05  -5.7 2.28e+00    -  1.00e+00 1.00e+00h  1\n",
      "  49  4.5311475e+02 3.37e+00 4.45e-05  -5.7 2.31e+00    -  1.00e+00 1.00e+00h  1\n",
      "iter    objective    inf_pr   inf_du lg(mu)  ||d||  lg(rg) alpha_du alpha_pr  ls\n",
      "  50  3.7581661e+02 2.37e+00 3.00e-05  -5.7 1.84e+00    -  1.00e+00 1.00e+00h  1\n",
      "  51  3.1669008e+02 2.63e+00 2.82e-05  -5.7 1.92e+00    -  1.00e+00 1.00e+00h  1\n",
      "  52  2.6679633e+02 1.63e+00 1.71e-05  -5.7 1.41e+00    -  1.00e+00 1.00e+00h  1\n",
      "  53  2.3057493e+02 1.95e+00 1.71e-05  -5.7 1.55e+00    -  1.00e+00 1.00e+00h  1\n",
      "  54  1.9945668e+02 9.84e-01 8.81e-06  -5.7 1.01e+00    -  1.00e+00 1.00e+00h  1\n",
      "  55  1.7824583e+02 1.29e+00 9.44e-06  -5.7 1.18e+00    -  1.00e+00 1.00e+00h  1\n",
      "  56  1.6012567e+02 4.75e-01 3.71e-06  -5.7 6.51e-01    -  1.00e+00 1.00e+00h  1\n",
      "  57  1.4843422e+02 6.18e-01 3.89e-06  -5.7 7.72e-01    -  1.00e+00 1.00e+00h  1\n",
      "  58  1.3993752e+02 1.40e-01 9.69e-07  -5.7 3.35e-01    -  1.00e+00 1.00e+00h  1\n",
      "  59  1.3538718e+02 9.67e-02 5.59e-07  -5.7 2.93e-01    -  1.00e+00 1.00e+00h  1\n",
      "iter    objective    inf_pr   inf_du lg(mu)  ||d||  lg(rg) alpha_du alpha_pr  ls\n",
      "  60  1.3381979e+02 5.92e-03 3.74e-08  -5.7 6.83e-02    -  1.00e+00 1.00e+00h  1\n",
      "  61  1.3361839e+02 1.61e-04 9.19e-10  -5.7 1.17e-02    -  1.00e+00 1.00e+00h  1\n",
      "  62  9.0897532e+01 7.79e-01 5.92e-05  -8.6 3.51e+00    -  1.00e+00 1.00e+00H  1\n",
      "  63  6.1631060e+01 1.92e-01 8.97e-06  -8.6 3.28e+00    -  1.00e+00 1.00e+00h  1\n",
      "  64  4.6656977e+01 6.22e-01 3.16e-06  -8.6 2.56e+00    -  1.00e+00 1.00e+00h  1\n",
      "  65  3.9779410e+01 7.11e-01 1.66e-06  -8.6 1.04e+00    -  1.00e+00 1.00e+00h  1\n",
      "  66  3.4696874e+01 5.75e-01 9.32e-07  -8.6 6.04e-01    -  1.00e+00 1.00e+00h  1\n",
      "  67  3.1303507e+01 4.28e-01 5.18e-07  -8.6 4.48e-01    -  1.00e+00 1.00e+00h  1\n",
      "  68  2.9055075e+01 2.78e-01 2.64e-07  -8.6 3.57e-01    -  1.00e+00 1.00e+00h  1\n",
      "  69  2.7661925e+01 1.51e-01 1.15e-07  -8.6 2.44e-01    -  1.00e+00 1.00e+00h  1\n",
      "iter    objective    inf_pr   inf_du lg(mu)  ||d||  lg(rg) alpha_du alpha_pr  ls\n",
      "  70  2.6843492e+01 5.67e-02 3.69e-08  -8.6 1.35e-01    -  1.00e+00 1.00e+00h  1\n",
      "  71  2.6480826e+01 9.64e-03 5.73e-09  -8.6 4.96e-02    -  1.00e+00 1.00e+00h  1\n",
      "  72  2.6411492e+01 2.86e-04 1.67e-10  -8.6 8.15e-03    -  1.00e+00 1.00e+00h  1\n",
      "  73  2.6409388e+01 2.42e-07 1.43e-13  -8.6 2.44e-04    -  1.00e+00 1.00e+00h  1\n",
      "  74  2.6409386e+01 1.84e-13 2.51e-14  -8.6 2.13e-07    -  1.00e+00 1.00e+00h  1\n",
      "  75  2.6404866e+01 1.32e-04 1.77e-09 -12.9 4.62e-02    -  1.00e+00 1.00e+00H  1\n",
      "  76  2.6403948e+01 4.97e-06 4.63e-12 -12.9 1.96e-03    -  1.00e+00 1.00e+00h  1\n",
      "\n",
      "Number of Iterations....: 76\n",
      "\n",
      "                                   (scaled)                 (unscaled)\n",
      "Objective...............:   2.6403948350105938e-07    2.6403948350105939e+01\n",
      "Dual infeasibility......:   4.6266696844170170e-12    4.6266696844170170e-04\n",
      "Constraint violation....:   3.7925663233821447e-09    4.9709925313834447e-06\n",
      "Variable bound violation:   0.0000000000000000e+00    0.0000000000000000e+00\n",
      "Complementarity.........:   1.7459891149014958e-13    1.7459891149014956e-05\n",
      "Overall NLP error.......:   3.7925663233821447e-09    4.6266696844170170e-04\n",
      "\n",
      "\n",
      "Number of objective function evaluations             = 85\n",
      "Number of objective gradient evaluations             = 77\n",
      "Number of equality constraint evaluations            = 85\n",
      "Number of inequality constraint evaluations          = 85\n",
      "Number of equality constraint Jacobian evaluations   = 77\n",
      "Number of inequality constraint Jacobian evaluations = 77\n",
      "Number of Lagrangian Hessian evaluations             = 76\n",
      "Total seconds in IPOPT                               = 0.070\n",
      "\n",
      "EXIT: Optimal Solution Found.\n",
      "      solver  :   t_proc      (avg)   t_wall      (avg)    n_eval\n",
      "       nlp_f  | 415.00us (  4.88us) 442.32us (  5.20us)        85\n",
      "       nlp_g  | 611.00us (  7.19us) 502.23us (  5.91us)        85\n",
      "  nlp_grad_f  | 671.00us (  8.60us) 635.43us (  8.15us)        78\n",
      "  nlp_hess_l  |   2.22ms ( 29.22us)   2.27ms ( 29.83us)        76\n",
      "   nlp_jac_g  |   1.06ms ( 13.53us)   1.11ms ( 14.22us)        78\n",
      "       total  |  69.83ms ( 69.83ms)  69.99ms ( 69.99ms)         1\n"
     ]
    }
   ],
   "source": [
    "opti_SS.solver('ipopt')\n",
    "sol_SS = opti_SS.solve()"
   ]
  },
  {
   "cell_type": "code",
   "execution_count": 11,
   "id": "f2d39ad6-1b46-419b-987f-f11608e06bc5",
   "metadata": {},
   "outputs": [
    {
     "data": {
      "text/plain": [
       "array([-2.70380008, -0.54298561,  0.26123341,  0.58403084])"
      ]
     },
     "execution_count": 11,
     "metadata": {},
     "output_type": "execute_result"
    }
   ],
   "source": [
    "sol_SS.value(U)"
   ]
  },
  {
   "cell_type": "code",
   "execution_count": 12,
   "id": "8f884ef8-f0cc-4ddf-91b8-92a1c4360a4c",
   "metadata": {},
   "outputs": [],
   "source": [
    "assert_array_almost_equal(sol_SS.value(U), [-2.7038, -0.5430, 0.2613, 0.5840], decimal=4)"
   ]
  },
  {
   "cell_type": "markdown",
   "id": "15b01bbe-e0f2-418f-b863-a6ed660efb54",
   "metadata": {},
   "source": [
    "## 3. Plot sparsities of the constraint Jacobian and Hessian"
   ]
  },
  {
   "cell_type": "markdown",
   "id": "f1b0927f-424c-4a64-9e36-f50a99fa5373",
   "metadata": {},
   "source": [
    "### Constraint Jacobian"
   ]
  },
  {
   "cell_type": "code",
   "execution_count": 13,
   "id": "d682f4d4-b4fe-40bf-96d9-624b672bc9c0",
   "metadata": {},
   "outputs": [
    {
     "data": {
      "text/plain": [
       "(4, 4)"
      ]
     },
     "execution_count": 13,
     "metadata": {},
     "output_type": "execute_result"
    }
   ],
   "source": [
    "constraint_J_SS = jacobian(opti_SS.g, opti_SS.x)\n",
    "constraint_J_SS.shape"
   ]
  },
  {
   "cell_type": "code",
   "execution_count": 14,
   "id": "d42463d2-ed62-4fc8-9369-e48516aa5fb4",
   "metadata": {},
   "outputs": [
    {
     "name": "stdout",
     "output_type": "stream",
     "text": [
      "*...\n",
      "**..\n",
      "***.\n",
      "****\n"
     ]
    }
   ],
   "source": [
    "constraint_J_SS.sparsity().spy()"
   ]
  },
  {
   "cell_type": "markdown",
   "id": "dd2b0345-0452-4f40-94ce-18002fe7724a",
   "metadata": {},
   "source": [
    "\\begin{aligned}\n",
    "x_1 \\ge 0 \\\\\n",
    "F(x_1, u_1) \\ge 0 \\\\\n",
    "F(F(x_1, u_1), u_2) \\ge 0 \\\\\n",
    "F(F(F(x_1, u_1), u_2), u_3) \\ge 0 \\\\\n",
    "\\end{aligned}"
   ]
  },
  {
   "cell_type": "code",
   "execution_count": 15,
   "id": "4b7ceec7-c956-41c7-b54a-d47cba2a53fd",
   "metadata": {},
   "outputs": [
    {
     "data": {
      "text/plain": [
       "(9, 9)"
      ]
     },
     "execution_count": 15,
     "metadata": {},
     "output_type": "execute_result"
    }
   ],
   "source": [
    "constraint_J_MS = jacobian(opti_MS.g, opti_MS.x)\n",
    "constraint_J_MS.shape"
   ]
  },
  {
   "cell_type": "code",
   "execution_count": 16,
   "id": "89caf6d8-9139-4762-ae70-f3fb006de9be",
   "metadata": {},
   "outputs": [
    {
     "name": "stdout",
     "output_type": "stream",
     "text": [
      "**...*...\n",
      ".**...*..\n",
      "..**...*.\n",
      "...**...*\n",
      "*........\n",
      ".*.......\n",
      "..*......\n",
      "...*.....\n",
      "....*....\n"
     ]
    }
   ],
   "source": [
    "constraint_J_MS.sparsity().spy()"
   ]
  },
  {
   "cell_type": "markdown",
   "id": "7dc03567-29c1-4e0c-b3a7-52ad707efab3",
   "metadata": {},
   "source": [
    "This is made up of both path constraint and gap-closing constraints:\n",
    "\n",
    "\\begin{aligned}\n",
    "F(x_k, u_k) - x_{k+1} = 0 \\\\\n",
    "x_k \\ge 0\n",
    "\\end{aligned}\n",
    "\n",
    "Analyse terms of constraint Jacobian. Let $g_k = F(x_k, u_k) - x_{k+1}$\n",
    "\n",
    "Non-zero terms relating to gap constraints:\n",
    "\n",
    "\\begin{aligned}\n",
    "\\frac{\\partial g_k}{\\partial x_{k+1}} = -1 \\\\\n",
    "\\frac{\\partial g_k}{\\partial x_k} = \\frac{\\partial F}{\\partial x_k} \\\\\n",
    "\\frac{\\partial g_k}{\\partial u_k} = \\frac{\\partial F}{\\partial u_k}\n",
    "\\end{aligned}\n",
    "\n",
    "Path constraints are just the diagonal elements:\n",
    "\n",
    "\\begin{aligned}\n",
    "\\frac{\\partial g_k}{\\partial x_{k}} = 1\n",
    "\\end{aligned}"
   ]
  },
  {
   "cell_type": "markdown",
   "id": "360b7904-b00e-47ab-b844-2220a9b128cd",
   "metadata": {},
   "source": [
    "### Hessian"
   ]
  },
  {
   "cell_type": "code",
   "execution_count": 17,
   "id": "957494ec-a7c1-45ed-ade1-bab62fe9ad58",
   "metadata": {},
   "outputs": [
    {
     "data": {
      "text/plain": [
       "((1, 1), (4, 1))"
      ]
     },
     "execution_count": 17,
     "metadata": {},
     "output_type": "execute_result"
    }
   ],
   "source": [
    "opti_SS.f.shape, opti_SS.x.shape"
   ]
  },
  {
   "cell_type": "code",
   "execution_count": 18,
   "id": "259a6048-67e3-4214-b43b-0f392936d3af",
   "metadata": {},
   "outputs": [
    {
     "data": {
      "text/plain": [
       "(4, 4)"
      ]
     },
     "execution_count": 18,
     "metadata": {},
     "output_type": "execute_result"
    }
   ],
   "source": [
    "H_SS = hessian(opti_SS.f, opti_SS.x)[0]\n",
    "H_SS.shape"
   ]
  },
  {
   "cell_type": "code",
   "execution_count": 19,
   "id": "0c1c0970-277b-4880-b315-c965cbd317f6",
   "metadata": {},
   "outputs": [
    {
     "name": "stdout",
     "output_type": "stream",
     "text": [
      "****\n",
      "****\n",
      "****\n",
      "****\n"
     ]
    }
   ],
   "source": [
    "H_SS.sparsity().spy()"
   ]
  },
  {
   "cell_type": "markdown",
   "id": "da6cafdb-3295-4efa-9215-b71a22a8f579",
   "metadata": {},
   "source": [
    "In single-shooting, the future states are dependent on the inputs in all previous time steps so the Hessian has many cross-terms (i.e. dense). The way the objective is defined, the relationship between f and u is highly non-linear and therefore all the terms in the Hessian are non-zero.\n",
    "\n",
    "\\begin{aligned}\n",
    "x_5 \\leftarrow F(F(F(x_1, u_1), u_2), u_3), u_4)\n",
    "\\end{aligned}\n",
    "\n",
    "All inputs have an effect.  Everything is coupled.\n",
    "\n",
    "$$\\frac{\\partial^2 x_5}{\\partial(u_1, u_2, u_3, u_4)}$$\n",
    "\n",
    "Therefore all elements are non-zero.  (Whole trajectory affects the outcome.)"
   ]
  },
  {
   "cell_type": "code",
   "execution_count": 20,
   "id": "0f700619-3c05-4a7d-b7f9-5888f9a70427",
   "metadata": {},
   "outputs": [
    {
     "data": {
      "text/plain": [
       "((1, 1), (9, 1))"
      ]
     },
     "execution_count": 20,
     "metadata": {},
     "output_type": "execute_result"
    }
   ],
   "source": [
    "opti_MS.f.shape, opti_MS.x.shape"
   ]
  },
  {
   "cell_type": "code",
   "execution_count": 21,
   "id": "f91abf44-54d1-49e7-8abf-c5eae0e37998",
   "metadata": {},
   "outputs": [
    {
     "data": {
      "text/plain": [
       "(9, 9)"
      ]
     },
     "execution_count": 21,
     "metadata": {},
     "output_type": "execute_result"
    }
   ],
   "source": [
    "H_MS = hessian(opti_MS.f, opti_MS.x)[0]\n",
    "H_MS.shape"
   ]
  },
  {
   "cell_type": "code",
   "execution_count": 22,
   "id": "35d642cb-0c0a-46c1-94fa-5fa681034549",
   "metadata": {},
   "outputs": [
    {
     "name": "stdout",
     "output_type": "stream",
     "text": [
      "*........\n",
      ".*.......\n",
      "..*......\n",
      "...*.....\n",
      "....*....\n",
      ".....*...\n",
      "......*..\n",
      ".......*.\n",
      "........*\n"
     ]
    }
   ],
   "source": [
    "H_MS.sparsity().spy()"
   ]
  },
  {
   "attachments": {},
   "cell_type": "markdown",
   "id": "ece62147-dfdb-48da-941b-3f26aabb9f77",
   "metadata": {},
   "source": [
    "In multiple-shooting there are more decision variables but each decision variable is independent (no complex dependencies) and the objective is a sum-of-squared terms, therefore the Hessian is sparse (diagonal).\n",
    "\n",
    "$$\n",
    "F(x_k, u_k) = \\sum_{k=1}^n {x_k^2} + = \\sum_{k=1}^n {u_k^2}\n",
    "$$"
   ]
  },
  {
   "cell_type": "markdown",
   "id": "7d4db753-85d2-4d4c-a0b7-d448015337c0",
   "metadata": {},
   "source": [
    "## 4. Banded constraint Jacobian"
   ]
  },
  {
   "cell_type": "code",
   "execution_count": 23,
   "id": "77d7af9d-e051-4356-a467-02a8796c09bc",
   "metadata": {},
   "outputs": [],
   "source": [
    "# To make the constraint Jacobian more banded, arrange the xk and uk terms next to each other:\n",
    "\n",
    "opti_MS = Opti()\n",
    "x0 = opti_MS.variable()\n",
    "opti_MS.subject_to(x0==2)\n",
    "\n",
    "U = []\n",
    "X = [x0]\n",
    "for k in range(1, N + 1):\n",
    "    xkm1 = X[k-1]\n",
    "    uk = opti_MS.variable()\n",
    "    xk = opti_MS.variable()\n",
    "    opti_MS.subject_to(F(xkm1, uk) == xk)\n",
    "    if k < N:\n",
    "        opti_MS.subject_to(xk >= 0)\n",
    "    U.append(uk)\n",
    "    X.append(xk)\n",
    "opti_MS.subject_to(X[-1] == 3)\n",
    "\n",
    "U = vcat(U)\n",
    "X = vcat(X)"
   ]
  },
  {
   "cell_type": "code",
   "execution_count": 24,
   "id": "99e0d7c9-7679-4325-ae48-2222807083a5",
   "metadata": {},
   "outputs": [
    {
     "name": "stdout",
     "output_type": "stream",
     "text": [
      "This is Ipopt version 3.14.11, running with linear solver MUMPS 5.4.1.\n",
      "\n",
      "Number of nonzeros in equality constraint Jacobian...:       14\n",
      "Number of nonzeros in inequality constraint Jacobian.:        3\n",
      "Number of nonzeros in Lagrangian Hessian.............:        9\n",
      "\n",
      "Total number of variables............................:        9\n",
      "                     variables with only lower bounds:        0\n",
      "                variables with lower and upper bounds:        0\n",
      "                     variables with only upper bounds:        0\n",
      "Total number of equality constraints.................:        6\n",
      "Total number of inequality constraints...............:        3\n",
      "        inequality constraints with only lower bounds:        3\n",
      "   inequality constraints with lower and upper bounds:        0\n",
      "        inequality constraints with only upper bounds:        0\n",
      "\n",
      "iter    objective    inf_pr   inf_du lg(mu)  ||d||  lg(rg) alpha_du alpha_pr  ls\n",
      "   0  0.0000000e+00 3.00e+00 3.33e-01  -1.0 0.00e+00    -  0.00e+00 0.00e+00   0\n",
      "   1  2.2067702e+01 4.00e+00 1.27e+00  -1.0 3.00e+00    -  1.00e+00 1.00e+00h  1\n",
      "   2  3.0648677e+01 1.74e+00 2.68e+02  -1.0 2.68e+00   2.0 9.23e-02 1.00e+00h  1\n",
      "   3  3.2118180e+01 1.20e-01 1.70e+01  -1.0 5.11e-01   1.5 1.00e+00 1.00e+00h  1\n",
      "   4  3.2052739e+01 1.31e-02 1.27e+00  -1.0 1.14e-01   1.0 1.00e+00 1.00e+00h  1\n",
      "   5  3.0816662e+01 4.33e-01 2.48e+00  -1.0 6.58e-01   0.6 7.86e-01 1.00e+00f  1\n",
      "   6  3.0118972e+01 1.66e+00 9.23e+00  -1.0 1.74e+01    -  7.52e-02 1.25e-01f  4\n",
      "   7  2.6875193e+01 4.60e-01 1.15e+00  -1.0 6.78e-01    -  1.00e+00 1.00e+00f  1\n",
      "   8  2.6431815e+01 3.53e-02 5.75e-02  -1.0 1.88e-01    -  1.00e+00 1.00e+00h  1\n",
      "   9  2.6404168e+01 4.49e-04 7.88e-04  -2.5 2.12e-02    -  1.00e+00 1.00e+00h  1\n",
      "iter    objective    inf_pr   inf_du lg(mu)  ||d||  lg(rg) alpha_du alpha_pr  ls\n",
      "  10  2.6403913e+01 4.54e-07 2.20e-06  -3.8 8.17e-04    -  1.00e+00 1.00e+00h  1\n",
      "  11  2.6403913e+01 2.97e-10 2.09e-09  -5.7 3.04e-05    -  1.00e+00 1.00e+00h  1\n",
      "  12  2.6403913e+01 4.26e-14 3.04e-13  -8.6 3.68e-07    -  1.00e+00 1.00e+00h  1\n",
      "\n",
      "Number of Iterations....: 12\n",
      "\n",
      "                                   (scaled)                 (unscaled)\n",
      "Objective...............:   2.6403912716984614e+01    2.6403912716984614e+01\n",
      "Dual infeasibility......:   3.0375701953744283e-13    3.0375701953744283e-13\n",
      "Constraint violation....:   4.2632564145606011e-14    4.2632564145606011e-14\n",
      "Variable bound violation:   0.0000000000000000e+00    0.0000000000000000e+00\n",
      "Complementarity.........:   2.5062383967614809e-09    2.5062383967614809e-09\n",
      "Overall NLP error.......:   2.5062383967614809e-09    2.5062383967614809e-09\n",
      "\n",
      "\n",
      "Number of objective function evaluations             = 18\n",
      "Number of objective gradient evaluations             = 13\n",
      "Number of equality constraint evaluations            = 18\n",
      "Number of inequality constraint evaluations          = 18\n",
      "Number of equality constraint Jacobian evaluations   = 13\n",
      "Number of inequality constraint Jacobian evaluations = 13\n",
      "Number of Lagrangian Hessian evaluations             = 12\n",
      "Total seconds in IPOPT                               = 0.012\n",
      "\n",
      "EXIT: Optimal Solution Found.\n",
      "      solver  :   t_proc      (avg)   t_wall      (avg)    n_eval\n",
      "       nlp_f  |  57.00us (  3.17us)  55.63us (  3.09us)        18\n",
      "       nlp_g  | 137.00us (  7.61us) 120.81us (  6.71us)        18\n",
      "  nlp_grad_f  |  96.00us (  6.86us)  60.30us (  4.31us)        14\n",
      "  nlp_hess_l  | 109.00us (  9.08us) 108.65us (  9.05us)        12\n",
      "   nlp_jac_g  | 190.00us ( 13.57us) 179.67us ( 12.83us)        14\n",
      "       total  |  13.04ms ( 13.04ms)  12.09ms ( 12.09ms)         1\n",
      "[-2.70380638 -0.54297936  0.26125189  0.58403971]\n"
     ]
    }
   ],
   "source": [
    "opti_MS.minimize(sumsqr(U) + sumsqr(X))\n",
    "\n",
    "opti_MS.solver('ipopt')\n",
    "sol_MS = opti_MS.solve()\n",
    "\n",
    "Usol = sol_MS.value(U) # should be [-2.7038;-0.5430;0.2613;0.5840]\n",
    "print(Usol)"
   ]
  },
  {
   "cell_type": "markdown",
   "id": "30020881-f348-451d-8cc6-7334bf139d1d",
   "metadata": {},
   "source": [
    "***In fact the ordering didn't affected the convergence. (IPOPT re-orders it for you anyway).***"
   ]
  },
  {
   "cell_type": "code",
   "execution_count": 25,
   "id": "5e452a73-d679-40a6-8e58-f4ea8ad65b0d",
   "metadata": {},
   "outputs": [],
   "source": [
    "assert_array_almost_equal(sol_MS.value(U), [-2.7038, -0.5430, 0.2613, 0.5840], decimal=4)"
   ]
  },
  {
   "cell_type": "code",
   "execution_count": 26,
   "id": "c4fa97a1-0222-434e-8be1-3b3be3004514",
   "metadata": {},
   "outputs": [
    {
     "data": {
      "text/plain": [
       "(9, 9)"
      ]
     },
     "execution_count": 26,
     "metadata": {},
     "output_type": "execute_result"
    }
   ],
   "source": [
    "constraint_J_MS = jacobian(opti_MS.g, opti_MS.x)\n",
    "constraint_J_MS.shape"
   ]
  },
  {
   "cell_type": "code",
   "execution_count": 27,
   "id": "6d81d857-dff2-4f5a-97ef-9f83fb76877b",
   "metadata": {},
   "outputs": [
    {
     "name": "stdout",
     "output_type": "stream",
     "text": [
      "*........\n",
      "***......\n",
      "..*......\n",
      "..***....\n",
      "....*....\n",
      "....***..\n",
      "......*..\n",
      "......***\n",
      "........*\n"
     ]
    }
   ],
   "source": [
    "constraint_J_MS.sparsity().spy()"
   ]
  },
  {
   "cell_type": "markdown",
   "id": "4bf330af-6350-4348-9538-40d545903e79",
   "metadata": {},
   "source": [
    "This is closer to the diagonal"
   ]
  },
  {
   "cell_type": "code",
   "execution_count": 28,
   "id": "dd749fee-1c61-4467-913d-511b3409d195",
   "metadata": {},
   "outputs": [
    {
     "data": {
      "text/plain": [
       "(9, 9)"
      ]
     },
     "execution_count": 28,
     "metadata": {},
     "output_type": "execute_result"
    }
   ],
   "source": [
    "H_MS = hessian(opti_MS.f, opti_MS.x)[0]\n",
    "H_MS.shape"
   ]
  },
  {
   "cell_type": "code",
   "execution_count": 29,
   "id": "1f9f879e-6da5-4dbd-952a-651086f3e005",
   "metadata": {},
   "outputs": [
    {
     "name": "stdout",
     "output_type": "stream",
     "text": [
      "*........\n",
      ".*.......\n",
      "..*......\n",
      "...*.....\n",
      "....*....\n",
      ".....*...\n",
      "......*..\n",
      ".......*.\n",
      "........*\n"
     ]
    }
   ],
   "source": [
    "H_MS.sparsity().spy()"
   ]
  },
  {
   "cell_type": "markdown",
   "id": "b6b72caa-9cec-4b12-bcbb-7a19cab4e551",
   "metadata": {},
   "source": [
    "## 5. Which transcription scales best for large N?"
   ]
  },
  {
   "cell_type": "markdown",
   "id": "7cdc7835-124b-4d74-bf05-0afdf796a091",
   "metadata": {},
   "source": [
    "When working with Newton-based solvers we are going to invert or factorize KKT systems, which consist of the hessian and constraint Jacobian:\n",
    "\n",
    "\\begin{aligned}\n",
    "\\left[\n",
    "\\begin{matrix}\n",
    "\\nabla^2 \\mathcal{L} & \\frac{\\partial g}{\\partial x}^\\mathsf{T} \\\\\n",
    "\\frac{\\partial g}{\\partial x}^\\mathsf{T} & 0\n",
    "\\end{matrix}\n",
    "\\right]\n",
    "\\end{aligned}\n",
    "\n",
    "Depending on sparsity of these components the factorization may be very cheap or very expensive.\n",
    "\n",
    "Inverting a dense system of shape $N$-by-$N$ costs $O(N^3)$.  So if the Hessian and/or constraint Jacobian are dense, this gets very expensive for large $N$ (e.g. during system identification).\n",
    "\n",
    "Solvers can take advantage of the sparsity of the Hessian in multiple-shooting (MS) and so it scales better to long time horizons (i.e. large $N$).\n",
    "\n",
    "So in multiple shooting you can get a linear scaling of the complexity: $O(N)$, if the variables are well ordered (repeating small blocks along the diagonal)."
   ]
  },
  {
   "cell_type": "markdown",
   "id": "be05c965-b14c-4c7a-8b8c-5f14d2a5d5b8",
   "metadata": {},
   "source": [
    "## 6. Numerical values of the constraint Jacobian at initialization"
   ]
  },
  {
   "cell_type": "code",
   "execution_count": 30,
   "id": "8deaaac3-133e-4802-83e9-15e5ab87b1b2",
   "metadata": {},
   "outputs": [
    {
     "data": {
      "text/plain": [
       "array([[ 1.,  0.,  0.,  0.,  0.,  0.,  0.,  0.,  0.],\n",
       "       [ 0.,  1., -1.,  0.,  0.,  0.,  0.,  0.,  0.],\n",
       "       [ 0.,  0.,  1.,  0.,  0.,  0.,  0.,  0.,  0.],\n",
       "       [ 0.,  0.,  0.,  1., -1.,  0.,  0.,  0.,  0.],\n",
       "       [ 0.,  0.,  0.,  0.,  1.,  0.,  0.,  0.,  0.],\n",
       "       [ 0.,  0.,  0.,  0.,  0.,  1., -1.,  0.,  0.],\n",
       "       [ 0.,  0.,  0.,  0.,  0.,  0.,  1.,  0.,  0.],\n",
       "       [ 0.,  0.,  0.,  0.,  0.,  0.,  0.,  1., -1.],\n",
       "       [ 0.,  0.,  0.,  0.,  0.,  0.,  0.,  0.,  1.]])"
      ]
     },
     "execution_count": 30,
     "metadata": {},
     "output_type": "execute_result"
    }
   ],
   "source": [
    "sol_MS.value(constraint_J_MS, opti_MS.initial()).toarray()"
   ]
  },
  {
   "cell_type": "code",
   "execution_count": 31,
   "id": "644a38a6-d562-497d-938a-7cc8b54823a4",
   "metadata": {},
   "outputs": [
    {
     "data": {
      "text/plain": [
       "array([[1.00000e+00, 0.00000e+00, 0.00000e+00, 0.00000e+00],\n",
       "       [8.00000e+00, 1.00000e+00, 0.00000e+00, 0.00000e+00],\n",
       "       [2.56000e+02, 3.20000e+01, 1.00000e+00, 0.00000e+00],\n",
       "       [1.31072e+05, 1.63840e+04, 5.12000e+02, 1.00000e+00]])"
      ]
     },
     "execution_count": 31,
     "metadata": {},
     "output_type": "execute_result"
    }
   ],
   "source": [
    "sol_SS.value(constraint_J_SS, opti_SS.initial()).toarray()"
   ]
  },
  {
   "cell_type": "markdown",
   "id": "af0d1bd9-9632-4e0a-8c44-72a9f47e2d7d",
   "metadata": {},
   "source": [
    "For single-shooting (SS) the initial values of the states can get high (especially if for example, the system is unstable), therefore initialization can be tricky unless you already have a reasonable intitial solution.\n",
    "\n",
    "In multiple-shooting the simulation is restarted at each step so the system is less likely to 'blow-up'. (From a mathematical perspective, system is better 'conditioned')."
   ]
  },
  {
   "cell_type": "markdown",
   "id": "25478c41-bacd-40ea-a77a-26594324eac6",
   "metadata": {},
   "source": [
    "## 7. Construct the KKT matrix"
   ]
  },
  {
   "cell_type": "markdown",
   "id": "f5c1665f-cd80-4d55-87ce-bf0519f8e7ec",
   "metadata": {},
   "source": [
    "### Multiple shooting"
   ]
  },
  {
   "cell_type": "code",
   "execution_count": 32,
   "id": "7930255a-611d-4a99-b86a-85acffc05a21",
   "metadata": {},
   "outputs": [
    {
     "data": {
      "text/plain": [
       "(1, 1)"
      ]
     },
     "execution_count": 32,
     "metadata": {},
     "output_type": "execute_result"
    }
   ],
   "source": [
    "lag_MS = opti_MS.f + opti_MS.lam_g.T @ opti_MS.g\n",
    "lag_MS.shape"
   ]
  },
  {
   "cell_type": "code",
   "execution_count": 33,
   "id": "3087d43c-35bb-4661-9ff5-7f3fe0b52e7a",
   "metadata": {},
   "outputs": [
    {
     "data": {
      "text/plain": [
       "(9, 9)"
      ]
     },
     "execution_count": 33,
     "metadata": {},
     "output_type": "execute_result"
    }
   ],
   "source": [
    "G_MS = jacobian(opti_MS.g, opti_MS.x)\n",
    "G_MS.shape"
   ]
  },
  {
   "cell_type": "code",
   "execution_count": 34,
   "id": "4c4a0deb-c8a8-41f9-98c8-68449877d209",
   "metadata": {},
   "outputs": [
    {
     "data": {
      "text/plain": [
       "DM(\n",
       "[[00, 00, 00, 00, 00, 00, 00, 00, 00], \n",
       " [00, 00, 00, 00, 00, 00, 00, 00, 00], \n",
       " [00, 00, 00, 00, 00, 00, 00, 00, 00], \n",
       " [00, 00, 00, 00, 00, 00, 00, 00, 00], \n",
       " [00, 00, 00, 00, 00, 00, 00, 00, 00], \n",
       " [00, 00, 00, 00, 00, 00, 00, 00, 00], \n",
       " [00, 00, 00, 00, 00, 00, 00, 00, 00], \n",
       " [00, 00, 00, 00, 00, 00, 00, 00, 00], \n",
       " [00, 00, 00, 00, 00, 00, 00, 00, 00]])"
      ]
     },
     "execution_count": 34,
     "metadata": {},
     "output_type": "execute_result"
    }
   ],
   "source": [
    "DM(opti_MS.ng, opti_MS.ng)"
   ]
  },
  {
   "cell_type": "code",
   "execution_count": 35,
   "id": "90a16dc8-64ac-4d12-ad19-a78f9bf9632c",
   "metadata": {},
   "outputs": [
    {
     "data": {
      "text/plain": [
       "(18, 18)"
      ]
     },
     "execution_count": 35,
     "metadata": {},
     "output_type": "execute_result"
    }
   ],
   "source": [
    "KKT_MS = blockcat([\n",
    "    [hessian(lag_MS, opti_MS.x)[0], G_MS.T],\n",
    "    [G_MS.T, DM(opti_MS.ng, opti_MS.ng)]\n",
    "])\n",
    "KKT_MS.shape"
   ]
  },
  {
   "cell_type": "code",
   "execution_count": 36,
   "id": "42140490-44ed-4c63-9259-a018587d07f3",
   "metadata": {},
   "outputs": [
    {
     "data": {
      "text/plain": [
       "<18x18 sparse matrix of type '<class 'numpy.float64'>'\n",
       "\twith 43 stored elements in Compressed Sparse Column format>"
      ]
     },
     "execution_count": 36,
     "metadata": {},
     "output_type": "execute_result"
    }
   ],
   "source": [
    "KKT_MS_t0 = sol_MS.value(KKT_MS, opti_MS.initial())\n",
    "KKT_MS_t0"
   ]
  },
  {
   "cell_type": "code",
   "execution_count": 37,
   "id": "a42de2d3-69ed-476e-a03e-ac227d59eb0a",
   "metadata": {},
   "outputs": [
    {
     "data": {
      "text/plain": [
       "array([[1, 0, 0, 0, 0, 0, 0, 0, 0, 1, 0, 0, 0, 0, 0, 0, 0, 0],\n",
       "       [0, 1, 0, 0, 0, 0, 0, 0, 0, 0, 1, 0, 0, 0, 0, 0, 0, 0],\n",
       "       [0, 0, 1, 0, 0, 0, 0, 0, 0, 0, 1, 1, 0, 0, 0, 0, 0, 0],\n",
       "       [0, 0, 0, 1, 0, 0, 0, 0, 0, 0, 0, 0, 1, 0, 0, 0, 0, 0],\n",
       "       [0, 0, 0, 0, 1, 0, 0, 0, 0, 0, 0, 0, 1, 1, 0, 0, 0, 0],\n",
       "       [0, 0, 0, 0, 0, 1, 0, 0, 0, 0, 0, 0, 0, 0, 1, 0, 0, 0],\n",
       "       [0, 0, 0, 0, 0, 0, 1, 0, 0, 0, 0, 0, 0, 0, 1, 1, 0, 0],\n",
       "       [0, 0, 0, 0, 0, 0, 0, 1, 0, 0, 0, 0, 0, 0, 0, 0, 1, 0],\n",
       "       [0, 0, 0, 0, 0, 0, 0, 0, 1, 0, 0, 0, 0, 0, 0, 0, 1, 1],\n",
       "       [1, 0, 0, 0, 0, 0, 0, 0, 0, 0, 0, 0, 0, 0, 0, 0, 0, 0],\n",
       "       [0, 1, 0, 0, 0, 0, 0, 0, 0, 0, 0, 0, 0, 0, 0, 0, 0, 0],\n",
       "       [0, 1, 1, 0, 0, 0, 0, 0, 0, 0, 0, 0, 0, 0, 0, 0, 0, 0],\n",
       "       [0, 0, 0, 1, 0, 0, 0, 0, 0, 0, 0, 0, 0, 0, 0, 0, 0, 0],\n",
       "       [0, 0, 0, 1, 1, 0, 0, 0, 0, 0, 0, 0, 0, 0, 0, 0, 0, 0],\n",
       "       [0, 0, 0, 0, 0, 1, 0, 0, 0, 0, 0, 0, 0, 0, 0, 0, 0, 0],\n",
       "       [0, 0, 0, 0, 0, 1, 1, 0, 0, 0, 0, 0, 0, 0, 0, 0, 0, 0],\n",
       "       [0, 0, 0, 0, 0, 0, 0, 1, 0, 0, 0, 0, 0, 0, 0, 0, 0, 0],\n",
       "       [0, 0, 0, 0, 0, 0, 0, 1, 1, 0, 0, 0, 0, 0, 0, 0, 0, 0]])"
      ]
     },
     "execution_count": 37,
     "metadata": {},
     "output_type": "execute_result"
    }
   ],
   "source": [
    "(KKT_MS_t0 != 0.).toarray().astype(int)"
   ]
  },
  {
   "cell_type": "code",
   "execution_count": 38,
   "id": "a23249b7-3d7b-4b0c-b9a8-eb649911bfe0",
   "metadata": {},
   "outputs": [
    {
     "data": {
      "text/plain": [
       "15.273975133310701"
      ]
     },
     "execution_count": 38,
     "metadata": {},
     "output_type": "execute_result"
    }
   ],
   "source": [
    "np.linalg.cond(KKT_MS_t0.toarray())"
   ]
  },
  {
   "cell_type": "markdown",
   "id": "8bd6ca97-dbb1-40b8-b98a-ea181c232f14",
   "metadata": {},
   "source": [
    "### Single shooting"
   ]
  },
  {
   "cell_type": "code",
   "execution_count": 39,
   "id": "d73f107e-60b0-4355-a2ad-503f50761fd4",
   "metadata": {},
   "outputs": [
    {
     "data": {
      "text/plain": [
       "(1, 1)"
      ]
     },
     "execution_count": 39,
     "metadata": {},
     "output_type": "execute_result"
    }
   ],
   "source": [
    "lag_SS = opti_SS.f + opti_SS.lam_g.T @ opti_SS.g\n",
    "lag_SS.shape"
   ]
  },
  {
   "cell_type": "code",
   "execution_count": 40,
   "id": "43e56ee1-3de0-4da2-b2d6-e728a494f916",
   "metadata": {},
   "outputs": [
    {
     "data": {
      "text/plain": [
       "(4, 4)"
      ]
     },
     "execution_count": 40,
     "metadata": {},
     "output_type": "execute_result"
    }
   ],
   "source": [
    "G_SS = jacobian(opti_SS.g,opti_SS.x)\n",
    "G_SS.shape"
   ]
  },
  {
   "cell_type": "code",
   "execution_count": 41,
   "id": "7e6c64c3-6fcc-4016-912d-8f9b2e37fdf9",
   "metadata": {},
   "outputs": [
    {
     "data": {
      "text/plain": [
       "(8, 8)"
      ]
     },
     "execution_count": 41,
     "metadata": {},
     "output_type": "execute_result"
    }
   ],
   "source": [
    "KKT_SS = blockcat([[hessian(lag_SS,opti_SS.x)[0],G_SS.T],[G_SS,DM(opti_SS.ng,opti_SS.ng)]])\n",
    "KKT_SS.shape"
   ]
  },
  {
   "cell_type": "code",
   "execution_count": 42,
   "id": "17b2f82c-51dd-4ba3-8428-72e0487d2cbc",
   "metadata": {},
   "outputs": [
    {
     "data": {
      "text/plain": [
       "<8x8 sparse matrix of type '<class 'numpy.float64'>'\n",
       "\twith 36 stored elements in Compressed Sparse Column format>"
      ]
     },
     "execution_count": 42,
     "metadata": {},
     "output_type": "execute_result"
    }
   ],
   "source": [
    "KKT_SS_t0 = sol_SS.value(KKT_SS, opti_SS.initial())\n",
    "KKT_SS_t0"
   ]
  },
  {
   "cell_type": "code",
   "execution_count": 43,
   "id": "6784ab58-eba4-4cdf-88cb-4dcfd0a20c0c",
   "metadata": {},
   "outputs": [
    {
     "data": {
      "text/plain": [
       "array([[1, 1, 1, 1, 1, 1, 1, 1],\n",
       "       [1, 1, 1, 1, 0, 1, 1, 1],\n",
       "       [1, 1, 1, 1, 0, 0, 1, 1],\n",
       "       [1, 1, 1, 1, 0, 0, 0, 1],\n",
       "       [1, 0, 0, 0, 0, 0, 0, 0],\n",
       "       [1, 1, 0, 0, 0, 0, 0, 0],\n",
       "       [1, 1, 1, 0, 0, 0, 0, 0],\n",
       "       [1, 1, 1, 1, 0, 0, 0, 0]])"
      ]
     },
     "execution_count": 43,
     "metadata": {},
     "output_type": "execute_result"
    }
   ],
   "source": [
    "(KKT_SS_t0 != 0.).toarray().astype(int)"
   ]
  },
  {
   "cell_type": "code",
   "execution_count": 44,
   "id": "05c00ee3-24a6-4721-a2ba-7660745369f7",
   "metadata": {},
   "outputs": [
    {
     "data": {
      "text/plain": [
       "array([[ 10.8,   9.9,   8.3,   5.4,   0. ,   0.9,   2.4,   5.1],\n",
       "       [  9.9,   9. ,   7.4,   4.5, -15. ,   0. ,   1.5,   4.2],\n",
       "       [  8.3,   7.4,   5.9,   3. , -15. , -15. ,   0. ,   2.7],\n",
       "       [  5.4,   4.5,   3. ,   0.6, -15. , -15. , -15. ,   0. ],\n",
       "       [  0. , -15. , -15. , -15. , -15. , -15. , -15. , -15. ],\n",
       "       [  0.9,   0. , -15. , -15. , -15. , -15. , -15. , -15. ],\n",
       "       [  2.4,   1.5,   0. , -15. , -15. , -15. , -15. , -15. ],\n",
       "       [  5.1,   4.2,   2.7,   0. , -15. , -15. , -15. , -15. ]])"
      ]
     },
     "execution_count": 44,
     "metadata": {},
     "output_type": "execute_result"
    }
   ],
   "source": [
    "np.log10(KKT_SS_t0.toarray() + 1e-15).round(1)"
   ]
  },
  {
   "cell_type": "markdown",
   "id": "7eb3924d-68cb-41da-a7fa-776c31af5909",
   "metadata": {},
   "source": [
    "This matrix has very small and very large numbers--i.e. poorly condition"
   ]
  },
  {
   "cell_type": "code",
   "execution_count": 45,
   "id": "a563144d-5e47-450e-84f0-39926be2dd9f",
   "metadata": {},
   "outputs": [
    {
     "data": {
      "text/plain": [
       "2.8047684443687567e+20"
      ]
     },
     "execution_count": 45,
     "metadata": {},
     "output_type": "execute_result"
    }
   ],
   "source": [
    "np.linalg.cond(KKT_SS_t0.toarray())"
   ]
  },
  {
   "cell_type": "markdown",
   "id": "458b58aa-8624-4850-b3a5-cd1de3b7f397",
   "metadata": {},
   "source": [
    "## 8. Compare the number of iterations"
   ]
  },
  {
   "cell_type": "code",
   "execution_count": 46,
   "id": "22f3073c-1915-4381-be60-39eb00d65914",
   "metadata": {},
   "outputs": [
    {
     "data": {
      "text/plain": [
       "76"
      ]
     },
     "execution_count": 46,
     "metadata": {},
     "output_type": "execute_result"
    }
   ],
   "source": [
    "sol_SS.stats()['iter_count']"
   ]
  },
  {
   "cell_type": "code",
   "execution_count": 47,
   "id": "2f98995c-5aa5-4fcc-96f9-607f471311ec",
   "metadata": {},
   "outputs": [
    {
     "data": {
      "text/plain": [
       "12"
      ]
     },
     "execution_count": 47,
     "metadata": {},
     "output_type": "execute_result"
    }
   ],
   "source": [
    "sol_MS.stats()['iter_count']"
   ]
  },
  {
   "cell_type": "markdown",
   "id": "1d82ef27-fa07-45d9-8e92-ec896872297c",
   "metadata": {},
   "source": [
    "Order of polynomial $F(x, 0)$ is 1 (linear)\n",
    "\n",
    "Order of polynomial $F(F(x, 0), 0)$ is 2 (quadratic)\n",
    "\n",
    "... etc.\n",
    "\n",
    "Therefore as the prediction horizon $N$ increases the order of the resulting polynomial gets higher.\n",
    "\n",
    "Since each iteration involves a linearization, which is an approximation, the non-linearities will reduce the speed of convergence, requiring more iterations to converge to the solution."
   ]
  },
  {
   "cell_type": "markdown",
   "id": "fc5497c6-014d-40a2-9edc-01865ec0f12d",
   "metadata": {},
   "source": [
    "## 9. Use of a reasonable initial guess"
   ]
  },
  {
   "cell_type": "markdown",
   "id": "c35bdfc3-ad50-40d5-b074-f0057af21d7a",
   "metadata": {},
   "source": [
    "Gaving an initial guess which is close (in some sense) to the solution helps because the initial value of the objective function will be lower and therefore less iterations will be needed to reach the solution.\n",
    "\n",
    "E.g. for system identification, you can use the input-data you have as an initial solution."
   ]
  },
  {
   "cell_type": "markdown",
   "id": "eca8109a-2189-45d6-8b9e-0f45b31b5e37",
   "metadata": {},
   "source": [
    "## 10. Multiple shooting with a 2x3 system"
   ]
  },
  {
   "cell_type": "markdown",
   "id": "8d1f87d7-4970-4f03-807d-3b9e7dd2f1ad",
   "metadata": {},
   "source": [
    "Linear system:"
   ]
  },
  {
   "cell_type": "code",
   "execution_count": 48,
   "id": "6a057785-4cd4-493b-ae7b-27b4af8967ad",
   "metadata": {},
   "outputs": [
    {
     "data": {
      "text/plain": [
       "DM(\n",
       "[[1, 0.1, 0.2], \n",
       " [2, 0.3, 0.4], \n",
       " [6, 1, 3]])"
      ]
     },
     "execution_count": 48,
     "metadata": {},
     "output_type": "execute_result"
    }
   ],
   "source": [
    "A = sparsify(DM([[1, 0.1, 0.2], [2, 0.3, 0.4], [6, 1, 3]]))\n",
    "A"
   ]
  },
  {
   "cell_type": "code",
   "execution_count": 49,
   "id": "f0238ad9-6073-4c22-ac9d-269c682a74cb",
   "metadata": {},
   "outputs": [
    {
     "data": {
      "text/plain": [
       "DM(\n",
       "[[1, 00], \n",
       " [00, 1], \n",
       " [2, 1]])"
      ]
     },
     "execution_count": 49,
     "metadata": {},
     "output_type": "execute_result"
    }
   ],
   "source": [
    "B = sparsify(DM([[1, 0], [0, 1], [2, 1]]))\n",
    "# or B = sparsify(blockcat([[1,0],[0,1],[2,1]]))\n",
    "B"
   ]
  },
  {
   "cell_type": "code",
   "execution_count": 50,
   "id": "64acfa7b-b68d-4844-8b1c-893e70edcbaf",
   "metadata": {},
   "outputs": [
    {
     "data": {
      "text/plain": [
       "Function(F:(xk[3],uk[2])->(xkp1[3]) MXFunction)"
      ]
     },
     "execution_count": 50,
     "metadata": {},
     "output_type": "execute_result"
    }
   ],
   "source": [
    "xk = MX.sym('xk', 3)\n",
    "uk = MX.sym('uk', 2)\n",
    "F = Function('F', [xk, uk], [A @ xk + B @ uk], ['xk', 'uk'], ['xkp1'])\n",
    "# or simply, F = lambda x,u: A @ x + B @ u\n",
    "F"
   ]
  },
  {
   "cell_type": "code",
   "execution_count": 51,
   "id": "056d6e30-2e8c-4019-91c6-3f605819aae4",
   "metadata": {},
   "outputs": [],
   "source": [
    "opti_MS = Opti()\n",
    "N = 4\n",
    "X = opti_MS.variable(N + 1, 3)\n",
    "U = opti_MS.variable(N, 2)\n",
    "\n",
    "# Define objective function\n",
    "f = sumsqr(X) + sumsqr(U)\n",
    "\n",
    "# Define constraints\n",
    "for k in range(1, N + 1):\n",
    "    xkm1, ukm1 = X[k-1, :].T, U[k-1, :].T\n",
    "    opti_MS.subject_to(X[k, :] == F(xkm1, ukm1).T)\n",
    "opti_MS.subject_to(X[0, :] == DM([1, 2, 3]).T)\n",
    "opti_MS.subject_to(X[-1, :] == DM.zeros(3).T)\n",
    "\n",
    "opti_MS.minimize(f)"
   ]
  },
  {
   "cell_type": "code",
   "execution_count": 52,
   "id": "d5df61b7-e365-4dce-85d9-b5093836746d",
   "metadata": {},
   "outputs": [
    {
     "name": "stdout",
     "output_type": "stream",
     "text": [
      "This is Ipopt version 3.14.11, running with linear solver MUMPS 5.4.1.\n",
      "\n",
      "Number of nonzeros in equality constraint Jacobian...:       70\n",
      "Number of nonzeros in inequality constraint Jacobian.:        0\n",
      "Number of nonzeros in Lagrangian Hessian.............:       23\n",
      "\n",
      "Total number of variables............................:       23\n",
      "                     variables with only lower bounds:        0\n",
      "                variables with lower and upper bounds:        0\n",
      "                     variables with only upper bounds:        0\n",
      "Total number of equality constraints.................:       18\n",
      "Total number of inequality constraints...............:        0\n",
      "        inequality constraints with only lower bounds:        0\n",
      "   inequality constraints with lower and upper bounds:        0\n",
      "        inequality constraints with only upper bounds:        0\n",
      "\n",
      "iter    objective    inf_pr   inf_du lg(mu)  ||d||  lg(rg) alpha_du alpha_pr  ls\n",
      "   0  0.0000000e+00 3.00e+00 0.00e+00  -1.0 0.00e+00    -  0.00e+00 0.00e+00   0\n",
      "   1  8.4016658e+01 2.66e-15 3.55e-15  -1.0 4.29e+00    -  1.00e+00 1.00e+00h  1\n",
      "\n",
      "Number of Iterations....: 1\n",
      "\n",
      "                                   (scaled)                 (unscaled)\n",
      "Objective...............:   8.4016657861213119e+01    8.4016657861213119e+01\n",
      "Dual infeasibility......:   3.5527136788005009e-15    3.5527136788005009e-15\n",
      "Constraint violation....:   2.6645352591003757e-15    2.6645352591003757e-15\n",
      "Variable bound violation:   0.0000000000000000e+00    0.0000000000000000e+00\n",
      "Complementarity.........:   0.0000000000000000e+00    0.0000000000000000e+00\n",
      "Overall NLP error.......:   3.5527136788005009e-15    3.5527136788005009e-15\n",
      "\n",
      "\n",
      "Number of objective function evaluations             = 2\n",
      "Number of objective gradient evaluations             = 2\n",
      "Number of equality constraint evaluations            = 2\n",
      "Number of inequality constraint evaluations          = 0\n",
      "Number of equality constraint Jacobian evaluations   = 2\n",
      "Number of inequality constraint Jacobian evaluations = 0\n",
      "Number of Lagrangian Hessian evaluations             = 1\n",
      "Total seconds in IPOPT                               = 0.002\n",
      "\n",
      "EXIT: Optimal Solution Found.\n",
      "      solver  :   t_proc      (avg)   t_wall      (avg)    n_eval\n",
      "       nlp_f  |   7.00us (  3.50us)   8.00us (  4.00us)         2\n",
      "       nlp_g  |  37.00us ( 18.50us)  31.13us ( 15.57us)         2\n",
      "  nlp_grad_f  |  13.00us (  4.33us)  11.90us (  3.97us)         3\n",
      "  nlp_hess_l  |  16.00us ( 16.00us)  15.80us ( 15.80us)         1\n",
      "   nlp_jac_g  | 128.00us ( 42.67us)  82.45us ( 27.48us)         3\n",
      "       total  |   2.89ms (  2.89ms)   2.56ms (  2.56ms)         1\n"
     ]
    }
   ],
   "source": [
    "opti_MS.solver('ipopt')\n",
    "sol = opti_MS.solve()"
   ]
  },
  {
   "cell_type": "code",
   "execution_count": 53,
   "id": "19052755-2c9e-47b9-b051-df7e2acd8453",
   "metadata": {},
   "outputs": [
    {
     "data": {
      "text/plain": [
       "array([-4.28944779, -4.19298955])"
      ]
     },
     "execution_count": 53,
     "metadata": {},
     "output_type": "execute_result"
    }
   ],
   "source": [
    "sol.value(U[0, :])"
   ]
  },
  {
   "cell_type": "code",
   "execution_count": 54,
   "id": "197b3bd4-399c-47d2-9981-126a328ecbc1",
   "metadata": {},
   "outputs": [],
   "source": [
    "assert_array_almost_equal(sol.value(U[0, :]), [-4.2894, -4.1930], decimal=4)"
   ]
  },
  {
   "cell_type": "markdown",
   "id": "1d1e724f-84e7-42af-bdcd-05295236b32e",
   "metadata": {},
   "source": [
    "In this case (linear system, linear constraints, quadratic), single-shooting would be fine, it would converge fast (1 step)."
   ]
  },
  {
   "cell_type": "markdown",
   "id": "ecfad05d-8973-44b8-a7c8-9f303d15bdad",
   "metadata": {},
   "source": [
    "## 11. System with 100 states"
   ]
  },
  {
   "cell_type": "markdown",
   "id": "2ab63ad1-ae9e-4bb1-9afb-914de8434b97",
   "metadata": {},
   "source": [
    "Problem:\n",
    " - System has 100 states\n",
    " - 1 control action\n",
    " - Stable dynamics\n",
    " - $\\frac{\\partial{F}}{\\partial{x}}$ is dense\n",
    " - No path constraints\n",
    " - $N = 10000$"
   ]
  },
  {
   "cell_type": "markdown",
   "id": "ee7ac4cf-f4cb-498c-8591-2e23dcd800c4",
   "metadata": {},
   "source": [
    "For single-shooting, the KKT matrix would be 10,000 blocks of size (100x100) on the diagonal (i.e. 1,000,000 x 1,000,000)!"
   ]
  },
  {
   "cell_type": "markdown",
   "id": "3426973a-ef64-4661-9b34-2837a7e82a2c",
   "metadata": {},
   "source": [
    "Multiple-shooting is best because $N$ is high and dynamics are complex.  However, path constraint means that there will be 10,000 additional constraints."
   ]
  },
  {
   "cell_type": "code",
   "execution_count": null,
   "id": "bbdb8167-f192-42c7-a5c0-4e951772f8e1",
   "metadata": {},
   "outputs": [],
   "source": []
  },
  {
   "cell_type": "code",
   "execution_count": null,
   "id": "49e9bc74-8132-452d-813a-643b771fa862",
   "metadata": {},
   "outputs": [],
   "source": []
  },
  {
   "cell_type": "code",
   "execution_count": null,
   "id": "3dbe31d2-0c84-4310-be5e-23bfacbdd615",
   "metadata": {},
   "outputs": [],
   "source": []
  }
 ],
 "metadata": {
  "kernelspec": {
   "display_name": "Python (casadi)",
   "language": "python",
   "name": "casadi"
  },
  "language_info": {
   "codemirror_mode": {
    "name": "ipython",
    "version": 3
   },
   "file_extension": ".py",
   "mimetype": "text/x-python",
   "name": "python",
   "nbconvert_exporter": "python",
   "pygments_lexer": "ipython3",
   "version": "3.11.8"
  }
 },
 "nbformat": 4,
 "nbformat_minor": 5
}
