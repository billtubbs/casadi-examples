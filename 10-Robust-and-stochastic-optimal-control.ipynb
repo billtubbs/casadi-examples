{
 "cells": [
  {
   "cell_type": "markdown",
   "id": "934f2fb4-894b-476a-a384-276a3175ac54",
   "metadata": {},
   "source": [
    "# Robust and Stochastic Optimal Control"
   ]
  },
  {
   "cell_type": "code",
   "execution_count": 1,
   "id": "38e43c93-f11d-4e30-bbae-abb75448b3ed",
   "metadata": {},
   "outputs": [
    {
     "data": {
      "text/plain": [
       "'3.6.5'"
      ]
     },
     "execution_count": 1,
     "metadata": {},
     "output_type": "execute_result"
    }
   ],
   "source": [
    "import os\n",
    "import time\n",
    "import numpy as np\n",
    "from numpy.testing import assert_array_equal, assert_array_almost_equal\n",
    "import matplotlib.pyplot as plt\n",
    "from casadi import (\n",
    "    MX, SX, DM, Function, Opti, integrator,\n",
    "    vcat, hcat, vertcat, horzcat, vec, diag, reshape,\n",
    "    dot, sum1, sum2, sumsqr, sin, cos, sqrt,\n",
    "    gradient, jacobian, hessian\n",
    ")\n",
    "\n",
    "import casadi\n",
    "casadi.__version__"
   ]
  },
  {
   "cell_type": "code",
   "execution_count": 2,
   "id": "bc2ebee8-1192-4cfe-b4e0-4ab4f70b1b8b",
   "metadata": {},
   "outputs": [],
   "source": [
    "plot_dir = 'plots'\n",
    "if not os.path.exists(plot_dir):\n",
    "    os.mkdir(plot_dir)"
   ]
  },
  {
   "cell_type": "code",
   "execution_count": 3,
   "id": "73d5e334-b1fb-457b-b943-8bfa8e7da938",
   "metadata": {},
   "outputs": [
    {
     "data": {
      "text/plain": [
       "(41,)"
      ]
     },
     "execution_count": 3,
     "metadata": {},
     "output_type": "execute_result"
    }
   ],
   "source": [
    "# Physical constants\n",
    "\n",
    "T = 1.0  # control horizon [s]\n",
    "N = 40  # Number of control intervals\n",
    "\n",
    "dt = T / N  # length of 1 control interval [s]\n",
    "\n",
    "tgrid = np.linspace(0, T, N+1)\n",
    "tgrid.shape"
   ]
  },
  {
   "cell_type": "markdown",
   "id": "6dd24491-c4eb-4d5a-8524-3cc1ebac0230",
   "metadata": {},
   "source": [
    "## Continuous system $\\dot{x}=f(x,u)$"
   ]
  },
  {
   "cell_type": "markdown",
   "id": "5b6de4c2-85f8-47a5-a725-f646d95b9c96",
   "metadata": {},
   "source": [
    "Van der Pol oscillator\n",
    "\n",
    "$$\n",
    "\\frac{d\\left[\\begin{array}{l}\n",
    "x_1 \\\\\n",
    "x_2\n",
    "\\end{array}\\right]}{d t}=\\left[\\begin{array}{c}\n",
    "x_2 \\\\\n",
    "-0.1\\left(1-x_1^2\\right) x_2-x_1+u\n",
    "\\end{array}\\right]\n",
    "$$"
   ]
  },
  {
   "cell_type": "code",
   "execution_count": 4,
   "id": "78a5163f-2d07-4c45-9e64-fc872ce897a3",
   "metadata": {},
   "outputs": [],
   "source": [
    "nx = 2\n",
    "\n",
    "# Expression for the ODE right-hand side\n",
    "x1 = MX.sym('x1')\n",
    "x2 = MX.sym('x2')\n",
    "u = MX.sym('u')\n",
    "x = vertcat(x1, x2)\n",
    "rhs = vertcat(x2, -0.1 * (1 - x1**2) * x2 - x1 + u)\n",
    "\n",
    "# Upper bound on first state variable\n",
    "x1_bound = lambda t: 2 + 0.1 * cos(10 * t)"
   ]
  },
  {
   "cell_type": "markdown",
   "id": "667125e2-3a18-4f43-ac28-1a7b3e08979b",
   "metadata": {},
   "source": [
    "## Discrete system $x_{k+1} = F(x_k,u_k)$"
   ]
  },
  {
   "cell_type": "code",
   "execution_count": 5,
   "id": "6294e1ff-9586-445c-83ab-49885f104d9b",
   "metadata": {},
   "outputs": [],
   "source": [
    "intg = integrator('intg', 'cvodes', {'x': x, 'p': u, 'ode': rhs}, 0, dt)"
   ]
  },
  {
   "cell_type": "markdown",
   "id": "7b9f4b03-bb60-4670-93f3-1310a2299bf8",
   "metadata": {},
   "source": [
    "## 1. Stochastic optimal control"
   ]
  },
  {
   "cell_type": "markdown",
   "id": "2461cf05-9c79-41b4-8547-22b3bc66a58e",
   "metadata": {},
   "source": [
    "\\begin{array}{cl}\n",
    "\\underset{x(\\cdot), u(\\cdot)}{\\operatorname{minimize}} & \\int_0^T\\left\\|x_1(t)-3\\right\\|_2^2 d t \\\\\n",
    "\\text { subject to } & \\dot{x}(t)=f(x(t), u(t)) \\quad \\forall t \\in[0, T] \\\\\n",
    "& -40 \\leq u(t) \\leq 40 \\quad \\forall t \\in[0, T] \\\\\n",
    "& -0.25 \\leq x_1(t) \\leq b(t) \\quad \\forall t \\in[0, T] \\\\\n",
    "& x(0)=\\hat{x}\n",
    "\\end{array}"
   ]
  },
  {
   "cell_type": "markdown",
   "id": "ee976958-04c0-47db-8b9b-7ff903662dfa",
   "metadata": {},
   "source": [
    "### Template code – Optimal control problem, multiple shooting"
   ]
  },
  {
   "cell_type": "code",
   "execution_count": 6,
   "id": "81997211-82a8-4831-8bc3-0673c2d61e72",
   "metadata": {},
   "outputs": [
    {
     "name": "stdout",
     "output_type": "stream",
     "text": [
      "\n",
      "******************************************************************************\n",
      "This program contains Ipopt, a library for large-scale nonlinear optimization.\n",
      " Ipopt is released as open source code under the Eclipse Public License (EPL).\n",
      "         For more information visit https://github.com/coin-or/Ipopt\n",
      "******************************************************************************\n",
      "\n",
      "This is Ipopt version 3.14.11, running with linear solver MUMPS 5.4.1.\n",
      "\n",
      "Number of nonzeros in equality constraint Jacobian...:      322\n",
      "Number of nonzeros in inequality constraint Jacobian.:       81\n",
      "Number of nonzeros in Lagrangian Hessian.............:      241\n",
      "\n",
      "Total number of variables............................:      122\n",
      "                     variables with only lower bounds:        0\n",
      "                variables with lower and upper bounds:        0\n",
      "                     variables with only upper bounds:        0\n",
      "Total number of equality constraints.................:       82\n",
      "Total number of inequality constraints...............:       81\n",
      "        inequality constraints with only lower bounds:        0\n",
      "   inequality constraints with lower and upper bounds:       81\n",
      "        inequality constraints with only upper bounds:        0\n",
      "\n",
      "iter    objective    inf_pr   inf_du lg(mu)  ||d||  lg(rg) alpha_du alpha_pr  ls\n",
      "   0  3.6900000e+02 5.00e-01 1.17e+00  -1.0 0.00e+00    -  0.00e+00 0.00e+00   0\n",
      "   1  2.0336464e+02 1.15e-03 3.37e+00  -1.0 5.64e+00    -  2.11e-01 1.00e+00f  1\n",
      "   2  1.4097646e+02 5.21e-03 1.33e+00  -1.0 1.20e+01    -  7.84e-01 5.49e-01f  1\n",
      "   3  1.1340639e+02 2.95e-03 6.73e-01  -1.0 1.70e+01    -  8.11e-01 5.55e-01f  1\n",
      "   4  9.2138085e+01 4.62e-03 1.56e+00  -1.0 1.64e+01    -  5.54e-01 7.24e-01f  1\n",
      "   5  8.9271358e+01 7.70e-04 1.95e+00  -1.0 1.79e+01    -  7.56e-01 1.00e+00f  1\n",
      "   6  8.5590753e+01 5.93e-04 3.86e-01  -1.0 1.99e+01    -  1.00e+00 9.35e-01f  1\n",
      "   7  8.2622808e+01 2.05e-04 4.40e+00  -1.7 2.60e+01    -  6.19e-01 1.00e+00f  1\n",
      "   8  8.2251241e+01 3.83e-05 1.42e+00  -1.7 1.27e+01    -  1.00e+00 8.45e-01f  1\n",
      "   9  8.2184821e+01 6.65e-06 4.76e-05  -1.7 1.16e+01    -  1.00e+00 1.00e+00f  1\n",
      "iter    objective    inf_pr   inf_du lg(mu)  ||d||  lg(rg) alpha_du alpha_pr  ls\n",
      "  10  8.1561659e+01 9.72e-06 1.88e-01  -3.8 1.99e+01    -  7.07e-01 7.88e-01f  1\n",
      "  11  8.1392663e+01 6.75e-06 2.61e-01  -3.8 1.70e+01    -  7.47e-01 9.20e-01f  1\n",
      "  12  8.1381543e+01 2.14e-06 2.04e-01  -3.8 2.15e+00    -  1.00e+00 7.93e-01f  1\n",
      "  13  8.1378939e+01 5.44e-06 2.71e-07  -3.8 3.03e+00    -  1.00e+00 1.00e+00f  1\n",
      "  14  8.1373055e+01 3.53e-06 2.28e-03  -5.7 2.19e+00    -  9.46e-01 9.82e-01h  1\n",
      "  15  8.1372958e+01 4.97e-07 5.11e-09  -5.7 2.35e-01    -  1.00e+00 1.00e+00f  1\n",
      "  16  8.1372883e+01 2.30e-08 1.82e-11  -8.6 6.27e-03    -  1.00e+00 1.00e+00h  1\n",
      "  17  8.1372883e+01 7.75e-10 2.22e-14  -9.0 4.46e-04    -  1.00e+00 1.00e+00h  1\n",
      "\n",
      "Number of Iterations....: 17\n",
      "\n",
      "                                   (scaled)                 (unscaled)\n",
      "Objective...............:   8.1372883252305371e+01    8.1372883252305371e+01\n",
      "Dual infeasibility......:   2.2204460492503131e-14    2.2204460492503131e-14\n",
      "Constraint violation....:   7.7533890419090312e-10    7.7533890419090312e-10\n",
      "Variable bound violation:   0.0000000000000000e+00    0.0000000000000000e+00\n",
      "Complementarity.........:   9.0911080168000705e-10    9.0911080168000705e-10\n",
      "Overall NLP error.......:   9.0911080168000705e-10    9.0911080168000705e-10\n",
      "\n",
      "\n",
      "Number of objective function evaluations             = 18\n",
      "Number of objective gradient evaluations             = 18\n",
      "Number of equality constraint evaluations            = 18\n",
      "Number of inequality constraint evaluations          = 18\n",
      "Number of equality constraint Jacobian evaluations   = 18\n",
      "Number of inequality constraint Jacobian evaluations = 18\n",
      "Number of Lagrangian Hessian evaluations             = 17\n",
      "Total seconds in IPOPT                               = 0.811\n",
      "\n",
      "EXIT: Optimal Solution Found.\n",
      "      solver  :   t_proc      (avg)   t_wall      (avg)    n_eval\n",
      "       nlp_f  | 100.00us (  5.56us)  97.62us (  5.42us)        18\n",
      "       nlp_g  |  46.78ms (  2.60ms)  46.92ms (  2.61ms)        18\n",
      "  nlp_grad_f  | 182.00us (  9.58us) 178.94us (  9.42us)        19\n",
      "  nlp_hess_l  | 477.00ms ( 28.06ms) 477.92ms ( 28.11ms)        17\n",
      "   nlp_jac_g  | 265.34ms ( 13.97ms) 264.97ms ( 13.95ms)        19\n",
      "       total  | 811.44ms (811.44ms) 811.79ms (811.79ms)         1\n"
     ]
    }
   ],
   "source": [
    "x0 = vertcat(0.5, 0)\n",
    "\n",
    "opti = casadi.Opti()\n",
    "\n",
    "# Decision variable for states\n",
    "x = opti.variable(nx)\n",
    "\n",
    "# Initial constraints\n",
    "opti.subject_to(x == x0)\n",
    "\n",
    "U = []\n",
    "X = [x]\n",
    "\n",
    "# Gap-closing shooting constraints\n",
    "for k in range(N):\n",
    "  u = opti.variable()\n",
    "  U.append(u)\n",
    "\n",
    "  x_next = opti.variable(nx)\n",
    "  res = intg(x0=x, p=u)\n",
    "  opti.subject_to(x_next == res[\"xf\"])\n",
    "\n",
    "  opti.subject_to(opti.bounded(-40, u, 40))\n",
    "  opti.subject_to(opti.bounded(-0.25, x[0], x1_bound(tgrid[k])))\n",
    "  \n",
    "  x = x_next\n",
    "  X.append(x)\n",
    "\n",
    "opti.subject_to(opti.bounded(-0.25, x_next[0], x1_bound(tgrid[N])))\n",
    "U = hcat(U)\n",
    "X = hcat(X)\n",
    "\n",
    "opti.minimize(sumsqr(X[0, :] - 3))\n",
    "\n",
    "opti.solver('ipopt')\n",
    "\n",
    "sol = opti.solve()"
   ]
  },
  {
   "cell_type": "code",
   "execution_count": 7,
   "id": "94b5fdfe-e4a3-4366-a5f6-02dc95612ead",
   "metadata": {},
   "outputs": [],
   "source": [
    "sol1_x = np.array(sol.value(X))"
   ]
  },
  {
   "cell_type": "markdown",
   "id": "8ad8deb6-393e-46e8-b2d1-64d9be2df517",
   "metadata": {},
   "source": [
    "### Post-processing: plotting"
   ]
  },
  {
   "cell_type": "code",
   "execution_count": 8,
   "id": "0eabc6b9-3409-4649-a046-bf4c990df5e8",
   "metadata": {},
   "outputs": [
    {
     "data": {
      "image/png": "[encoded data removed]",
      "text/plain": [
       "<Figure size 640x480 with 2 Axes>"
      ]
     },
     "metadata": {},
     "output_type": "display_data"
    }
   ],
   "source": [
    "def make_ioplot(tgrid, xsol, usol):\n",
    "    fig, axes = plt.subplots(2, 1)\n",
    "    \n",
    "    ax = axes[0]\n",
    "    ax.plot(tgrid, xsol[0, :].T, 'b.-', linewidth=2, label='OCP trajectory $x_1$')\n",
    "    ax.plot(tgrid, x1_bound(tgrid), 'r--', linewidth=2, label='bound on $x_1$')\n",
    "    ax.set_title('State $x_1$')\n",
    "    ax.set_xlabel('Time [s]')\n",
    "    ax.set_ylabel('$x_1$')\n",
    "    ax.grid()\n",
    "    ax.legend()\n",
    "    \n",
    "    ax = axes[1]\n",
    "    ax.step(tgrid, vertcat(usol, usol[-1]), linewidth=2)\n",
    "    ax.set_title('Applied control signal')\n",
    "    ax.set_ylabel('Force [N]')\n",
    "    ax.set_xlabel('Time [s]')\n",
    "    ax.grid()\n",
    "\n",
    "    return fig, axes\n",
    "\n",
    "usol = sol.value(U)\n",
    "xsol = sol.value(X)\n",
    "make_ioplot(tgrid, xsol, usol)\n",
    "plt.tight_layout()\n",
    "filename = \"robust_sol_1_1_0_ioplot.pdf\"\n",
    "plt.savefig(os.path.join(plot_dir, filename))\n",
    "plt.show()"
   ]
  },
  {
   "cell_type": "markdown",
   "id": "ca944c61-fd97-45af-842f-8528f32319d1",
   "metadata": {},
   "source": [
    "### 1.1. Augment the multiple-shooting implementation with the covariance dynamics"
   ]
  },
  {
   "cell_type": "markdown",
   "id": "1cefcf34-c51c-4a73-8bef-ca469dd9ff86",
   "metadata": {},
   "source": [
    "\\begin{array}{cl}\n",
    "\\underset{x(\\cdot), u(\\cdot)}{\\operatorname{minimize}} & \\int_0^T\\left\\|x_1(t)-3\\right\\|_2^2 d t \\\\\n",
    "\\text { subject to } & \\dot{x}(t)=f(x(t), u(t)) \\quad \\forall t \\in[0, T] \\\\\n",
    "& x(0)=\\hat{x} \\\\\n",
    "& \\dot{\\Sigma}_{x(t)}=\\frac{\\partial f}{\\partial x}(x(t), u(t)) \\Sigma_{x(t)}+\\Sigma_{x(t)} \\frac{\\partial f^T}{\\partial x}(x(t), u(t))+Q(t) \\quad \\forall t \\in[0, T] \\\\\n",
    "& \\Sigma_{x(0)}=\\Sigma_{\\hat{x}} \\\\\n",
    "& -40 \\leq u(t) \\leq 40 \\quad \\forall t \\in[0, T] \\\\\n",
    "& -0.25 \\leq x_1(t) \\leq b(t) \\quad \\forall t \\in[0, T]\n",
    "\\end{array}"
   ]
  },
  {
   "cell_type": "code",
   "execution_count": 9,
   "id": "f8ce41b3-27dc-4651-a558-2411028b7002",
   "metadata": {},
   "outputs": [
    {
     "data": {
      "text/plain": [
       "MX(vertcat(x2, ((((-0.1*(1-sq(x1)))*x2)-x1)+u)))"
      ]
     },
     "execution_count": 9,
     "metadata": {},
     "output_type": "execute_result"
    }
   ],
   "source": [
    "# Expression for the ODE right-hand side\n",
    "x1 = MX.sym('x1')\n",
    "x2 = MX.sym('x2')\n",
    "u = MX.sym('u')\n",
    "dxdt_rhs = vertcat(x2, -0.1 * (1 - x1**2) * x2 - x1 + u)\n",
    "dxdt_rhs"
   ]
  },
  {
   "cell_type": "code",
   "execution_count": 10,
   "id": "5b6cc140-3c38-40e3-b584-6bdf0045d078",
   "metadata": {},
   "outputs": [],
   "source": [
    "x = vertcat(x1, x2)\n",
    "dfdx = jacobian(dxdt_rhs, x)\n",
    "dfdu = jacobian(dxdt_rhs, u)\n",
    "assert dfdx.shape == (2, 2)\n",
    "assert dfdu.shape == (2, 1)"
   ]
  },
  {
   "cell_type": "code",
   "execution_count": 11,
   "id": "044628ba-db45-4b0e-9aa3-67e8f02cfdc6",
   "metadata": {},
   "outputs": [],
   "source": [
    "# Expression for propagating the covariance matrix\n",
    "P = MX.sym('sigma_x', 2, 2)\n",
    "dPdt_rhs = dfdx @ P + P @ dfdx.T\n",
    "assert dPdt_rhs.shape == (2, 2)"
   ]
  },
  {
   "cell_type": "code",
   "execution_count": 12,
   "id": "10892976-c15f-4420-b013-08cb9db988f4",
   "metadata": {},
   "outputs": [],
   "source": [
    "rhs = vertcat(dxdt_rhs, vec(dPdt_rhs))\n",
    "x_aug = vertcat(x, vec(P))\n",
    "assert rhs.shape == (6, 1)\n",
    "assert x_aug.shape == (6, 1)"
   ]
  },
  {
   "cell_type": "code",
   "execution_count": 13,
   "id": "20b3e35e-480b-43ab-8cf9-d332f381c8d5",
   "metadata": {},
   "outputs": [],
   "source": [
    "x1_bound = lambda t: 2 + 0.1 * cos(10 * t)"
   ]
  },
  {
   "cell_type": "code",
   "execution_count": 14,
   "id": "ff8b61fb-c1bd-4989-a2d3-816c6e6a9297",
   "metadata": {},
   "outputs": [
    {
     "data": {
      "text/plain": [
       "Function(intg:(x0[6],z0[0],p,u[0],adj_xf[],adj_zf[],adj_qf[])->(xf[6],zf[0],qf[0],adj_x0[],adj_z0[],adj_p[],adj_u[]) CvodesInterface)"
      ]
     },
     "execution_count": 14,
     "metadata": {},
     "output_type": "execute_result"
    }
   ],
   "source": [
    "intg = integrator('intg', 'cvodes', {'x': x_aug, 'p': u, 'ode': rhs}, 0, dt)\n",
    "intg"
   ]
  },
  {
   "cell_type": "code",
   "execution_count": 15,
   "id": "2cb7d38d-b45e-4353-bccc-2765b18f371f",
   "metadata": {},
   "outputs": [],
   "source": [
    "# Initial condition is defined by a Gaussian distribution\n",
    "x0 = vertcat(0.5, 0)"
   ]
  },
  {
   "cell_type": "markdown",
   "id": "d29e453c-a22a-48db-b10b-268d78c16aab",
   "metadata": {},
   "source": [
    "### Optimal control problem, multiple shooting"
   ]
  },
  {
   "cell_type": "code",
   "execution_count": 16,
   "id": "53355cbb-3afa-4311-b26b-09714c3e7be1",
   "metadata": {},
   "outputs": [
    {
     "name": "stdout",
     "output_type": "stream",
     "text": [
      "This is Ipopt version 3.14.11, running with linear solver MUMPS 5.4.1.\n",
      "\n",
      "Number of nonzeros in equality constraint Jacobian...:     1606\n",
      "Number of nonzeros in inequality constraint Jacobian.:       81\n",
      "Number of nonzeros in Lagrangian Hessian.............:      721\n",
      "\n",
      "Total number of variables............................:      286\n",
      "                     variables with only lower bounds:        0\n",
      "                variables with lower and upper bounds:        0\n",
      "                     variables with only upper bounds:        0\n",
      "Total number of equality constraints.................:      246\n",
      "Total number of inequality constraints...............:       81\n",
      "        inequality constraints with only lower bounds:        0\n",
      "   inequality constraints with lower and upper bounds:       81\n",
      "        inequality constraints with only upper bounds:        0\n",
      "\n",
      "iter    objective    inf_pr   inf_du lg(mu)  ||d||  lg(rg) alpha_du alpha_pr  ls\n",
      "   0  3.6900000e+02 5.00e-01 1.17e+00  -1.0 0.00e+00    -  0.00e+00 0.00e+00   0\n",
      "   1  2.0336462e+02 1.15e-03 3.37e+00  -1.0 5.64e+00    -  2.11e-01 1.00e+00f  1\n",
      "   2  1.4097620e+02 5.21e-03 1.33e+00  -1.0 1.20e+01    -  7.84e-01 5.49e-01f  1\n",
      "   3  1.1340600e+02 2.95e-03 6.73e-01  -1.0 1.70e+01    -  8.11e-01 5.55e-01f  1\n",
      "   4  9.2137854e+01 4.62e-03 1.56e+00  -1.0 1.64e+01    -  5.54e-01 7.24e-01f  1\n",
      "   5  8.9271073e+01 7.70e-04 1.95e+00  -1.0 1.79e+01    -  7.56e-01 1.00e+00f  1\n",
      "   6  8.5590464e+01 5.97e-04 3.86e-01  -1.0 1.99e+01    -  1.00e+00 9.35e-01f  1\n",
      "   7  8.2622600e+01 2.05e-04 4.40e+00  -1.7 2.60e+01    -  6.19e-01 1.00e+00f  1\n",
      "   8  8.2251031e+01 3.87e-05 1.42e+00  -1.7 1.27e+01    -  1.00e+00 8.45e-01f  1\n",
      "   9  8.2184633e+01 9.13e-06 4.76e-05  -1.7 1.16e+01    -  1.00e+00 1.00e+00f  1\n",
      "iter    objective    inf_pr   inf_du lg(mu)  ||d||  lg(rg) alpha_du alpha_pr  ls\n",
      "  10  8.1561463e+01 1.04e-05 1.88e-01  -3.8 1.99e+01    -  7.07e-01 7.88e-01f  1\n",
      "  11  8.1392441e+01 8.50e-06 2.61e-01  -3.8 1.70e+01    -  7.47e-01 9.20e-01f  1\n",
      "  12  8.1381348e+01 2.94e-06 2.04e-01  -3.8 2.16e+00    -  1.00e+00 7.93e-01f  1\n",
      "  13  8.1378755e+01 4.05e-06 2.72e-07  -3.8 3.02e+00    -  1.00e+00 1.00e+00f  1\n",
      "  14  8.1372874e+01 2.14e-06 2.18e-03  -5.7 2.17e+00    -  9.46e-01 9.81e-01h  1\n",
      "  15  8.1372774e+01 2.81e-07 5.36e-09  -5.7 2.60e-01    -  1.00e+00 1.00e+00f  1\n",
      "  16  8.1372699e+01 1.06e-08 1.19e-11  -8.6 5.66e-03    -  1.00e+00 1.00e+00h  1\n",
      "  17  8.1372699e+01 4.32e-10 6.53e-14  -9.0 4.27e-04    -  1.00e+00 1.00e+00h  1\n",
      "\n",
      "Number of Iterations....: 17\n",
      "\n",
      "                                   (scaled)                 (unscaled)\n",
      "Objective...............:   8.1372698965287015e+01    8.1372698965287015e+01\n",
      "Dual infeasibility......:   6.5281113847959205e-14    6.5281113847959205e-14\n",
      "Constraint violation....:   4.3232262214587536e-10    4.3232262214587536e-10\n",
      "Variable bound violation:   0.0000000000000000e+00    0.0000000000000000e+00\n",
      "Complementarity.........:   9.0910900826301730e-10    9.0910900826301730e-10\n",
      "Overall NLP error.......:   9.0910900826301730e-10    9.0910900826301730e-10\n",
      "\n",
      "\n",
      "Number of objective function evaluations             = 18\n",
      "Number of objective gradient evaluations             = 18\n",
      "Number of equality constraint evaluations            = 18\n",
      "Number of inequality constraint evaluations          = 18\n",
      "Number of equality constraint Jacobian evaluations   = 18\n",
      "Number of inequality constraint Jacobian evaluations = 18\n",
      "Number of Lagrangian Hessian evaluations             = 17\n",
      "Total seconds in IPOPT                               = 1.730\n",
      "\n",
      "EXIT: Optimal Solution Found.\n",
      "      solver  :   t_proc      (avg)   t_wall      (avg)    n_eval\n",
      "       nlp_f  |  95.00us (  5.28us)  90.76us (  5.04us)        18\n",
      "       nlp_g  |  71.37ms (  3.97ms)  71.61ms (  3.98ms)        18\n",
      "  nlp_grad_f  | 264.00us ( 13.89us) 240.18us ( 12.64us)        19\n",
      "  nlp_hess_l  | 895.83ms ( 52.70ms) 898.50ms ( 52.85ms)        17\n",
      "   nlp_jac_g  | 727.40ms ( 38.28ms) 730.34ms ( 38.44ms)        19\n",
      "       total  |   1.72 s (  1.72 s)   1.73 s (  1.73 s)         1\n"
     ]
    }
   ],
   "source": [
    "opti = casadi.Opti()\n",
    "\n",
    "# Decision variable for states\n",
    "x = opti.variable(nx)\n",
    "P = opti.variable(nx, nx)\n",
    "\n",
    "# Initial constraints\n",
    "opti.subject_to(x == x0)\n",
    "opti.subject_to(P == diag([0.01**2, 0.1**2]))\n",
    "\n",
    "U = []\n",
    "X = [x]\n",
    "Ps = [P]\n",
    "# Gap-closing shooting constraints\n",
    "for k in range(N):\n",
    "    u = opti.variable()\n",
    "    U.append(u)\n",
    "\n",
    "    x_next = opti.variable(nx)\n",
    "    P_next = opti.variable(nx, nx)\n",
    "    res = intg(x0=vertcat(x, vec(P)), p=u)\n",
    "\n",
    "    xf = res[\"xf\"][:nx]\n",
    "    Pf = reshape(res[\"xf\"][nx:], nx, nx)\n",
    "    opti.subject_to(x_next == xf)\n",
    "    opti.subject_to(vec(P_next) == vec(Pf))\n",
    "\n",
    "    opti.subject_to(opti.bounded(-40, u, 40))\n",
    "    opti.subject_to(opti.bounded(-0.25, x[0], x1_bound(tgrid[k])))\n",
    "\n",
    "    x = x_next\n",
    "    P = P_next\n",
    "\n",
    "    Ps.append(P)\n",
    "    X.append(x)\n",
    "\n",
    "opti.subject_to(opti.bounded(-0.25, x_next[0], x1_bound(tgrid[N])))\n",
    "U = hcat(U)\n",
    "X = hcat(X)\n",
    "\n",
    "opti.minimize(sumsqr(X[0, :] - 3))\n",
    "\n",
    "opti.solver('ipopt')\n",
    "\n",
    "sol = opti.solve()"
   ]
  },
  {
   "cell_type": "markdown",
   "id": "e68222d5-61ce-44b9-ba54-bc43823c74bd",
   "metadata": {},
   "source": [
    "### Post-processing: plotting"
   ]
  },
  {
   "cell_type": "code",
   "execution_count": 17,
   "id": "a9f71d48-9b9e-4514-bb63-573ef373bd8b",
   "metadata": {},
   "outputs": [
    {
     "data": {
      "text/plain": [
       "<matplotlib.lines.Line2D at 0x7f8d996dd9f0>"
      ]
     },
     "execution_count": 17,
     "metadata": {},
     "output_type": "execute_result"
    },
    {
     "data": {
      "image/png": "[encoded data removed]",
      "text/plain": [
       "<Figure size 640x480 with 1 Axes>"
      ]
     },
     "metadata": {},
     "output_type": "display_data"
    }
   ],
   "source": [
    "plt.figure()\n",
    "plt.spy(sol.value(jacobian(opti.g, opti.x)))"
   ]
  },
  {
   "cell_type": "code",
   "execution_count": 18,
   "id": "a73c721c-1bad-4a7e-a400-9bbf742772b5",
   "metadata": {},
   "outputs": [
    {
     "name": "stdout",
     "output_type": "stream",
     "text": [
      "[[0.0094851  0.00731403]\n",
      " [0.00731403 0.00580253]]\n"
     ]
    }
   ],
   "source": [
    "print(sol.value(Ps[-1]))\n",
    "assert_array_almost_equal(\n",
    "    np.array(sol.value(Ps[-1])),\n",
    "    [[0.0094851, 0.0073140], \n",
    "     [0.0073140, 0.0058025]],\n",
    "    decimal=7\n",
    ")"
   ]
  },
  {
   "cell_type": "code",
   "execution_count": 19,
   "id": "670e64d2-bf0a-4a95-86c6-9a934b5ac0f0",
   "metadata": {},
   "outputs": [
    {
     "name": "stdout",
     "output_type": "stream",
     "text": [
      "0.0008317841917693386\n"
     ]
    }
   ],
   "source": [
    "print(np.max(np.abs(sol.value(X) - sol1_x)))\n",
    "assert_array_almost_equal(sol.value(X), sol1_x, decimal=3)"
   ]
  },
  {
   "cell_type": "code",
   "execution_count": 20,
   "id": "4e417c7f-f004-4084-984f-bbd2ebd4e625",
   "metadata": {},
   "outputs": [
    {
     "data": {
      "image/png": "[encoded data removed]",
      "text/plain": [
       "<Figure size 640x480 with 2 Axes>"
      ]
     },
     "metadata": {},
     "output_type": "display_data"
    }
   ],
   "source": [
    "def make_ioplot_with_error_bars(tgrid, xsol, usol, Psol, alpha=0.25):\n",
    "    fig, axes = make_ioplot(tgrid, xsol, usol)\n",
    "    ax = axes[0]\n",
    "    y_err = np.sqrt(Psol[0, :])\n",
    "    ax.fill_between(tgrid, xsol[0, :] - y_err, xsol[0, :] + y_err, alpha=alpha, label='std. dev.')\n",
    "    ax.legend()\n",
    "    return fig, axes\n",
    "\n",
    "usol = sol.value(U)\n",
    "xsol = sol.value(X)\n",
    "Psol = np.array([sol.value(diag(p)) for p in Ps]).T\n",
    "make_ioplot_with_error_bars(tgrid, xsol, usol, Psol)\n",
    "plt.tight_layout()\n",
    "filename = \"robust_sol_1_1_1_ioplot.pdf\"\n",
    "plt.savefig(os.path.join(plot_dir, filename))\n",
    "plt.show()"
   ]
  },
  {
   "cell_type": "markdown",
   "id": "0b7ecd5c-3444-440b-b46e-79c432f08606",
   "metadata": {},
   "source": [
    "### 1.2 Make the path constraint on $x_1(t)$ stochastically robust,"
   ]
  },
  {
   "cell_type": "code",
   "execution_count": 21,
   "id": "0ccd75c1-251b-45f7-b4c2-d2cbdc614533",
   "metadata": {},
   "outputs": [
    {
     "name": "stdout",
     "output_type": "stream",
     "text": [
      "This is Ipopt version 3.14.11, running with linear solver MUMPS 5.4.1.\n",
      "\n",
      "Number of nonzeros in equality constraint Jacobian...:     1606\n",
      "Number of nonzeros in inequality constraint Jacobian.:      286\n",
      "Number of nonzeros in Lagrangian Hessian.............:     1131\n",
      "\n",
      "Total number of variables............................:      286\n",
      "                     variables with only lower bounds:        0\n",
      "                variables with lower and upper bounds:        0\n",
      "                     variables with only upper bounds:        0\n",
      "Total number of equality constraints.................:      246\n",
      "Total number of inequality constraints...............:      122\n",
      "        inequality constraints with only lower bounds:        0\n",
      "   inequality constraints with lower and upper bounds:       40\n",
      "        inequality constraints with only upper bounds:       82\n",
      "\n",
      "iter    objective    inf_pr   inf_du lg(mu)  ||d||  lg(rg) alpha_du alpha_pr  ls\n",
      "   0  3.6900000e+02 1.00e+00 1.14e+00  -1.0 0.00e+00    -  0.00e+00 0.00e+00   0\n",
      "   1  2.0426821e+02 1.10e-03 4.25e+00  -1.0 5.64e+00    -  2.14e-01 1.00e+00f  1\n",
      "   2  1.6009282e+02 2.16e-03 2.80e+00  -1.0 1.22e+01    -  7.43e-01 3.91e-01f  1\n",
      "   3  1.2634521e+02 2.49e-03 3.02e+00  -1.0 1.76e+01    -  2.38e-01 5.35e-01f  1\n",
      "   4  9.9417061e+01 3.18e-03 1.46e+01  -1.0 1.09e+01    -  2.11e-01 9.54e-01f  1\n",
      "   5  9.5958210e+01 3.11e-04 1.02e+00  -1.0 5.32e+00    -  9.00e-01 1.00e+00f  1\n",
      "   6  9.1079767e+01 9.61e-04 4.29e-01  -1.0 1.81e+01    -  8.25e-01 9.28e-01f  1\n",
      "   7  8.8065943e+01 5.22e-04 2.53e+00  -1.7 2.08e+01    -  5.39e-01 7.21e-01f  1\n",
      "   8  8.6586179e+01 1.06e-04 1.50e+01  -1.7 2.33e+01    -  3.88e-01 1.00e+00f  1\n",
      "   9  8.6313476e+01 3.56e-05 5.04e+00  -1.7 2.64e+01    -  9.45e-01 7.49e-01f  1\n",
      "iter    objective    inf_pr   inf_du lg(mu)  ||d||  lg(rg) alpha_du alpha_pr  ls\n",
      "  10  8.6293390e+01 8.19e-06 2.14e-03  -1.7 1.39e+01    -  1.00e+00 1.00e+00f  1\n",
      "  11  8.5587817e+01 1.78e-05 6.29e-02  -2.5 2.11e+01    -  8.95e-01 9.75e-01f  1\n",
      "  12  8.5558274e+01 5.71e-06 1.22e-04  -2.5 7.88e+00    -  1.00e+00 1.00e+00f  1\n",
      "  13  8.5483197e+01 3.03e-06 2.77e-01  -3.8 5.77e+00    -  9.14e-01 7.04e-01f  1\n",
      "  14  8.5454423e+01 8.68e-06 6.56e-02  -3.8 1.51e+01    -  1.00e+00 8.97e-01f  1\n",
      "  15  8.5450947e+01 8.05e-06 3.13e-05  -3.8 1.39e+01    -  1.00e+00 1.00e+00f  1\n",
      "  16  8.5446104e+01 2.99e-06 9.00e-02  -5.7 1.15e+01    -  8.03e-01 6.86e-01h  1\n",
      "  17  8.5444614e+01 1.29e-06 4.73e-01  -5.7 5.52e+00    -  9.41e-01 6.33e-01f  1\n",
      "  18  8.5444070e+01 7.85e-07 2.43e-01  -5.7 4.17e-01    -  1.00e+00 8.34e-01f  1\n",
      "  19  8.5443976e+01 5.10e-08 5.27e-07  -5.7 2.80e-01    -  1.00e+00 1.00e+00f  1\n",
      "iter    objective    inf_pr   inf_du lg(mu)  ||d||  lg(rg) alpha_du alpha_pr  ls\n",
      "  20  8.5443901e+01 4.24e-09 1.14e-03  -8.6 1.75e-02    -  9.89e-01 9.79e-01h  1\n",
      "  21  8.5443900e+01 9.15e-10 3.95e-09  -8.6 4.93e-03    -  1.00e+00 1.00e+00f  1\n",
      "\n",
      "Number of Iterations....: 21\n",
      "\n",
      "                                   (scaled)                 (unscaled)\n",
      "Objective...............:   8.5443899649198926e+01    8.5443899649198926e+01\n",
      "Dual infeasibility......:   3.9520942629600597e-09    3.9520942629600597e-09\n",
      "Constraint violation....:   9.1514595901287521e-10    9.1514595901287521e-10\n",
      "Variable bound violation:   0.0000000000000000e+00    0.0000000000000000e+00\n",
      "Complementarity.........:   2.5164619003249323e-09    2.5164619003249323e-09\n",
      "Overall NLP error.......:   3.9520942629600597e-09    3.9520942629600597e-09\n",
      "\n",
      "\n",
      "Number of objective function evaluations             = 22\n",
      "Number of objective gradient evaluations             = 22\n",
      "Number of equality constraint evaluations            = 22\n",
      "Number of inequality constraint evaluations          = 22\n",
      "Number of equality constraint Jacobian evaluations   = 22\n",
      "Number of inequality constraint Jacobian evaluations = 22\n",
      "Number of Lagrangian Hessian evaluations             = 21\n",
      "Total seconds in IPOPT                               = 3.398\n",
      "\n",
      "EXIT: Optimal Solution Found.\n",
      "      solver  :   t_proc      (avg)   t_wall      (avg)    n_eval\n",
      "       nlp_f  | 109.00us (  4.95us) 109.47us (  4.98us)        22\n",
      "       nlp_g  |  94.64ms (  4.30ms)  95.11ms (  4.32ms)        22\n",
      "  nlp_grad_f  | 246.00us ( 10.70us) 238.38us ( 10.36us)        23\n",
      "  nlp_hess_l  |   2.33 s (110.81ms)   2.33 s (111.16ms)        21\n",
      "   nlp_jac_g  | 924.42ms ( 40.19ms) 926.96ms ( 40.30ms)        23\n",
      "       total  |   3.39 s (  3.39 s)   3.40 s (  3.40 s)         1\n"
     ]
    }
   ],
   "source": [
    "opti = casadi.Opti()\n",
    "\n",
    "# Decision variable for states\n",
    "x = opti.variable(nx)\n",
    "P = opti.variable(nx, nx)\n",
    "opti.set_initial(P, np.eye(2))\n",
    "\n",
    "# Initial constraints\n",
    "opti.subject_to(x == x0)\n",
    "opti.subject_to(P == diag([0.01**2, 0.1**2]))\n",
    "\n",
    "U = []\n",
    "X = [x]\n",
    "Ps = [P]\n",
    "# Gap-closing shooting constraints\n",
    "for k in range(N):\n",
    "    u = opti.variable()\n",
    "    U.append(u)\n",
    "\n",
    "    x_next = opti.variable(nx)\n",
    "    P_next = opti.variable(nx, nx)\n",
    "    opti.set_initial(P_next, np.eye(2))\n",
    "    res = intg(x0=vertcat(x, vec(P)), p=u)\n",
    "\n",
    "    xf = res[\"xf\"][:nx]\n",
    "    Pf = reshape(res[\"xf\"][nx:], nx, nx)\n",
    "    opti.subject_to(x_next == xf)\n",
    "    opti.subject_to(vec(P_next) == vec(Pf))\n",
    "\n",
    "    opti.subject_to(opti.bounded(-40, u, 40))\n",
    "    var = horzcat(1, 0) @ P @ vertcat(1, 0)\n",
    "    sigma = sqrt(var)\n",
    "    opti.subject_to(opti.bounded(-0.25, x[0], x1_bound(tgrid[k]) - sigma))\n",
    "\n",
    "    x = x_next\n",
    "    P = P_next\n",
    "\n",
    "    Ps.append(P)\n",
    "    X.append(x)\n",
    "\n",
    "var = horzcat(1,0) @ P @ vertcat(1,0)\n",
    "sigma = sqrt(var)\n",
    "opti.subject_to(opti.bounded(-0.25, x_next[0], x1_bound(tgrid[N]) - sigma))\n",
    "U = hcat(U)\n",
    "X = hcat(X)\n",
    "\n",
    "opti.minimize(sumsqr(X[0, :] - 3))\n",
    "\n",
    "opti.solver('ipopt')\n",
    "\n",
    "sol = opti.solve()"
   ]
  },
  {
   "cell_type": "code",
   "execution_count": 22,
   "id": "e6605e1f-a274-4c58-8523-411629c36d1b",
   "metadata": {},
   "outputs": [
    {
     "data": {
      "image/png": "[encoded data removed]",
      "text/plain": [
       "<Figure size 640x480 with 2 Axes>"
      ]
     },
     "metadata": {},
     "output_type": "display_data"
    }
   ],
   "source": [
    "usol = sol.value(U)\n",
    "xsol = sol.value(X)\n",
    "Psol = np.array([sol.value(diag(p)) for p in Ps]).T\n",
    "make_ioplot_with_error_bars(tgrid, xsol, usol, Psol)\n",
    "plt.tight_layout()\n",
    "filename = \"robust_sol_1_1_2_ioplot.pdf\"\n",
    "plt.savefig(os.path.join(plot_dir, filename))\n",
    "plt.show()"
   ]
  },
  {
   "cell_type": "code",
   "execution_count": 57,
   "id": "680a9446-b66f-4d7b-87b0-289913b3ed7d",
   "metadata": {},
   "outputs": [
    {
     "name": "stdout",
     "output_type": "stream",
     "text": [
      "85.44389964919893\n"
     ]
    }
   ],
   "source": [
    "obj_final = sol.stats()['iterations']['obj'][-1]\n",
    "print(obj_final)\n",
    "assert np.isclose(obj_final, 8.5443900e+01, rtol=0, atol=1e-6)"
   ]
  },
  {
   "cell_type": "code",
   "execution_count": null,
   "id": "f6d53c5a-bb0f-4abd-b376-6424985c7c8c",
   "metadata": {},
   "outputs": [],
   "source": []
  },
  {
   "cell_type": "code",
   "execution_count": null,
   "id": "a373ec9f-12e7-4f00-91cb-725c8f28f62f",
   "metadata": {},
   "outputs": [],
   "source": []
  },
  {
   "cell_type": "code",
   "execution_count": null,
   "id": "3c09c842-9e12-48a6-9c61-208623aa0701",
   "metadata": {},
   "outputs": [],
   "source": []
  }
 ],
 "metadata": {
  "kernelspec": {
   "display_name": "Python (casadi)",
   "language": "python",
   "name": "casadi"
  },
  "language_info": {
   "codemirror_mode": {
    "name": "ipython",
    "version": 3
   },
   "file_extension": ".py",
   "mimetype": "text/x-python",
   "name": "python",
   "nbconvert_exporter": "python",
   "pygments_lexer": "ipython3",
   "version": "3.10.13"
  }
 },
 "nbformat": 4,
 "nbformat_minor": 5
}
