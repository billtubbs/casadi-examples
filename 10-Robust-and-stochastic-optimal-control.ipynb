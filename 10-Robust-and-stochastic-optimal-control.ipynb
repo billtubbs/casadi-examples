{
 "cells": [
  {
   "cell_type": "markdown",
   "id": "934f2fb4-894b-476a-a384-276a3175ac54",
   "metadata": {},
   "source": [
    "# Robust and Stochastic Optimal Control"
   ]
  },
  {
   "cell_type": "code",
   "execution_count": 1,
   "id": "38e43c93-f11d-4e30-bbae-abb75448b3ed",
   "metadata": {},
   "outputs": [
    {
     "name": "stdout",
     "output_type": "stream",
     "text": [
      "Casadi: 3.6.5\n",
      "Python: 3.12.4\n"
     ]
    }
   ],
   "source": [
    "import os\n",
    "import time\n",
    "import numpy as np\n",
    "from numpy.testing import assert_array_equal, assert_array_almost_equal\n",
    "import matplotlib.pyplot as plt\n",
    "from casadi import MX, SX, DM, Function, Opti\n",
    "import casadi as cas\n",
    "from platform import python_version\n",
    "\n",
    "print(f\"Casadi: {cas.__version__}\")\n",
    "print(f\"Python: {python_version()}\")"
   ]
  },
  {
   "cell_type": "code",
   "execution_count": 2,
   "id": "bc2ebee8-1192-4cfe-b4e0-4ab4f70b1b8b",
   "metadata": {},
   "outputs": [],
   "source": [
    "plot_dir = 'plots'\n",
    "if not os.path.exists(plot_dir):\n",
    "    os.mkdir(plot_dir)"
   ]
  },
  {
   "cell_type": "code",
   "execution_count": 3,
   "id": "73d5e334-b1fb-457b-b943-8bfa8e7da938",
   "metadata": {},
   "outputs": [
    {
     "data": {
      "text/plain": [
       "(41,)"
      ]
     },
     "execution_count": 3,
     "metadata": {},
     "output_type": "execute_result"
    }
   ],
   "source": [
    "# Physical constants\n",
    "\n",
    "T = 1.0  # control horizon [s]\n",
    "N = 40  # Number of control intervals\n",
    "\n",
    "dt = T / N  # length of 1 control interval [s]\n",
    "\n",
    "tgrid = np.linspace(0, T, N+1)\n",
    "tgrid.shape"
   ]
  },
  {
   "cell_type": "markdown",
   "id": "6dd24491-c4eb-4d5a-8524-3cc1ebac0230",
   "metadata": {},
   "source": [
    "## Continuous system $\\dot{x}=f(x,u)$"
   ]
  },
  {
   "cell_type": "markdown",
   "id": "5b6de4c2-85f8-47a5-a725-f646d95b9c96",
   "metadata": {},
   "source": [
    "Van der Pol oscillator\n",
    "\n",
    "$$\n",
    "\\frac{d\\left[\\begin{array}{l}\n",
    "x_1 \\\\\n",
    "x_2\n",
    "\\end{array}\\right]}{d t}=\\left[\\begin{array}{c}\n",
    "x_2 \\\\\n",
    "-0.1\\left(1-x_1^2\\right) x_2-x_1+u\n",
    "\\end{array}\\right]\n",
    "$$"
   ]
  },
  {
   "cell_type": "code",
   "execution_count": 4,
   "id": "78a5163f-2d07-4c45-9e64-fc872ce897a3",
   "metadata": {},
   "outputs": [],
   "source": [
    "nx = 2\n",
    "\n",
    "# Expression for the ODE right-hand side\n",
    "x1 = MX.sym('x1')\n",
    "x2 = MX.sym('x2')\n",
    "u = MX.sym('u')\n",
    "x = cas.vertcat(x1, x2)\n",
    "rhs = cas.vertcat(x2, -0.1 * (1 - x1**2) * x2 - x1 + u)\n",
    "\n",
    "# Upper bound on first state variable\n",
    "x1_bound = lambda t: 2 + 0.1 * cas.cos(10 * t)"
   ]
  },
  {
   "cell_type": "markdown",
   "id": "667125e2-3a18-4f43-ac28-1a7b3e08979b",
   "metadata": {},
   "source": [
    "## Discrete system $x_{k+1} = F(x_k,u_k)$"
   ]
  },
  {
   "cell_type": "code",
   "execution_count": 5,
   "id": "6294e1ff-9586-445c-83ab-49885f104d9b",
   "metadata": {},
   "outputs": [],
   "source": [
    "intg = cas.integrator('intg', 'cvodes', {'x': x, 'p': u, 'ode': rhs}, 0, dt)"
   ]
  },
  {
   "cell_type": "markdown",
   "id": "7b9f4b03-bb60-4670-93f3-1310a2299bf8",
   "metadata": {},
   "source": [
    "## 1. Stochastic Optimal Control"
   ]
  },
  {
   "cell_type": "markdown",
   "id": "2461cf05-9c79-41b4-8547-22b3bc66a58e",
   "metadata": {},
   "source": [
    "$$\n",
    "\\begin{array}{cl}\n",
    "\\underset{x(\\cdot), u(\\cdot)}{\\operatorname{minimize}} & \\int_0^T\\left\\|x_1(t)-3\\right\\|_2^2 d t \\\\\n",
    "\\text { subject to } & \\dot{x}(t)=f(x(t), u(t)) \\quad \\forall t \\in[0, T] \\\\\n",
    "& -40 \\leq u(t) \\leq 40 \\quad \\forall t \\in[0, T] \\\\\n",
    "& -0.25 \\leq x_1(t) \\leq b(t) \\quad \\forall t \\in[0, T] \\\\\n",
    "& x(0)=\\hat{x}\n",
    "\\end{array}\n",
    "$$"
   ]
  },
  {
   "cell_type": "markdown",
   "id": "ee976958-04c0-47db-8b9b-7ff903662dfa",
   "metadata": {},
   "source": [
    "### Template code – Optimal control problem, multiple shooting"
   ]
  },
  {
   "cell_type": "code",
   "execution_count": 6,
   "id": "81997211-82a8-4831-8bc3-0673c2d61e72",
   "metadata": {},
   "outputs": [
    {
     "name": "stdout",
     "output_type": "stream",
     "text": [
      "\n",
      "******************************************************************************\n",
      "This program contains Ipopt, a library for large-scale nonlinear optimization.\n",
      " Ipopt is released as open source code under the Eclipse Public License (EPL).\n",
      "         For more information visit https://github.com/coin-or/Ipopt\n",
      "******************************************************************************\n",
      "\n",
      "This is Ipopt version 3.14.11, running with linear solver MUMPS 5.4.1.\n",
      "\n",
      "Number of nonzeros in equality constraint Jacobian...:      322\n",
      "Number of nonzeros in inequality constraint Jacobian.:       81\n",
      "Number of nonzeros in Lagrangian Hessian.............:      241\n",
      "\n",
      "Total number of variables............................:      122\n",
      "                     variables with only lower bounds:        0\n",
      "                variables with lower and upper bounds:        0\n",
      "                     variables with only upper bounds:        0\n",
      "Total number of equality constraints.................:       82\n",
      "Total number of inequality constraints...............:       81\n",
      "        inequality constraints with only lower bounds:        0\n",
      "   inequality constraints with lower and upper bounds:       81\n",
      "        inequality constraints with only upper bounds:        0\n",
      "\n",
      "iter    objective    inf_pr   inf_du lg(mu)  ||d||  lg(rg) alpha_du alpha_pr  ls\n",
      "   0  3.6900000e+02 5.00e-01 1.17e+00  -1.0 0.00e+00    -  0.00e+00 0.00e+00   0\n",
      "   1  2.0336464e+02 1.15e-03 3.37e+00  -1.0 5.64e+00    -  2.11e-01 1.00e+00f  1\n",
      "   2  1.4097646e+02 5.21e-03 1.33e+00  -1.0 1.20e+01    -  7.84e-01 5.49e-01f  1\n",
      "   3  1.1340639e+02 2.95e-03 6.73e-01  -1.0 1.70e+01    -  8.11e-01 5.55e-01f  1\n",
      "   4  9.2138085e+01 4.62e-03 1.56e+00  -1.0 1.64e+01    -  5.54e-01 7.24e-01f  1\n",
      "   5  8.9271358e+01 7.70e-04 1.95e+00  -1.0 1.79e+01    -  7.56e-01 1.00e+00f  1\n",
      "   6  8.5590753e+01 5.93e-04 3.86e-01  -1.0 1.99e+01    -  1.00e+00 9.35e-01f  1\n",
      "   7  8.2622808e+01 2.05e-04 4.40e+00  -1.7 2.60e+01    -  6.19e-01 1.00e+00f  1\n",
      "   8  8.2251241e+01 3.83e-05 1.42e+00  -1.7 1.27e+01    -  1.00e+00 8.45e-01f  1\n",
      "   9  8.2184821e+01 6.65e-06 4.76e-05  -1.7 1.16e+01    -  1.00e+00 1.00e+00f  1\n",
      "iter    objective    inf_pr   inf_du lg(mu)  ||d||  lg(rg) alpha_du alpha_pr  ls\n",
      "  10  8.1561659e+01 9.72e-06 1.88e-01  -3.8 1.99e+01    -  7.07e-01 7.88e-01f  1\n",
      "  11  8.1392663e+01 6.75e-06 2.61e-01  -3.8 1.70e+01    -  7.47e-01 9.20e-01f  1\n",
      "  12  8.1381543e+01 2.14e-06 2.04e-01  -3.8 2.15e+00    -  1.00e+00 7.93e-01f  1\n",
      "  13  8.1378939e+01 5.44e-06 2.71e-07  -3.8 3.03e+00    -  1.00e+00 1.00e+00f  1\n",
      "  14  8.1373055e+01 3.53e-06 2.28e-03  -5.7 2.19e+00    -  9.46e-01 9.82e-01h  1\n",
      "  15  8.1372958e+01 4.97e-07 5.11e-09  -5.7 2.35e-01    -  1.00e+00 1.00e+00f  1\n",
      "  16  8.1372883e+01 2.30e-08 1.82e-11  -8.6 6.27e-03    -  1.00e+00 1.00e+00h  1\n",
      "  17  8.1372883e+01 7.75e-10 2.22e-14  -9.0 4.46e-04    -  1.00e+00 1.00e+00h  1\n",
      "\n",
      "Number of Iterations....: 17\n",
      "\n",
      "                                   (scaled)                 (unscaled)\n",
      "Objective...............:   8.1372883252305371e+01    8.1372883252305371e+01\n",
      "Dual infeasibility......:   2.2204460492503131e-14    2.2204460492503131e-14\n",
      "Constraint violation....:   7.7533890419090312e-10    7.7533890419090312e-10\n",
      "Variable bound violation:   0.0000000000000000e+00    0.0000000000000000e+00\n",
      "Complementarity.........:   9.0911080167804167e-10    9.0911080167804167e-10\n",
      "Overall NLP error.......:   9.0911080167804167e-10    9.0911080167804167e-10\n",
      "\n",
      "\n",
      "Number of objective function evaluations             = 18\n",
      "Number of objective gradient evaluations             = 18\n",
      "Number of equality constraint evaluations            = 18\n",
      "Number of inequality constraint evaluations          = 18\n",
      "Number of equality constraint Jacobian evaluations   = 18\n",
      "Number of inequality constraint Jacobian evaluations = 18\n",
      "Number of Lagrangian Hessian evaluations             = 17\n",
      "Total seconds in IPOPT                               = 0.370\n",
      "\n",
      "EXIT: Optimal Solution Found.\n",
      "      solver  :   t_proc      (avg)   t_wall      (avg)    n_eval\n",
      "       nlp_f  |   1.00ms ( 55.56us)  62.00us (  3.44us)        18\n",
      "       nlp_g  |  76.00ms (  4.22ms)  16.16ms (898.06us)        18\n",
      "  nlp_grad_f  |        0 (       0) 111.00us (  5.84us)        19\n",
      "  nlp_hess_l  | 212.00ms ( 12.47ms) 212.21ms ( 12.48ms)        17\n",
      "   nlp_jac_g  |  79.00ms (  4.16ms) 113.59ms (  5.98ms)        19\n",
      "       total  | 380.00ms (380.00ms) 369.99ms (369.99ms)         1\n"
     ]
    }
   ],
   "source": [
    "x0 = cas.vertcat(0.5, 0)\n",
    "\n",
    "opti = Opti()\n",
    "\n",
    "# Decision variable for states\n",
    "x = opti.variable(nx)\n",
    "\n",
    "# Initial constraints\n",
    "opti.subject_to(x == x0)\n",
    "\n",
    "U = []\n",
    "X = [x]\n",
    "\n",
    "# Gap-closing shooting constraints\n",
    "for k in range(N):\n",
    "  u = opti.variable()\n",
    "  U.append(u)\n",
    "\n",
    "  x_next = opti.variable(nx)\n",
    "  res = intg(x0=x, p=u)\n",
    "  opti.subject_to(x_next == res[\"xf\"])\n",
    "\n",
    "  opti.subject_to(opti.bounded(-40, u, 40))\n",
    "  opti.subject_to(opti.bounded(-0.25, x[0], x1_bound(tgrid[k])))\n",
    "  \n",
    "  x = x_next\n",
    "  X.append(x)\n",
    "\n",
    "opti.subject_to(opti.bounded(-0.25, x_next[0], x1_bound(tgrid[N])))\n",
    "U = cas.hcat(U)\n",
    "X = cas.hcat(X)\n",
    "\n",
    "opti.minimize(cas.sumsqr(X[0, :] - 3))\n",
    "\n",
    "opti.solver('ipopt')\n",
    "\n",
    "sol = opti.solve()"
   ]
  },
  {
   "cell_type": "code",
   "execution_count": 7,
   "id": "94b5fdfe-e4a3-4366-a5f6-02dc95612ead",
   "metadata": {},
   "outputs": [],
   "source": [
    "sol1_x = np.array(sol.value(X))"
   ]
  },
  {
   "cell_type": "markdown",
   "id": "8ad8deb6-393e-46e8-b2d1-64d9be2df517",
   "metadata": {},
   "source": [
    "### Post-processing: plotting"
   ]
  },
  {
   "cell_type": "code",
   "execution_count": 8,
   "id": "0eabc6b9-3409-4649-a046-bf4c990df5e8",
   "metadata": {},
   "outputs": [
    {
     "data": {
      "image/png": "[encoded data removed]",
      "text/plain": [
       "<Figure size 640x480 with 2 Axes>"
      ]
     },
     "metadata": {},
     "output_type": "display_data"
    }
   ],
   "source": [
    "def make_ioplot(tgrid, xsol, usol):\n",
    "    fig, axes = plt.subplots(2, 1)\n",
    "    \n",
    "    ax = axes[0]\n",
    "    ax.plot(tgrid, xsol[0, :].T, 'b.-', linewidth=2, label='OCP trajectory $x_1$')\n",
    "    ax.plot(tgrid, x1_bound(tgrid), 'r--', linewidth=2, label='bound on $x_1$')\n",
    "    ax.set_title('State $x_1$')\n",
    "    ax.set_xlabel('Time [s]')\n",
    "    ax.set_ylabel('$x_1$')\n",
    "    ax.grid()\n",
    "    ax.legend()\n",
    "    \n",
    "    ax = axes[1]\n",
    "    ax.step(tgrid, cas.vertcat(usol, usol[-1]), linewidth=2)\n",
    "    ax.set_title('Applied control signal')\n",
    "    ax.set_ylabel('Force [N]')\n",
    "    ax.set_xlabel('Time [s]')\n",
    "    ax.grid()\n",
    "\n",
    "    return fig, axes\n",
    "\n",
    "usol = sol.value(U)\n",
    "xsol = sol.value(X)\n",
    "make_ioplot(tgrid, xsol, usol)\n",
    "plt.tight_layout()\n",
    "filename = \"robust_sol_1_1_0_ioplot.pdf\"\n",
    "plt.savefig(os.path.join(plot_dir, filename))\n",
    "plt.show()"
   ]
  },
  {
   "cell_type": "markdown",
   "id": "ca944c61-fd97-45af-842f-8528f32319d1",
   "metadata": {},
   "source": [
    "### 1.1. Augment the multiple-shooting implementation with the covariance dynamics"
   ]
  },
  {
   "cell_type": "markdown",
   "id": "1cefcf34-c51c-4a73-8bef-ca469dd9ff86",
   "metadata": {},
   "source": [
    "$$\n",
    "\\begin{array}{cl}\n",
    "\\underset{x(\\cdot), u(\\cdot)}{\\operatorname{minimize}} & \\int_0^T\\left\\|x_1(t)-3\\right\\|_2^2 d t \\\\\n",
    "\\text { subject to } & \\dot{x}(t)=f(x(t), u(t)) \\quad \\forall t \\in[0, T] \\\\\n",
    "& x(0)=\\hat{x} \\\\\n",
    "& \\dot{\\Sigma}_{x(t)}=\\frac{\\partial f}{\\partial x}(x(t), u(t)) \\Sigma_{x(t)}+\\Sigma_{x(t)} \\frac{\\partial f^T}{\\partial x}(x(t), u(t))+Q(t) \\quad \\forall t \\in[0, T] \\\\\n",
    "& \\Sigma_{x(0)}=\\Sigma_{\\hat{x}} \\\\\n",
    "& -40 \\leq u(t) \\leq 40 \\quad \\forall t \\in[0, T] \\\\\n",
    "& -0.25 \\leq x_1(t) \\leq b(t) \\quad \\forall t \\in[0, T]\n",
    "\\end{array}\n",
    "$$"
   ]
  },
  {
   "cell_type": "code",
   "execution_count": 9,
   "id": "f8ce41b3-27dc-4651-a558-2411028b7002",
   "metadata": {},
   "outputs": [
    {
     "data": {
      "text/plain": [
       "MX(vertcat(x2, ((((-0.1*(1-sq(x1)))*x2)-x1)+u)))"
      ]
     },
     "execution_count": 9,
     "metadata": {},
     "output_type": "execute_result"
    }
   ],
   "source": [
    "# Expression for the ODE right-hand side\n",
    "x1 = MX.sym('x1')\n",
    "x2 = MX.sym('x2')\n",
    "u = MX.sym('u')\n",
    "dxdt_rhs = cas.vertcat(x2, -0.1 * (1 - x1**2) * x2 - x1 + u)\n",
    "dxdt_rhs"
   ]
  },
  {
   "cell_type": "code",
   "execution_count": 10,
   "id": "5b6cc140-3c38-40e3-b584-6bdf0045d078",
   "metadata": {},
   "outputs": [],
   "source": [
    "x = cas.vertcat(x1, x2)\n",
    "dfdx = cas.jacobian(dxdt_rhs, x)\n",
    "dfdu = cas.jacobian(dxdt_rhs, u)\n",
    "assert dfdx.shape == (2, 2)\n",
    "assert dfdu.shape == (2, 1)"
   ]
  },
  {
   "cell_type": "code",
   "execution_count": 11,
   "id": "044628ba-db45-4b0e-9aa3-67e8f02cfdc6",
   "metadata": {},
   "outputs": [],
   "source": [
    "# Expression for propagating the covariance matrix\n",
    "P = MX.sym('sigma_x', 2, 2)\n",
    "dPdt_rhs = dfdx @ P + P @ dfdx.T\n",
    "assert dPdt_rhs.shape == (2, 2)"
   ]
  },
  {
   "cell_type": "code",
   "execution_count": 12,
   "id": "10892976-c15f-4420-b013-08cb9db988f4",
   "metadata": {},
   "outputs": [],
   "source": [
    "rhs = cas.vertcat(dxdt_rhs, cas.vec(dPdt_rhs))\n",
    "x_aug = cas.vertcat(x, cas.vec(P))\n",
    "assert rhs.shape == (6, 1)\n",
    "assert x_aug.shape == (6, 1)"
   ]
  },
  {
   "cell_type": "code",
   "execution_count": 13,
   "id": "20b3e35e-480b-43ab-8cf9-d332f381c8d5",
   "metadata": {},
   "outputs": [],
   "source": [
    "x1_bound = lambda t: 2 + 0.1 * cas.cos(10 * t)"
   ]
  },
  {
   "cell_type": "code",
   "execution_count": 14,
   "id": "ff8b61fb-c1bd-4989-a2d3-816c6e6a9297",
   "metadata": {},
   "outputs": [
    {
     "data": {
      "text/plain": [
       "Function(intg:(x0[6],z0[0],p,u[0],adj_xf[],adj_zf[],adj_qf[])->(xf[6],zf[0],qf[0],adj_x0[],adj_z0[],adj_p[],adj_u[]) CvodesInterface)"
      ]
     },
     "execution_count": 14,
     "metadata": {},
     "output_type": "execute_result"
    }
   ],
   "source": [
    "intg = cas.integrator('intg', 'cvodes', {'x': x_aug, 'p': u, 'ode': rhs}, 0, dt)\n",
    "intg"
   ]
  },
  {
   "cell_type": "code",
   "execution_count": 15,
   "id": "2cb7d38d-b45e-4353-bccc-2765b18f371f",
   "metadata": {},
   "outputs": [],
   "source": [
    "# Initial condition is defined by a Gaussian distribution\n",
    "x0 = cas.vertcat(0.5, 0)"
   ]
  },
  {
   "cell_type": "markdown",
   "id": "d29e453c-a22a-48db-b10b-268d78c16aab",
   "metadata": {},
   "source": [
    "### Optimal control problem, multiple shooting"
   ]
  },
  {
   "cell_type": "code",
   "execution_count": 16,
   "id": "53355cbb-3afa-4311-b26b-09714c3e7be1",
   "metadata": {},
   "outputs": [
    {
     "name": "stdout",
     "output_type": "stream",
     "text": [
      "This is Ipopt version 3.14.11, running with linear solver MUMPS 5.4.1.\n",
      "\n",
      "Number of nonzeros in equality constraint Jacobian...:     1606\n",
      "Number of nonzeros in inequality constraint Jacobian.:       81\n",
      "Number of nonzeros in Lagrangian Hessian.............:      721\n",
      "\n",
      "Total number of variables............................:      286\n",
      "                     variables with only lower bounds:        0\n",
      "                variables with lower and upper bounds:        0\n",
      "                     variables with only upper bounds:        0\n",
      "Total number of equality constraints.................:      246\n",
      "Total number of inequality constraints...............:       81\n",
      "        inequality constraints with only lower bounds:        0\n",
      "   inequality constraints with lower and upper bounds:       81\n",
      "        inequality constraints with only upper bounds:        0\n",
      "\n",
      "iter    objective    inf_pr   inf_du lg(mu)  ||d||  lg(rg) alpha_du alpha_pr  ls\n",
      "   0  3.6900000e+02 5.00e-01 1.17e+00  -1.0 0.00e+00    -  0.00e+00 0.00e+00   0\n",
      "   1  2.0336462e+02 1.15e-03 3.37e+00  -1.0 5.64e+00    -  2.11e-01 1.00e+00f  1\n",
      "   2  1.4097620e+02 5.21e-03 1.33e+00  -1.0 1.20e+01    -  7.84e-01 5.49e-01f  1\n",
      "   3  1.1340600e+02 2.95e-03 6.73e-01  -1.0 1.70e+01    -  8.11e-01 5.55e-01f  1\n",
      "   4  9.2137854e+01 4.62e-03 1.56e+00  -1.0 1.64e+01    -  5.54e-01 7.24e-01f  1\n",
      "   5  8.9271073e+01 7.70e-04 1.95e+00  -1.0 1.79e+01    -  7.56e-01 1.00e+00f  1\n",
      "   6  8.5590464e+01 5.97e-04 3.86e-01  -1.0 1.99e+01    -  1.00e+00 9.35e-01f  1\n",
      "   7  8.2622600e+01 2.05e-04 4.40e+00  -1.7 2.60e+01    -  6.19e-01 1.00e+00f  1\n",
      "   8  8.2251031e+01 3.87e-05 1.42e+00  -1.7 1.27e+01    -  1.00e+00 8.45e-01f  1\n",
      "   9  8.2184633e+01 9.13e-06 4.76e-05  -1.7 1.16e+01    -  1.00e+00 1.00e+00f  1\n",
      "iter    objective    inf_pr   inf_du lg(mu)  ||d||  lg(rg) alpha_du alpha_pr  ls\n",
      "  10  8.1561463e+01 1.04e-05 1.88e-01  -3.8 1.99e+01    -  7.07e-01 7.88e-01f  1\n",
      "  11  8.1392441e+01 8.50e-06 2.61e-01  -3.8 1.70e+01    -  7.47e-01 9.20e-01f  1\n",
      "  12  8.1381348e+01 2.94e-06 2.04e-01  -3.8 2.16e+00    -  1.00e+00 7.93e-01f  1\n",
      "  13  8.1378755e+01 4.05e-06 2.72e-07  -3.8 3.02e+00    -  1.00e+00 1.00e+00f  1\n",
      "  14  8.1372874e+01 2.14e-06 2.18e-03  -5.7 2.17e+00    -  9.46e-01 9.81e-01h  1\n",
      "  15  8.1372774e+01 2.81e-07 5.36e-09  -5.7 2.60e-01    -  1.00e+00 1.00e+00f  1\n",
      "  16  8.1372699e+01 1.06e-08 1.19e-11  -8.6 5.66e-03    -  1.00e+00 1.00e+00h  1\n",
      "  17  8.1372699e+01 4.32e-10 6.71e-14  -9.0 4.27e-04    -  1.00e+00 1.00e+00h  1\n",
      "\n",
      "Number of Iterations....: 17\n",
      "\n",
      "                                   (scaled)                 (unscaled)\n",
      "Objective...............:   8.1372698965287071e+01    8.1372698965287071e+01\n",
      "Dual infeasibility......:   6.7057470687359455e-14    6.7057470687359455e-14\n",
      "Constraint violation....:   4.3232262214587536e-10    4.3232262214587536e-10\n",
      "Variable bound violation:   0.0000000000000000e+00    0.0000000000000000e+00\n",
      "Complementarity.........:   9.0910900826325822e-10    9.0910900826325822e-10\n",
      "Overall NLP error.......:   9.0910900826325822e-10    9.0910900826325822e-10\n",
      "\n",
      "\n",
      "Number of objective function evaluations             = 18\n",
      "Number of objective gradient evaluations             = 18\n",
      "Number of equality constraint evaluations            = 18\n",
      "Number of inequality constraint evaluations          = 18\n",
      "Number of equality constraint Jacobian evaluations   = 18\n",
      "Number of inequality constraint Jacobian evaluations = 18\n",
      "Number of Lagrangian Hessian evaluations             = 17\n",
      "Total seconds in IPOPT                               = 0.992\n",
      "\n",
      "EXIT: Optimal Solution Found.\n",
      "      solver  :   t_proc      (avg)   t_wall      (avg)    n_eval\n",
      "       nlp_f  |        0 (       0)  63.00us (  3.50us)        18\n",
      "       nlp_g  |   7.00ms (388.89us)  30.99ms (  1.72ms)        18\n",
      "  nlp_grad_f  |        0 (       0) 150.00us (  7.89us)        19\n",
      "  nlp_hess_l  | 561.00ms ( 33.00ms) 512.97ms ( 30.17ms)        17\n",
      "   nlp_jac_g  | 412.00ms ( 21.68ms) 411.11ms ( 21.64ms)        19\n",
      "       total  |   1.00 s (  1.00 s) 992.32ms (992.32ms)         1\n"
     ]
    }
   ],
   "source": [
    "opti = Opti()\n",
    "\n",
    "# Decision variable for states\n",
    "x = opti.variable(nx)\n",
    "P = opti.variable(nx, nx)\n",
    "\n",
    "# Initial constraints\n",
    "opti.subject_to(x == x0)\n",
    "opti.subject_to(P == cas.diag([0.01**2, 0.1**2]))\n",
    "\n",
    "U = []\n",
    "X = [x]\n",
    "Ps = [P]\n",
    "# Gap-closing shooting constraints\n",
    "for k in range(N):\n",
    "    u = opti.variable()\n",
    "    U.append(u)\n",
    "\n",
    "    x_next = opti.variable(nx)\n",
    "    P_next = opti.variable(nx, nx)\n",
    "    res = intg(x0=cas.vertcat(x, cas.vec(P)), p=u)\n",
    "\n",
    "    xf = res[\"xf\"][:nx]\n",
    "    Pf = cas.reshape(res[\"xf\"][nx:], nx, nx)\n",
    "    opti.subject_to(x_next == xf)\n",
    "    opti.subject_to(cas.vec(P_next) == cas.vec(Pf))\n",
    "\n",
    "    opti.subject_to(opti.bounded(-40, u, 40))\n",
    "    opti.subject_to(opti.bounded(-0.25, x[0], x1_bound(tgrid[k])))\n",
    "\n",
    "    x = x_next\n",
    "    P = P_next\n",
    "\n",
    "    Ps.append(P)\n",
    "    X.append(x)\n",
    "\n",
    "opti.subject_to(opti.bounded(-0.25, x_next[0], x1_bound(tgrid[N])))\n",
    "U = cas.hcat(U)\n",
    "X = cas.hcat(X)\n",
    "\n",
    "opti.minimize(cas.sumsqr(X[0, :] - 3))\n",
    "\n",
    "opti.solver('ipopt')\n",
    "\n",
    "sol = opti.solve()"
   ]
  },
  {
   "cell_type": "markdown",
   "id": "e68222d5-61ce-44b9-ba54-bc43823c74bd",
   "metadata": {},
   "source": [
    "### Post-processing: plotting"
   ]
  },
  {
   "cell_type": "code",
   "execution_count": 17,
   "id": "a9f71d48-9b9e-4514-bb63-573ef373bd8b",
   "metadata": {},
   "outputs": [
    {
     "data": {
      "text/plain": [
       "<matplotlib.image.AxesImage at 0x158319a6540>"
      ]
     },
     "execution_count": 17,
     "metadata": {},
     "output_type": "execute_result"
    },
    {
     "data": {
      "image/png": "[encoded data removed]",
      "text/plain": [
       "<Figure size 640x480 with 1 Axes>"
      ]
     },
     "metadata": {},
     "output_type": "display_data"
    }
   ],
   "source": [
    "plt.figure()\n",
    "plt.spy(sol.value(cas.jacobian(opti.g, opti.x)))"
   ]
  },
  {
   "cell_type": "code",
   "execution_count": 18,
   "id": "a73c721c-1bad-4a7e-a400-9bbf742772b5",
   "metadata": {},
   "outputs": [
    {
     "name": "stdout",
     "output_type": "stream",
     "text": [
      "[[0.0094851  0.00731403]\n",
      " [0.00731403 0.00580253]]\n"
     ]
    }
   ],
   "source": [
    "print(sol.value(Ps[-1]))\n",
    "assert_array_almost_equal(\n",
    "    np.array(sol.value(Ps[-1])),\n",
    "    [[0.0094851, 0.0073140], \n",
    "     [0.0073140, 0.0058025]],\n",
    "    decimal=7\n",
    ")"
   ]
  },
  {
   "cell_type": "code",
   "execution_count": 19,
   "id": "670e64d2-bf0a-4a95-86c6-9a934b5ac0f0",
   "metadata": {},
   "outputs": [
    {
     "name": "stdout",
     "output_type": "stream",
     "text": [
      "0.000831784192147883\n"
     ]
    }
   ],
   "source": [
    "print(np.max(np.abs(sol.value(X) - sol1_x)))\n",
    "assert_array_almost_equal(sol.value(X), sol1_x, decimal=3)"
   ]
  },
  {
   "cell_type": "code",
   "execution_count": 20,
   "id": "4e417c7f-f004-4084-984f-bbd2ebd4e625",
   "metadata": {},
   "outputs": [
    {
     "data": {
      "image/png": "[encoded data removed]",
      "text/plain": [
       "<Figure size 640x480 with 2 Axes>"
      ]
     },
     "metadata": {},
     "output_type": "display_data"
    }
   ],
   "source": [
    "def make_ioplot_with_error_bars(tgrid, xsol, usol, Psol, alpha=0.25):\n",
    "    fig, axes = make_ioplot(tgrid, xsol, usol)\n",
    "    ax = axes[0]\n",
    "    y_err = np.sqrt(Psol[0, :])\n",
    "    ax.fill_between(tgrid, xsol[0, :] - y_err, xsol[0, :] + y_err, alpha=alpha, label='std. dev.')\n",
    "    ax.legend()\n",
    "    return fig, axes\n",
    "\n",
    "usol = sol.value(U)\n",
    "xsol = sol.value(X)\n",
    "Psol = np.array([sol.value(cas.diag(p)) for p in Ps]).T\n",
    "make_ioplot_with_error_bars(tgrid, xsol, usol, Psol)\n",
    "plt.tight_layout()\n",
    "filename = \"robust_sol_1_1_1_ioplot.pdf\"\n",
    "plt.savefig(os.path.join(plot_dir, filename))\n",
    "plt.show()"
   ]
  },
  {
   "cell_type": "markdown",
   "id": "0b7ecd5c-3444-440b-b46e-79c432f08606",
   "metadata": {},
   "source": [
    "### 1.2 Make the path constraint on $x_1(t)$ stochastically robust,"
   ]
  },
  {
   "cell_type": "code",
   "execution_count": 21,
   "id": "0ccd75c1-251b-45f7-b4c2-d2cbdc614533",
   "metadata": {},
   "outputs": [
    {
     "name": "stdout",
     "output_type": "stream",
     "text": [
      "This is Ipopt version 3.14.11, running with linear solver MUMPS 5.4.1.\n",
      "\n",
      "Number of nonzeros in equality constraint Jacobian...:     1606\n",
      "Number of nonzeros in inequality constraint Jacobian.:      286\n",
      "Number of nonzeros in Lagrangian Hessian.............:     1131\n",
      "\n",
      "Total number of variables............................:      286\n",
      "                     variables with only lower bounds:        0\n",
      "                variables with lower and upper bounds:        0\n",
      "                     variables with only upper bounds:        0\n",
      "Total number of equality constraints.................:      246\n",
      "Total number of inequality constraints...............:      122\n",
      "        inequality constraints with only lower bounds:        0\n",
      "   inequality constraints with lower and upper bounds:       40\n",
      "        inequality constraints with only upper bounds:       82\n",
      "\n",
      "iter    objective    inf_pr   inf_du lg(mu)  ||d||  lg(rg) alpha_du alpha_pr  ls\n",
      "   0  3.6900000e+02 1.00e+00 1.14e+00  -1.0 0.00e+00    -  0.00e+00 0.00e+00   0\n",
      "   1  2.0426821e+02 1.10e-03 4.25e+00  -1.0 5.64e+00    -  2.14e-01 1.00e+00f  1\n",
      "   2  1.6009282e+02 2.16e-03 2.80e+00  -1.0 1.22e+01    -  7.43e-01 3.91e-01f  1\n",
      "   3  1.2634521e+02 2.49e-03 3.02e+00  -1.0 1.76e+01    -  2.38e-01 5.35e-01f  1\n",
      "   4  9.9417061e+01 3.18e-03 1.46e+01  -1.0 1.09e+01    -  2.11e-01 9.54e-01f  1\n",
      "   5  9.5958210e+01 3.11e-04 1.02e+00  -1.0 5.32e+00    -  9.00e-01 1.00e+00f  1\n",
      "   6  9.1079767e+01 9.61e-04 4.29e-01  -1.0 1.81e+01    -  8.25e-01 9.28e-01f  1\n",
      "   7  8.8065943e+01 5.22e-04 2.53e+00  -1.7 2.08e+01    -  5.39e-01 7.21e-01f  1\n",
      "   8  8.6586179e+01 1.06e-04 1.50e+01  -1.7 2.33e+01    -  3.88e-01 1.00e+00f  1\n",
      "   9  8.6313476e+01 3.56e-05 5.04e+00  -1.7 2.64e+01    -  9.45e-01 7.49e-01f  1\n",
      "iter    objective    inf_pr   inf_du lg(mu)  ||d||  lg(rg) alpha_du alpha_pr  ls\n",
      "  10  8.6293390e+01 8.19e-06 2.14e-03  -1.7 1.39e+01    -  1.00e+00 1.00e+00f  1\n",
      "  11  8.5587817e+01 1.78e-05 6.29e-02  -2.5 2.11e+01    -  8.95e-01 9.75e-01f  1\n",
      "  12  8.5558274e+01 5.71e-06 1.22e-04  -2.5 7.88e+00    -  1.00e+00 1.00e+00f  1\n",
      "  13  8.5483197e+01 3.03e-06 2.77e-01  -3.8 5.77e+00    -  9.14e-01 7.04e-01f  1\n",
      "  14  8.5454423e+01 8.68e-06 6.56e-02  -3.8 1.51e+01    -  1.00e+00 8.97e-01f  1\n",
      "  15  8.5450947e+01 8.05e-06 3.13e-05  -3.8 1.39e+01    -  1.00e+00 1.00e+00f  1\n",
      "  16  8.5446104e+01 2.99e-06 9.00e-02  -5.7 1.15e+01    -  8.03e-01 6.86e-01h  1\n",
      "  17  8.5444614e+01 1.29e-06 4.73e-01  -5.7 5.52e+00    -  9.41e-01 6.33e-01f  1\n",
      "  18  8.5444070e+01 7.85e-07 2.43e-01  -5.7 4.17e-01    -  1.00e+00 8.34e-01f  1\n",
      "  19  8.5443976e+01 5.10e-08 5.27e-07  -5.7 2.80e-01    -  1.00e+00 1.00e+00f  1\n",
      "iter    objective    inf_pr   inf_du lg(mu)  ||d||  lg(rg) alpha_du alpha_pr  ls\n",
      "  20  8.5443901e+01 4.24e-09 1.14e-03  -8.6 1.75e-02    -  9.89e-01 9.79e-01h  1\n",
      "  21  8.5443900e+01 9.15e-10 3.95e-09  -8.6 4.93e-03    -  1.00e+00 1.00e+00f  1\n",
      "\n",
      "Number of Iterations....: 21\n",
      "\n",
      "                                   (scaled)                 (unscaled)\n",
      "Objective...............:   8.5443899649198940e+01    8.5443899649198940e+01\n",
      "Dual infeasibility......:   3.9520791084157736e-09    3.9520791084157736e-09\n",
      "Constraint violation....:   9.1514595901287521e-10    9.1514595901287521e-10\n",
      "Variable bound violation:   0.0000000000000000e+00    0.0000000000000000e+00\n",
      "Complementarity.........:   2.5164619003249931e-09    2.5164619003249931e-09\n",
      "Overall NLP error.......:   3.9520791084157736e-09    3.9520791084157736e-09\n",
      "\n",
      "\n",
      "Number of objective function evaluations             = 22\n",
      "Number of objective gradient evaluations             = 22\n",
      "Number of equality constraint evaluations            = 22\n",
      "Number of inequality constraint evaluations          = 22\n",
      "Number of equality constraint Jacobian evaluations   = 22\n",
      "Number of inequality constraint Jacobian evaluations = 22\n",
      "Number of Lagrangian Hessian evaluations             = 21\n",
      "Total seconds in IPOPT                               = 1.961\n",
      "\n",
      "EXIT: Optimal Solution Found.\n",
      "      solver  :   t_proc      (avg)   t_wall      (avg)    n_eval\n",
      "       nlp_f  |        0 (       0)  68.00us (  3.09us)        22\n",
      "       nlp_g  |   2.00ms ( 90.91us)  38.69ms (  1.76ms)        22\n",
      "  nlp_grad_f  |        0 (       0) 171.00us (  7.43us)        23\n",
      "  nlp_hess_l  |   1.35 s ( 64.29ms)   1.34 s ( 63.65ms)        21\n",
      "   nlp_jac_g  | 563.00ms ( 24.48ms) 537.94ms ( 23.39ms)        23\n",
      "       total  |   1.97 s (  1.97 s)   1.96 s (  1.96 s)         1\n"
     ]
    }
   ],
   "source": [
    "opti = Opti()\n",
    "\n",
    "# Decision variable for states\n",
    "x = opti.variable(nx)\n",
    "P = opti.variable(nx, nx)\n",
    "opti.set_initial(P, np.eye(2))\n",
    "\n",
    "# Initial constraints\n",
    "opti.subject_to(x == x0)\n",
    "opti.subject_to(P == cas.diag([0.01**2, 0.1**2]))\n",
    "\n",
    "U = []\n",
    "X = [x]\n",
    "Ps = [P]\n",
    "# Gap-closing shooting constraints\n",
    "for k in range(N):\n",
    "    u = opti.variable()\n",
    "    U.append(u)\n",
    "\n",
    "    x_next = opti.variable(nx)\n",
    "    P_next = opti.variable(nx, nx)\n",
    "    opti.set_initial(P_next, np.eye(2))\n",
    "    res = intg(x0=cas.vertcat(x, cas.vec(P)), p=u)\n",
    "\n",
    "    xf = res[\"xf\"][:nx]\n",
    "    Pf = cas.reshape(res[\"xf\"][nx:], nx, nx)\n",
    "    opti.subject_to(x_next == xf)\n",
    "    opti.subject_to(cas.vec(P_next) == cas.vec(Pf))\n",
    "\n",
    "    opti.subject_to(opti.bounded(-40, u, 40))\n",
    "    var = cas.horzcat(1, 0) @ P @ cas.vertcat(1, 0)\n",
    "    sigma = cas.sqrt(var)\n",
    "    opti.subject_to(opti.bounded(-0.25, x[0], x1_bound(tgrid[k]) - sigma))\n",
    "\n",
    "    x = x_next\n",
    "    P = P_next\n",
    "\n",
    "    Ps.append(P)\n",
    "    X.append(x)\n",
    "\n",
    "var = cas.horzcat(1,0) @ P @ cas.vertcat(1,0)\n",
    "sigma = cas.sqrt(var)\n",
    "opti.subject_to(opti.bounded(-0.25, x_next[0], x1_bound(tgrid[N]) - sigma))\n",
    "U = cas.hcat(U)\n",
    "X = cas.hcat(X)\n",
    "\n",
    "opti.minimize(cas.sumsqr(X[0, :] - 3))\n",
    "\n",
    "opti.solver('ipopt')\n",
    "\n",
    "sol = opti.solve()"
   ]
  },
  {
   "cell_type": "code",
   "execution_count": 22,
   "id": "e6605e1f-a274-4c58-8523-411629c36d1b",
   "metadata": {},
   "outputs": [
    {
     "data": {
      "image/png": "[encoded data removed]",
      "text/plain": [
       "<Figure size 640x480 with 2 Axes>"
      ]
     },
     "metadata": {},
     "output_type": "display_data"
    }
   ],
   "source": [
    "usol = sol.value(U)\n",
    "xsol = sol.value(X)\n",
    "Psol = np.array([sol.value(cas.diag(p)) for p in Ps]).T\n",
    "make_ioplot_with_error_bars(tgrid, xsol, usol, Psol)\n",
    "plt.tight_layout()\n",
    "filename = \"robust_sol_1_1_2_ioplot.pdf\"\n",
    "plt.savefig(os.path.join(plot_dir, filename))\n",
    "plt.show()"
   ]
  },
  {
   "cell_type": "code",
   "execution_count": 23,
   "id": "680a9446-b66f-4d7b-87b0-289913b3ed7d",
   "metadata": {},
   "outputs": [
    {
     "name": "stdout",
     "output_type": "stream",
     "text": [
      "85.44389964919894\n"
     ]
    }
   ],
   "source": [
    "obj_final = sol.stats()['iterations']['obj'][-1]\n",
    "print(obj_final)\n",
    "assert np.isclose(obj_final, 8.5443900e+01, rtol=0, atol=1e-6)"
   ]
  },
  {
   "cell_type": "markdown",
   "id": "ee5f04ce-1f31-4f8f-8623-e3623d996c87",
   "metadata": {},
   "source": [
    "## 2. Robust Optimal Control"
   ]
  },
  {
   "cell_type": "markdown",
   "id": "464f1ca5-fc95-4b72-b5b7-58ac1a7392fe",
   "metadata": {},
   "source": [
    "Modified system dynamics\n",
    "\n",
    "$$\n",
    "\\frac{d\\left[\\begin{array}{l}\n",
    "x_1 \\\\\n",
    "x_2\n",
    "\\end{array}\\right]}{d t}=\\left[\\begin{array}{c}\n",
    "x_2 \\\\\n",
    "-0.1\\left(1-x_1^2+\\delta\\right) x_2-x_1+u+\\delta\n",
    "\\end{array}\\right]\n",
    "$$\n",
    "\n",
    "where $\\delta$ is an adversial disturbance that, in each control interval can be realized as either -1 or +1."
   ]
  },
  {
   "cell_type": "markdown",
   "id": "5220625b-ac03-4e05-a199-db5ba4e5c932",
   "metadata": {},
   "source": [
    "### Continuous system $\\dot{x}=f(x,u,\\delta)$"
   ]
  },
  {
   "cell_type": "code",
   "execution_count": 24,
   "id": "5978b83b-6ada-4ecb-b198-a0f52a0c66f7",
   "metadata": {},
   "outputs": [],
   "source": [
    "nx = 2\n",
    "\n",
    "# Expression for the ODE right-hand side\n",
    "x1 = MX.sym('x1')\n",
    "x2 = MX.sym('x2')\n",
    "u = MX.sym('u')\n",
    "x = cas.vertcat(x1, x2)\n",
    "delta = MX.sym('delta')\n",
    "rhs = cas.vertcat(x2, -0.1 * (1 - x1**2 + delta) * x2 - x1 + u)\n",
    "\n",
    "# Upper bound on first state variable\n",
    "x1_bound = lambda t: 2 + 0.1 * cas.cos(10 * t)"
   ]
  },
  {
   "cell_type": "markdown",
   "id": "16bde456-2336-4bd9-b31a-59d7198d498c",
   "metadata": {},
   "source": [
    "### Discrete system $x_{k+1} = F(x_k,u_k,\\delta_k)$"
   ]
  },
  {
   "cell_type": "code",
   "execution_count": 25,
   "id": "07cb8e2e-6c24-48cf-8816-2be6ff787d3c",
   "metadata": {},
   "outputs": [],
   "source": [
    "intg = cas.integrator('intg', 'cvodes', {'x': x, 'p': cas.vertcat(u, delta), 'ode': rhs}, 0, dt)"
   ]
  },
  {
   "cell_type": "markdown",
   "id": "0a3bd8b8-cfca-48c3-9856-e0c7cb38f65d",
   "metadata": {},
   "source": [
    "### Generate scenarios"
   ]
  },
  {
   "cell_type": "code",
   "execution_count": 26,
   "id": "3c09c842-9e12-48a6-9c61-208623aa0701",
   "metadata": {},
   "outputs": [
    {
     "data": {
      "text/plain": [
       "[(-1, -1, -1, -1, -1, -1),\n",
       " (-1, -1, -1, -1, -1, 1),\n",
       " (-1, -1, -1, -1, 1, -1),\n",
       " (-1, -1, -1, -1, 1, 1),\n",
       " (-1, -1, -1, 1, -1, -1),\n",
       " (-1, -1, -1, 1, -1, 1),\n",
       " (-1, -1, -1, 1, 1, -1),\n",
       " (-1, -1, -1, 1, 1, 1),\n",
       " (-1, -1, 1, -1, -1, -1),\n",
       " (-1, -1, 1, -1, -1, 1)]"
      ]
     },
     "execution_count": 26,
     "metadata": {},
     "output_type": "execute_result"
    }
   ],
   "source": [
    "from itertools import product\n",
    "\n",
    "N = 6\n",
    "delta_num = 1\n",
    "delta_values = [-delta_num, delta_num]\n",
    "scenarios = list(product(*[delta_values]*N))\n",
    "scenarios[:10]"
   ]
  },
  {
   "cell_type": "markdown",
   "id": "1812d39b-12b1-47e4-96a7-6c52cecd3a60",
   "metadata": {},
   "source": [
    "### Optimal control problem, multiple shooting"
   ]
  },
  {
   "cell_type": "code",
   "execution_count": 27,
   "id": "be59a664-39de-4ddb-a66e-6bb1fa3847dc",
   "metadata": {},
   "outputs": [],
   "source": [
    "x0 = cas.vertcat(0.5, 0)\n",
    "\n",
    "opti = Opti()\n",
    "\n",
    "# Decision variable for states\n",
    "x = opti.variable(nx)\n",
    "\n",
    "# Initial constraints\n",
    "opti.subject_to(x == x0)\n",
    "\n",
    "U = []\n",
    "X = [x]\n",
    "\n",
    "# Instead of true non-anticipativity constraints,\n",
    "# we just have one common control sequence for all scenarios.\n",
    "U = opti.variable(1, N)\n",
    "opti.subject_to(opti.bounded(-40, U.T, 40))\n",
    "\n",
    "# Sample the state bounds\n",
    "x1_bound_sampled = x1_bound(tgrid)"
   ]
  },
  {
   "cell_type": "raw",
   "id": "77f9f52f-5a28-4262-bdf5-6cc5152e62b9",
   "metadata": {},
   "source": [
    "from recurse import recurse\n",
    "\n",
    "# This function returns a list with an entry for each possible series of events (=one full branch)\n",
    "# Each item in the list is a concatenation of all states of that full branch.\n",
    "X = recurse(opti, intg, delta_num, N, x, x1_bound_sampled[1:], [x], U)\n",
    "\n",
    "len(X)"
   ]
  },
  {
   "cell_type": "raw",
   "id": "fa67aec9-5ab1-47cd-a3dc-40e2ca501866",
   "metadata": {},
   "source": [
    "def recurse(opti, intg, delta_num, N, x, x1_bound, X_history, U):\n",
    "    \"\"\"Builds a scenario tree recursively\n",
    "    \n",
    "    Settings to be passed as is: opti, intg, delta_num\n",
    "    \n",
    "    N: remaining horizon (shrinks while recursing)\n",
    "    x: previous state  (remains same size)\n",
    "    x1_bound: remaining list of bounds for state (shrinks while recursing)\n",
    "    X_history: a list with the history of the current full branch (grows while recursing)\n",
    "    U: remaining control variables (shrinks while recursing)\n",
    "    \n",
    "    This function returns a list of every possible series of events (=one full branch)\n",
    "    Each list item is a concatenation of all states of that full branch.\n",
    "    \"\"\"\n",
    "\n",
    "    if N == 0:\n",
    "        return [cas.hcat(X_history)]\n",
    "\n",
    "    X = []\n",
    "    for delta in [-delta_num, delta_num]:\n",
    "        x_next = opti.variable(2)\n",
    "        res = intg(x0=x, p=vertcat(U[0], delta))\n",
    "        opti.subject_to(x_next==res[\"xf\"])\n",
    "        opti.subject_to(opti.bounded(-0.25, x_next[0], x1_bound[0]))\n",
    "        \n",
    "        X_local = recurse(opti, intg, delta_num, N-1, x_next, x1_bound[1:], X_history + [x_next], U[1:])\n",
    "        X += X_local\n",
    "    return X"
   ]
  },
  {
   "cell_type": "raw",
   "id": "b2446497-88d7-4578-931b-6781d7f4fcff",
   "metadata": {},
   "source": [
    "# This function returns a list with an entry for each possible series of events (=one full branch)\n",
    "# Each item in the list is a concatenation of all states of that full branch.\n",
    "X = recurse(opti, intg, delta_num, N, x, x1_bound_sampled[1:], [x], U)\n",
    "\n",
    "len(X)"
   ]
  },
  {
   "cell_type": "code",
   "execution_count": 28,
   "id": "fd47b011-d915-41e6-a38e-a84d7f8ec0cf",
   "metadata": {},
   "outputs": [],
   "source": [
    "def build_scenario_tree(opti, intg, delta_values, depth, x, x1_bound, U):\n",
    "    \"\"\"Builds a scenario tree recursively\n",
    "\n",
    "    Arguments to be passed as is: opti, intg, delta_values\n",
    "\n",
    "    depth: remaining horizon (decrements while recursing)\n",
    "    x: previous state  (remains same size)\n",
    "    x1_bound: remaining list of bounds for state (shrinks while recursing)\n",
    "    U: remaining control variables (shrinks while recursing)\n",
    "\n",
    "    Returns a tuple with the initial state and a dictionary containing the\n",
    "    branches of the tree down to the specified recursion depth.\n",
    "    \"\"\"\n",
    "    if depth == 0:\n",
    "        tree = None\n",
    "    else:\n",
    "        tree = {}\n",
    "        for delta in delta_values:\n",
    "            x_next = opti.variable(*x.shape)\n",
    "            res = intg(x0=x, p=cas.vertcat(U[0], delta))\n",
    "            opti.subject_to(x_next==res[\"xf\"])\n",
    "            opti.subject_to(opti.bounded(-0.25, x_next[0], x1_bound[0]))\n",
    "            tree[delta] = build_scenario_tree(opti, intg, delta_values, depth-1, x_next, x1_bound[1:], U[1:])\n",
    "\n",
    "    return (x, tree)\n"
   ]
  },
  {
   "cell_type": "code",
   "execution_count": 29,
   "id": "b8e4086f-01c7-44b4-9dc5-783ef7a73639",
   "metadata": {},
   "outputs": [
    {
     "data": {
      "text/plain": [
       "(MX(opti3_x_1),\n",
       " {-1: (MX(opti3_x_3),\n",
       "   {-1: (MX(opti3_x_4),\n",
       "     {-1: (MX(opti3_x_5),\n",
       "       {-1: (MX(opti3_x_6),\n",
       "         {-1: (MX(opti3_x_7),\n",
       "           {-1: (MX(opti3_x_8), None), 1: (MX(opti3_x_9), None)}),\n",
       "          1: (MX(opti3_x_10),\n",
       "           {-1: (MX(opti3_x_11), None), 1: (MX(opti3_x_12), None)})}),\n",
       "        1: (MX(opti3_x_13),\n",
       "         {-1: (MX(opti3_x_14),\n",
       "           {-1: (MX(opti3_x_15), None), 1: (MX(opti3_x_16), None)}),\n",
       "          1: (MX(opti3_x_17),\n",
       "           {-1: (MX(opti3_x_18), None), 1: (MX(opti3_x_19), None)})})}),\n",
       "      1: (MX(opti3_x_20),\n",
       "       {-1: (MX(opti3_x_21),\n",
       "         {-1: (MX(opti3_x_22),\n",
       "           {-1: (MX(opti3_x_23), None), 1: (MX(opti3_x_24), None)}),\n",
       "          1: (MX(opti3_x_25),\n",
       "           {-1: (MX(opti3_x_26), None), 1: (MX(opti3_x_27), None)})}),\n",
       "        1: (MX(opti3_x_28),\n",
       "         {-1: (MX(opti3_x_29),\n",
       "           {-1: (MX(opti3_x_30), None), 1: (MX(opti3_x_31), None)}),\n",
       "          1: (MX(opti3_x_32),\n",
       "           {-1: (MX(opti3_x_33), None), 1: (MX(opti3_x_34), None)})})})}),\n",
       "    1: (MX(opti3_x_35),\n",
       "     {-1: (MX(opti3_x_36),\n",
       "       {-1: (MX(opti3_x_37),\n",
       "         {-1: (MX(opti3_x_38),\n",
       "           {-1: (MX(opti3_x_39), None), 1: (MX(opti3_x_40), None)}),\n",
       "          1: (MX(opti3_x_41),\n",
       "           {-1: (MX(opti3_x_42), None), 1: (MX(opti3_x_43), None)})}),\n",
       "        1: (MX(opti3_x_44),\n",
       "         {-1: (MX(opti3_x_45),\n",
       "           {-1: (MX(opti3_x_46), None), 1: (MX(opti3_x_47), None)}),\n",
       "          1: (MX(opti3_x_48),\n",
       "           {-1: (MX(opti3_x_49), None), 1: (MX(opti3_x_50), None)})})}),\n",
       "      1: (MX(opti3_x_51),\n",
       "       {-1: (MX(opti3_x_52),\n",
       "         {-1: (MX(opti3_x_53),\n",
       "           {-1: (MX(opti3_x_54), None), 1: (MX(opti3_x_55), None)}),\n",
       "          1: (MX(opti3_x_56),\n",
       "           {-1: (MX(opti3_x_57), None), 1: (MX(opti3_x_58), None)})}),\n",
       "        1: (MX(opti3_x_59),\n",
       "         {-1: (MX(opti3_x_60),\n",
       "           {-1: (MX(opti3_x_61), None), 1: (MX(opti3_x_62), None)}),\n",
       "          1: (MX(opti3_x_63),\n",
       "           {-1: (MX(opti3_x_64), None), 1: (MX(opti3_x_65), None)})})})})}),\n",
       "  1: (MX(opti3_x_66),\n",
       "   {-1: (MX(opti3_x_67),\n",
       "     {-1: (MX(opti3_x_68),\n",
       "       {-1: (MX(opti3_x_69),\n",
       "         {-1: (MX(opti3_x_70),\n",
       "           {-1: (MX(opti3_x_71), None), 1: (MX(opti3_x_72), None)}),\n",
       "          1: (MX(opti3_x_73),\n",
       "           {-1: (MX(opti3_x_74), None), 1: (MX(opti3_x_75), None)})}),\n",
       "        1: (MX(opti3_x_76),\n",
       "         {-1: (MX(opti3_x_77),\n",
       "           {-1: (MX(opti3_x_78), None), 1: (MX(opti3_x_79), None)}),\n",
       "          1: (MX(opti3_x_80),\n",
       "           {-1: (MX(opti3_x_81), None), 1: (MX(opti3_x_82), None)})})}),\n",
       "      1: (MX(opti3_x_83),\n",
       "       {-1: (MX(opti3_x_84),\n",
       "         {-1: (MX(opti3_x_85),\n",
       "           {-1: (MX(opti3_x_86), None), 1: (MX(opti3_x_87), None)}),\n",
       "          1: (MX(opti3_x_88),\n",
       "           {-1: (MX(opti3_x_89), None), 1: (MX(opti3_x_90), None)})}),\n",
       "        1: (MX(opti3_x_91),\n",
       "         {-1: (MX(opti3_x_92),\n",
       "           {-1: (MX(opti3_x_93), None), 1: (MX(opti3_x_94), None)}),\n",
       "          1: (MX(opti3_x_95),\n",
       "           {-1: (MX(opti3_x_96), None), 1: (MX(opti3_x_97), None)})})})}),\n",
       "    1: (MX(opti3_x_98),\n",
       "     {-1: (MX(opti3_x_99),\n",
       "       {-1: (MX(opti3_x_100),\n",
       "         {-1: (MX(opti3_x_101),\n",
       "           {-1: (MX(opti3_x_102), None), 1: (MX(opti3_x_103), None)}),\n",
       "          1: (MX(opti3_x_104),\n",
       "           {-1: (MX(opti3_x_105), None), 1: (MX(opti3_x_106), None)})}),\n",
       "        1: (MX(opti3_x_107),\n",
       "         {-1: (MX(opti3_x_108),\n",
       "           {-1: (MX(opti3_x_109), None), 1: (MX(opti3_x_110), None)}),\n",
       "          1: (MX(opti3_x_111),\n",
       "           {-1: (MX(opti3_x_112), None), 1: (MX(opti3_x_113), None)})})}),\n",
       "      1: (MX(opti3_x_114),\n",
       "       {-1: (MX(opti3_x_115),\n",
       "         {-1: (MX(opti3_x_116),\n",
       "           {-1: (MX(opti3_x_117), None), 1: (MX(opti3_x_118), None)}),\n",
       "          1: (MX(opti3_x_119),\n",
       "           {-1: (MX(opti3_x_120), None), 1: (MX(opti3_x_121), None)})}),\n",
       "        1: (MX(opti3_x_122),\n",
       "         {-1: (MX(opti3_x_123),\n",
       "           {-1: (MX(opti3_x_124), None), 1: (MX(opti3_x_125), None)}),\n",
       "          1: (MX(opti3_x_126),\n",
       "           {-1: (MX(opti3_x_127), None), 1: (MX(opti3_x_128), None)})})})})})})"
      ]
     },
     "execution_count": 29,
     "metadata": {},
     "output_type": "execute_result"
    }
   ],
   "source": [
    "tree = build_scenario_tree(opti, intg, delta_values, N, x, x1_bound_sampled[1:], U)\n",
    "\n",
    "tree"
   ]
  },
  {
   "cell_type": "code",
   "execution_count": 30,
   "id": "94a8677e-f38c-440e-8a90-5ebc91e4762e",
   "metadata": {},
   "outputs": [
    {
     "data": {
      "text/plain": [
       "[MX(opti3_x_1),\n",
       " MX(opti3_x_3),\n",
       " MX(opti3_x_4),\n",
       " MX(opti3_x_5),\n",
       " MX(opti3_x_6),\n",
       " MX(opti3_x_7),\n",
       " MX(opti3_x_8)]"
      ]
     },
     "execution_count": 30,
     "metadata": {},
     "output_type": "execute_result"
    }
   ],
   "source": [
    "def get_states_from_tree(tree, seq):\n",
    "    states = [tree[0]]\n",
    "    if len(seq) > 0:\n",
    "        states += get_states_from_tree(tree[1][seq[0]], seq[1:])\n",
    "    return states\n",
    "\n",
    "get_states_from_tree(tree, scenarios[0])"
   ]
  },
  {
   "cell_type": "code",
   "execution_count": 31,
   "id": "c55ea148-e293-4842-a5f3-1beffc513ef5",
   "metadata": {},
   "outputs": [
    {
     "name": "stdout",
     "output_type": "stream",
     "text": [
      "This is Ipopt version 3.14.11, running with linear solver MUMPS 5.4.1.\n",
      "\n",
      "Number of nonzeros in equality constraint Jacobian...:     1058\n",
      "Number of nonzeros in inequality constraint Jacobian.:      145\n",
      "Number of nonzeros in Lagrangian Hessian.............:      355\n",
      "\n",
      "Total number of variables............................:      278\n",
      "                     variables with only lower bounds:        0\n",
      "                variables with lower and upper bounds:        0\n",
      "                     variables with only upper bounds:        0\n",
      "Total number of equality constraints.................:      266\n",
      "Total number of inequality constraints...............:      145\n",
      "        inequality constraints with only lower bounds:        0\n",
      "   inequality constraints with lower and upper bounds:      145\n",
      "        inequality constraints with only upper bounds:        0\n",
      "\n",
      "iter    objective    inf_pr   inf_du lg(mu)  ||d||  lg(rg) alpha_du alpha_pr  ls\n",
      "   0  6.3000000e+01 5.00e-01 3.34e-02  -1.0 0.00e+00    -  0.00e+00 0.00e+00   0\n",
      "   1  4.3752752e+01 4.08e-04 1.17e+00  -1.0 1.11e+01    -  3.81e-01 1.00e+00f  1\n",
      "   2  4.3575998e+01 1.89e-04 3.82e-02  -1.0 1.80e+00    -  9.52e-01 1.00e+00f  1\n",
      "   3  4.1067706e+01 4.00e-02 1.94e-02  -1.0 2.65e+01    -  7.23e-01 1.00e+00f  1\n",
      "   4  3.9797317e+01 3.04e-02 8.83e-03  -1.7 1.73e+01    -  8.16e-01 1.00e+00f  1\n",
      "   5  3.9307094e+01 2.92e-02 4.89e-03  -2.5 1.87e+01    -  7.64e-01 1.00e+00f  1\n",
      "   6  3.9225111e+01 1.30e-02 6.33e-04  -2.5 1.75e+01    -  8.70e-01 1.00e+00h  1\n",
      "   7  3.9198897e+01 3.73e-03 1.98e-05  -3.8 1.25e+01    -  1.00e+00 1.00e+00h  1\n",
      "   8  3.9198375e+01 6.82e-04 2.98e-08  -3.8 1.43e+01    -  1.00e+00 1.00e+00h  1\n",
      "   9  3.9197485e+01 9.46e-07 5.33e-09  -5.7 1.93e-01    -  1.00e+00 1.00e+00h  1\n",
      "iter    objective    inf_pr   inf_du lg(mu)  ||d||  lg(rg) alpha_du alpha_pr  ls\n",
      "  10  3.9197473e+01 3.79e-09 1.72e-11  -8.6 2.98e-03    -  1.00e+00 1.00e+00h  1\n",
      "\n",
      "Number of Iterations....: 10\n",
      "\n",
      "                                   (scaled)                 (unscaled)\n",
      "Objective...............:   3.9197473028647444e+01    3.9197473028647444e+01\n",
      "Dual infeasibility......:   1.7175594280161022e-11    1.7175594280161022e-11\n",
      "Constraint violation....:   3.7864289481603919e-09    3.7864289481603919e-09\n",
      "Variable bound violation:   0.0000000000000000e+00    0.0000000000000000e+00\n",
      "Complementarity.........:   2.6688183862644391e-09    2.6688183862644391e-09\n",
      "Overall NLP error.......:   3.7864289481603919e-09    3.7864289481603919e-09\n",
      "\n",
      "\n",
      "Number of objective function evaluations             = 11\n",
      "Number of objective gradient evaluations             = 11\n",
      "Number of equality constraint evaluations            = 11\n",
      "Number of inequality constraint evaluations          = 11\n",
      "Number of equality constraint Jacobian evaluations   = 11\n",
      "Number of inequality constraint Jacobian evaluations = 11\n",
      "Number of Lagrangian Hessian evaluations             = 10\n",
      "Total seconds in IPOPT                               = 0.602\n",
      "\n",
      "EXIT: Optimal Solution Found.\n",
      "      solver  :   t_proc      (avg)   t_wall      (avg)    n_eval\n",
      "       nlp_f  |        0 (       0)  28.00us (  2.55us)        11\n",
      "       nlp_g  |  43.00ms (  3.91ms)  29.53ms (  2.68ms)        11\n",
      "  nlp_grad_f  |        0 (       0)  83.00us (  6.92us)        12\n",
      "  nlp_hess_l  | 303.00ms ( 30.30ms) 302.66ms ( 30.27ms)        10\n",
      "   nlp_jac_g  | 236.00ms ( 19.67ms) 240.18ms ( 20.02ms)        12\n",
      "       total  | 601.00ms (601.00ms) 602.35ms (602.35ms)         1\n"
     ]
    }
   ],
   "source": [
    "# Gap-closing shooting constraints\n",
    "U = []\n",
    "for k in range(N):\n",
    "    u = opti.variable()\n",
    "    U.append(u)\n",
    "\n",
    "    x_next = opti.variable(nx)\n",
    "    res = intg(x0=x, p=u)\n",
    "    opti.subject_to(x_next == res[\"xf\"])\n",
    "\n",
    "    opti.subject_to(opti.bounded(-40, u, 40))\n",
    "    opti.subject_to(opti.bounded(-0.25, x[0], x1_bound(tgrid[k])))\n",
    "\n",
    "    x = x_next\n",
    "    X.append(x)\n",
    "\n",
    "opti.subject_to(opti.bounded(-0.25, x_next[0], x1_bound(tgrid[N])))\n",
    "U = cas.hcat(U)\n",
    "X = cas.hcat(X)\n",
    "\n",
    "opti.minimize(cas.sumsqr(X[0, :] - 3))\n",
    "\n",
    "opti.solver('ipopt')\n",
    "\n",
    "sol = opti.solve()"
   ]
  },
  {
   "cell_type": "code",
   "execution_count": 32,
   "id": "7400745d-de4d-4efd-8846-3439910a4af9",
   "metadata": {},
   "outputs": [],
   "source": [
    "nx = 2\n",
    "\n",
    "# Expression for the ODE right-hand side\n",
    "x1 = MX.sym('x1')\n",
    "x2 = MX.sym('x2')\n",
    "u = MX.sym('u')\n",
    "x = cas.vertcat(x1, x2)\n",
    "rhs = cas.vertcat(x2, -0.1 * (1 - x1**2) * x2 - x1 + u)\n",
    "\n",
    "# Upper bound on first state variable\n",
    "x1_bound = lambda t: 2 + 0.1 * cas.cos(10 * t)"
   ]
  },
  {
   "cell_type": "code",
   "execution_count": 33,
   "id": "b3ba009f-00d6-4c94-bcfe-04c9cff371a8",
   "metadata": {},
   "outputs": [],
   "source": [
    "def recurse(opti, intg, delta_num, N, x, x1_bound, X_history, U):\n",
    "    \"\"\"Builds a scenario tree recursively\n",
    "    \n",
    "    Settings to be passed as is: opti, intg, delta_num\n",
    "    \n",
    "    N: remaining horizon (shrinks while recursing)\n",
    "    x: previous state  (remains same size)\n",
    "    x1_bound: remaining list of bounds for state (shrinks while recursing)\n",
    "    X_history: a list with the history of the current full branch (grows while recursing)\n",
    "    U: remaining control variables (shrinks while recursing)\n",
    "    \n",
    "    This function returns a list with an entry for each possible series of events (=one full branch)\n",
    "    Each list entry has a concatenation of all states of that full branch.\n",
    "    \"\"\"\n",
    "    if N == 0:\n",
    "        return [cas.hcat(X_history)]\n",
    "    \n",
    "    obj_total = []\n",
    "    X = []\n",
    "    for delta in [-delta_num, delta_num]:\n",
    "        x_next = opti.variable(2)\n",
    "        res = intg(x0=x, p=cas.vertcat(U[0], delta))\n",
    "        opti.subject_to(x_next==res[\"xf\"])\n",
    "        \n",
    "        opti.subject_to(opti.bounded(-0.25, x_next[0], x1_bound[0]))\n",
    "        \n",
    "        X_local = recurse(opti, intg, delta_num, N-1, x_next, x1_bound[1:], X_history + [x_next], U[1:])\n",
    "        X += X_local\n",
    "    return X"
   ]
  },
  {
   "cell_type": "code",
   "execution_count": null,
   "id": "45354a91-ee55-461a-949d-e2471ba7c75b",
   "metadata": {},
   "outputs": [],
   "source": []
  },
  {
   "cell_type": "code",
   "execution_count": null,
   "id": "718d17fe-e11d-4b3e-b42a-8d8766387724",
   "metadata": {},
   "outputs": [],
   "source": []
  },
  {
   "cell_type": "code",
   "execution_count": null,
   "id": "76bc3ce7-4c32-4613-8625-17ee3b10e989",
   "metadata": {},
   "outputs": [],
   "source": []
  },
  {
   "cell_type": "code",
   "execution_count": null,
   "id": "9023cc40-6cc2-4127-8a04-8a795ab96d12",
   "metadata": {},
   "outputs": [],
   "source": []
  }
 ],
 "metadata": {
  "kernelspec": {
   "display_name": ".venv",
   "language": "python",
   "name": "python3"
  },
  "language_info": {
   "codemirror_mode": {
    "name": "ipython",
    "version": 3
   },
   "file_extension": ".py",
   "mimetype": "text/x-python",
   "name": "python",
   "nbconvert_exporter": "python",
   "pygments_lexer": "ipython3",
   "version": "3.10.13"
  }
 },
 "nbformat": 4,
 "nbformat_minor": 5
}
