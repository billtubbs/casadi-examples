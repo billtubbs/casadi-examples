{
 "cells": [
  {
   "cell_type": "markdown",
   "id": "934f2fb4-894b-476a-a384-276a3175ac54",
   "metadata": {},
   "source": [
    "# Robust and stochastic optimal control"
   ]
  },
  {
   "cell_type": "code",
   "execution_count": 1,
   "id": "38e43c93-f11d-4e30-bbae-abb75448b3ed",
   "metadata": {},
   "outputs": [
    {
     "data": {
      "text/plain": [
       "'3.6.5'"
      ]
     },
     "execution_count": 1,
     "metadata": {},
     "output_type": "execute_result"
    }
   ],
   "source": [
    "import os\n",
    "import time\n",
    "import numpy as np\n",
    "from numpy.testing import assert_array_equal, assert_array_almost_equal\n",
    "import matplotlib.pyplot as plt\n",
    "from casadi import (\n",
    "    MX, DM, Function, Opti, integrator,\n",
    "    vcat, hcat, vertcat, horzcat,\n",
    "    sum1, sum2, sumsqr, sin, cos,\n",
    "    gradient, jacobian, hessian\n",
    ")\n",
    "\n",
    "import casadi\n",
    "casadi.__version__"
   ]
  },
  {
   "cell_type": "code",
   "execution_count": 2,
   "id": "73d5e334-b1fb-457b-b943-8bfa8e7da938",
   "metadata": {},
   "outputs": [],
   "source": [
    "# Physical constants\n",
    "\n",
    "T = 1.0 # control horizon [s]\n",
    "N = 40 # Number of control intervals\n",
    "\n",
    "dt = T/N # length of 1 control interval [s]\n",
    "\n",
    "tgrid = np.linspace(0, T, N+1)"
   ]
  },
  {
   "cell_type": "markdown",
   "id": "6dd24491-c4eb-4d5a-8524-3cc1ebac0230",
   "metadata": {},
   "source": [
    "## Continuous system $\\dot{x}=f(x,u)$"
   ]
  },
  {
   "cell_type": "code",
   "execution_count": 3,
   "id": "78a5163f-2d07-4c45-9e64-fc872ce897a3",
   "metadata": {},
   "outputs": [],
   "source": [
    "nx = 2\n",
    "\n",
    "# Construct a CasADi function for the ODE right-hand side\n",
    "x1 = MX.sym('x1')\n",
    "x2 = MX.sym('x2')\n",
    "u = MX.sym('u')\n",
    "rhs = vertcat(x2, -0.1 * (1 - x1**2) * x2 - x1 + u)\n",
    "x = vertcat(x1, x2)\n",
    "\n",
    "x1_bound = lambda t: 2 + 0.1 * cos(10 * t)"
   ]
  },
  {
   "cell_type": "markdown",
   "id": "667125e2-3a18-4f43-ac28-1a7b3e08979b",
   "metadata": {},
   "source": [
    "## Discrete system $x_{k+1} = F(x_k,u_k)$"
   ]
  },
  {
   "cell_type": "code",
   "execution_count": 4,
   "id": "6294e1ff-9586-445c-83ab-49885f104d9b",
   "metadata": {},
   "outputs": [
    {
     "name": "stderr",
     "output_type": "stream",
     "text": [
      "CasADi - 2024-04-24 16:29:38 WARNING(\"The options 't0', 'tf', 'grid' and 'output_t0' have been deprecated.\n",
      "The same functionality is provided by providing additional input arguments to the 'integrator' function, in particular:\n",
      " * Call integrator(..., t0, tf, options) for a single output time, or\n",
      " * Call integrator(..., t0, grid, options) for multiple grid points.\n",
      "The legacy 'output_t0' option can be emulated by including or excluding 't0' in 'grid'.\n",
      "Backwards compatibility is provided in this release only.\") [.../casadi/core/integrator.cpp:521]\n"
     ]
    }
   ],
   "source": [
    "opts = dict()\n",
    "opts[\"tf\"] = dt\n",
    "intg = integrator('intg', 'cvodes', {'x': x, 'p': u, 'ode': rhs}, opts)"
   ]
  },
  {
   "cell_type": "markdown",
   "id": "ee976958-04c0-47db-8b9b-7ff903662dfa",
   "metadata": {},
   "source": [
    "## Optimal control problem, multiple shooting"
   ]
  },
  {
   "cell_type": "code",
   "execution_count": 5,
   "id": "81997211-82a8-4831-8bc3-0673c2d61e72",
   "metadata": {},
   "outputs": [
    {
     "name": "stdout",
     "output_type": "stream",
     "text": [
      "\n",
      "******************************************************************************\n",
      "This program contains Ipopt, a library for large-scale nonlinear optimization.\n",
      " Ipopt is released as open source code under the Eclipse Public License (EPL).\n",
      "         For more information visit https://github.com/coin-or/Ipopt\n",
      "******************************************************************************\n",
      "\n",
      "This is Ipopt version 3.14.11, running with linear solver MUMPS 5.4.1.\n",
      "\n",
      "Number of nonzeros in equality constraint Jacobian...:      322\n",
      "Number of nonzeros in inequality constraint Jacobian.:       81\n",
      "Number of nonzeros in Lagrangian Hessian.............:      241\n",
      "\n",
      "Total number of variables............................:      122\n",
      "                     variables with only lower bounds:        0\n",
      "                variables with lower and upper bounds:        0\n",
      "                     variables with only upper bounds:        0\n",
      "Total number of equality constraints.................:       82\n",
      "Total number of inequality constraints...............:       81\n",
      "        inequality constraints with only lower bounds:        0\n",
      "   inequality constraints with lower and upper bounds:       81\n",
      "        inequality constraints with only upper bounds:        0\n",
      "\n",
      "iter    objective    inf_pr   inf_du lg(mu)  ||d||  lg(rg) alpha_du alpha_pr  ls\n",
      "   0  3.6900000e+02 5.00e-01 1.17e+00  -1.0 0.00e+00    -  0.00e+00 0.00e+00   0\n",
      "   1  2.0336464e+02 1.15e-03 3.37e+00  -1.0 5.64e+00    -  2.11e-01 1.00e+00f  1\n",
      "   2  1.4097646e+02 5.21e-03 1.33e+00  -1.0 1.20e+01    -  7.84e-01 5.49e-01f  1\n",
      "   3  1.1340639e+02 2.95e-03 6.73e-01  -1.0 1.70e+01    -  8.11e-01 5.55e-01f  1\n",
      "   4  9.2138085e+01 4.62e-03 1.56e+00  -1.0 1.64e+01    -  5.54e-01 7.24e-01f  1\n",
      "   5  8.9271358e+01 7.70e-04 1.95e+00  -1.0 1.79e+01    -  7.56e-01 1.00e+00f  1\n",
      "   6  8.5590753e+01 5.93e-04 3.86e-01  -1.0 1.99e+01    -  1.00e+00 9.35e-01f  1\n",
      "   7  8.2622808e+01 2.05e-04 4.40e+00  -1.7 2.60e+01    -  6.19e-01 1.00e+00f  1\n",
      "   8  8.2251241e+01 3.83e-05 1.42e+00  -1.7 1.27e+01    -  1.00e+00 8.45e-01f  1\n",
      "   9  8.2184821e+01 6.65e-06 4.76e-05  -1.7 1.16e+01    -  1.00e+00 1.00e+00f  1\n",
      "iter    objective    inf_pr   inf_du lg(mu)  ||d||  lg(rg) alpha_du alpha_pr  ls\n",
      "  10  8.1561659e+01 9.72e-06 1.88e-01  -3.8 1.99e+01    -  7.07e-01 7.88e-01f  1\n",
      "  11  8.1392663e+01 6.75e-06 2.61e-01  -3.8 1.70e+01    -  7.47e-01 9.20e-01f  1\n",
      "  12  8.1381543e+01 2.14e-06 2.04e-01  -3.8 2.15e+00    -  1.00e+00 7.93e-01f  1\n",
      "  13  8.1378939e+01 5.44e-06 2.71e-07  -3.8 3.03e+00    -  1.00e+00 1.00e+00f  1\n",
      "  14  8.1373055e+01 3.53e-06 2.28e-03  -5.7 2.19e+00    -  9.46e-01 9.82e-01h  1\n",
      "  15  8.1372958e+01 4.97e-07 5.11e-09  -5.7 2.35e-01    -  1.00e+00 1.00e+00f  1\n",
      "  16  8.1372883e+01 2.30e-08 1.82e-11  -8.6 6.27e-03    -  1.00e+00 1.00e+00h  1\n",
      "  17  8.1372883e+01 7.75e-10 2.22e-14  -9.0 4.46e-04    -  1.00e+00 1.00e+00h  1\n",
      "\n",
      "Number of Iterations....: 17\n",
      "\n",
      "                                   (scaled)                 (unscaled)\n",
      "Objective...............:   8.1372883252305371e+01    8.1372883252305371e+01\n",
      "Dual infeasibility......:   2.2204460492503131e-14    2.2204460492503131e-14\n",
      "Constraint violation....:   7.7533890419090312e-10    7.7533890419090312e-10\n",
      "Variable bound violation:   0.0000000000000000e+00    0.0000000000000000e+00\n",
      "Complementarity.........:   9.0911080168000705e-10    9.0911080168000705e-10\n",
      "Overall NLP error.......:   9.0911080168000705e-10    9.0911080168000705e-10\n",
      "\n",
      "\n",
      "Number of objective function evaluations             = 18\n",
      "Number of objective gradient evaluations             = 18\n",
      "Number of equality constraint evaluations            = 18\n",
      "Number of inequality constraint evaluations          = 18\n",
      "Number of equality constraint Jacobian evaluations   = 18\n",
      "Number of inequality constraint Jacobian evaluations = 18\n",
      "Number of Lagrangian Hessian evaluations             = 17\n",
      "Total seconds in IPOPT                               = 0.806\n",
      "\n",
      "EXIT: Optimal Solution Found.\n",
      "      solver  :   t_proc      (avg)   t_wall      (avg)    n_eval\n",
      "       nlp_f  | 103.00us (  5.72us)  83.01us (  4.61us)        18\n",
      "       nlp_g  |  46.30ms (  2.57ms)  46.29ms (  2.57ms)        18\n",
      "  nlp_grad_f  | 163.00us (  8.58us) 159.38us (  8.39us)        19\n",
      "  nlp_hess_l  | 479.51ms ( 28.21ms) 479.13ms ( 28.18ms)        17\n",
      "   nlp_jac_g  | 259.42ms ( 13.65ms) 258.86ms ( 13.62ms)        19\n",
      "       total  | 807.06ms (807.06ms) 805.58ms (805.58ms)         1\n"
     ]
    }
   ],
   "source": [
    "x0 = vertcat(0.5, 0)\n",
    "\n",
    "opti = casadi.Opti()\n",
    "\n",
    "# Decision variable for states\n",
    "x = opti.variable(nx)\n",
    "\n",
    "# Initial constraints\n",
    "opti.subject_to(x == x0)\n",
    "\n",
    "U = []\n",
    "X = [x]\n",
    "# Gap-closing shooting constraints\n",
    "for k in range(N):\n",
    "  u = opti.variable()\n",
    "  U.append(u)\n",
    "\n",
    "  x_next = opti.variable(nx)\n",
    "  res = intg(x0=x, p=u)\n",
    "  opti.subject_to(x_next == res[\"xf\"])\n",
    "\n",
    "  opti.subject_to(opti.bounded(-40, u, 40))\n",
    "  opti.subject_to(opti.bounded(-0.25, x[0], x1_bound(tgrid[k])))\n",
    "  \n",
    "  x = x_next\n",
    "  X.append(x)\n",
    "\n",
    "opti.subject_to(opti.bounded(-0.25, x_next[0], x1_bound(tgrid[N])))\n",
    "U = hcat(U)\n",
    "X = hcat(X)\n",
    "\n",
    "opti.minimize(sumsqr(X[0, :] - 3))\n",
    "\n",
    "opti.solver('ipopt')\n",
    "\n",
    "sol = opti.solve()"
   ]
  },
  {
   "cell_type": "markdown",
   "id": "8ad8deb6-393e-46e8-b2d1-64d9be2df517",
   "metadata": {},
   "source": [
    "## Post-processing: plotting"
   ]
  },
  {
   "cell_type": "code",
   "execution_count": 6,
   "id": "0eabc6b9-3409-4649-a046-bf4c990df5e8",
   "metadata": {},
   "outputs": [
    {
     "data": {
      "image/png": "[encoded data removed]",
      "text/plain": [
       "<Figure size 640x480 with 2 Axes>"
      ]
     },
     "metadata": {},
     "output_type": "display_data"
    }
   ],
   "source": [
    "# Simulate forward in time using an initial state and control vector\n",
    "usol = sol.value(U)\n",
    "xsol = sol.value(X)\n",
    "\n",
    "fig, axes = plt.subplots(2, 1)\n",
    "\n",
    "ax = axes[0]\n",
    "ax.plot(tgrid, xsol[0, :].T, 'bs-', linewidth=2)\n",
    "ax.plot(tgrid, x1_bound(tgrid), 'r--', linewidth=4)\n",
    "ax.set_title('State $x_1$')\n",
    "ax.legend(('OCP trajectory $x_1$', 'bound on $x_1$'))\n",
    "ax.set_xlabel('Time [s]')\n",
    "ax.set_ylabel('$x_1$')\n",
    "ax.grid()\n",
    "\n",
    "ax = axes[1]\n",
    "ax.step(tgrid, vertcat(usol, usol[-1]))\n",
    "ax.set_title('applied control signal')\n",
    "ax.set_ylabel('Force [N]')\n",
    "ax.set_xlabel('Time [s]')\n",
    "ax.grid()\n",
    "\n",
    "plt.tight_layout()\n",
    "plt.show()"
   ]
  },
  {
   "cell_type": "code",
   "execution_count": null,
   "id": "d97bf973-e66c-467c-ada0-21e3e8b24e70",
   "metadata": {},
   "outputs": [],
   "source": []
  },
  {
   "cell_type": "code",
   "execution_count": null,
   "id": "9e2b9792-5e1c-4906-b041-5b4ed4bfd4bd",
   "metadata": {},
   "outputs": [],
   "source": []
  },
  {
   "cell_type": "code",
   "execution_count": null,
   "id": "dc3c47ed-8fb6-4e5a-b8b0-e88fffd7375c",
   "metadata": {},
   "outputs": [],
   "source": []
  }
 ],
 "metadata": {
  "kernelspec": {
   "display_name": "Python (casadi)",
   "language": "python",
   "name": "casadi"
  },
  "language_info": {
   "codemirror_mode": {
    "name": "ipython",
    "version": 3
   },
   "file_extension": ".py",
   "mimetype": "text/x-python",
   "name": "python",
   "nbconvert_exporter": "python",
   "pygments_lexer": "ipython3",
   "version": "3.10.13"
  }
 },
 "nbformat": 4,
 "nbformat_minor": 5
}
