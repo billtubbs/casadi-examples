{
 "cells": [
  {
   "cell_type": "markdown",
   "id": "1ad1de9b-8bd3-41b6-ae08-6039d19b01b3",
   "metadata": {},
   "source": [
    "# Time-Optimal Control Exercise"
   ]
  },
  {
   "cell_type": "code",
   "execution_count": 1,
   "id": "82357ee2-3781-4f5b-a37c-c0b31df8c58f",
   "metadata": {},
   "outputs": [
    {
     "data": {
      "text/plain": [
       "'3.6.5'"
      ]
     },
     "execution_count": 1,
     "metadata": {},
     "output_type": "execute_result"
    }
   ],
   "source": [
    "import os\n",
    "import time\n",
    "import numpy as np\n",
    "from numpy.testing import assert_array_equal, assert_array_almost_equal\n",
    "import matplotlib.pyplot as plt\n",
    "from casadi import (\n",
    "    MX, DM, Function, Opti, integrator,\n",
    "    vec, vcat, vertcat, horzcat, \n",
    "    sum1, sum2, sumsqr, sin, cos,\n",
    "    gradient, jacobian, hessian\n",
    ")\n",
    "\n",
    "import casadi\n",
    "casadi.__version__"
   ]
  },
  {
   "cell_type": "code",
   "execution_count": 2,
   "id": "506780fe-1e44-4913-b377-0d89451eceb7",
   "metadata": {},
   "outputs": [],
   "source": [
    "plot_dir = 'plots'\n",
    "if not os.path.exists(plot_dir):\n",
    "    os.mkdir(plot_dir)"
   ]
  },
  {
   "cell_type": "code",
   "execution_count": 3,
   "id": "a312dfbd-cb5b-4015-ba84-ee2fd74ececb",
   "metadata": {},
   "outputs": [],
   "source": [
    "# Physical constants\n",
    "\n",
    "T = 1.0  # control horizon [s]\n",
    "N = 20  # Number of control intervals\n",
    "\n",
    "dt = T / N  # length of 1 control interval [s]\n",
    "\n",
    "tgrid = np.linspace(0, T, N+1)"
   ]
  },
  {
   "cell_type": "markdown",
   "id": "bec9db58-2b0f-40ff-9bb9-227f3ab08057",
   "metadata": {},
   "source": [
    "## Define continuous-time system\n",
    "\n",
    "$\\dot{x} = f(x,u)$"
   ]
  },
  {
   "cell_type": "code",
   "execution_count": 4,
   "id": "829d728c-1acb-4732-bb5b-128ce189d5d9",
   "metadata": {},
   "outputs": [
    {
     "data": {
      "text/plain": [
       "Function(f:(i0[4],i1[2])->(o0[4]) MXFunction)"
      ]
     },
     "execution_count": 4,
     "metadata": {},
     "output_type": "execute_result"
    }
   ],
   "source": [
    "nx = 4\n",
    "\n",
    "# Construct function for the ODE right-hand side\n",
    "x = MX.sym('x', nx)  # states: pos_x [m], pos_y [m], vel_x [m/s], vel_y [m/s]\n",
    "u = MX.sym('u', 2)  # control force [N]\n",
    "rhs = vertcat(x[2:4], u)\n",
    "\n",
    "# Continuous system dynamics as a CasADi Function\n",
    "f = Function('f', [x, u], [rhs])\n",
    "f"
   ]
  },
  {
   "cell_type": "markdown",
   "id": "6e375f39-cf93-4c8c-b4df-7149a8404833",
   "metadata": {},
   "source": [
    "## Define discrete-time system\n",
    "\n",
    "$x_{k+1} = F(x_k, u_k)$"
   ]
  },
  {
   "cell_type": "code",
   "execution_count": 5,
   "id": "b522d28a-62ce-48f8-8245-2857d3b5fc59",
   "metadata": {},
   "outputs": [
    {
     "data": {
      "text/plain": [
       "Function(F:(xk[4],uk[2])->(xkp1[4]) MXFunction)"
      ]
     },
     "execution_count": 5,
     "metadata": {},
     "output_type": "execute_result"
    }
   ],
   "source": [
    "# Construct function for the ODE right-hand side\n",
    "xk = MX.sym('xk', nx)  # states: pos_x [m], pos_y [m], vel_x [m/s], vel_y [m/s]\n",
    "uk = MX.sym('uk', 2)  # control force [N]\n",
    "\n",
    "# RK4 approximation\n",
    "f1 = f(xk, uk)\n",
    "f2 = f(xk + dt/2 * f1, uk)\n",
    "f3 = f(xk + dt/2 * f2, uk)\n",
    "f4 = f(xk + dt * f3, uk)\n",
    "xkp1 = xk + dt / 6 * (f1 + 2 * f2 + 2 * f3 + f4)\n",
    "\n",
    "F = Function('F', [xk, uk], [xkp1], ['xk', 'uk'], ['xkp1'])\n",
    "F"
   ]
  },
  {
   "cell_type": "markdown",
   "id": "0a6e9036-d737-4a45-8b57-bc04ff9722b5",
   "metadata": {},
   "source": [
    "## Waypoints"
   ]
  },
  {
   "cell_type": "code",
   "execution_count": 6,
   "id": "ffc4e312-1d1c-4a46-a6c9-892ee04029c8",
   "metadata": {},
   "outputs": [
    {
     "data": {
      "text/plain": [
       "(2, 21)"
      ]
     },
     "execution_count": 6,
     "metadata": {},
     "output_type": "execute_result"
    }
   ],
   "source": [
    "ref = horzcat(sin(np.linspace(0, 2, N+1)), cos(np.linspace(0, 2, N+1))).T\n",
    "ref.shape"
   ]
  },
  {
   "cell_type": "code",
   "execution_count": 7,
   "id": "e317127b-4e1b-4e2c-9aa6-34699926bfba",
   "metadata": {},
   "outputs": [
    {
     "data": {
      "image/png": "[encoded data removed]",
      "text/plain": [
       "<Figure size 350x550 with 1 Axes>"
      ]
     },
     "metadata": {},
     "output_type": "display_data"
    }
   ],
   "source": [
    "fig, ax = plt.subplots(figsize=(3.5, 5.5))\n",
    "ax.plot(ref[0, :].T, ref[1, :].T, '.-')\n",
    "xy0 = np.array(ref[:, 0])\n",
    "ax.annotate(f'$t={tgrid[0]}$', xy=xy0, xytext=(0, -5), textcoords='offset pixels', va='top', ha='center')\n",
    "xy_end = np.array(ref[:, -1])\n",
    "ax.annotate(f'$t={tgrid[-1]}$', xy=xy_end, xytext=(0, -5), textcoords='offset pixels', va='top', ha='center')\n",
    "ax.grid()\n",
    "ax.set_aspect('equal')\n",
    "ax.set_title('Reference Trajectory')\n",
    "ax.set_xlabel('$x$')\n",
    "ax.set_ylabel('$y$')\n",
    "plt.show()"
   ]
  },
  {
   "cell_type": "markdown",
   "id": "b30cbacd-d40f-4d0b-b2d5-ba5bcc0491f9",
   "metadata": {},
   "source": [
    "## 1.1. Run the reference multiple-shooting implementation"
   ]
  },
  {
   "cell_type": "markdown",
   "id": "15d3532c-2a25-4f4b-b826-03240c26bc8d",
   "metadata": {},
   "source": [
    "Set up optimal control problem"
   ]
  },
  {
   "cell_type": "code",
   "execution_count": 8,
   "id": "acd3c448-1d36-4fd3-bcee-0d45a9297a4f",
   "metadata": {},
   "outputs": [
    {
     "data": {
      "text/plain": [
       "Opti(Opti {\n",
       "  instance #0\n",
       "  #variables: 2 (nx = 124)\n",
       "  #parameters: 0 (np = 0)\n",
       "  #constraints: 27 (ng = 208)\n",
       "  CasADi solver needs updating.\n",
       "})"
      ]
     },
     "execution_count": 8,
     "metadata": {},
     "output_type": "execute_result"
    }
   ],
   "source": [
    "opti = casadi.Opti()\n",
    "\n",
    "# Decision variables for states\n",
    "X = opti.variable(nx, N+1)\n",
    "\n",
    "# Decision variables for control vector\n",
    "U = opti.variable(2, N) # force [N]\n",
    "\n",
    "# Gap-closing shooting constraints\n",
    "for k in range(N):\n",
    "  opti.subject_to(X[:, k+1] == F(X[:, k], U[:, k]))\n",
    "\n",
    "# Path constraints\n",
    "opti.subject_to(opti.bounded(-3, X[0, :], 3)) # pos_x limits\n",
    "opti.subject_to(opti.bounded(-3, X[1, :], 3)) # pos_y limits\n",
    "opti.subject_to(opti.bounded(-3, X[2, :], 3)) # vel_x limits\n",
    "opti.subject_to(opti.bounded(-3, X[3, :], 3)) # vel_y limits\n",
    "opti.subject_to(opti.bounded(-10, U[0, :], 10)) # force_x limits\n",
    "opti.subject_to(opti.bounded(-10, U[1, :], 10)) # force_x limits\n",
    "\n",
    "# Initial constraints\n",
    "opti.subject_to(X[:, 0] == vertcat(ref[:, 0], 0, 0))\n",
    "\n",
    "# Try to follow the waypoints\n",
    "opti.minimize(sumsqr(X[:2, :] - ref))\n",
    "opti"
   ]
  },
  {
   "cell_type": "code",
   "execution_count": 9,
   "id": "a29dcac0-f0a9-4a56-8759-36493585a656",
   "metadata": {},
   "outputs": [
    {
     "name": "stdout",
     "output_type": "stream",
     "text": [
      "\n",
      "******************************************************************************\n",
      "This program contains Ipopt, a library for large-scale nonlinear optimization.\n",
      " Ipopt is released as open source code under the Eclipse Public License (EPL).\n",
      "         For more information visit https://github.com/coin-or/Ipopt\n",
      "******************************************************************************\n",
      "\n",
      "This is Ipopt version 3.14.11, running with linear solver MUMPS 5.4.1.\n",
      "\n",
      "Number of nonzeros in equality constraint Jacobian...:      284\n",
      "Number of nonzeros in inequality constraint Jacobian.:      124\n",
      "Number of nonzeros in Lagrangian Hessian.............:       42\n",
      "\n",
      "Total number of variables............................:      124\n",
      "                     variables with only lower bounds:        0\n",
      "                variables with lower and upper bounds:        0\n",
      "                     variables with only upper bounds:        0\n",
      "Total number of equality constraints.................:       84\n",
      "Total number of inequality constraints...............:      124\n",
      "        inequality constraints with only lower bounds:        0\n",
      "   inequality constraints with lower and upper bounds:      124\n",
      "        inequality constraints with only upper bounds:        0\n",
      "\n",
      "iter    objective    inf_pr   inf_du lg(mu)  ||d||  lg(rg) alpha_du alpha_pr  ls\n",
      "   0  2.1000000e+01 1.00e+00 3.30e-01  -1.0 0.00e+00    -  0.00e+00 0.00e+00   0\n",
      "   1  1.1849921e+01 1.11e-16 1.59e-01  -1.0 2.21e+00    -  7.62e-01 1.00e+00f  1\n",
      "   2  3.3977510e+00 2.22e-16 7.82e-02  -1.0 3.01e+00    -  8.38e-01 1.00e+00f  1\n",
      "   3  1.0724538e+00 2.22e-16 1.06e-02  -1.7 2.07e+00    -  9.16e-01 1.00e+00f  1\n",
      "   4  4.4503439e-01 2.22e-16 5.00e-16  -1.7 3.11e+00    -  1.00e+00 1.00e+00f  1\n",
      "   5  2.3316428e-01 4.44e-16 5.44e-04  -2.5 2.90e+00    -  9.72e-01 1.00e+00f  1\n",
      "   6  1.7005621e-01 4.44e-16 4.99e-04  -3.8 4.39e+00    -  9.54e-01 1.00e+00f  1\n",
      "   7  1.5013744e-01 4.44e-16 1.79e-04  -3.8 3.60e+00    -  9.38e-01 1.00e+00f  1\n",
      "   8  1.4472123e-01 4.44e-16 2.51e-04  -5.7 4.17e+00    -  7.70e-01 1.00e+00f  1\n",
      "   9  1.4384203e-01 4.44e-16 5.94e-05  -5.7 4.85e+00    -  8.23e-01 1.00e+00f  1\n",
      "iter    objective    inf_pr   inf_du lg(mu)  ||d||  lg(rg) alpha_du alpha_pr  ls\n",
      "  10  1.4375978e-01 4.44e-16 7.49e-05  -5.7 4.57e+00    -  9.09e-01 1.00e+00f  1\n",
      "  11  1.4373986e-01 4.44e-16 1.11e-16  -5.7 1.38e+00    -  1.00e+00 1.00e+00f  1\n",
      "  12  1.4371618e-01 4.44e-16 1.02e-06  -8.6 1.23e+00    -  8.25e-01 1.00e+00f  1\n",
      "  13  1.4371533e-01 4.44e-16 1.33e-05  -8.6 1.63e+00    -  8.18e-01 8.46e-01f  1\n",
      "  14  1.4371515e-01 4.44e-16 1.91e-06  -8.6 1.66e+00    -  9.73e-01 1.00e+00f  1\n",
      "  15  1.4371514e-01 4.44e-16 1.67e-16  -8.6 6.18e-01    -  1.00e+00 1.00e+00h  1\n",
      "\n",
      "Number of Iterations....: 15\n",
      "\n",
      "                                   (scaled)                 (unscaled)\n",
      "Objective...............:   1.4371513796846141e-01    1.4371513796846141e-01\n",
      "Dual infeasibility......:   1.6653345369377348e-16    1.6653345369377348e-16\n",
      "Constraint violation....:   4.4408920985006262e-16    4.4408920985006262e-16\n",
      "Variable bound violation:   0.0000000000000000e+00    0.0000000000000000e+00\n",
      "Complementarity.........:   8.4667810792459908e-09    8.4667810792459908e-09\n",
      "Overall NLP error.......:   8.4667810792459908e-09    8.4667810792459908e-09\n",
      "\n",
      "\n",
      "Number of objective function evaluations             = 16\n",
      "Number of objective gradient evaluations             = 16\n",
      "Number of equality constraint evaluations            = 16\n",
      "Number of inequality constraint evaluations          = 16\n",
      "Number of equality constraint Jacobian evaluations   = 16\n",
      "Number of inequality constraint Jacobian evaluations = 16\n",
      "Number of Lagrangian Hessian evaluations             = 15\n",
      "Total seconds in IPOPT                               = 0.033\n",
      "\n",
      "EXIT: Optimal Solution Found.\n",
      "      solver  :   t_proc      (avg)   t_wall      (avg)    n_eval\n",
      "       nlp_f  |  68.00us (  4.25us)  61.44us (  3.84us)        16\n",
      "       nlp_g  | 756.00us ( 47.25us) 678.10us ( 42.38us)        16\n",
      "  nlp_grad_f  | 184.00us ( 10.82us) 132.22us (  7.78us)        17\n",
      "  nlp_hess_l  |   1.67ms (111.07us)   1.71ms (114.14us)        15\n",
      "   nlp_jac_g  |   2.79ms (164.29us)   2.81ms (165.26us)        17\n",
      "       total  |  35.40ms ( 35.40ms)  33.46ms ( 33.46ms)         1\n"
     ]
    }
   ],
   "source": [
    "# Use IPOPT solver\n",
    "opti.solver('ipopt')\n",
    "\n",
    "sol = opti.solve()"
   ]
  },
  {
   "cell_type": "code",
   "execution_count": 10,
   "id": "63ff282d-7ee5-4883-bd21-4b185584cfd3",
   "metadata": {},
   "outputs": [
    {
     "data": {
      "text/plain": [
       "0.08272592095889995"
      ]
     },
     "execution_count": 10,
     "metadata": {},
     "output_type": "execute_result"
    }
   ],
   "source": [
    "# Tracking error\n",
    "tracking_rmse = np.sqrt(sol.value(sumsqr(X[:2, :] - ref)) / (N+1))\n",
    "tracking_rmse"
   ]
  },
  {
   "cell_type": "markdown",
   "id": "840ffaac-b7c6-4d56-83d1-d8c69ebacb97",
   "metadata": {},
   "source": [
    "Plot Solution"
   ]
  },
  {
   "cell_type": "code",
   "execution_count": 11,
   "id": "df0990f1-62af-48b9-963b-db3a22ccbf22",
   "metadata": {},
   "outputs": [
    {
     "data": {
      "image/png": "[encoded data removed]",
      "text/plain": [
       "<Figure size 350x550 with 1 Axes>"
      ]
     },
     "metadata": {},
     "output_type": "display_data"
    }
   ],
   "source": [
    "def make_trajectory_plot(xsol, ref):\n",
    "    fig, ax = plt.subplots(figsize=(3.5, 5.5))\n",
    "    ax.plot(xsol[0, :].T, xsol[1, :].T, 'bs-', linewidth=2, label='OCP trajectory')\n",
    "    ax.plot(ref[0, :].T, ref[1, :].T, 'ro', linewidth=3, label='Reference trajectory')\n",
    "    ax.legend()\n",
    "    ax.set_xlabel('x')\n",
    "    ax.set_xlabel('y')\n",
    "    ax.set_aspect('equal')\n",
    "    ax.grid()\n",
    "    ax.set_title('Top View')\n",
    "\n",
    "xsol = sol.value(X)\n",
    "make_trajectory_plot(xsol, ref)\n",
    "plt.tight_layout()\n",
    "filename = f'toc_sol_1_1a_top_view.pdf'\n",
    "plt.savefig(os.path.join(plot_dir, filename))\n",
    "plt.show()"
   ]
  },
  {
   "cell_type": "code",
   "execution_count": 12,
   "id": "f8009538-30c9-440f-8826-4b3856bfe3d1",
   "metadata": {},
   "outputs": [
    {
     "data": {
      "image/png": "[encoded data removed]",
      "text/plain": [
       "<Figure size 700x250 with 1 Axes>"
      ]
     },
     "metadata": {},
     "output_type": "display_data"
    }
   ],
   "source": [
    "def make_control_signal_plot(usol):\n",
    "    plt.figure(figsize=(7, 2.5))\n",
    "    plt.step(tgrid, horzcat(usol, usol[:, -1]).T)\n",
    "    plt.title('Applied Control Signal')\n",
    "    plt.legend(('force_x', 'force_y'))\n",
    "    plt.ylabel('Force [N]')\n",
    "    plt.xlabel('Time [s]')\n",
    "    plt.grid()\n",
    "\n",
    "usol = sol.value(U)\n",
    "make_control_signal_plot(usol)\n",
    "plt.tight_layout()\n",
    "filename = f'toc_sol_1_1a_control.pdf'\n",
    "plt.savefig(os.path.join(plot_dir, filename))\n",
    "plt.show()"
   ]
  },
  {
   "cell_type": "markdown",
   "id": "4e51c591-1fd8-4f1c-81ab-1c72f1b09a2d",
   "metadata": {},
   "source": [
    "The reason the optimal solution does not match the reference trajectory is that the reference trajectory is not a feasible solution to the problem as we have defined it above.\n",
    "\n",
    "The initial state is constrained to `vertcat(ref[:, 0], 0, 0))` which means the particle is stationary. Yet the reference trajectory looks like it is based on a particle that is moving at constant speed in a circle."
   ]
  },
  {
   "cell_type": "code",
   "execution_count": 13,
   "id": "4acd2d62-52e0-425d-adbb-cf6234889503",
   "metadata": {},
   "outputs": [
    {
     "data": {
      "text/plain": [
       "Opti(Opti {\n",
       "  instance #1\n",
       "  #variables: 2 (nx = 124)\n",
       "  #parameters: 0 (np = 0)\n",
       "  #constraints: 27 (ng = 206)\n",
       "  CasADi solver needs updating.\n",
       "})"
      ]
     },
     "execution_count": 13,
     "metadata": {},
     "output_type": "execute_result"
    }
   ],
   "source": [
    "opti = casadi.Opti()\n",
    "\n",
    "# Decision variables for states\n",
    "X = opti.variable(nx, N+1)\n",
    "\n",
    "# Decision variables for control vector\n",
    "U = opti.variable(2, N) # force [N]\n",
    "\n",
    "# Gap-closing shooting constraints\n",
    "for k in range(N):\n",
    "  opti.subject_to(X[:, k+1] == F(X[:, k], U[:, k]))\n",
    "\n",
    "# Path constraints\n",
    "opti.subject_to(opti.bounded(-3, X[0, :], 3)) # pos_x limits\n",
    "opti.subject_to(opti.bounded(-3, X[1, :], 3)) # pos_y limits\n",
    "opti.subject_to(opti.bounded(-3, X[2, :], 3)) # vel_x limits\n",
    "opti.subject_to(opti.bounded(-3, X[3, :], 3)) # vel_y limits\n",
    "opti.subject_to(opti.bounded(-10, U[0, :], 10)) # force_x limits\n",
    "opti.subject_to(opti.bounded(-10, U[1, :], 10)) # force_x limits\n",
    "\n",
    "# Initial constraints - don't set the initial velocities to zero!\n",
    "opti.subject_to(X[:2, 0] == ref[:, 0])\n",
    "\n",
    "# Try to follow the waypoints\n",
    "opti.minimize(sumsqr(X[:2, :] - ref))\n",
    "opti"
   ]
  },
  {
   "cell_type": "code",
   "execution_count": 14,
   "id": "24c6732b-5a73-4499-9c5d-1e96cf1a513c",
   "metadata": {},
   "outputs": [
    {
     "name": "stdout",
     "output_type": "stream",
     "text": [
      "This is Ipopt version 3.14.11, running with linear solver MUMPS 5.4.1.\n",
      "\n",
      "Number of nonzeros in equality constraint Jacobian...:      282\n",
      "Number of nonzeros in inequality constraint Jacobian.:      124\n",
      "Number of nonzeros in Lagrangian Hessian.............:       42\n",
      "\n",
      "Total number of variables............................:      124\n",
      "                     variables with only lower bounds:        0\n",
      "                variables with lower and upper bounds:        0\n",
      "                     variables with only upper bounds:        0\n",
      "Total number of equality constraints.................:       82\n",
      "Total number of inequality constraints...............:      124\n",
      "        inequality constraints with only lower bounds:        0\n",
      "   inequality constraints with lower and upper bounds:      124\n",
      "        inequality constraints with only upper bounds:        0\n",
      "\n",
      "iter    objective    inf_pr   inf_du lg(mu)  ||d||  lg(rg) alpha_du alpha_pr  ls\n",
      "   0  2.1000000e+01 1.00e+00 3.44e-01  -1.0 0.00e+00    -  0.00e+00 0.00e+00   0\n",
      "   1  6.1108084e+00 1.11e-16 1.59e-01  -1.0 1.00e+00    -  7.62e-01 1.00e+00f  1\n",
      "   2  1.2035242e+00 2.22e-16 1.03e-02  -1.0 6.26e-01    -  9.79e-01 1.00e+00f  1\n",
      "   3  2.3879010e-01 2.22e-16 4.74e-03  -1.7 1.60e+00    -  9.53e-01 1.00e+00f  1\n",
      "   4  1.6593446e-02 2.22e-16 1.63e-16  -2.5 1.70e+00    -  1.00e+00 1.00e+00f  1\n",
      "   5  5.3439573e-04 2.22e-16 4.03e-04  -3.8 1.27e+00    -  9.62e-01 1.00e+00f  1\n",
      "   6  3.1869622e-05 2.22e-16 1.07e-16  -3.8 1.24e+00    -  1.00e+00 1.00e+00f  1\n",
      "   7  2.9518517e-06 2.22e-16 6.11e-06  -5.7 6.39e-01    -  9.64e-01 1.00e+00f  1\n",
      "   8  1.5960321e-07 2.22e-16 1.11e-16  -5.7 9.30e-01    -  1.00e+00 1.00e+00f  1\n",
      "   9  9.1818574e-09 2.22e-16 5.56e-08  -8.6 4.14e-01    -  9.64e-01 1.00e+00f  1\n",
      "iter    objective    inf_pr   inf_du lg(mu)  ||d||  lg(rg) alpha_du alpha_pr  ls\n",
      "  10  1.9300456e-10 2.22e-16 5.97e-10  -8.6 2.62e-01    -  9.91e-01 1.00e+00h  1\n",
      "  11  1.7865253e-13 2.22e-16 1.04e-16  -9.0 7.41e-02    -  1.00e+00 1.00e+00h  1\n",
      "\n",
      "Number of Iterations....: 11\n",
      "\n",
      "                                   (scaled)                 (unscaled)\n",
      "Objective...............:   1.7865253103823240e-13    1.7865253103823240e-13\n",
      "Dual infeasibility......:   1.0353537824173489e-16    1.0353537824173489e-16\n",
      "Constraint violation....:   2.2204460492503131e-16    2.2204460492503131e-16\n",
      "Variable bound violation:   0.0000000000000000e+00    0.0000000000000000e+00\n",
      "Complementarity.........:   1.0784522039049474e-09    1.0784522039049474e-09\n",
      "Overall NLP error.......:   1.0784522039049474e-09    1.0784522039049474e-09\n",
      "\n",
      "\n",
      "Number of objective function evaluations             = 12\n",
      "Number of objective gradient evaluations             = 12\n",
      "Number of equality constraint evaluations            = 12\n",
      "Number of inequality constraint evaluations          = 12\n",
      "Number of equality constraint Jacobian evaluations   = 12\n",
      "Number of inequality constraint Jacobian evaluations = 12\n",
      "Number of Lagrangian Hessian evaluations             = 11\n",
      "Total seconds in IPOPT                               = 0.023\n",
      "\n",
      "EXIT: Optimal Solution Found.\n",
      "      solver  :   t_proc      (avg)   t_wall      (avg)    n_eval\n",
      "       nlp_f  |  67.00us (  5.58us)  58.72us (  4.89us)        12\n",
      "       nlp_g  | 509.00us ( 42.42us) 470.44us ( 39.20us)        12\n",
      "  nlp_grad_f  |  69.00us (  5.31us)  64.40us (  4.95us)        13\n",
      "  nlp_hess_l  | 996.00us ( 90.55us) 994.82us ( 90.44us)        11\n",
      "   nlp_jac_g  |   1.69ms (130.38us)   1.71ms (131.83us)        13\n",
      "       total  |  24.15ms ( 24.15ms)  22.86ms ( 22.86ms)         1\n"
     ]
    }
   ],
   "source": [
    "opti.solver('ipopt')\n",
    "\n",
    "sol = opti.solve()"
   ]
  },
  {
   "cell_type": "code",
   "execution_count": 15,
   "id": "d9a4efe1-7aca-4f50-9b75-3101e7abc8d1",
   "metadata": {},
   "outputs": [
    {
     "data": {
      "image/png": "[encoded data removed]",
      "text/plain": [
       "<Figure size 350x550 with 1 Axes>"
      ]
     },
     "metadata": {},
     "output_type": "display_data"
    }
   ],
   "source": [
    "xsol = sol.value(X)\n",
    "make_trajectory_plot(xsol, ref)\n",
    "plt.tight_layout()\n",
    "filename = f'toc_sol_1_1b_top_view.pdf'\n",
    "plt.savefig(os.path.join(plot_dir, filename))\n",
    "plt.show()"
   ]
  },
  {
   "cell_type": "code",
   "execution_count": 16,
   "id": "7e3cb773-8691-47de-9209-a27e466ef481",
   "metadata": {},
   "outputs": [
    {
     "data": {
      "image/png": "[encoded data removed]",
      "text/plain": [
       "<Figure size 700x250 with 1 Axes>"
      ]
     },
     "metadata": {},
     "output_type": "display_data"
    }
   ],
   "source": [
    "usol = sol.value(U)\n",
    "make_control_signal_plot(usol)\n",
    "plt.tight_layout()\n",
    "filename = f'toc_sol_1_1b_control.pdf'\n",
    "plt.savefig(os.path.join(plot_dir, filename))\n",
    "plt.show()"
   ]
  },
  {
   "cell_type": "markdown",
   "id": "42682c81-5b10-46eb-b803-675d41d5c33a",
   "metadata": {},
   "source": [
    "### 1.2 Integration using explicit Euler method and QP solver"
   ]
  },
  {
   "cell_type": "code",
   "execution_count": 17,
   "id": "a4e724e4-affb-49ec-a937-4c906fba65f6",
   "metadata": {},
   "outputs": [
    {
     "data": {
      "text/plain": [
       "Function(F1:(xk[4],uk[2])->(xkp1[4]) MXFunction)"
      ]
     },
     "execution_count": 17,
     "metadata": {},
     "output_type": "execute_result"
    }
   ],
   "source": [
    "# Construct function for the ODE right-hand side\n",
    "xk = MX.sym('xk', nx)  # states: pos_x [m], pos_y [m], vel_x [m/s], vel_y [m/s]\n",
    "uk = MX.sym('uk', 2)  # control force [N]\n",
    "\n",
    "# Integration using explicit Euler method\n",
    "xkp1 = xk + dt * f(xk, uk)\n",
    "\n",
    "F1 = Function('F1', [xk, uk], [xkp1], ['xk', 'uk'], ['xkp1'])\n",
    "F1"
   ]
  },
  {
   "cell_type": "code",
   "execution_count": 18,
   "id": "4fe9922f-2bed-4d31-9a2e-267559fee9c7",
   "metadata": {},
   "outputs": [
    {
     "data": {
      "text/plain": [
       "Opti(Opti {\n",
       "  instance #2\n",
       "  #variables: 2 (nx = 124)\n",
       "  #parameters: 0 (np = 0)\n",
       "  #constraints: 27 (ng = 206)\n",
       "  CasADi solver needs updating.\n",
       "})"
      ]
     },
     "execution_count": 18,
     "metadata": {},
     "output_type": "execute_result"
    }
   ],
   "source": [
    "opti = casadi.Opti()\n",
    "\n",
    "# Decision variables for states\n",
    "X = opti.variable(nx, N+1)\n",
    "\n",
    "# Decision variables for control vector\n",
    "U = opti.variable(2, N) # force [N]\n",
    "\n",
    "# Gap-closing shooting constraints\n",
    "for k in range(N):\n",
    "  opti.subject_to(X[:, k+1] == F1(X[:, k], U[:, k]))\n",
    "\n",
    "# Path constraints\n",
    "opti.subject_to(opti.bounded(-3, X[0, :], 3))  # pos_x limits\n",
    "opti.subject_to(opti.bounded(-3, X[1, :], 3))  # pos_y limits\n",
    "opti.subject_to(opti.bounded(-3, X[2, :], 3))  # vel_x limits\n",
    "opti.subject_to(opti.bounded(-3, X[3, :], 3))  # vel_y limits\n",
    "opti.subject_to(opti.bounded(-10, U[0, :], 10))  # force_x limits\n",
    "opti.subject_to(opti.bounded(-10, U[1, :], 10))  # force_x limits\n",
    "\n",
    "# Initial constraints\n",
    "#opti.subject_to(X[:, 0] == vertcat(ref[:, 0], 0, 0))\n",
    "opti.subject_to(X[:2, 0] == ref[:, 0])\n",
    "\n",
    "# Try to follow the waypoints\n",
    "opti.minimize(sumsqr(X[:2, :] - ref))\n",
    "opti"
   ]
  },
  {
   "cell_type": "code",
   "execution_count": 19,
   "id": "80803aa6-8c7b-4b05-867b-9cec592566f2",
   "metadata": {},
   "outputs": [
    {
     "name": "stdout",
     "output_type": "stream",
     "text": [
      "\n",
      "qpOASES -- An Implementation of the Online Active Set Strategy.\n",
      "Copyright (C) 2007-2015 by Hans Joachim Ferreau, Andreas Potschka,\n",
      "Christian Kirches et al. All rights reserved.\n",
      "\n",
      "qpOASES is distributed under the terms of the \n",
      "GNU Lesser General Public License 2.1 in the hope that it will be \n",
      "useful, but WITHOUT ANY WARRANTY; without even the implied warranty \n",
      "of MERCHANTABILITY or FITNESS FOR A PARTICULAR PURPOSE. \n",
      "See the GNU Lesser General Public License for more details.\n",
      "\n",
      "-------------------------------------------\n",
      "This is casadi::Sqpmethod.\n",
      "Using exact Hessian\n",
      "Number of variables:                             124\n",
      "Number of constraints:                           206\n",
      "Number of nonzeros in constraint Jacobian:       366\n",
      "Number of nonzeros in Lagrangian Hessian:         42\n",
      "\n",
      "\n",
      "qpOASES -- An Implementation of the Online Active Set Strategy.\n",
      "Copyright (C) 2007-2015 by Hans Joachim Ferreau, Andreas Potschka,\n",
      "Christian Kirches et al. All rights reserved.\n",
      "\n",
      "qpOASES is distributed under the terms of the \n",
      "GNU Lesser General Public License 2.1 in the hope that it will be \n",
      "useful, but WITHOUT ANY WARRANTY; without even the implied warranty \n",
      "of MERCHANTABILITY or FITNESS FOR A PARTICULAR PURPOSE. \n",
      "See the GNU Lesser General Public License for more details.\n",
      "\n",
      "iter      objective    inf_pr    inf_du     ||d||  lg(rg) ls    info\n",
      "   0   2.100000e+01  1.00e+00  2.00e+00  0.00e+00       -  0  - \n",
      "\n",
      "\n",
      "####################   qpOASES  --  QP NO.   1   #####################\n",
      "\n",
      "    Iter   |    StepLength    |       Info       |   nFX   |   nAC    \n",
      " ----------+------------------+------------------+---------+--------- \n",
      "       0   |   2.979569e-07   |   REM BND   81   |   123   |     0   \n",
      "       1   |   4.501540e-11   |   REM BND   80   |   122   |     0   \n",
      "       2   |   1.365125e-10   |   REM BND   77   |   121   |     0   \n",
      "       3   |   4.536538e-11   |   REM BND   76   |   120   |     0   \n",
      "       4   |   1.375306e-10   |   REM BND   73   |   119   |     0   \n",
      "       5   |   4.572167e-11   |   REM BND   72   |   118   |     0   \n",
      "       6   |   1.385581e-10   |   REM BND   69   |   117   |     0   \n",
      "       7   |   4.608420e-11   |   REM BND   68   |   116   |     0   \n",
      "       8   |   1.395954e-10   |   REM BND   65   |   115   |     0   \n",
      "       9   |   4.645294e-11   |   REM BND   64   |   114   |     0   \n",
      "      10   |   1.406426e-10   |   REM BND   61   |   113   |     0   \n",
      "      11   |   4.682779e-11   |   REM BND   60   |   112   |     0   \n",
      "      12   |   1.417002e-10   |   REM BND   57   |   111   |     0   \n",
      "      13   |   4.720865e-11   |   REM BND   56   |   110   |     0   \n",
      "      14   |   1.427684e-10   |   REM BND   53   |   109   |     0   \n",
      "      15   |   4.759541e-11   |   REM BND   52   |   108   |     0   \n",
      "      16   |   1.438477e-10   |   REM BND   49   |   107   |     0   \n",
      "      17   |   4.798792e-11   |   REM BND   48   |   106   |     0   \n",
      "      18   |   1.449385e-10   |   REM BND   45   |   105   |     0   \n",
      "      19   |   4.838602e-11   |   REM BND   44   |   104   |     0   \n",
      "      20   |   1.460412e-10   |   REM BND   41   |   103   |     0   \n",
      "      21   |   4.878956e-11   |   REM BND   40   |   102   |     0   \n",
      "      22   |   1.471561e-10   |   REM BND   37   |   101   |     0   \n",
      "      23   |   4.919835e-11   |   REM BND   36   |   100   |     0   \n",
      "      24   |   1.482838e-10   |   REM BND   33   |    99   |     0   \n",
      "      25   |   4.961219e-11   |   REM BND   32   |    98   |     0   \n",
      "      26   |   1.494248e-10   |   REM BND   29   |    97   |     0   \n",
      "      27   |   5.003091e-11   |   REM BND   28   |    96   |     0   \n",
      "      28   |   1.505794e-10   |   REM BND   25   |    95   |     0   \n",
      "      29   |   5.045429e-11   |   REM BND   24   |    94   |     0   \n",
      "      30   |   1.517482e-10   |   REM BND   21   |    93   |     0   \n",
      "      31   |   5.088213e-11   |   REM BND   20   |    92   |     0   \n",
      "      32   |   1.529316e-10   |   REM BND   17   |    91   |     0   \n",
      "      33   |   5.131424e-11   |   REM BND   16   |    90   |     0   \n",
      "      34   |   1.541302e-10   |   REM BND   13   |    89   |     0   \n",
      "      35   |   5.175042e-11   |   REM BND   12   |    88   |     0   \n",
      "      36   |   1.553444e-10   |   REM BND    9   |    87   |     0   \n",
      "      37   |   5.219049e-11   |   REM BND    8   |    86   |     0   \n",
      "      38   |   1.565747e-10   |   REM BND    5   |    85   |     0   \n",
      "      39   |   5.263426e-11   |   REM BND    4   |    84   |     0   \n",
      "      40   |   1.578217e-10   |   REM BND    1   |    83   |     0   \n",
      "      41   |   5.308157e-11   |   REM BND    0   |    82   |     0   \n",
      "      42   |   1.296681e-07   |   ADD CON  142   |    81   |     1   \n",
      "      43   |   1.151137e-09   |   ADD CON  141   |    80   |     2   \n",
      "      44   |   1.159808e-09   |   ADD CON  140   |    79   |     3   \n",
      "      45   |   5.785885e-10   |   ADD CON  183   |    78   |     4   \n",
      "      46   |   3.336783e-10   |   ADD CON  182   |    77   |     5   \n",
      "      47   |   2.563114e-10   |   ADD CON  139   |    76   |     6   \n",
      "      48   |   7.857370e-11   |   ADD CON  181   |    75   |     7   \n",
      "      49   |   3.360985e-10   |   ADD CON  180   |    74   |     8   \n",
      "      50   |   3.373185e-10   |   ADD CON  179   |    73   |     9   \n",
      "      51   |   3.385451e-10   |   ADD CON  178   |    72   |    10   \n",
      "      52   |   8.691222e-11   |   ADD CON  138   |    71   |    11   \n",
      "      53   |   2.528662e-10   |   ADD CON  177   |    70   |    12   \n",
      "      54   |   3.410185e-10   |   ADD CON  176   |    69   |    13   \n",
      "      55   |   3.422653e-10   |   ADD CON  175   |    68   |    14   \n",
      "      56   |   2.502690e-10   |   ADD CON  137   |    67   |    15   \n",
      "      57   |   9.325009e-11   |   ADD CON  174   |    66   |    16   \n",
      "      58   |   3.447797e-10   |   ADD CON  173   |    65   |    17   \n",
      "      59   |   3.460473e-10   |   ADD CON  172   |    64   |    18   \n",
      "      60   |   3.473219e-10   |   ADD CON  171   |    63   |    19   \n",
      "      61   |   6.409402e-11   |   ADD CON  136   |    62   |    20   \n",
      "      62   |   2.845095e-10   |   ADD CON  170   |    61   |    21   \n",
      "      63   |   3.498922e-10   |   ADD CON  169   |    60   |    22   \n",
      "      64   |   3.511882e-10   |   ADD CON  168   |    59   |    23   \n",
      "      65   |   2.190815e-10   |   ADD CON  135   |    58   |    24   \n",
      "      66   |   1.334097e-10   |   ADD CON  167   |    57   |    25   \n",
      "      67   |   3.538017e-10   |   ADD CON  166   |    56   |    26   \n",
      "      68   |   3.551194e-10   |   ADD CON  165   |    55   |    27   \n",
      "      69   |   3.001956e-10   |   ADD CON  163   |    54   |    28   \n",
      "      70   |   5.624886e-11   |   ADD CON  164   |    53   |    29   \n",
      "      71   |   1.518079e-11   |   ADD CON  134   |    52   |    30   \n",
      "      72   |   1.113815e-09   |   ADD CON  162   |    51   |    31   \n",
      "      73   |   1.095330e-10   |   ADD CON  133   |    50   |    32   \n",
      "      74   |   8.048947e-10   |   ADD CON  203   |    49   |    33   \n",
      "      75   |   2.797373e-10   |   ADD CON  161   |    48   |    34   \n",
      "      76   |   6.914290e-11   |   ADD CON  202   |    47   |    35   \n",
      "      77   |   7.907521e-11   |   ADD CON  132   |    46   |    36   \n",
      "      78   |   2.710656e-10   |   ADD CON  201   |    45   |    37   \n",
      "      79   |   3.514083e-10   |   ADD CON  200   |    44   |    38   \n",
      "      80   |   3.526827e-10   |   ADD CON  199   |    43   |    39   \n",
      "      81   |   7.981132e-11   |   ADD CON  160   |    42   |    40   \n",
      "      82   |   1.874950e-10   |   ADD CON  131   |    41   |    41   \n",
      "      83   |   8.665768e-11   |   ADD CON  198   |    40   |    42   \n",
      "      84   |   3.552523e-10   |   ADD CON  197   |    39   |    43   \n",
      "      85   |   3.565477e-10   |   ADD CON  196   |    38   |    44   \n",
      "      86   |   2.263570e-10   |   ADD CON  159   |    37   |    45   \n",
      "      87   |   1.314931e-10   |   ADD CON  195   |    36   |    46   \n",
      "      88   |   9.588081e-11   |   ADD CON  130   |    35   |    47   \n",
      "      89   |   2.632790e-10   |   ADD CON  194   |    34   |    48   \n",
      "      90   |   3.604766e-10   |   ADD CON  193   |    33   |    49   \n",
      "      91   |   3.618007e-10   |   ADD CON  192   |    32   |    50   \n",
      "      92   |   8.607428e-12   |   ADD CON  158   |    31   |    51   \n",
      "      93   |   2.678654e-10   |   ADD CON  129   |    30   |    52   \n",
      "      94   |   8.665921e-11   |   ADD CON  191   |    29   |    53   \n",
      "      95   |   3.644708e-10   |   ADD CON  190   |    28   |    54   \n",
      "      96   |   3.658170e-10   |   ADD CON  189   |    27   |    55   \n",
      "      97   |   1.460589e-10   |   ADD CON  157   |    26   |    56   \n",
      "      98   |   2.211117e-10   |   ADD CON  188   |    25   |    57   \n",
      "      99   |   8.786840e-11   |   ADD CON  128   |    24   |    58   \n",
      "     100   |   2.806634e-10   |   ADD CON  187   |    23   |    59   \n",
      "     101   |   3.699005e-10   |   ADD CON  186   |    22   |    60   \n",
      "     102   |   2.807683e-10   |   ADD CON  156   |    21   |    61   \n",
      "     103   |   9.050854e-11   |   ADD CON  185   |    20   |    62   \n",
      "     104   |   2.602204e-10   |   ADD CON  127   |    19   |    63   \n",
      "     105   |   1.124406e-10   |   ADD CON  184   |    18   |    64   \n",
      "     106   |   7.866929e-10   |   ADD CON  155   |    17   |    65   \n",
      "     107   |   3.931230e-10   |   ADD CON  126   |    16   |    66   \n",
      "     108   |   8.664001e-10   |   ADD CON  154   |    15   |    67   \n",
      "     109   |   4.361738e-10   |   ADD CON  125   |    14   |    68   \n",
      "     110   |   8.331226e-10   |   ADD CON  153   |    13   |    69   \n",
      "     111   |   4.798928e-10   |   ADD CON  124   |    12   |    70   \n",
      "     112   |   7.992910e-10   |   ADD CON  152   |    11   |    71   \n",
      "     113   |   5.242919e-10   |   ADD CON  123   |    10   |    72   \n",
      "     114   |   7.648953e-10   |   ADD CON  151   |     9   |    73   \n",
      "     115   |   5.693832e-10   |   ADD CON  122   |     8   |    74   \n",
      "     116   |   7.299252e-10   |   ADD CON  150   |     7   |    75   \n",
      "     117   |   1.309549e-09   |   ADD CON  149   |     6   |    76   \n",
      "     118   |   1.319912e-09   |   ADD CON  148   |     5   |    77   \n",
      "     119   |   1.330398e-09   |   ADD CON  147   |     4   |    78   \n",
      "     120   |   1.341009e-09   |   ADD CON  146   |     3   |    79   \n",
      "     121   |   1.351748e-09   |   ADD CON  145   |     2   |    80   \n",
      "     122   |   1.362616e-09   |   ADD CON  144   |     1   |    81   \n",
      "     123   |   1.373616e-09   |   ADD CON  143   |     0   |    82   \n",
      "     124   |   5.284940e-01   |   ADD CON    2   |     0   |    82   \n",
      "     125   |   1.110223e-16   |   ADD CON    3   |     0   |    82   \n",
      "     126   |   5.452036e-01   |   ADD CON    6   |     0   |    82   \n",
      "     127   |   6.896552e-04   |   ADD CON    7   |     0   |    82   \n",
      "     128   |   2.064694e-03   |   ADD CON   10   |     0   |    82   \n",
      "     129   |   6.877579e-04   |   ADD CON   11   |     0   |    82   \n",
      "     130   |   2.059025e-03   |   ADD CON   14   |     0   |    82   \n",
      "     131   |   6.858711e-04   |   ADD CON   15   |     0   |    82   \n",
      "     132   |   2.053388e-03   |   ADD CON   18   |     0   |    82   \n",
      "     133   |   6.839945e-04   |   ADD CON   19   |     0   |    82   \n",
      "     134   |   2.047782e-03   |   ADD CON   22   |     0   |    82   \n",
      "     135   |   6.821282e-04   |   ADD CON   23   |     0   |    82   \n",
      "     136   |   2.042206e-03   |   ADD CON   26   |     0   |    82   \n",
      "     137   |   6.802721e-04   |   ADD CON   27   |     0   |    82   \n",
      "     138   |   2.036660e-03   |   ADD CON   30   |     0   |    82   \n",
      "     139   |   6.784261e-04   |   ADD CON   31   |     0   |    82   \n",
      "     140   |   2.031144e-03   |   ADD CON   34   |     0   |    82   \n",
      "     141   |   6.765900e-04   |   ADD CON   35   |     0   |    82   \n",
      "     142   |   2.025658e-03   |   ADD CON   38   |     0   |    82   \n",
      "     143   |   6.747638e-04   |   ADD CON   39   |     0   |    82   \n",
      "     144   |   2.020202e-03   |   ADD CON   42   |     0   |    82   \n",
      "     145   |   6.729475e-04   |   ADD CON   43   |     0   |    82   \n",
      "     146   |   2.014775e-03   |   ADD CON   46   |     0   |    82   \n",
      "     147   |   6.711409e-04   |   ADD CON   47   |     0   |    82   \n",
      "     148   |   2.009377e-03   |   ADD CON   50   |     0   |    82   \n",
      "     149   |   6.693440e-04   |   ADD CON   51   |     0   |    82   \n",
      "     150   |   2.004008e-03   |   ADD CON   54   |     0   |    82   \n",
      "     151   |   6.675567e-04   |   ADD CON   55   |     0   |    82   \n",
      "     152   |   1.998668e-03   |   ADD CON   58   |     0   |    82   \n",
      "     153   |   6.657790e-04   |   ADD CON   59   |     0   |    82   \n",
      "     154   |   1.993355e-03   |   ADD CON   62   |     0   |    82   \n",
      "     155   |   6.640106e-04   |   ADD CON   63   |     0   |    82   \n",
      "     156   |   1.988072e-03   |   ADD CON   66   |     0   |    82   \n",
      "     157   |   6.622517e-04   |   ADD CON   67   |     0   |    82   \n",
      "     158   |   1.982816e-03   |   ADD CON   70   |     0   |    82   \n",
      "     159   |   6.605020e-04   |   ADD CON   71   |     0   |    82   \n",
      "     160   |   1.977587e-03   |   ADD CON   74   |     0   |    82   \n",
      "     161   |   6.587615e-04   |   ADD CON   75   |     0   |    82   \n",
      "     162   |   1.972387e-03   |   ADD CON   78   |     0   |    82   \n",
      "     163   |   6.570302e-04   |   ADD CON   79   |     0   |    82   \n",
      "     164   |   4.635124e-01   |   ADD CON  122   |     0   |    82   \n",
      "     165   |   2.902150e-03   |   ADD CON  143   |     0   |    82   \n",
      "     166   |   2.048524e-02   |   ADD CON    1   |     0   |    83   \n",
      "     167   |   3.974737e-02   |   ADD CON  141   |     0   |    83   \n",
      "     168   |   3.063030e-03   |   ADD CON  162   |     0   |    83   \n",
      "     169   |   1.146628e-02   |   ADD CON    5   |     0   |    84   \n",
      "     170   |   3.682368e-02   |   ADD CON    9   |     0   |    85   \n",
      "     171   |   2.731398e-02   |   ADD CON  140   |     0   |    85   \n",
      "     172   |   3.248088e-03   |   ADD CON  161   |     0   |    85   \n",
      "     173   |   6.785912e-03   |   ADD CON   13   |     0   |    86   \n",
      "     174   |   4.116776e-02   |   ADD CON   17   |     0   |    87   \n",
      "     175   |   4.765393e-02   |   ADD CON   21   |     0   |    88   \n",
      "     176   |   1.302052e-03   |   ADD CON  139   |     0   |    88   \n",
      "     177   |   3.463249e-03   |   ADD CON  160   |     0   |    88   \n",
      "     178   |   5.211991e-02   |   ADD CON   25   |     0   |    89   \n",
      "     179   |   3.713126e-03   |   ADD CON   64   |     0   |    90   \n",
      "     180   |   3.465595e-03   |   ADD CON   68   |     0   |    91   \n",
      "     181   |   1.191266e-02   |   ADD CON   60   |     0   |    92   \n",
      "     182   |   1.341883e-02   |   ADD CON   72   |     0   |    93   \n",
      "     183   |   3.482889e-03   |   ADD CON   56   |     0   |    94   \n",
      "     184   |   1.746736e-02   |   ADD CON   52   |     0   |    95   \n",
      "     185   |   4.636515e-03   |   ADD CON   76   |     0   |    96   \n",
      "     186   |   1.283822e-02   |   ADD CON   29   |     0   |    97   \n",
      "     187   |   1.305767e-03   |   ADD CON   48   |     0   |    98   \n",
      "     188   |   6.626361e-03   |   ADD CON  138   |     0   |    98   \n",
      "     189   |   3.716545e-03   |   ADD CON  159   |     0   |    98   \n",
      "     190   |   1.154936e-02   |   ADD CON   44   |     0   |    99   \n",
      "     191   |   2.487650e-02   |   ADD CON   40   |     0   |   100   \n",
      "     192   |   1.611954e-02   |   ADD CON  205   |     0   |   101   \n",
      "     193   |   1.066454e-02   |   ADD CON   33   |     0   |   102   \n",
      "     194   |   1.472492e-03   |   ADD CON   36   |     0   |   103   \n",
      "     195   |   3.178853e-02   |   ADD CON   32   |     0   |   104   \n",
      "     196   |   1.375566e-02   |   ADD CON   37   |     0   |   105   \n",
      "     197   |   2.282037e-02   |   ADD CON   28   |     0   |   106   \n",
      "     198   |   3.689464e-02   |   ADD CON   41   |     0   |   107   \n",
      "     199   |   4.952375e-03   |   ADD CON   24   |     0   |   108   \n",
      "     200   |   1.200935e-02   |   ADD CON  137   |     0   |   108   \n",
      "     201   |   4.019150e-03   |   ADD CON  158   |     0   |   108   \n",
      "     202   |   3.367119e-02   |   ADD CON   20   |     0   |   109   \n",
      "     203   |   7.578763e-03   |   REM CON  143   |     0   |   108   \n",
      "     204   |   5.038730e-02   |   ADD CON   16   |     0   |   109   \n",
      "     205   |   3.646137e-03   |   REM CON  177   |     0   |   108   \n",
      "     206   |   5.860573e-03   |   ADD CON  178   |     0   |   109   \n",
      "     207   |   4.248829e-04   |   REM CON  176   |     0   |   108   \n",
      "     208   |   6.578184e-03   |   ADD CON  177   |     0   |   109   \n",
      "     209   |   2.713765e-03   |   REM CON  137   |     0   |   108   \n",
      "     210   |   2.602887e-02   |   ADD CON  157   |     0   |   109   \n",
      "     211   |   1.303340e-02   |   REM CON  197   |     0   |   108   \n",
      "     212   |   8.010326e-04   |   REM CON  175   |     0   |   107   \n",
      "     213   |   7.272105e-03   |   ADD CON  179   |     0   |   108   \n",
      "     214   |   2.498103e-02   |   ADD CON  176   |     0   |   109   \n",
      "     215   |   2.098704e-03   |   REM CON  138   |     0   |   108   \n",
      "     216   |   4.443583e-02   |   ADD CON  175   |     0   |   109   \n",
      "     217   |   4.752272e-05   |   REM CON  174   |     0   |   108   \n",
      "     218   |   3.409753e-03   |   REM CON  175   |     0   |   107   \n",
      "     219   |   9.164561e-03   |   ADD CON   12   |     0   |   108   \n",
      "     220   |   4.476250e-02   |   ADD CON  180   |     0   |   109   \n",
      "     221   |   5.147978e-03   |   ADD CON  156   |     0   |   110   \n",
      "     222   |   1.343576e-02   |   REM CON  196   |     0   |   109   \n",
      "     223   |   1.051491e-03   |   ADD CON  174   |     0   |   110   \n",
      "     224   |   3.967149e-03   |   REM CON  173   |     0   |   109   \n",
      "     225   |   1.787113e-04   |   REM CON  139   |     0   |   108   \n",
      "     226   |   8.290881e-02   |   REM CON   41   |     0   |   107   \n",
      "     227   |   5.243415e-03   |   ADD CON    0   |     0   |   108   \n",
      "     228   |   4.045463e-02   |   ADD CON  175   |     0   |   109   \n",
      "     229   |   5.735225e-03   |   REM CON  174   |     0   |   108   \n",
      "     230   |   2.316542e-02   |   REM CON  175   |     0   |   107   \n",
      "     231   |   3.172923e-03   |   ADD CON   77   |     0   |   108   \n",
      "     232   |   2.904671e-03   |   ADD CON  173   |     0   |   109   \n",
      "     233   |   4.008708e-03   |   ADD CON  175   |     0   |   110   \n",
      "     234   |   1.220309e-03   |   ADD CON   49   |     0   |   111   \n",
      "     235   |   3.123913e-03   |   ADD CON  155   |     0   |   112   \n",
      "     236   |   1.315809e-03   |   REM CON  172   |     0   |   111   \n",
      "     237   |   1.199114e-02   |   REM CON  175   |     0   |   110   \n",
      "     238   |   3.872474e-03   |   REM CON  195   |     0   |   109   \n",
      "     239   |   3.973807e-03   |   ADD CON   73   |     0   |   110   \n",
      "     240   |   3.064714e-03   |   ADD CON   53   |     0   |   111   \n",
      "     241   |   1.135766e-03   |   ADD CON  181   |     0   |   112   \n",
      "     242   |   1.117027e-02   |   ADD CON  175   |     0   |   113   \n",
      "     243   |   5.889088e-04   |   ADD CON    8   |     0   |   114   \n",
      "     244   |   9.582214e-03   |   ADD CON   69   |     0   |   115   \n",
      "     245   |   3.028757e-03   |   ADD CON   57   |     0   |   116   \n",
      "     246   |   1.461890e-02   |   REM CON  140   |     0   |   115   \n",
      "     247   |   1.273661e-04   |   ADD CON   65   |     0   |   116   \n",
      "     248   |   1.332367e-03   |   ADD CON   61   |     0   |   117   \n",
      "     249   |   1.402663e-02   |   ADD CON   45   |     0   |   118   \n",
      "     250   |   1.148142e-02   |   REM CON  173   |     0   |   117   \n",
      "     251   |   2.647021e-02   |   REM CON  175   |     0   |   116   \n",
      "     252   |   3.479174e-02   |   ADD CON  172   |     0   |   117   \n",
      "     253   |   1.500257e-02   |   REM CON  171   |     0   |   116   \n",
      "     254   |   1.352265e-02   |   ADD CON   41   |     0   |   117   \n",
      "     255   |   1.929234e-02   |   REM CON   37   |     0   |   116   \n",
      "     256   |   6.053193e-02   |   ADD CON  154   |     0   |   117   \n",
      "     257   |   5.592707e-03   |   REM CON  172   |     0   |   116   \n",
      "     258   |   1.250675e-02   |   REM CON  194   |     0   |   115   \n",
      "     259   |   5.432220e-02   |   REM CON  176   |     0   |   114   \n",
      "     260   |   1.938197e-02   |   ADD CON  182   |     0   |   115   \n",
      "     261   |   2.882783e-03   |   ADD CON   37   |     0   |   116   \n",
      "     262   |   5.497268e-03   |   ADD CON  171   |     0   |   117   \n",
      "     263   |   3.854693e-03   |   ADD CON  176   |     0   |   118   \n",
      "     264   |   1.547601e-02   |   REM CON  170   |     0   |   117   \n",
      "     265   |   4.151835e-02   |   REM CON  141   |     0   |   116   \n",
      "     266   |   5.278774e-03   |   REM CON   33   |     0   |   115   \n",
      "     267   |   7.963034e-02   |   REM CON  171   |     0   |   114   \n",
      "     268   |   2.803074e-02   |   ADD CON   33   |     0   |   115   \n",
      "     269   |   8.880672e-03   |   REM CON  176   |     0   |   114   \n",
      "     270   |   7.501767e-03   |   REM CON  157   |     0   |   113   \n",
      "     271   |   1.650030e-02   |   REM CON  156   |     0   |   112   \n",
      "     272   |   8.093100e-02   |   ADD CON  170   |     0   |   113   \n",
      "     273   |   3.807321e-03   |   REM CON  155   |     0   |   112   \n",
      "     274   |   6.831419e-03   |   ADD CON  198   |     0   |   113   \n",
      "     275   |   3.806147e-04   |   REM CON  158   |     0   |   112   \n",
      "     276   |   2.033026e-03   |   REM CON  198   |     0   |   111   \n",
      "     277   |   1.141134e-02   |   REM CON  169   |     0   |   110   \n",
      "     278   |   1.923192e-02   |   ADD CON  153   |     0   |   111   \n",
      "     279   |   2.676519e-03   |   REM CON  193   |     0   |   110   \n",
      "     280   |   5.944919e-02   |   ADD CON  195   |     0   |   111   \n",
      "     281   |   7.258476e-03   |   REM CON  154   |     0   |   110   \n",
      "     282   |   1.342948e-02   |   REM CON   29   |     0   |   109   \n",
      "     283   |   2.919223e-02   |   REM CON  195   |     0   |   108   \n",
      "     284   |   1.489060e-02   |   ADD CON  199   |     0   |   109   \n",
      "     285   |   1.064201e-02   |   REM CON  159   |     0   |   108   \n",
      "     286   |   2.980052e-03   |   REM CON  170   |     0   |   107   \n",
      "     287   |   1.397506e-02   |   ADD CON  183   |     0   |   108   \n",
      "     288   |   3.783238e-02   |   REM CON  199   |     0   |   107   \n",
      "     289   |   3.640924e-02   |   ADD CON  194   |     0   |   108   \n",
      "     290   |   9.126145e-04   |   ADD CON   29   |     0   |   109   \n",
      "     291   |   2.144992e-02   |   REM CON  153   |     0   |   108   \n",
      "     292   |   9.458355e-02   |   REM CON  194   |     0   |   107   \n",
      "     293   |   3.098671e-03   |   ADD CON  200   |     0   |   108   \n",
      "     294   |   3.347388e-02   |   REM CON  160   |     0   |   107   \n",
      "     295   |   8.207640e-03   |   ADD CON  169   |     0   |   108   \n",
      "     296   |   2.656291e-02   |   ADD CON  193   |     0   |   109   \n",
      "     297   |   3.978983e-04   |   REM CON  168   |     0   |   108   \n",
      "     298   |   2.997837e-02   |   REM CON  192   |     0   |   107   \n",
      "     299   |   2.751167e-02   |   ADD CON  204   |     0   |   108   \n",
      "     300   |   5.061232e-03   |   ADD CON  176   |     0   |   109   \n",
      "     301   |   6.839513e-02   |   REM CON  200   |     0   |   108   \n",
      "     302   |   3.477541e-02   |   REM CON  169   |     0   |   107   \n",
      "     303   |   2.153629e-02   |   REM CON  193   |     0   |   106   \n",
      "     304   |   2.406025e-02   |   ADD CON    4   |     0   |   107   \n",
      "     305   |   2.165920e-02   |   REM CON   25   |     0   |   106   \n",
      "     306   |   3.947959e-02   |   ADD CON  201   |     0   |   107   \n",
      "     307   |   4.708389e-02   |   ADD CON  192   |     0   |   108   \n",
      "     308   |   2.959700e-02   |   ADD CON   25   |     0   |   109   \n",
      "     309   |   8.350506e-03   |   REM CON  161   |     0   |   108   \n",
      "     310   |   3.397058e-03   |   REM CON  191   |     0   |   107   \n",
      "     311   |   5.554054e-02   |   REM CON    8   |     0   |   106   \n",
      "     312   |   1.147018e-01   |   REM CON  192   |     0   |   105   \n",
      "     313   |   1.603742e-01   |   ADD CON  191   |     0   |   106   \n",
      "     314   |   2.184360e-02   |   ADD CON    8   |     0   |   107   \n",
      "     315   |   1.151093e-02   |   REM CON  190   |     0   |   106   \n",
      "     316   |   3.908736e-03   |   ADD CON  174   |     0   |   107   \n",
      "     317   |   1.101898e-02   |   REM CON  201   |     0   |   106   \n",
      "     318   |   8.398267e-02   |   ADD CON  202   |     0   |   107   \n",
      "     319   |   5.048555e-02   |   REM CON  191   |     0   |   106   \n",
      "     320   |   2.521852e-02   |   ADD CON  175   |     0   |   107   \n",
      "     321   |   3.305089e-02   |   ADD CON  201   |     0   |   108   \n",
      "     322   |   4.891378e-03   |   REM CON  174   |     0   |   107   \n",
      "     323   |   7.442453e-03   |   REM CON   21   |     0   |   106   \n",
      "     324   |   5.585194e-02   |   REM CON  162   |     0   |   105   \n",
      "     325   |   3.460666e-02   |   ADD CON   21   |     0   |   106   \n",
      "     326   |   9.782352e-03   |   REM CON   78   |     0   |   105   \n",
      "     327   |   2.050923e-02   |   ADD CON   78   |     0   |   106   \n",
      "     328   |   3.161425e-02   |   REM CON  142   |     0   |   105   \n",
      "     329   |   1.303765e-02   |   ADD CON  174   |     0   |   106   \n",
      "     330   |   1.575292e-02   |   REM CON  175   |     0   |   105   \n",
      "     331   |   9.544138e-03   |   REM CON  201   |     0   |   104   \n",
      "     332   |   4.393113e-02   |   ADD CON  190   |     0   |   105   \n",
      "     333   |   6.127306e-03   |   REM CON   12   |     0   |   104   \n",
      "     334   |   2.777611e-03   |   REM CON  174   |     0   |   103   \n",
      "     335   |   2.220737e-02   |   REM CON  189   |     0   |   102   \n",
      "     336   |   1.207137e-01   |   REM CON  190   |     0   |   101   \n",
      "     337   |   4.660829e-02   |   ADD CON   12   |     0   |   102   \n",
      "     338   |   1.761749e-01   |   REM CON  176   |     0   |   101   \n",
      "     339   |   1.948799e-01   |   ADD CON  189   |     0   |   102   \n",
      "     340   |   6.928052e-03   |   REM CON  188   |     0   |   101   \n",
      "     341   |   2.138705e-02   |   REM CON   17   |     0   |   100   \n",
      "     342   |   6.573033e-03   |   REM CON  189   |     0   |    99   \n",
      "     343   |   6.300698e-02   |   ADD CON   17   |     0   |   100   \n",
      "     344   |   4.202719e-03   |   ADD CON  203   |     0   |   101   \n",
      "     345   |   1.331489e-02   |   REM CON  122   |     0   |   100   \n",
      "     346   |   7.210813e-02   |   ADD CON  168   |     0   |   101   \n",
      "     347   |   6.765302e-02   |   REM CON  167   |     0   |   100   \n",
      "     348   |   1.305978e-02   |   REM CON  177   |     0   |    99   \n",
      "     349   |   2.101404e-01   |   REM CON  168   |     0   |    98   \n",
      "     350   |   2.019016e-01   |   REM CON  187   |     0   |    97   \n",
      "     351   |   4.562632e-02   |   REM CON   12   |     0   |    96   \n",
      "     352   |   3.312308e-02   |   ADD CON   12   |     0   |    97   \n",
      "     353   |   2.672667e-02   |   REM CON  178   |     0   |    96   \n",
      "     354   |   2.445640e-01   |   ADD CON  167   |     0   |    97   \n",
      "     355   |   4.430639e-02   |   REM CON  166   |     0   |    96   \n",
      "     356   |   3.541246e-02   |   REM CON   13   |     0   |    95   \n",
      "     357   |   3.267065e-02   |   ADD CON   13   |     0   |    96   \n",
      "     358   |   5.531298e-02   |   REM CON  167   |     0   |    95   \n",
      "     359   |   1.983648e-01   |   REM CON  179   |     0   |    94   \n",
      "     360   |   1.138525e-01   |   REM CON  186   |     0   |    93   \n",
      "     361   |   3.892306e-01   |   REM CON    8   |     0   |    92   \n",
      "     362   |   1.355348e-02   |   ADD CON    8   |     0   |    93   \n",
      "     363   |   1.796639e-01   |   REM CON  180   |     0   |    92   \n",
      "     364   |   3.414135e-02   |   REM CON  165   |     0   |    91   \n",
      "     365   |   1.875515e-01   |   REM CON    9   |     0   |    90   \n",
      "     366   |   1.335113e-02   |   ADD CON    9   |     0   |    91   \n",
      "     367   |   2.081174e-01   |   REM CON  185   |     0   |    90   \n",
      "     368   |   2.111238e-01   |   REM CON   79   |     0   |    89   \n",
      "     369   |   6.856311e-04   |   ADD CON   79   |     0   |    90   \n",
      "     370   |   4.379553e-02   |   REM CON  163   |     0   |    89   \n",
      "     371   |   2.615100e-01   |   REM CON  181   |     0   |    88   \n",
      "     372   |   4.478456e-01   |   REM CON    4   |     0   |    87   \n",
      "     373   |   3.653293e-03   |   ADD CON    4   |     0   |    88   \n",
      "     374   |   1.124389e-01   |   REM CON  164   |     0   |    87   \n",
      "     375   |   2.496089e-01   |   REM CON  202   |     0   |    86   \n",
      "     376   |   7.050169e-02   |   REM CON    5   |     0   |    85   \n",
      "     377   |   3.596558e-03   |   ADD CON    5   |     0   |    86   \n",
      "     378   |   1.126498e-01   |   REM CON  184   |     0   |    85   \n",
      "     379   |   3.184675e-01   |   REM CON  182   |     0   |    84   \n",
      "     380   |   1.000000e+00   |   REM CON   53   |     0   |    84   \n",
      "   1   2.668663e-25  1.55e-15  1.72e-15  1.00e+01       -  1  - \n",
      "MESSAGE(sqpmethod): Convergence achieved after 1 iterations\n",
      "      solver  :   t_proc      (avg)   t_wall      (avg)    n_eval\n",
      "          QP  | 106.23ms (106.23ms)  97.34ms ( 97.34ms)         1\n",
      "  linesearch  |  32.00us ( 32.00us)  33.10us ( 33.10us)         1\n",
      "      nlp_fg  |  27.00us ( 27.00us)  26.37us ( 26.37us)         1\n",
      "  nlp_hess_l  |  49.00us ( 49.00us)  48.84us ( 48.84us)         1\n",
      "  nlp_jac_fg  | 245.00us (122.50us) 246.82us (123.41us)         2\n",
      "       total  | 106.67ms (106.67ms)  97.77ms ( 97.77ms)         1\n"
     ]
    }
   ],
   "source": [
    "# Use SQP solver\n",
    "#options = {'qpsol': 'qrqp'}\n",
    "# Silence optimizer outputs\n",
    "# options[\"qpsol_options\"] = {\"print_iter\": False, \"print_header\": False}\n",
    "# options[\"print_iteration\"] = False\n",
    "# options[\"print_header\"] = False\n",
    "# options[\"print_status\"] = False\n",
    "# options[\"print_time\"] = False\n",
    "#opti.solver('sqpmethod', options)\n",
    "\n",
    "opti.solver('sqpmethod')\n",
    "\n",
    "sol = opti.solve()"
   ]
  },
  {
   "cell_type": "code",
   "execution_count": 20,
   "id": "5d19049c-76d4-4a9a-9fd4-50cad7158819",
   "metadata": {},
   "outputs": [
    {
     "data": {
      "image/png": "[encoded data removed]",
      "text/plain": [
       "<Figure size 350x550 with 1 Axes>"
      ]
     },
     "metadata": {},
     "output_type": "display_data"
    }
   ],
   "source": [
    "xsol = sol.value(X)\n",
    "make_trajectory_plot(xsol, ref)\n",
    "plt.tight_layout()\n",
    "filename = f'toc_sol_1_2_top_view.pdf'\n",
    "plt.savefig(os.path.join(plot_dir, filename))\n",
    "plt.show()"
   ]
  },
  {
   "cell_type": "code",
   "execution_count": 21,
   "id": "e7149005-29ee-43ae-9bd8-079bdd4cdc21",
   "metadata": {},
   "outputs": [
    {
     "data": {
      "text/plain": [
       "1.1272941503740694e-13"
      ]
     },
     "execution_count": 21,
     "metadata": {},
     "output_type": "execute_result"
    }
   ],
   "source": [
    "# Tracking error\n",
    "tracking_rmse = np.sqrt(sol.value(sumsqr(X[:2, :] - ref)) / (N+1))\n",
    "tracking_rmse"
   ]
  },
  {
   "cell_type": "code",
   "execution_count": 22,
   "id": "c46a64c5-ef61-4e10-8ed3-fad875b8ac4c",
   "metadata": {},
   "outputs": [
    {
     "data": {
      "image/png": "[encoded data removed]",
      "text/plain": [
       "<Figure size 700x250 with 1 Axes>"
      ]
     },
     "metadata": {},
     "output_type": "display_data"
    }
   ],
   "source": [
    "usol = sol.value(U)\n",
    "make_control_signal_plot(usol)\n",
    "plt.tight_layout()\n",
    "filename = f'toc_sol_1_2_control.pdf'\n",
    "plt.savefig(os.path.join(plot_dir, filename))\n",
    "plt.show()"
   ]
  },
  {
   "cell_type": "code",
   "execution_count": 23,
   "id": "25b0a8f6-653e-48d6-9306-b99e29b5b206",
   "metadata": {},
   "outputs": [
    {
     "data": {
      "text/plain": [
       "1"
      ]
     },
     "execution_count": 23,
     "metadata": {},
     "output_type": "execute_result"
    }
   ],
   "source": [
    "# Number of SQP iterations\n",
    "sol.stats()['iter_count']"
   ]
  },
  {
   "cell_type": "markdown",
   "id": "95f96524-e74d-4f42-bdc0-cca45a1d60a2",
   "metadata": {},
   "source": [
    "Explanation:\n",
    " - This takes one iteration because the problem is linear-quadratic."
   ]
  },
  {
   "cell_type": "code",
   "execution_count": null,
   "id": "431b2c77-7d0b-413b-86a6-357c919b2715",
   "metadata": {},
   "outputs": [],
   "source": []
  },
  {
   "cell_type": "code",
   "execution_count": null,
   "id": "0f6a0c45-bb6b-4038-9456-1cb02f015c3f",
   "metadata": {},
   "outputs": [],
   "source": []
  },
  {
   "cell_type": "code",
   "execution_count": null,
   "id": "a32ac96e-eb0e-44f8-8021-674d3ea809dd",
   "metadata": {},
   "outputs": [],
   "source": []
  }
 ],
 "metadata": {
  "kernelspec": {
   "display_name": "Python (casadi)",
   "language": "python",
   "name": "casadi"
  },
  "language_info": {
   "codemirror_mode": {
    "name": "ipython",
    "version": 3
   },
   "file_extension": ".py",
   "mimetype": "text/x-python",
   "name": "python",
   "nbconvert_exporter": "python",
   "pygments_lexer": "ipython3",
   "version": "3.10.13"
  }
 },
 "nbformat": 4,
 "nbformat_minor": 5
}
