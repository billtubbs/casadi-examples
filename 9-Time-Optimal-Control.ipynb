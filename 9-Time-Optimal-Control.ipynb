{
 "cells": [
  {
   "cell_type": "markdown",
   "id": "1ad1de9b-8bd3-41b6-ae08-6039d19b01b3",
   "metadata": {},
   "source": [
    "# Time-Optimal Control Exercise"
   ]
  },
  {
   "cell_type": "code",
   "execution_count": 1,
   "id": "82357ee2-3781-4f5b-a37c-c0b31df8c58f",
   "metadata": {},
   "outputs": [
    {
     "data": {
      "text/plain": [
       "'3.6.4'"
      ]
     },
     "execution_count": 1,
     "metadata": {},
     "output_type": "execute_result"
    }
   ],
   "source": [
    "import os\n",
    "import time\n",
    "import numpy as np\n",
    "from numpy.testing import assert_array_equal, assert_array_almost_equal\n",
    "import matplotlib.pyplot as plt\n",
    "from casadi import (\n",
    "    MX, DM, Function, Opti, integrator,\n",
    "    vec, vcat, vertcat, horzcat, \n",
    "    sum1, sum2, sumsqr, sin, cos,\n",
    "    gradient, jacobian, hessian\n",
    ")\n",
    "\n",
    "import casadi\n",
    "casadi.__version__"
   ]
  },
  {
   "cell_type": "code",
   "execution_count": 4,
   "id": "a312dfbd-cb5b-4015-ba84-ee2fd74ececb",
   "metadata": {},
   "outputs": [],
   "source": [
    "# Physical constants\n",
    "\n",
    "T = 1.0  # control horizon [s]\n",
    "N = 20  # Number of control intervals\n",
    "\n",
    "dt = T / N  # length of 1 control interval [s]\n",
    "\n",
    "tgrid = np.linspace(0, T, N+1)"
   ]
  },
  {
   "cell_type": "markdown",
   "id": "bec9db58-2b0f-40ff-9bb9-227f3ab08057",
   "metadata": {},
   "source": [
    "## Define continuous-time system\n",
    "\n",
    "$\\dot{x} = f(x,u)$"
   ]
  },
  {
   "cell_type": "code",
   "execution_count": 6,
   "id": "829d728c-1acb-4732-bb5b-128ce189d5d9",
   "metadata": {},
   "outputs": [
    {
     "data": {
      "text/plain": [
       "Function(f:(i0[4],i1[2])->(o0[4]) MXFunction)"
      ]
     },
     "execution_count": 6,
     "metadata": {},
     "output_type": "execute_result"
    }
   ],
   "source": [
    "nx = 4\n",
    "\n",
    "# Construct function for the ODE right-hand side\n",
    "x = MX.sym('x', nx)  # states: pos_x [m], pos_y [m], vel_x [m/s], vel_y [m/s]\n",
    "u = MX.sym('u', 2)  # control force [N]\n",
    "rhs = vertcat(x[2:4], u)\n",
    "\n",
    "# Continuous system dynamics as a CasADi Function\n",
    "f = Function('f', [x, u], [rhs])\n",
    "f"
   ]
  },
  {
   "cell_type": "markdown",
   "id": "6e375f39-cf93-4c8c-b4df-7149a8404833",
   "metadata": {},
   "source": [
    "## Define discrete-time system\n",
    "\n",
    "$x_{k+1} = F(x_k, u_k)$"
   ]
  },
  {
   "cell_type": "code",
   "execution_count": 12,
   "id": "b522d28a-62ce-48f8-8245-2857d3b5fc59",
   "metadata": {},
   "outputs": [
    {
     "data": {
      "text/plain": [
       "Function(F:(xk[4],uk[2])->(xkp1[4]) MXFunction)"
      ]
     },
     "execution_count": 12,
     "metadata": {},
     "output_type": "execute_result"
    }
   ],
   "source": [
    "# Construct function for the ODE right-hand side\n",
    "xk = MX.sym('xk', nx)  # states: pos_x [m], pos_y [m], vel_x [m/s], vel_y [m/s]\n",
    "uk = MX.sym('uk', 2)  # control force [N]\n",
    "\n",
    "f1 = f(xk, uk)\n",
    "f2 = f(xk + dt/2 * f1, uk)\n",
    "f3 = f(xk + dt/2 * f2, uk)\n",
    "f4 = f(xk + dt * f3, uk)\n",
    "xkp1 = xk + dt / 6 * (f1 + 2 * f2 + 2 * f3 + f4)\n",
    "\n",
    "F = Function('F', [xk, uk], [xkp1], ['xk', 'uk'], ['xkp1'])\n",
    "F"
   ]
  },
  {
   "cell_type": "markdown",
   "id": "0a6e9036-d737-4a45-8b57-bc04ff9722b5",
   "metadata": {},
   "source": [
    "## Waypoints"
   ]
  },
  {
   "cell_type": "code",
   "execution_count": 14,
   "id": "ffc4e312-1d1c-4a46-a6c9-892ee04029c8",
   "metadata": {},
   "outputs": [
    {
     "data": {
      "text/plain": [
       "(2, 21)"
      ]
     },
     "execution_count": 14,
     "metadata": {},
     "output_type": "execute_result"
    }
   ],
   "source": [
    "ref = horzcat(sin(np.linspace(0, 2, N+1)), cos(np.linspace(0,2,N+1))).T\n",
    "ref.shape"
   ]
  },
  {
   "cell_type": "code",
   "execution_count": 26,
   "id": "61f917c6-54b2-49c3-b9eb-9e7e9bcf5cad",
   "metadata": {},
   "outputs": [
    {
     "data": {
      "text/plain": [
       "(DM(0), DM(1))"
      ]
     },
     "execution_count": 26,
     "metadata": {},
     "output_type": "execute_result"
    }
   ],
   "source": []
  },
  {
   "cell_type": "code",
   "execution_count": 49,
   "id": "e317127b-4e1b-4e2c-9aa6-34699926bfba",
   "metadata": {},
   "outputs": [
    {
     "data": {
      "image/png": "[encoded data removed]",
      "text/plain": [
       "<Figure size 550x550 with 1 Axes>"
      ]
     },
     "metadata": {},
     "output_type": "display_data"
    }
   ],
   "source": [
    "fig, ax = plt.subplots(figsize=(5.5, 5.5))\n",
    "ax.plot(ref[0, :].T, ref[1, :].T, '.-')\n",
    "xy0 = np.array(ref[:, 0])\n",
    "ax.annotate(f'$t={tgrid[0]}$', xy=xy0, xytext=(0, -5), textcoords='offset pixels', va='top', ha='center')\n",
    "xy_end = np.array(ref[:, -1])\n",
    "ax.annotate(f'$t={tgrid[-1]}$', xy=xy_end, xytext=(0, -5), textcoords='offset pixels', va='top', ha='center')\n",
    "ax.grid()\n",
    "ax.set_aspect('equal')\n",
    "ax.set_title('Reference Trajectory')\n",
    "ax.set_xlabel('$x$')\n",
    "ax.set_ylabel('$y$')\n",
    "plt.show()"
   ]
  },
  {
   "cell_type": "code",
   "execution_count": null,
   "id": "77dde6e6-1d6d-41a3-810d-e73fd7d9bb7e",
   "metadata": {},
   "outputs": [],
   "source": []
  },
  {
   "cell_type": "code",
   "execution_count": null,
   "id": "acd3c448-1d36-4fd3-bcee-0d45a9297a4f",
   "metadata": {},
   "outputs": [],
   "source": []
  },
  {
   "cell_type": "code",
   "execution_count": null,
   "id": "a29dcac0-f0a9-4a56-8759-36493585a656",
   "metadata": {},
   "outputs": [],
   "source": []
  },
  {
   "cell_type": "code",
   "execution_count": null,
   "id": "77ea1cc6-74fa-4dc2-acd4-2b29609e4e16",
   "metadata": {},
   "outputs": [],
   "source": []
  },
  {
   "cell_type": "code",
   "execution_count": null,
   "id": "df0990f1-62af-48b9-963b-db3a22ccbf22",
   "metadata": {},
   "outputs": [],
   "source": []
  }
 ],
 "metadata": {
  "kernelspec": {
   "display_name": "Python (casadi)",
   "language": "python",
   "name": "casadi"
  },
  "language_info": {
   "codemirror_mode": {
    "name": "ipython",
    "version": 3
   },
   "file_extension": ".py",
   "mimetype": "text/x-python",
   "name": "python",
   "nbconvert_exporter": "python",
   "pygments_lexer": "ipython3",
   "version": "3.10.13"
  }
 },
 "nbformat": 4,
 "nbformat_minor": 5
}
