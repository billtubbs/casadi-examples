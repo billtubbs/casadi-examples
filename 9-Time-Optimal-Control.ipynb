{
 "cells": [
  {
   "cell_type": "markdown",
   "id": "1ad1de9b-8bd3-41b6-ae08-6039d19b01b3",
   "metadata": {},
   "source": [
    "# Time-Optimal Control Exercise"
   ]
  },
  {
   "cell_type": "code",
   "execution_count": 25,
   "id": "82357ee2-3781-4f5b-a37c-c0b31df8c58f",
   "metadata": {},
   "outputs": [
    {
     "data": {
      "text/plain": [
       "'3.6.4'"
      ]
     },
     "execution_count": 25,
     "metadata": {},
     "output_type": "execute_result"
    }
   ],
   "source": [
    "import os\n",
    "import time\n",
    "import numpy as np\n",
    "from numpy.testing import assert_array_equal, assert_array_almost_equal\n",
    "import matplotlib.pyplot as plt\n",
    "from casadi import (\n",
    "    MX, DM, Function, Opti, integrator,\n",
    "    vec, vcat, vertcat, horzcat, \n",
    "    sum1, sum2, sumsqr, sin, cos,\n",
    "    gradient, jacobian, hessian\n",
    ")\n",
    "\n",
    "import casadi\n",
    "casadi.__version__"
   ]
  },
  {
   "cell_type": "code",
   "execution_count": 2,
   "id": "506780fe-1e44-4913-b377-0d89451eceb7",
   "metadata": {},
   "outputs": [],
   "source": [
    "plot_dir = 'plots'\n",
    "if not os.path.exists(plot_dir):\n",
    "    os.mkdir(plot_dir)"
   ]
  },
  {
   "cell_type": "code",
   "execution_count": 3,
   "id": "a312dfbd-cb5b-4015-ba84-ee2fd74ececb",
   "metadata": {},
   "outputs": [],
   "source": [
    "# Physical constants\n",
    "\n",
    "T = 1.0  # control horizon [s]\n",
    "N = 20  # Number of control intervals\n",
    "\n",
    "dt = T / N  # length of 1 control interval [s]\n",
    "\n",
    "tgrid = np.linspace(0, T, N+1)"
   ]
  },
  {
   "cell_type": "markdown",
   "id": "bec9db58-2b0f-40ff-9bb9-227f3ab08057",
   "metadata": {},
   "source": [
    "## Define continuous-time system\n",
    "\n",
    "$\\dot{x} = f(x,u)$"
   ]
  },
  {
   "cell_type": "code",
   "execution_count": 4,
   "id": "829d728c-1acb-4732-bb5b-128ce189d5d9",
   "metadata": {},
   "outputs": [
    {
     "data": {
      "text/plain": [
       "Function(f:(i0[4],i1[2])->(o0[4]) MXFunction)"
      ]
     },
     "execution_count": 4,
     "metadata": {},
     "output_type": "execute_result"
    }
   ],
   "source": [
    "nx = 4\n",
    "\n",
    "# Construct function for the ODE right-hand side\n",
    "x = MX.sym('x', nx)  # states: pos_x [m], pos_y [m], vel_x [m/s], vel_y [m/s]\n",
    "u = MX.sym('u', 2)  # control force [N]\n",
    "rhs = vertcat(x[2:4], u)\n",
    "\n",
    "# Continuous system dynamics as a CasADi Function\n",
    "f = Function('f', [x, u], [rhs])\n",
    "f"
   ]
  },
  {
   "cell_type": "markdown",
   "id": "6e375f39-cf93-4c8c-b4df-7149a8404833",
   "metadata": {},
   "source": [
    "## Define discrete-time system\n",
    "\n",
    "$x_{k+1} = F(x_k, u_k)$"
   ]
  },
  {
   "cell_type": "code",
   "execution_count": 5,
   "id": "b522d28a-62ce-48f8-8245-2857d3b5fc59",
   "metadata": {},
   "outputs": [
    {
     "data": {
      "text/plain": [
       "Function(F:(xk[4],uk[2])->(xkp1[4]) MXFunction)"
      ]
     },
     "execution_count": 5,
     "metadata": {},
     "output_type": "execute_result"
    }
   ],
   "source": [
    "# Construct function for the ODE right-hand side\n",
    "xk = MX.sym('xk', nx)  # states: pos_x [m], pos_y [m], vel_x [m/s], vel_y [m/s]\n",
    "uk = MX.sym('uk', 2)  # control force [N]\n",
    "\n",
    "f1 = f(xk, uk)\n",
    "f2 = f(xk + dt/2 * f1, uk)\n",
    "f3 = f(xk + dt/2 * f2, uk)\n",
    "f4 = f(xk + dt * f3, uk)\n",
    "xkp1 = xk + dt / 6 * (f1 + 2 * f2 + 2 * f3 + f4)\n",
    "\n",
    "F = Function('F', [xk, uk], [xkp1], ['xk', 'uk'], ['xkp1'])\n",
    "F"
   ]
  },
  {
   "cell_type": "markdown",
   "id": "0a6e9036-d737-4a45-8b57-bc04ff9722b5",
   "metadata": {},
   "source": [
    "## Waypoints"
   ]
  },
  {
   "cell_type": "code",
   "execution_count": 6,
   "id": "ffc4e312-1d1c-4a46-a6c9-892ee04029c8",
   "metadata": {},
   "outputs": [
    {
     "data": {
      "text/plain": [
       "(2, 21)"
      ]
     },
     "execution_count": 6,
     "metadata": {},
     "output_type": "execute_result"
    }
   ],
   "source": [
    "ref = horzcat(sin(np.linspace(0, 2, N+1)), cos(np.linspace(0,2,N+1))).T\n",
    "ref.shape"
   ]
  },
  {
   "cell_type": "code",
   "execution_count": null,
   "id": "61f917c6-54b2-49c3-b9eb-9e7e9bcf5cad",
   "metadata": {},
   "outputs": [],
   "source": []
  },
  {
   "cell_type": "code",
   "execution_count": 7,
   "id": "e317127b-4e1b-4e2c-9aa6-34699926bfba",
   "metadata": {},
   "outputs": [
    {
     "data": {
      "image/png": "[encoded data removed]",
      "text/plain": [
       "<Figure size 350x550 with 1 Axes>"
      ]
     },
     "metadata": {},
     "output_type": "display_data"
    }
   ],
   "source": [
    "fig, ax = plt.subplots(figsize=(3.5, 5.5))\n",
    "ax.plot(ref[0, :].T, ref[1, :].T, '.-')\n",
    "xy0 = np.array(ref[:, 0])\n",
    "ax.annotate(f'$t={tgrid[0]}$', xy=xy0, xytext=(0, -5), textcoords='offset pixels', va='top', ha='center')\n",
    "xy_end = np.array(ref[:, -1])\n",
    "ax.annotate(f'$t={tgrid[-1]}$', xy=xy_end, xytext=(0, -5), textcoords='offset pixels', va='top', ha='center')\n",
    "ax.grid()\n",
    "ax.set_aspect('equal')\n",
    "ax.set_title('Reference Trajectory')\n",
    "ax.set_xlabel('$x$')\n",
    "ax.set_ylabel('$y$')\n",
    "plt.show()"
   ]
  },
  {
   "cell_type": "markdown",
   "id": "b30cbacd-d40f-4d0b-b2d5-ba5bcc0491f9",
   "metadata": {},
   "source": [
    "## 1.1. Run the reference multiple-shooting implementation"
   ]
  },
  {
   "cell_type": "markdown",
   "id": "15d3532c-2a25-4f4b-b826-03240c26bc8d",
   "metadata": {},
   "source": [
    "Set up optimal control problem"
   ]
  },
  {
   "cell_type": "code",
   "execution_count": 34,
   "id": "acd3c448-1d36-4fd3-bcee-0d45a9297a4f",
   "metadata": {},
   "outputs": [
    {
     "data": {
      "text/plain": [
       "Opti(Opti {\n",
       "  instance #3\n",
       "  #variables: 2 (nx = 124)\n",
       "  #parameters: 0 (np = 0)\n",
       "  #constraints: 27 (ng = 206)\n",
       "  CasADi solver needs updating.\n",
       "})"
      ]
     },
     "execution_count": 34,
     "metadata": {},
     "output_type": "execute_result"
    }
   ],
   "source": [
    "opti = casadi.Opti()\n",
    "\n",
    "# Decision variables for states\n",
    "X = opti.variable(nx, N + 1)\n",
    "\n",
    "# Decision variables for control vector\n",
    "U = opti.variable(2, N) # force [N]\n",
    "\n",
    "# Gap-closing shooting constraints\n",
    "for k in range(N):\n",
    "  opti.subject_to(X[:, k+1] == F(X[:, k], U[:, k]))\n",
    "\n",
    "# Path constraints\n",
    "opti.subject_to(opti.bounded(-3, X[0, :], 3)) # pos_x limits\n",
    "opti.subject_to(opti.bounded(-3, X[1, :], 3)) # pos_y limits\n",
    "opti.subject_to(opti.bounded(-3, X[2, :], 3)) # vel_x limits\n",
    "opti.subject_to(opti.bounded(-3, X[3, :], 3)) # vel_y limits\n",
    "opti.subject_to(opti.bounded(-10, U[0, :], 10)) # force_x limits\n",
    "opti.subject_to(opti.bounded(-10, U[1, :], 10)) # force_x limits\n",
    "\n",
    "# Initial constraints\n",
    "#opti.subject_to(X[:, 0] == vertcat(ref[:, 0], 0, 0))\n",
    "# Alternative initial constraints\n",
    "opti.subject_to(X[:2, 0] == ref[:, 0])\n",
    "\n",
    "# Try to follow the waypoints\n",
    "opti.minimize(sumsqr(X[:2, :] - ref))\n",
    "opti"
   ]
  },
  {
   "cell_type": "code",
   "execution_count": 35,
   "id": "a29dcac0-f0a9-4a56-8759-36493585a656",
   "metadata": {},
   "outputs": [
    {
     "name": "stdout",
     "output_type": "stream",
     "text": [
      "This is Ipopt version 3.14.11, running with linear solver MUMPS 5.4.1.\n",
      "\n",
      "Number of nonzeros in equality constraint Jacobian...:      282\n",
      "Number of nonzeros in inequality constraint Jacobian.:      124\n",
      "Number of nonzeros in Lagrangian Hessian.............:       42\n",
      "\n",
      "Total number of variables............................:      124\n",
      "                     variables with only lower bounds:        0\n",
      "                variables with lower and upper bounds:        0\n",
      "                     variables with only upper bounds:        0\n",
      "Total number of equality constraints.................:       82\n",
      "Total number of inequality constraints...............:      124\n",
      "        inequality constraints with only lower bounds:        0\n",
      "   inequality constraints with lower and upper bounds:      124\n",
      "        inequality constraints with only upper bounds:        0\n",
      "\n",
      "iter    objective    inf_pr   inf_du lg(mu)  ||d||  lg(rg) alpha_du alpha_pr  ls\n",
      "   0  2.1000000e+01 1.00e+00 3.44e-01  -1.0 0.00e+00    -  0.00e+00 0.00e+00   0\n",
      "   1  6.1108084e+00 1.11e-16 1.59e-01  -1.0 1.00e+00    -  7.62e-01 1.00e+00f  1\n",
      "   2  1.2035242e+00 2.22e-16 1.03e-02  -1.0 6.26e-01    -  9.79e-01 1.00e+00f  1\n",
      "   3  2.3879010e-01 2.22e-16 4.74e-03  -1.7 1.60e+00    -  9.53e-01 1.00e+00f  1\n",
      "   4  1.6593446e-02 2.22e-16 1.63e-16  -2.5 1.70e+00    -  1.00e+00 1.00e+00f  1\n",
      "   5  5.3439573e-04 2.22e-16 4.03e-04  -3.8 1.27e+00    -  9.62e-01 1.00e+00f  1\n",
      "   6  3.1869622e-05 2.22e-16 1.07e-16  -3.8 1.24e+00    -  1.00e+00 1.00e+00f  1\n",
      "   7  2.9518517e-06 2.22e-16 6.11e-06  -5.7 6.39e-01    -  9.64e-01 1.00e+00f  1\n",
      "   8  1.5960321e-07 2.22e-16 1.11e-16  -5.7 9.30e-01    -  1.00e+00 1.00e+00f  1\n",
      "   9  9.1818574e-09 2.22e-16 5.56e-08  -8.6 4.14e-01    -  9.64e-01 1.00e+00f  1\n",
      "iter    objective    inf_pr   inf_du lg(mu)  ||d||  lg(rg) alpha_du alpha_pr  ls\n",
      "  10  1.9300456e-10 2.22e-16 5.97e-10  -8.6 2.62e-01    -  9.91e-01 1.00e+00h  1\n",
      "  11  1.7865253e-13 2.22e-16 1.04e-16  -9.0 7.41e-02    -  1.00e+00 1.00e+00h  1\n",
      "\n",
      "Number of Iterations....: 11\n",
      "\n",
      "                                   (scaled)                 (unscaled)\n",
      "Objective...............:   1.7865253103823240e-13    1.7865253103823240e-13\n",
      "Dual infeasibility......:   1.0353537824173489e-16    1.0353537824173489e-16\n",
      "Constraint violation....:   2.2204460492503131e-16    2.2204460492503131e-16\n",
      "Variable bound violation:   0.0000000000000000e+00    0.0000000000000000e+00\n",
      "Complementarity.........:   1.0784522039049474e-09    1.0784522039049474e-09\n",
      "Overall NLP error.......:   1.0784522039049474e-09    1.0784522039049474e-09\n",
      "\n",
      "\n",
      "Number of objective function evaluations             = 12\n",
      "Number of objective gradient evaluations             = 12\n",
      "Number of equality constraint evaluations            = 12\n",
      "Number of inequality constraint evaluations          = 12\n",
      "Number of equality constraint Jacobian evaluations   = 12\n",
      "Number of inequality constraint Jacobian evaluations = 12\n",
      "Number of Lagrangian Hessian evaluations             = 11\n",
      "Total seconds in IPOPT                               = 0.021\n",
      "\n",
      "EXIT: Optimal Solution Found.\n",
      "      solver  :   t_proc      (avg)   t_wall      (avg)    n_eval\n",
      "       nlp_f  |  29.00us (  2.42us)  32.32us (  2.69us)        12\n",
      "       nlp_g  | 514.00us ( 42.83us) 462.27us ( 38.52us)        12\n",
      "  nlp_grad_f  |  62.00us (  4.77us)  55.02us (  4.23us)        13\n",
      "  nlp_hess_l  |   1.03ms ( 93.55us)   1.05ms ( 95.53us)        11\n",
      "   nlp_jac_g  |   1.90ms (146.46us)   1.80ms (138.54us)        13\n",
      "       total  |  21.69ms ( 21.69ms)  20.97ms ( 20.97ms)         1\n"
     ]
    }
   ],
   "source": [
    "opti.solver('ipopt')\n",
    "\n",
    "sol = opti.solve()"
   ]
  },
  {
   "cell_type": "code",
   "execution_count": 36,
   "id": "63ff282d-7ee5-4883-bd21-4b185584cfd3",
   "metadata": {},
   "outputs": [
    {
     "data": {
      "text/plain": [
       "9.223482738517469e-08"
      ]
     },
     "execution_count": 36,
     "metadata": {},
     "output_type": "execute_result"
    }
   ],
   "source": [
    "# Tracking error\n",
    "tracking_rmse = np.sqrt(sol.value(sumsqr(X[:2, :] - ref)) / (N + 1))\n",
    "tracking_rmse"
   ]
  },
  {
   "cell_type": "markdown",
   "id": "840ffaac-b7c6-4d56-83d1-d8c69ebacb97",
   "metadata": {},
   "source": [
    "Plot Solution"
   ]
  },
  {
   "cell_type": "code",
   "execution_count": 40,
   "id": "df0990f1-62af-48b9-963b-db3a22ccbf22",
   "metadata": {},
   "outputs": [
    {
     "data": {
      "image/png": "[encoded data removed]",
      "text/plain": [
       "<Figure size 350x550 with 1 Axes>"
      ]
     },
     "metadata": {},
     "output_type": "display_data"
    }
   ],
   "source": [
    "def make_trajectory_plot(xsol, ref):\n",
    "    fig, ax = plt.subplots(figsize=(3.5, 5.5))\n",
    "    ax.plot(xsol[0, :].T, xsol[1, :].T, 'bs-', linewidth=2, label='OCP trajectory')\n",
    "    ax.plot(ref[0, :].T, ref[1, :].T, 'ro', linewidth=3, label='Reference trajectory')\n",
    "    ax.legend()\n",
    "    ax.set_xlabel('x')\n",
    "    ax.set_xlabel('y')\n",
    "    ax.axis('equal')\n",
    "    ax.grid()\n",
    "    ax.set_title('Top View')\n",
    "\n",
    "xsol = sol.value(X)\n",
    "make_trajectory_plot(xsol, ref)\n",
    "plt.tight_layout()\n",
    "filename = f'toc_sol_1_1_top_view.pdf'\n",
    "plt.savefig(os.path.join(plot_dir, filename))\n",
    "plt.show()"
   ]
  },
  {
   "cell_type": "code",
   "execution_count": 41,
   "id": "f8009538-30c9-440f-8826-4b3856bfe3d1",
   "metadata": {},
   "outputs": [
    {
     "data": {
      "image/png": "[encoded data removed]",
      "text/plain": [
       "<Figure size 700x250 with 1 Axes>"
      ]
     },
     "metadata": {},
     "output_type": "display_data"
    }
   ],
   "source": [
    "def make_control_signal_plot(usol):\n",
    "    plt.figure(figsize=(7, 2.5))\n",
    "    plt.step(tgrid, horzcat(usol, usol[:, -1]).T)\n",
    "    plt.title('Applied Control Signal')\n",
    "    plt.legend(('force_x', 'force_y'))\n",
    "    plt.ylabel('Force [N]')\n",
    "    plt.xlabel('Time [s]')\n",
    "    plt.grid()\n",
    "\n",
    "usol = sol.value(U)\n",
    "make_control_signal_plot(usol)\n",
    "plt.tight_layout()\n",
    "filename = f'toc_sol_1_1_control.pdf'\n",
    "plt.savefig(os.path.join(plot_dir, filename))\n",
    "plt.show()"
   ]
  },
  {
   "cell_type": "markdown",
   "id": "4e51c591-1fd8-4f1c-81ab-1c72f1b09a2d",
   "metadata": {},
   "source": [
    "The reason the optimal solution does not match the reference trajectory is that the reference trajectory is not a feasible solution to the problem as we have defined it above.\n",
    "\n",
    "The initial state is constrained to `vertcat(ref[:, 0], 0, 0))` which means the particle is stationary. Yet the reference trajectory looks like it is based on a particle that is moving at constant speed in a circle."
   ]
  },
  {
   "cell_type": "code",
   "execution_count": null,
   "id": "647934c4-8b01-4325-b756-ffb8b7562b1c",
   "metadata": {},
   "outputs": [],
   "source": []
  },
  {
   "cell_type": "code",
   "execution_count": null,
   "id": "a4e724e4-affb-49ec-a937-4c906fba65f6",
   "metadata": {},
   "outputs": [],
   "source": []
  }
 ],
 "metadata": {
  "kernelspec": {
   "display_name": "Python (casadi)",
   "language": "python",
   "name": "casadi"
  },
  "language_info": {
   "codemirror_mode": {
    "name": "ipython",
    "version": 3
   },
   "file_extension": ".py",
   "mimetype": "text/x-python",
   "name": "python",
   "nbconvert_exporter": "python",
   "pygments_lexer": "ipython3",
   "version": "3.10.13"
  }
 },
 "nbformat": 4,
 "nbformat_minor": 5
}
