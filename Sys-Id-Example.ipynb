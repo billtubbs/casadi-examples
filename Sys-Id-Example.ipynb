{
 "cells": [
  {
   "cell_type": "markdown",
   "id": "1dd7f196-7a8b-41a4-b854-1bcf3cc7d0c7",
   "metadata": {},
   "source": [
    "# System Identification Example from CasADi Documentation\n",
    "\n",
    "Adapted from the code here:\n",
    "\n",
    "  -  https://github.com/casadi/casadi/blob/main/docs/examples/python/sysid.py"
   ]
  },
  {
   "cell_type": "raw",
   "id": "d440d2aa-c6f2-4965-9bfc-fcad8b8ba264",
   "metadata": {},
   "source": [
    "\n",
    "    MIT No Attribution\n",
    "\n",
    "    Copyright (C) 2010 - 2023 Joel Andersson, Joris Gillis, Moritz Diehl, KU Leuven.\n",
    "\n",
    "    Permission is hereby granted, free of charge, to any person obtaining a copy of this\n",
    "    software and associated documentation files (the \"Software\"), to deal in the Software\n",
    "    without restriction, including without limitation the rights to use, copy, modify, \n",
    "    merge, publish, distribute, sublicense, and/or sell copies of the Software, and to\n",
    "    permit persons to whom the Software is furnished to do so.\n",
    "\n",
    "    THE SOFTWARE IS PROVIDED \"AS IS\", WITHOUT WARRANTY OF ANY KIND, EXPRESS OR IMPLIED, \n",
    "    INCLUDING BUT NOT LIMITED TO THE WARRANTIES OF MERCHANTABILITY, FITNESS FOR A\n",
    "    PARTICULAR PURPOSE AND NONINFRINGEMENT. IN NO EVENT SHALL THE AUTHORS OR COPYRIGHT\n",
    "    HOLDERS BE LIABLE FOR ANY CLAIM, DAMAGES OR OTHER LIABILITY, WHETHER IN AN ACTION\n",
    "    OF CONTRACT, TORT OR OTHERWISE, ARISING FROM, OUT OF OR IN CONNECTION WITH THE\n",
    "    SOFTWARE OR THE USE OR OTHER DEALINGS IN THE SOFTWARE.\n"
   ]
  },
  {
   "cell_type": "code",
   "execution_count": 1,
   "id": "d2afb534-dbf2-4bfb-ad8c-afcb5e22caef",
   "metadata": {},
   "outputs": [],
   "source": [
    "from casadi import MX, DM, Function, Importer\n",
    "import casadi as cas\n",
    "import numpy as np\n",
    "import matplotlib.pyplot as plt"
   ]
  },
  {
   "cell_type": "markdown",
   "id": "6907bb7f-b808-44e7-bc78-c084ead4eba0",
   "metadata": {},
   "source": [
    "In this example,  we fit a nonlinear model to measurements.\n",
    "\n",
    "This example uses more advanced constructs than the Van der Pol (VDP) system examples:\n",
    "Since the number of control intervals is potentially very large here, \n",
    "we use the memory-efficient `map` and `mapaccum` functions, in combination with \n",
    "automatic code generation.\n",
    "\n",
    "We will be working with a 2-norm objective:\n",
    "$$|| \\mathbf{y}_\\text{measured} - \\mathbf{y}_\\text{simulated} ||_2^2$$\n",
    "\n",
    "This form is well-suited for the [Gauss-Newton Hessian approximation](https://en.wikipedia.org/wiki/Gauss–Newton_algorithm)."
   ]
  },
  {
   "cell_type": "code",
   "execution_count": 2,
   "id": "afbd1655-029c-4dde-a6fe-bee417fca9fb",
   "metadata": {},
   "outputs": [],
   "source": [
    "# Settings\n",
    "N = 10000  # Number of samples\n",
    "fs = 610.1  # Sampling frequency [hz]\n",
    "\n",
    "param_truth = DM([5.625e-6, 2.3e-4, 1, 4.69])\n",
    "param_guess = DM([5, 2, 1, 5])\n",
    "scale = cas.vertcat(1e-6, 1e-4, 1, 1)\n",
    "\n",
    "# Modelling\n",
    "y = MX.sym('y')\n",
    "dy = MX.sym('dy')\n",
    "u = MX.sym('u')\n",
    "\n",
    "states = cas.vertcat(y, dy)\n",
    "controls = u\n",
    "\n",
    "M = MX.sym(\"M\")\n",
    "c = MX.sym(\"c\")\n",
    "k = MX.sym(\"k\")\n",
    "k_NL = MX.sym(\"k_NL\")\n",
    "\n",
    "params = cas.vertcat(M, c, k, k_NL)\n",
    "\n",
    "rhs = cas.vertcat(dy, (u - k_NL * y**3 - k * y - c * dy) / M)\n",
    "\n",
    "# Form an ODE function\n",
    "ode = Function('ode', [states, controls, params], [rhs])"
   ]
  },
  {
   "cell_type": "markdown",
   "id": "ec71a7b4-3fbc-47e9-9765-76cf5648abe6",
   "metadata": {},
   "source": [
    "## Creating a Simulator"
   ]
  },
  {
   "cell_type": "code",
   "execution_count": 3,
   "id": "23911b34-d341-4f30-aca5-03af11bfa3ce",
   "metadata": {},
   "outputs": [],
   "source": [
    "N_steps_per_sample = 10\n",
    "dt = 1 / fs / N_steps_per_sample\n",
    "\n",
    "# Build an integrator for this system: Runge Kutta 4 integrator\n",
    "k1 = ode(states, controls, params)\n",
    "k2 = ode(states + dt / 2.0 * k1, controls, params)\n",
    "k3 = ode(states + dt / 2.0 * k2, controls, params)\n",
    "k4 = ode(states + dt * k3, controls, params)\n",
    "states_final = states + dt / 6.0 * (k1 + 2 * k2 + 2 * k3 + k4)\n",
    "\n",
    "# Create a function that simulates one step propagation in a sample\n",
    "one_step = Function('one_step', [states,  controls,  params], [states_final])\n",
    "\n",
    "X = states\n",
    "for i in range(N_steps_per_sample):\n",
    "    X = one_step(X, controls, params)\n",
    "\n",
    "# Create a function that simulates all step propagation on a sample\n",
    "one_sample = Function('one_sample', [states,  controls,  params],  [X])\n",
    "\n",
    "# Simulating the system\n",
    "all_samples = one_sample.mapaccum(\"all_samples\", N)\n",
    "\n",
    "# Choose an excitation signal\n",
    "np.random.seed(0)\n",
    "u_data = DM(0.1 * np.random.random(N))\n",
    "\n",
    "x0 = DM([0, 0])\n",
    "X_measured = all_samples(x0, u_data, cas.repmat(param_truth, 1, N))\n",
    "\n",
    "y_data = X_measured[0, :].T\n",
    "\n",
    "# You may add some noise here\n",
    "#y_data + = 0.001 * np.random.random(N)\n",
    "# When noise is absent, the fit will be perfect.\n",
    "\n",
    "# Use just-in-time compilation to speed up the evaluation\n",
    "if Importer.has_plugin('clang'):\n",
    "    with_jit = True\n",
    "    compiler = 'clang'\n",
    "elif Importer.has_plugin('shell'):\n",
    "    with_jit = True\n",
    "    compiler = 'shell'\n",
    "else:\n",
    "    print(\"WARNING: running without jit. This may result in very slow evaluation times\")\n",
    "    with_jit = False\n",
    "    compiler = ''\n",
    "\n",
    "# Create a Gauss-Newton solver\n",
    "def gauss_newton(e, nlp, V):\n",
    "    J = cas.jacobian(e, V)\n",
    "    H = cas.triu(J.T @ J)\n",
    "    sigma = MX.sym(\"sigma\")\n",
    "    hessLag = Function(\n",
    "        'nlp_hess_l', \n",
    "        {'x': V, 'lam_f': sigma, 'hess_gamma_x_x': sigma * H}, \n",
    "        ['x', 'p', 'lam_f', 'lam_g'],\n",
    "        ['hess_gamma_x_x'], \n",
    "        dict(jit=with_jit, compiler=compiler)\n",
    "    )\n",
    "    return cas.nlpsol(\"solver\", \"ipopt\", nlp, dict(hess_lag=hessLag, jit=with_jit, compiler=compiler))"
   ]
  },
  {
   "cell_type": "markdown",
   "id": "7da28e68-8f33-4668-a7a0-42541cbb83f7",
   "metadata": {},
   "source": [
    "## Identifying the simulated system"
   ]
  },
  {
   "cell_type": "markdown",
   "id": "6c0d9568-0e9b-48da-850c-19cbc30b4a8f",
   "metadata": {},
   "source": [
    "### 1. Single shooting strategy"
   ]
  },
  {
   "cell_type": "code",
   "execution_count": 4,
   "id": "c5a27eb2-d035-4045-b700-c8cc50332338",
   "metadata": {},
   "outputs": [
    {
     "name": "stderr",
     "output_type": "stream",
     "text": [
      "CasADi - 2024-06-23 20:32:09 WARNING(\"Failed to remove tmp_casadi_compiler_shell4i0u8w.dll\") [.../casadi/solvers/shell_compiler.cpp:66]\n"
     ]
    },
    {
     "ename": "RuntimeError",
     "evalue": "Error in Function::Function for 'nlp_hess_l' [MXFunction] at .../casadi/core/function.cpp:280:\n.../casadi/core/function_internal.cpp:154: Error calling MXFunction::finalize for 'nlp_hess_l':\n.../casadi/solvers/shell_compiler.cpp:231: Compilation failed. Tried \"cl.exe /c jit_tmpked7zi.c /Fotmp_casadi_compiler_shell4i0u8w.obj\"",
     "output_type": "error",
     "traceback": [
      "\u001b[1;31m---------------------------------------------------------------------------\u001b[0m",
      "\u001b[1;31mRuntimeError\u001b[0m                              Traceback (most recent call last)",
      "\u001b[1;32m~\\AppData\\Local\\Temp\\ipykernel_31088\\3022925817.py\u001b[0m in \u001b[0;36m?\u001b[1;34m()\u001b[0m\n\u001b[0;32m      4\u001b[0m \u001b[1;33m\u001b[0m\u001b[0m\n\u001b[0;32m      5\u001b[0m \u001b[0me\u001b[0m \u001b[1;33m=\u001b[0m \u001b[0my_data\u001b[0m \u001b[1;33m-\u001b[0m \u001b[0mX_symbolic\u001b[0m\u001b[1;33m[\u001b[0m\u001b[1;36m0\u001b[0m\u001b[1;33m,\u001b[0m \u001b[1;33m:\u001b[0m\u001b[1;33m]\u001b[0m\u001b[1;33m.\u001b[0m\u001b[0mT\u001b[0m\u001b[1;33m\u001b[0m\u001b[1;33m\u001b[0m\u001b[0m\n\u001b[0;32m      6\u001b[0m \u001b[0mnlp\u001b[0m \u001b[1;33m=\u001b[0m \u001b[1;33m{\u001b[0m\u001b[1;34m'x'\u001b[0m\u001b[1;33m:\u001b[0m \u001b[0mparams\u001b[0m\u001b[1;33m,\u001b[0m \u001b[1;34m'f'\u001b[0m\u001b[1;33m:\u001b[0m \u001b[1;36m0.5\u001b[0m \u001b[1;33m*\u001b[0m \u001b[0mcas\u001b[0m\u001b[1;33m.\u001b[0m\u001b[0mdot\u001b[0m\u001b[1;33m(\u001b[0m\u001b[0me\u001b[0m\u001b[1;33m,\u001b[0m \u001b[0me\u001b[0m\u001b[1;33m)\u001b[0m\u001b[1;33m}\u001b[0m\u001b[1;33m\u001b[0m\u001b[1;33m\u001b[0m\u001b[0m\n\u001b[0;32m      7\u001b[0m \u001b[1;33m\u001b[0m\u001b[0m\n\u001b[1;32m----> 8\u001b[1;33m \u001b[0msolver\u001b[0m \u001b[1;33m=\u001b[0m \u001b[0mgauss_newton\u001b[0m\u001b[1;33m(\u001b[0m\u001b[0me\u001b[0m\u001b[1;33m,\u001b[0m \u001b[0mnlp\u001b[0m\u001b[1;33m,\u001b[0m  \u001b[0mparams\u001b[0m\u001b[1;33m)\u001b[0m\u001b[1;33m\u001b[0m\u001b[1;33m\u001b[0m\u001b[0m\n\u001b[0m\u001b[0;32m      9\u001b[0m \u001b[1;33m\u001b[0m\u001b[0m\n\u001b[0;32m     10\u001b[0m \u001b[0msol\u001b[0m \u001b[1;33m=\u001b[0m \u001b[0msolver\u001b[0m\u001b[1;33m(\u001b[0m\u001b[0mx0\u001b[0m\u001b[1;33m=\u001b[0m\u001b[0mparam_guess\u001b[0m\u001b[1;33m)\u001b[0m\u001b[1;33m\u001b[0m\u001b[1;33m\u001b[0m\u001b[0m\n\u001b[0;32m     11\u001b[0m \u001b[1;33m\u001b[0m\u001b[0m\n",
      "\u001b[1;32m~\\AppData\\Local\\Temp\\ipykernel_31088\\1769783565.py\u001b[0m in \u001b[0;36m?\u001b[1;34m(e, nlp, V)\u001b[0m\n\u001b[0;32m     50\u001b[0m \u001b[1;32mdef\u001b[0m \u001b[0mgauss_newton\u001b[0m\u001b[1;33m(\u001b[0m\u001b[0me\u001b[0m\u001b[1;33m,\u001b[0m \u001b[0mnlp\u001b[0m\u001b[1;33m,\u001b[0m \u001b[0mV\u001b[0m\u001b[1;33m)\u001b[0m\u001b[1;33m:\u001b[0m\u001b[1;33m\u001b[0m\u001b[1;33m\u001b[0m\u001b[0m\n\u001b[0;32m     51\u001b[0m     \u001b[0mJ\u001b[0m \u001b[1;33m=\u001b[0m \u001b[0mcas\u001b[0m\u001b[1;33m.\u001b[0m\u001b[0mjacobian\u001b[0m\u001b[1;33m(\u001b[0m\u001b[0me\u001b[0m\u001b[1;33m,\u001b[0m \u001b[0mV\u001b[0m\u001b[1;33m)\u001b[0m\u001b[1;33m\u001b[0m\u001b[1;33m\u001b[0m\u001b[0m\n\u001b[0;32m     52\u001b[0m     \u001b[0mH\u001b[0m \u001b[1;33m=\u001b[0m \u001b[0mcas\u001b[0m\u001b[1;33m.\u001b[0m\u001b[0mtriu\u001b[0m\u001b[1;33m(\u001b[0m\u001b[0mJ\u001b[0m\u001b[1;33m.\u001b[0m\u001b[0mT\u001b[0m \u001b[1;33m@\u001b[0m \u001b[0mJ\u001b[0m\u001b[1;33m)\u001b[0m\u001b[1;33m\u001b[0m\u001b[1;33m\u001b[0m\u001b[0m\n\u001b[0;32m     53\u001b[0m     \u001b[0msigma\u001b[0m \u001b[1;33m=\u001b[0m \u001b[0mMX\u001b[0m\u001b[1;33m.\u001b[0m\u001b[0msym\u001b[0m\u001b[1;33m(\u001b[0m\u001b[1;34m\"sigma\"\u001b[0m\u001b[1;33m)\u001b[0m\u001b[1;33m\u001b[0m\u001b[1;33m\u001b[0m\u001b[0m\n\u001b[1;32m---> 54\u001b[1;33m     hessLag = Function(\n\u001b[0m\u001b[0;32m     55\u001b[0m         \u001b[1;34m'nlp_hess_l'\u001b[0m\u001b[1;33m,\u001b[0m\u001b[1;33m\u001b[0m\u001b[1;33m\u001b[0m\u001b[0m\n\u001b[0;32m     56\u001b[0m         \u001b[1;33m{\u001b[0m\u001b[1;34m'x'\u001b[0m\u001b[1;33m:\u001b[0m \u001b[0mV\u001b[0m\u001b[1;33m,\u001b[0m \u001b[1;34m'lam_f'\u001b[0m\u001b[1;33m:\u001b[0m \u001b[0msigma\u001b[0m\u001b[1;33m,\u001b[0m \u001b[1;34m'hess_gamma_x_x'\u001b[0m\u001b[1;33m:\u001b[0m \u001b[0msigma\u001b[0m \u001b[1;33m*\u001b[0m \u001b[0mH\u001b[0m\u001b[1;33m}\u001b[0m\u001b[1;33m,\u001b[0m\u001b[1;33m\u001b[0m\u001b[1;33m\u001b[0m\u001b[0m\n\u001b[0;32m     57\u001b[0m         \u001b[1;33m[\u001b[0m\u001b[1;34m'x'\u001b[0m\u001b[1;33m,\u001b[0m \u001b[1;34m'p'\u001b[0m\u001b[1;33m,\u001b[0m \u001b[1;34m'lam_f'\u001b[0m\u001b[1;33m,\u001b[0m \u001b[1;34m'lam_g'\u001b[0m\u001b[1;33m]\u001b[0m\u001b[1;33m,\u001b[0m\u001b[1;33m\u001b[0m\u001b[1;33m\u001b[0m\u001b[0m\n",
      "\u001b[1;32mc:\\Users\\BillTubbs\\casadi-examples\\.venv\\Lib\\site-packages\\casadi\\casadi.py\u001b[0m in \u001b[0;36m?\u001b[1;34m(self, *args)\u001b[0m\n\u001b[0;32m  23613\u001b[0m \u001b[1;33m\u001b[0m\u001b[0m\n\u001b[0;32m  23614\u001b[0m \u001b[1;33m\u001b[0m\u001b[0m\n\u001b[0;32m  23615\u001b[0m \u001b[1;33m\u001b[0m\u001b[0m\n\u001b[0;32m  23616\u001b[0m         \"\"\"\n\u001b[1;32m> 23617\u001b[1;33m         \u001b[0mthis\u001b[0m \u001b[1;33m=\u001b[0m \u001b[0m_casadi\u001b[0m\u001b[1;33m.\u001b[0m\u001b[0mnew_Function\u001b[0m\u001b[1;33m(\u001b[0m\u001b[1;33m*\u001b[0m\u001b[0margs\u001b[0m\u001b[1;33m)\u001b[0m\u001b[1;33m\u001b[0m\u001b[1;33m\u001b[0m\u001b[0m\n\u001b[0m\u001b[0;32m  23618\u001b[0m         \u001b[1;32mtry\u001b[0m\u001b[1;33m:\u001b[0m\u001b[1;33m\u001b[0m\u001b[1;33m\u001b[0m\u001b[0m\n\u001b[0;32m  23619\u001b[0m             \u001b[0mself\u001b[0m\u001b[1;33m.\u001b[0m\u001b[0mthis\u001b[0m\u001b[1;33m.\u001b[0m\u001b[0mappend\u001b[0m\u001b[1;33m(\u001b[0m\u001b[0mthis\u001b[0m\u001b[1;33m)\u001b[0m\u001b[1;33m\u001b[0m\u001b[1;33m\u001b[0m\u001b[0m\n\u001b[0;32m  23620\u001b[0m         \u001b[1;32mexcept\u001b[0m \u001b[0m__builtin__\u001b[0m\u001b[1;33m.\u001b[0m\u001b[0mException\u001b[0m\u001b[1;33m:\u001b[0m\u001b[1;33m\u001b[0m\u001b[1;33m\u001b[0m\u001b[0m\n",
      "\u001b[1;31mRuntimeError\u001b[0m: Error in Function::Function for 'nlp_hess_l' [MXFunction] at .../casadi/core/function.cpp:280:\n.../casadi/core/function_internal.cpp:154: Error calling MXFunction::finalize for 'nlp_hess_l':\n.../casadi/solvers/shell_compiler.cpp:231: Compilation failed. Tried \"cl.exe /c jit_tmpked7zi.c /Fotmp_casadi_compiler_shell4i0u8w.obj\""
     ]
    }
   ],
   "source": [
    "# Note, it is in general a good idea to scale your decision variables such\n",
    "# that they are in the order of ~0.1..100\n",
    "X_symbolic = all_samples(x0, u_data, cas.repmat(params * scale, 1, N))\n",
    "\n",
    "e = y_data - X_symbolic[0, :].T\n",
    "nlp = {'x': params, 'f': 0.5 * cas.dot(e, e)}\n",
    "\n",
    "solver = gauss_newton(e, nlp,  params)\n",
    "\n",
    "sol = solver(x0=param_guess)\n",
    "\n",
    "print(f\"Parameters\\n estimates: {sol['x'] * scale}\")\n",
    "print(f\" true values: {param_truth}\")\n",
    "\n",
    "assert(cas.norm_inf(sol[\"x\"] * scale - param_truth) < 1e-8)"
   ]
  },
  {
   "cell_type": "code",
   "execution_count": null,
   "id": "8f0fc9f4-fa94-43b8-ad4e-b187766d5672",
   "metadata": {},
   "outputs": [
    {
     "data": {
      "image/png": "[encoded data removed]",
      "text/plain": [
       "<Figure size 300x200 with 1 Axes>"
      ]
     },
     "metadata": {},
     "output_type": "display_data"
    }
   ],
   "source": [
    "def estimate_comparison_plot(estimates, true_values, param_names, figsize=(3, 2)):\n",
    "    plt.figure(figsize=figsize)\n",
    "    plt.bar(param_names, estimates / true_values)\n",
    "    plt.hlines(1.0, -0.5, 3.5, linestyle='--', color='k')\n",
    "    plt.title('Parameter estimates')\n",
    "    plt.ylabel('Estimated / true')\n",
    "    plt.xlabel('Parameter')\n",
    "    plt.show()\n",
    "\n",
    "param_names = ['$M$', '$c$', '$k$', '$k_{NL}$']\n",
    "param_estimates = np.array(sol['x'] * scale).reshape(-1)\n",
    "param_true_values = np.array(param_truth).reshape(-1)\n",
    "estimate_comparison_plot(param_estimates, param_true_values, param_names)"
   ]
  },
  {
   "cell_type": "markdown",
   "id": "0c5eaa49-65e3-445f-a9bc-39ab0d026ed4",
   "metadata": {},
   "source": [
    "### 2. Multiple shooting strategy"
   ]
  },
  {
   "cell_type": "code",
   "execution_count": null,
   "id": "f0149f70-043a-4a4f-89be-665bdc9f227d",
   "metadata": {},
   "outputs": [
    {
     "name": "stderr",
     "output_type": "stream",
     "text": [
      "CasADi - 2024-06-13 17:33:30 WARNING(\"CasADi was not compiled with WITH_OPENMP=ON. Falling back to serial evaluation.\") [.../casadi/core/map.cpp:404]\n",
      "CasADi - 2024-06-13 17:33:31 WARNING(\"CasADi was not compiled with WITH_OPENMP=ON. Falling back to serial evaluation.\") [.../casadi/core/map.cpp:404]\n",
      "CasADi - 2024-06-13 17:33:33 WARNING(\"CasADi was not compiled with WITH_OPENMP=ON. Falling back to serial evaluation.\") [.../casadi/core/map.cpp:404]\n",
      "CasADi - 2024-06-13 17:33:33 WARNING(\"CasADi was not compiled with WITH_OPENMP=ON. Falling back to serial evaluation.\") [.../casadi/core/map.cpp:404]\n"
     ]
    },
    {
     "name": "stdout",
     "output_type": "stream",
     "text": [
      "This is Ipopt version 3.14.11, running with linear solver MUMPS 5.4.1.\n",
      "\n",
      "Number of nonzeros in equality constraint Jacobian...:   139986\n",
      "Number of nonzeros in inequality constraint Jacobian.:        0\n",
      "Number of nonzeros in Lagrangian Hessian.............:   110010\n",
      "\n",
      "Total number of variables............................:    20004\n",
      "                     variables with only lower bounds:        0\n",
      "                variables with lower and upper bounds:        0\n",
      "                     variables with only upper bounds:        0\n",
      "Total number of equality constraints.................:    19998\n",
      "Total number of inequality constraints...............:        0\n",
      "        inequality constraints with only lower bounds:        0\n",
      "   inequality constraints with lower and upper bounds:        0\n",
      "        inequality constraints with only upper bounds:        0\n",
      "\n",
      "iter    objective    inf_pr   inf_du lg(mu)  ||d||  lg(rg) alpha_du alpha_pr  ls\n",
      "   0  7.6523348e+00 3.64e+01 2.90e-04  -1.0 0.00e+00    -  0.00e+00 0.00e+00   0\n",
      "   1  2.2891655e-02 8.22e+00 1.27e-01  -1.0 9.25e+01    -  1.00e+00 1.00e+00h  1\n",
      "   2  3.0913862e-03 8.84e-01 4.05e-02  -1.0 5.52e+00    -  1.00e+00 1.00e+00h  1\n",
      "   3  1.5447642e-06 2.16e-02 4.94e-04  -1.7 2.49e+00    -  1.00e+00 1.00e+00h  1\n",
      "   4  7.1764291e-14 1.08e-05 1.01e-08  -3.8 8.46e-02    -  1.00e+00 1.00e+00h  1\n",
      "   5  6.1023583e-28 7.03e-13 6.07e-16  -8.6 1.68e-05    -  1.00e+00 1.00e+00h  1\n",
      "\n",
      "Number of Iterations....: 5\n",
      "\n",
      "                                   (scaled)                 (unscaled)\n",
      "Objective...............:   6.1023582566062314e-28    6.1023582566062314e-28\n",
      "Dual infeasibility......:   6.0711431870121480e-16    6.0711431870121480e-16\n",
      "Constraint violation....:   2.3343252155793445e-13    7.0343730840249918e-13\n",
      "Variable bound violation:   0.0000000000000000e+00    0.0000000000000000e+00\n",
      "Complementarity.........:   0.0000000000000000e+00    0.0000000000000000e+00\n",
      "Overall NLP error.......:   2.3343252155793445e-13    7.0343730840249918e-13\n",
      "\n",
      "\n",
      "Number of objective function evaluations             = 6\n",
      "Number of objective gradient evaluations             = 6\n",
      "Number of equality constraint evaluations            = 6\n",
      "Number of inequality constraint evaluations          = 0\n",
      "Number of equality constraint Jacobian evaluations   = 6\n",
      "Number of inequality constraint Jacobian evaluations = 0\n",
      "Number of Lagrangian Hessian evaluations             = 5\n",
      "Total seconds in IPOPT                               = 8.254\n",
      "\n",
      "EXIT: Optimal Solution Found.\n",
      "      solver  :   t_proc      (avg)   t_wall      (avg)    n_eval\n",
      "       nlp_f  | 148.18ms ( 24.70ms) 148.30ms ( 24.72ms)         6\n",
      "       nlp_g  | 149.61ms ( 24.94ms) 149.74ms ( 24.96ms)         6\n",
      "  nlp_grad_f  | 706.58ms (100.94ms) 706.82ms (100.97ms)         7\n",
      "  nlp_hess_l  |   1.11 s (222.59ms)   1.11 s (222.78ms)         5\n",
      "   nlp_jac_g  |   2.13 s (304.45ms)   2.13 s (304.85ms)         7\n",
      "       total  |   8.25 s (  8.25 s)   8.26 s (  8.26 s)         1\n",
      "[5.625e-06, 0.00023, 1, 4.69]\n"
     ]
    }
   ],
   "source": [
    "# All states become decision variables\n",
    "X = MX.sym(\"X\", 2, N)\n",
    "\n",
    "Xn = one_sample.map(N, 'openmp')(X, u_data.T, repmat(params * scale, 1, N))\n",
    "\n",
    "gaps = Xn[:, : - 1] - X[:, 1:]\n",
    "\n",
    "e = y_data - Xn[0, :].T\n",
    "\n",
    "V = cas.veccat(params,  X)\n",
    "\n",
    "nlp = {'x': V, 'f': 0.5 * cas.dot(e, e), 'g': cas.vec(gaps)}\n",
    "\n",
    "# Multipleshooting allows for careful initialization\n",
    "yd = np.diff(y_data, axis=0) * fs\n",
    "X_guess = cas.horzcat(y_data, cas.vertcat(yd, yd[ - 1])).T\n",
    "\n",
    "x0 = cas.veccat(param_guess, X_guess)\n",
    "\n",
    "solver = gauss_newton(e, nlp,  V)\n",
    "\n",
    "sol = solver(x0=x0, lbg=0, ubg=0)\n",
    "\n",
    "print(sol[\"x\"][:4] * scale)\n",
    "\n",
    "assert(cas.norm_inf(sol[\"x\"][:4] * scale - param_truth) < 1e-8)"
   ]
  },
  {
   "cell_type": "code",
   "execution_count": null,
   "id": "d0378cf7-4e6a-4eb4-895a-e36d2b778063",
   "metadata": {},
   "outputs": [
    {
     "data": {
      "image/png": "[encoded data removed]",
      "text/plain": [
       "<Figure size 300x200 with 1 Axes>"
      ]
     },
     "metadata": {},
     "output_type": "display_data"
    }
   ],
   "source": [
    "param_names = ['$M$', '$c$', '$k$', '$k_{NL}$']\n",
    "param_estimates = np.array(sol[\"x\"][:4] * scale).reshape(-1)\n",
    "param_true_values = np.array(param_truth).reshape(-1)\n",
    "estimate_comparison_plot(param_estimates, param_true_values, param_names)"
   ]
  },
  {
   "cell_type": "code",
   "execution_count": null,
   "id": "d2923f2c-11c2-4b8d-a50e-3e03d92cfe32",
   "metadata": {},
   "outputs": [],
   "source": []
  },
  {
   "cell_type": "code",
   "execution_count": null,
   "id": "01214eba",
   "metadata": {},
   "outputs": [],
   "source": []
  },
  {
   "cell_type": "code",
   "execution_count": null,
   "id": "c960c1b7",
   "metadata": {},
   "outputs": [],
   "source": []
  }
 ],
 "metadata": {
  "kernelspec": {
   "display_name": ".venv",
   "language": "python",
   "name": "python3"
  },
  "language_info": {
   "codemirror_mode": {
    "name": "ipython",
    "version": 3
   },
   "file_extension": ".py",
   "mimetype": "text/x-python",
   "name": "python",
   "nbconvert_exporter": "python",
   "pygments_lexer": "ipython3",
   "version": "3.12.4"
  }
 },
 "nbformat": 4,
 "nbformat_minor": 5
}
