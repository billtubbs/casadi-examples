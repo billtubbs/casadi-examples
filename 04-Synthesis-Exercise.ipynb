{
 "cells": [
  {
   "cell_type": "markdown",
   "id": "e12a1324-7139-4ce6-acd5-94778d095e31",
   "metadata": {},
   "source": [
    "# Exercise: Nonlinear Programming¶"
   ]
  },
  {
   "cell_type": "code",
   "execution_count": 1,
   "id": "3a6669a3-ca33-4652-80fa-62aa0aeb34ea",
   "metadata": {},
   "outputs": [
    {
     "name": "stdout",
     "output_type": "stream",
     "text": [
      "Casadi: 3.6.5\n",
      "Python: 3.12.4\n"
     ]
    }
   ],
   "source": [
    "import os\n",
    "import numpy as np\n",
    "from numpy.testing import assert_array_equal, assert_array_almost_equal\n",
    "import matplotlib.pyplot as plt\n",
    "from casadi import DM, MX, Function\n",
    "import casadi as cas\n",
    "from platform import python_version\n",
    "\n",
    "print(f\"Casadi: {cas.__version__}\")\n",
    "print(f\"Python: {python_version()}\")"
   ]
  },
  {
   "cell_type": "code",
   "execution_count": 2,
   "id": "eaca20d0-b9aa-4bfe-9530-0047db5af18a",
   "metadata": {},
   "outputs": [],
   "source": [
    "plot_dir = 'plots'\n",
    "os.makedirs(plot_dir, exist_ok=True)"
   ]
  },
  {
   "cell_type": "markdown",
   "id": "00397cd0-ef26-4e63-954c-a519877e0fd3",
   "metadata": {},
   "source": [
    "## Golf Ball Problem"
   ]
  },
  {
   "cell_type": "markdown",
   "id": "3da1352f-53e2-466e-b27c-604940e54e29",
   "metadata": {},
   "source": [
    "$$\n",
    "\\begin{aligned}\n",
    "\\begin{cases}\n",
    "    &\\dot{\\mathbf{p}} = \\mathbf{v} \\\\\n",
    "    &\\dot{\\mathbf{v}} = \\mathbf{g} - \\frac{1}{m} c \\| \\mathbf{v} \\|_2 \\mathbf{v}\n",
    "\\end{cases}\n",
    "\\end{aligned}\n",
    "$$\n",
    "\n",
    "where\n",
    "\n",
    "$$\n",
    "\\begin{aligned}\n",
    "\\mathbf{p} = \\left[ \\begin{matrix} x \\\\ y \\end{matrix} \\right],\n",
    "\\mathbf{v} = \\left[ \\begin{matrix} v_x \\\\ v_y \\end{matrix} \\right],\n",
    "\\mathbf{g} = \\left[ \\begin{matrix} 0 \\\\ -g \\end{matrix} \\right]\n",
    "\\end{aligned}\n",
    "$$"
   ]
  },
  {
   "cell_type": "markdown",
   "id": "cdd98905-19a3-4c1d-8ce4-16d85b01538e",
   "metadata": {},
   "source": [
    "## 1. Integrating the golf ball’s state"
   ]
  },
  {
   "cell_type": "markdown",
   "id": "9f732133-1cf9-43bf-9b55-fed2811e2530",
   "metadata": {},
   "source": [
    "### 1.1 CasADi expression for the ODE"
   ]
  },
  {
   "cell_type": "code",
   "execution_count": 3,
   "id": "6b1ba4dd-0751-4895-b9ed-c26086cd9547",
   "metadata": {},
   "outputs": [
    {
     "data": {
      "text/plain": [
       "DM([00, -9.81])"
      ]
     },
     "execution_count": 3,
     "metadata": {},
     "output_type": "execute_result"
    }
   ],
   "source": [
    "p = MX.sym('p', 2)\n",
    "v = MX.sym('v', 2)\n",
    "\n",
    "# Constants\n",
    "m = DM(0.04593)\n",
    "g = cas.sparsify(DM([0, -9.81]))\n",
    "c = DM(17.5e-5)\n",
    "g"
   ]
  },
  {
   "cell_type": "code",
   "execution_count": 4,
   "id": "845972f7-aeeb-4eda-969d-6b000a262ba9",
   "metadata": {},
   "outputs": [
    {
     "data": {
      "text/plain": [
       "MX(vertcat(v, ([0, -9.81]-(((0.000175*||v||_F)*v)/0.04593))))"
      ]
     },
     "execution_count": 4,
     "metadata": {},
     "output_type": "execute_result"
    }
   ],
   "source": [
    "rhs = cas.vertcat(\n",
    "    v,\n",
    "    g - c * cas.norm_2(v) * v / m\n",
    ")\n",
    "\n",
    "assert rhs.shape == (4, 1)\n",
    "rhs"
   ]
  },
  {
   "cell_type": "code",
   "execution_count": 5,
   "id": "ad3ef544-405f-4d74-988d-0847ba0de8f6",
   "metadata": {},
   "outputs": [
    {
     "data": {
      "text/plain": [
       "Function(rhs:(i0[4])->(o0[4]) MXFunction)"
      ]
     },
     "execution_count": 5,
     "metadata": {},
     "output_type": "execute_result"
    }
   ],
   "source": [
    "f = Function('rhs', [cas.vertcat(p, v)], [rhs])\n",
    "f"
   ]
  },
  {
   "cell_type": "code",
   "execution_count": 6,
   "id": "fe71c461-a24a-4c49-800b-8f3d863f6853",
   "metadata": {},
   "outputs": [],
   "source": [
    "assert_array_almost_equal(\n",
    "    f([0.0, 0.0, 35.0, 30.0]), \n",
    "    [[35], [30], [-6.14737], [-15.0792]], \n",
    "    decimal=4\n",
    ")"
   ]
  },
  {
   "cell_type": "markdown",
   "id": "7b0d9dd9-5a5c-474c-876b-7b52ba0c8e2b",
   "metadata": {},
   "source": [
    "### 1.2. Create a CasADi integrator"
   ]
  },
  {
   "cell_type": "code",
   "execution_count": 7,
   "id": "f18b5481-3486-4dd4-81f5-3e2ec7903a76",
   "metadata": {},
   "outputs": [
    {
     "data": {
      "text/plain": [
       "Function(intg:(x0[4],z0[0],p[0],u[0],adj_xf[],adj_zf[],adj_qf[])->(xf[4],zf[0],qf[0],adj_x0[],adj_z0[],adj_p[],adj_u[]) CvodesInterface)"
      ]
     },
     "execution_count": 7,
     "metadata": {},
     "output_type": "execute_result"
    }
   ],
   "source": [
    "ode = {'x': cas.vertcat(p, v), 'ode': rhs}\n",
    "t0, t1 = 0., 1.\n",
    "intg = cas.integrator('intg', 'cvodes', ode, t0, t1)\n",
    "intg"
   ]
  },
  {
   "cell_type": "code",
   "execution_count": 8,
   "id": "4f30c7a6-3070-4ad8-ad35-5901f7f35b65",
   "metadata": {},
   "outputs": [
    {
     "data": {
      "text/plain": [
       "DM([32.3549, 23.0661, 30.075, 16.6423])"
      ]
     },
     "execution_count": 8,
     "metadata": {},
     "output_type": "execute_result"
    }
   ],
   "source": [
    "x0 = [0.0, 0.0, 35.0, 30.0]\n",
    "xf, _, _, _, _, _, _ = intg(x0, [], [], [], [], [], [])\n",
    "xf"
   ]
  },
  {
   "cell_type": "code",
   "execution_count": 9,
   "id": "4ceb03af-5f02-4a04-8ba6-4585c5332795",
   "metadata": {},
   "outputs": [],
   "source": [
    "assert_array_almost_equal(xf, [[32.3549], [23.0661], [30.075], [16.6423]], decimal=4)"
   ]
  },
  {
   "cell_type": "code",
   "execution_count": 10,
   "id": "da92a42b-372c-4f6a-95b8-f551d405eb28",
   "metadata": {},
   "outputs": [
    {
     "data": {
      "text/plain": [
       "DM([32.3549, 23.0661, 30.075, 16.6423])"
      ]
     },
     "execution_count": 10,
     "metadata": {},
     "output_type": "execute_result"
    }
   ],
   "source": [
    "# You can also use this syntax\n",
    "xf = intg(x0=x0)['xf']\n",
    "xf"
   ]
  },
  {
   "cell_type": "code",
   "execution_count": 11,
   "id": "430e8d67-94ae-41ab-9f62-6724e66279e2",
   "metadata": {},
   "outputs": [],
   "source": [
    "assert_array_almost_equal(xf, [[32.3549], [23.0661], [30.075], [16.6423]], decimal=4)"
   ]
  },
  {
   "cell_type": "markdown",
   "id": "cfce9abc-d394-441b-a20d-bc6a1b8ee671",
   "metadata": {},
   "source": [
    "## 2. Determining the reach of the golf ball"
   ]
  },
  {
   "cell_type": "markdown",
   "id": "5b2dc328-9a20-4f7f-8f88-5da2ce0e6046",
   "metadata": {},
   "source": [
    "### 2.1 Function to compute state in one second"
   ]
  },
  {
   "cell_type": "code",
   "execution_count": 12,
   "id": "a6025921-379e-41b2-9799-d857b1a96bd5",
   "metadata": {},
   "outputs": [
    {
     "data": {
      "text/plain": [
       "Function(fly1sec:(X0[4])->(Xf[4]) MXFunction)"
      ]
     },
     "execution_count": 12,
     "metadata": {},
     "output_type": "execute_result"
    }
   ],
   "source": [
    "X0 = MX.sym('X0', 4)\n",
    "fly1sec = Function('fly1sec', [X0], [intg(x0=X0)['xf']], ['X0'], ['Xf'])\n",
    "fly1sec"
   ]
  },
  {
   "cell_type": "code",
   "execution_count": 13,
   "id": "036a01d2-0e75-44b2-9c67-921d0c32e3c2",
   "metadata": {},
   "outputs": [
    {
     "data": {
      "text/plain": [
       "DM([32.6405, 13.9607, 30.5608, 8.26437])"
      ]
     },
     "execution_count": 13,
     "metadata": {},
     "output_type": "execute_result"
    }
   ],
   "source": [
    "x1 = fly1sec([0.0,0.0,35.0,20.0])\n",
    "x1"
   ]
  },
  {
   "cell_type": "code",
   "execution_count": 14,
   "id": "cf63e5bf-ef42-4efd-8794-ae770b98eb9d",
   "metadata": {},
   "outputs": [],
   "source": [
    "assert_array_almost_equal(x1, [[32.6405], [13.9607], [30.5608], [8.26437]], decimal=4)"
   ]
  },
  {
   "cell_type": "markdown",
   "id": "43e05904-80d8-42d0-b458-07c14c89f8b2",
   "metadata": {},
   "source": [
    "### 2.2 Function to compute state at time $t$\n",
    "\n",
    "Note: integrator time interval is hard-coded.\n",
    "\n",
    "$$ \\frac{dx}{dt} = f(x) \\quad  t \\in (0, T)$$\n",
    "\n",
    "In the solution, the instructor suggests instead, to do a substitution, $t=\\tau T$: \n",
    "\n",
    "$$ \\frac{dx}{(d\\tau T)} = f(x) \\quad  \\tau \\in (0, 1)$$\n",
    "\n",
    "Re-write:\n",
    "\n",
    "$$ \\frac{1} {T} \\frac{dx}{d\\tau} = f(x) \\quad \\rightarrow \\quad \\frac{dx}{d\\tau} = T f(x) \\quad \\tau \\in (0, 1)$$"
   ]
  },
  {
   "cell_type": "code",
   "execution_count": 15,
   "id": "28ce7059-f52b-4896-9e98-0ab94c55818d",
   "metadata": {},
   "outputs": [
    {
     "data": {
      "text/plain": [
       "Function(fly:(i0[4],i1)->(o0[4]) MXFunction)"
      ]
     },
     "execution_count": 15,
     "metadata": {},
     "output_type": "execute_result"
    }
   ],
   "source": [
    "T = MX.sym('T')\n",
    "ode_T = {'x': cas.vertcat(p, v), 'ode': T * rhs,'p':T}\n",
    "intg = cas.integrator('intg', 'cvodes', ode_T, 0., 1.)\n",
    "fly = Function('fly', [X0, T], [intg(x0=X0, p=T)['xf']])\n",
    "fly"
   ]
  },
  {
   "cell_type": "code",
   "execution_count": 16,
   "id": "88999d24-4b83-48b4-9b32-d5ec4e222f47",
   "metadata": {},
   "outputs": [
    {
     "data": {
      "text/plain": [
       "DM([130.338, 8.27205, 19.8961, -21.2868])"
      ]
     },
     "execution_count": 16,
     "metadata": {},
     "output_type": "execute_result"
    }
   ],
   "source": [
    "xT = fly([0.0, 0.0, 35.0, 30.0], 5)\n",
    "xT"
   ]
  },
  {
   "cell_type": "code",
   "execution_count": 17,
   "id": "a329a573-2131-47db-b487-ed4088616c17",
   "metadata": {},
   "outputs": [],
   "source": [
    "assert_array_almost_equal(xT, [[130.3377], [8.27205], [19.8961], [-21.2868]], decimal=4)"
   ]
  },
  {
   "cell_type": "code",
   "execution_count": 18,
   "id": "2828b52f-8c83-412e-93d7-e1b1e1259374",
   "metadata": {},
   "outputs": [
    {
     "data": {
      "image/png": "[encoded data removed]",
      "text/plain": [
       "<Figure size 640x480 with 1 Axes>"
      ]
     },
     "metadata": {},
     "output_type": "display_data"
    }
   ],
   "source": [
    "T_values = np.linspace(0, 10, 11)\n",
    "theta_values = np.linspace(30, 60, 3)\n",
    "for theta in theta_values:\n",
    "    points = np.hstack([\n",
    "        fly([0.0, 0.0, 35.0, theta], T)\n",
    "        for T in T_values\n",
    "    ])\n",
    "    plt.plot(points[0], points[1], marker='o', label=f'$\\\\theta = {theta:.0f}$')\n",
    "    if theta != theta_values[0]:\n",
    "        continue\n",
    "    plt.annotate(f'$t = {T_values[0]}$', xy=(points[0, 0], points[1, 0]), xytext=(0, -15),\n",
    "                 textcoords='offset points', ha=\"center\")\n",
    "    plt.annotate(f'$t = {T_values[-1]}$', xy=(points[0, -1], points[1, -1]), xytext=(-50, 0),\n",
    "                 textcoords='offset points', va=\"center\")\n",
    "\n",
    "plt.xlabel('x')\n",
    "plt.ylabel('y')\n",
    "plt.legend()\n",
    "plt.grid()\n",
    "plt.show()"
   ]
  },
  {
   "cell_type": "markdown",
   "id": "fa5d1ecb-16ec-4e68-a916-183ddff7efe6",
   "metadata": {},
   "source": [
    "### 2.3 Shoot function"
   ]
  },
  {
   "cell_type": "code",
   "execution_count": 19,
   "id": "86a850fb-095f-440e-9ee6-dc7ccfd4b6be",
   "metadata": {},
   "outputs": [
    {
     "data": {
      "text/plain": [
       "DM([155.243, -11.0833, 22.6012, -23.8282])"
      ]
     },
     "execution_count": 19,
     "metadata": {},
     "output_type": "execute_result"
    }
   ],
   "source": [
    "v = MX.sym('v')\n",
    "theta = MX.sym('theta')\n",
    "theta_rad = theta * cas.pi / 180\n",
    "shoot = Function(\n",
    "    'shoot', \n",
    "    [v, theta, T], \n",
    "    [fly(cas.vertcat(0., 0., v * cas.cos(theta_rad), v * cas.sin(theta_rad)), T)]\n",
    ")\n",
    "xT = shoot(50, 30, 5)\n",
    "xT"
   ]
  },
  {
   "cell_type": "code",
   "execution_count": 20,
   "id": "df034cda-ccd5-4ee3-a67e-ddc0697dc311",
   "metadata": {},
   "outputs": [],
   "source": [
    "assert_array_almost_equal(xT, [[155.2433], [-11.0833], [22.6012], [-23.8282]], decimal=4)"
   ]
  },
  {
   "cell_type": "markdown",
   "id": "652e9502-2363-4d6c-8f13-610f13424468",
   "metadata": {},
   "source": [
    "### 2.4 Find time when ball hits the ground"
   ]
  },
  {
   "cell_type": "code",
   "execution_count": 21,
   "id": "7cd34279-316b-4543-99ef-3d6a63c8c2cc",
   "metadata": {},
   "outputs": [
    {
     "data": {
      "text/plain": [
       "Function(rf:(x0,p[])->(x) Newton)"
      ]
     },
     "execution_count": 21,
     "metadata": {},
     "output_type": "execute_result"
    }
   ],
   "source": [
    "v0 = DM(50)\n",
    "theta0 = DM(30)\n",
    "T = MX.sym('T')\n",
    "\n",
    "xT = shoot(v0, theta0, T)\n",
    "height = xT[1]\n",
    "\n",
    "rf = cas.rootfinder('rf', 'newton', {'x': T, 'g': height})\n",
    "rf"
   ]
  },
  {
   "cell_type": "code",
   "execution_count": 22,
   "id": "4ecfbc29-3770-4d02-89fd-622ef2a442de",
   "metadata": {},
   "outputs": [
    {
     "data": {
      "text/plain": [
       "{'x': DM(4.49773)}"
      ]
     },
     "execution_count": 22,
     "metadata": {},
     "output_type": "execute_result"
    }
   ],
   "source": [
    "T0 = 5\n",
    "res = rf(x0=T0)\n",
    "res"
   ]
  },
  {
   "cell_type": "code",
   "execution_count": 23,
   "id": "755fdf9f-3ff6-460e-9141-64ed2be1cd2e",
   "metadata": {},
   "outputs": [],
   "source": [
    "assert np.isclose(res['x'], 4.49773)"
   ]
  },
  {
   "cell_type": "markdown",
   "id": "d2c73057-ec5c-41d6-9907-925d45c140d5",
   "metadata": {},
   "source": [
    "### 2.5 Shot distance function"
   ]
  },
  {
   "cell_type": "code",
   "execution_count": 24,
   "id": "ba3e1df5-146b-4b75-a74a-d5de804583ab",
   "metadata": {},
   "outputs": [
    {
     "data": {
      "text/plain": [
       "Function(rf:(x0,p[2])->(x) Newton)"
      ]
     },
     "execution_count": 24,
     "metadata": {},
     "output_type": "execute_result"
    }
   ],
   "source": [
    "T = MX.sym('T')\n",
    "xT = shoot(v, theta, T)\n",
    "height = xT[1]\n",
    "\n",
    "rf = cas.rootfinder('rf', 'newton', {'x': T, 'g': height, 'p': cas.vertcat(v, theta)})\n",
    "rf"
   ]
  },
  {
   "cell_type": "code",
   "execution_count": 25,
   "id": "d6efd885-2f30-41cd-bb7f-b772e27346ae",
   "metadata": {},
   "outputs": [
    {
     "data": {
      "text/plain": [
       "{'x': MX(rf(5, vertcat(v, theta)){0})}"
      ]
     },
     "execution_count": 25,
     "metadata": {},
     "output_type": "execute_result"
    }
   ],
   "source": [
    "T0 = DM(5)\n",
    "res = rf(x0=T0, p=cas.vertcat(v, theta))\n",
    "res"
   ]
  },
  {
   "cell_type": "code",
   "execution_count": 26,
   "id": "9cc09c2d-f220-4b3a-913f-3c884f0c6b6e",
   "metadata": {},
   "outputs": [
    {
     "data": {
      "text/plain": [
       "Function(shoot_distance:(v,theta)->(xf) MXFunction)"
      ]
     },
     "execution_count": 26,
     "metadata": {},
     "output_type": "execute_result"
    }
   ],
   "source": [
    "xf = shoot(v, theta, res[\"x\"])\n",
    "shoot_distance = Function('shoot_distance', [v, theta], [xf[0]], ['v', 'theta'], ['xf'])\n",
    "shoot_distance"
   ]
  },
  {
   "cell_type": "code",
   "execution_count": 27,
   "id": "01ac1f5b-f8d9-408a-b0ae-3ae53154090d",
   "metadata": {},
   "outputs": [
    {
     "data": {
      "text/plain": [
       "DM(143.533)"
      ]
     },
     "execution_count": 27,
     "metadata": {},
     "output_type": "execute_result"
    }
   ],
   "source": [
    "distance = shoot_distance(50, 30)\n",
    "distance"
   ]
  },
  {
   "cell_type": "code",
   "execution_count": 28,
   "id": "8c6926d5-c618-4c93-9c7e-ae35d8341d5c",
   "metadata": {},
   "outputs": [],
   "source": [
    "assert np.isclose(distance, 143.533)"
   ]
  },
  {
   "cell_type": "code",
   "execution_count": 29,
   "id": "0188d783-b2c9-47b4-99bc-31c4700e4ff5",
   "metadata": {},
   "outputs": [
    {
     "data": {
      "image/png": "[encoded data removed]",
      "text/plain": [
       "<Figure size 550x350 with 1 Axes>"
      ]
     },
     "metadata": {},
     "output_type": "display_data"
    }
   ],
   "source": [
    "# Use a function so that workspace variables v, theta are not replaced\n",
    "\n",
    "def make_distance_plot(shoot_distance, v_values, theta_values):\n",
    "    fig, ax = plt.subplots(figsize=(5.5, 3.5))\n",
    "    for v in v_values:\n",
    "        distances = np.array([\n",
    "            np.array(shoot_distance(v, theta)).item()\n",
    "            for theta in theta_values\n",
    "        ])\n",
    "        ax.plot(theta_values, distances, label=f\"v = {v:.0f}\")\n",
    "    ax.set_xlabel('$\\\\theta$')\n",
    "    ax.set_ylabel('Distance')\n",
    "    ax.set_title('Distance of shot')\n",
    "    ax.legend()\n",
    "    ax.grid()\n",
    "    return ax\n",
    "\n",
    "v_values = np.linspace(20, 40, 3)\n",
    "theta_values = np.linspace(20, 60, 19)\n",
    "make_distance_plot(shoot_distance, v_values, theta_values)\n",
    "plt.show()"
   ]
  },
  {
   "cell_type": "code",
   "execution_count": 30,
   "id": "efe6f935-993c-4759-b9df-8e54683247d0",
   "metadata": {},
   "outputs": [],
   "source": [
    "# Note: for some reason this fails:\n",
    "# shoot_distance(40.0, 32.0)\n",
    "# \"cas.rootfinder process failed\""
   ]
  },
  {
   "cell_type": "markdown",
   "id": "4fe8286a-76a6-4584-a8f6-b6172328138e",
   "metadata": {},
   "source": [
    "## 3. Optimizing for shooting angle"
   ]
  },
  {
   "cell_type": "markdown",
   "id": "d8a60a3a-b306-40b5-be4c-4c12d22d3623",
   "metadata": {},
   "source": [
    "### 3.1 Find the launch angle that maximizes the distance covered"
   ]
  },
  {
   "cell_type": "code",
   "execution_count": 31,
   "id": "bc43518d-d88d-4381-9860-31284f92a2b4",
   "metadata": {},
   "outputs": [
    {
     "data": {
      "text/plain": [
       "Function(solver:(x0,p[],lbx,ubx,lbg[0],ubg[0],lam_x0,lam_g0[0])->(x,f,g[0],lam_x,lam_g[0],lam_p[]) IpoptInterface)"
      ]
     },
     "execution_count": 31,
     "metadata": {},
     "output_type": "execute_result"
    }
   ],
   "source": [
    "v0 = DM(30)\n",
    "nlp = {\n",
    "    'x': theta,\n",
    "    'f': -shoot_distance(v0, theta)\n",
    "}\n",
    "solver = cas.nlpsol('solver', 'ipopt', nlp)\n",
    "solver"
   ]
  },
  {
   "cell_type": "code",
   "execution_count": 32,
   "id": "6e8b76b0-41b0-4cc4-98a3-e5c287364d9c",
   "metadata": {},
   "outputs": [
    {
     "name": "stdout",
     "output_type": "stream",
     "text": [
      "\n",
      "******************************************************************************\n",
      "This program contains Ipopt, a library for large-scale nonlinear optimization.\n",
      " Ipopt is released as open source code under the Eclipse Public License (EPL).\n",
      "         For more information visit https://github.com/coin-or/Ipopt\n",
      "******************************************************************************\n",
      "\n",
      "This is Ipopt version 3.14.11, running with linear solver MUMPS 5.4.1.\n",
      "\n",
      "Number of nonzeros in equality constraint Jacobian...:        0\n",
      "Number of nonzeros in inequality constraint Jacobian.:        0\n",
      "Number of nonzeros in Lagrangian Hessian.............:        1\n",
      "\n",
      "Total number of variables............................:        1\n",
      "                     variables with only lower bounds:        0\n",
      "                variables with lower and upper bounds:        0\n",
      "                     variables with only upper bounds:        0\n",
      "Total number of equality constraints.................:        0\n",
      "Total number of inequality constraints...............:        0\n",
      "        inequality constraints with only lower bounds:        0\n",
      "   inequality constraints with lower and upper bounds:        0\n",
      "        inequality constraints with only upper bounds:        0\n",
      "\n",
      "iter    objective    inf_pr   inf_du lg(mu)  ||d||  lg(rg) alpha_du alpha_pr  ls\n",
      "   0 -6.5919264e+01 0.00e+00 1.06e+00  -1.0 0.00e+00    -  0.00e+00 0.00e+00   0\n",
      "   1 -7.2906121e+01 0.00e+00 1.95e-03  -1.0 1.32e+01    -  1.00e+00 1.00e+00f  1\n",
      "   2 -7.2906146e+01 0.00e+00 1.88e-08  -3.8 2.47e-02    -  1.00e+00 1.00e+00f  1\n",
      "   3 -7.2906146e+01 0.00e+00 7.37e-11  -9.0 2.38e-07    -  1.00e+00 1.00e+00f  1\n",
      "\n",
      "Number of Iterations....: 3\n",
      "\n",
      "                                   (scaled)                 (unscaled)\n",
      "Objective...............:  -7.2906145922660173e+01   -7.2906145922660173e+01\n",
      "Dual infeasibility......:   7.3667294486767787e-11    7.3667294486767787e-11\n",
      "Constraint violation....:   0.0000000000000000e+00    0.0000000000000000e+00\n",
      "Variable bound violation:   0.0000000000000000e+00    0.0000000000000000e+00\n",
      "Complementarity.........:   0.0000000000000000e+00    0.0000000000000000e+00\n",
      "Overall NLP error.......:   7.3667294486767787e-11    7.3667294486767787e-11\n",
      "\n",
      "\n",
      "Number of objective function evaluations             = 4\n",
      "Number of objective gradient evaluations             = 4\n",
      "Number of equality constraint evaluations            = 0\n",
      "Number of inequality constraint evaluations          = 0\n",
      "Number of equality constraint Jacobian evaluations   = 0\n",
      "Number of inequality constraint Jacobian evaluations = 0\n",
      "Number of Lagrangian Hessian evaluations             = 3\n",
      "Total seconds in IPOPT                               = 0.080\n",
      "\n",
      "EXIT: Optimal Solution Found.\n",
      "      solver  :   t_proc      (avg)   t_wall      (avg)    n_eval\n",
      "       nlp_f  |   2.00ms (500.00us)  12.13ms (  3.03ms)         4\n",
      "  nlp_grad_f  |  46.00ms (  9.20ms)  37.31ms (  7.46ms)         5\n",
      "  nlp_hess_l  |  25.00ms (  8.33ms)  26.26ms (  8.75ms)         3\n",
      "       total  |  74.00ms ( 74.00ms)  80.07ms ( 80.07ms)         1\n"
     ]
    }
   ],
   "source": [
    "X0 = DM(30)\n",
    "res = solver(x0=X0)"
   ]
  },
  {
   "cell_type": "code",
   "execution_count": 33,
   "id": "adb5f86a-701f-466c-886c-8920c914b26a",
   "metadata": {},
   "outputs": [
    {
     "data": {
      "text/plain": [
       "DM(43.2223)"
      ]
     },
     "execution_count": 33,
     "metadata": {},
     "output_type": "execute_result"
    }
   ],
   "source": [
    "x_opt = res['x']\n",
    "x_opt"
   ]
  },
  {
   "cell_type": "code",
   "execution_count": 34,
   "id": "561c8dba-851b-48ca-a3f1-efd9b29f9391",
   "metadata": {},
   "outputs": [],
   "source": [
    "assert np.isclose(x_opt, 43.2223)"
   ]
  },
  {
   "cell_type": "markdown",
   "id": "d0a063f4-fe1b-4127-bc4f-2d8a1a484f96",
   "metadata": {},
   "source": [
    "### 3.2 Maximize chance of a hole in one"
   ]
  },
  {
   "cell_type": "code",
   "execution_count": 35,
   "id": "6a6f6280-21cc-4f8a-83eb-8701a3fc46e6",
   "metadata": {},
   "outputs": [
    {
     "data": {
      "text/plain": [
       "DM(\n",
       "[[1, 00], \n",
       " [00, 1.44]])"
      ]
     },
     "execution_count": 35,
     "metadata": {},
     "output_type": "execute_result"
    }
   ],
   "source": [
    "cov_x = cas.diag([1, 1.2]) ** 2\n",
    "cov_x"
   ]
  },
  {
   "cell_type": "code",
   "execution_count": 36,
   "id": "2e5873b8-0583-46e3-9f2a-eba3466b681f",
   "metadata": {},
   "outputs": [
    {
     "data": {
      "text/plain": [
       "(1, 2)"
      ]
     },
     "execution_count": 36,
     "metadata": {},
     "output_type": "execute_result"
    }
   ],
   "source": [
    "distance = shoot_distance(v, theta)\n",
    "J = cas.jacobian(distance, cas.vertcat(v, theta))\n",
    "J.shape"
   ]
  },
  {
   "cell_type": "code",
   "execution_count": 37,
   "id": "54ce4152-4ad3-4035-95e0-bad42bc4c0f7",
   "metadata": {},
   "outputs": [
    {
     "data": {
      "text/plain": [
       "Function(solver:(x0[2],p[],lbx[2],ubx[2],lbg,ubg,lam_x0[2],lam_g0)->(x[2],f,g,lam_x[2],lam_g,lam_p[]) IpoptInterface)"
      ]
     },
     "execution_count": 37,
     "metadata": {},
     "output_type": "execute_result"
    }
   ],
   "source": [
    "# Approximation for covariance of distance\n",
    "sigma_shoot_distance = J @ cov_x @ J.T\n",
    "\n",
    "nlp = {\n",
    "    'x': cas.vertcat(v, theta),\n",
    "    'g': distance,\n",
    "    'f': sigma_shoot_distance\n",
    "}\n",
    "solver = cas.nlpsol('solver', 'ipopt', nlp)\n",
    "solver"
   ]
  },
  {
   "cell_type": "code",
   "execution_count": 38,
   "id": "3dc37db3-8a0f-45dd-ad53-2d6ba4565669",
   "metadata": {},
   "outputs": [
    {
     "name": "stdout",
     "output_type": "stream",
     "text": [
      "This is Ipopt version 3.14.11, running with linear solver MUMPS 5.4.1.\n",
      "\n",
      "Number of nonzeros in equality constraint Jacobian...:        2\n",
      "Number of nonzeros in inequality constraint Jacobian.:        0\n",
      "Number of nonzeros in Lagrangian Hessian.............:        3\n",
      "\n",
      "Total number of variables............................:        2\n",
      "                     variables with only lower bounds:        0\n",
      "                variables with lower and upper bounds:        0\n",
      "                     variables with only upper bounds:        0\n",
      "Total number of equality constraints.................:        1\n",
      "Total number of inequality constraints...............:        0\n",
      "        inequality constraints with only lower bounds:        0\n",
      "   inequality constraints with lower and upper bounds:        0\n",
      "        inequality constraints with only upper bounds:        0\n",
      "\n",
      "iter    objective    inf_pr   inf_du lg(mu)  ||d||  lg(rg) alpha_du alpha_pr  ls\n",
      "   0  1.5182999e+01 7.22e+00 7.26e-02  -1.0 0.00e+00    -  0.00e+00 0.00e+00   0\n",
      "   1  1.3525597e+01 1.43e+01 3.15e-01  -1.0 1.80e+01  -2.0 1.00e+00 1.00e+00h  1\n",
      "   2  1.4698940e+01 9.84e-01 1.46e-02  -1.0 6.31e+00    -  1.00e+00 1.00e+00h  1\n",
      "   3  1.4767090e+01 1.86e-02 7.27e-04  -1.7 4.38e-01    -  1.00e+00 1.00e+00h  1\n",
      "   4  1.4768460e+01 7.15e-05 1.32e-06  -3.8 3.58e-02    -  1.00e+00 1.00e+00h  1\n",
      "   5  1.4768465e+01 1.73e-10 1.84e-07  -5.7 7.75e-05    -  1.00e+00 1.00e+00h  1\n",
      "   6  1.4768465e+01 1.05e-10 6.02e-09  -8.6 9.05e-06    -  1.00e+00 1.00e+00h  1\n",
      "\n",
      "Number of Iterations....: 6\n",
      "\n",
      "                                   (scaled)                 (unscaled)\n",
      "Objective...............:   1.4768464840842725e+01    1.4768464840842725e+01\n",
      "Dual infeasibility......:   6.0151827407928238e-09    6.0151827407928238e-09\n",
      "Constraint violation....:   1.0523137916607084e-10    1.0523137916607084e-10\n",
      "Variable bound violation:   0.0000000000000000e+00    0.0000000000000000e+00\n",
      "Complementarity.........:   0.0000000000000000e+00    0.0000000000000000e+00\n",
      "Overall NLP error.......:   6.0151827407928238e-09    6.0151827407928238e-09\n",
      "\n",
      "\n",
      "Number of objective function evaluations             = 7\n",
      "Number of objective gradient evaluations             = 7\n",
      "Number of equality constraint evaluations            = 7\n",
      "Number of inequality constraint evaluations          = 0\n",
      "Number of equality constraint Jacobian evaluations   = 7\n",
      "Number of inequality constraint Jacobian evaluations = 0\n",
      "Number of Lagrangian Hessian evaluations             = 6\n",
      "Total seconds in IPOPT                               = 0.439\n",
      "\n",
      "EXIT: Optimal Solution Found.\n",
      "      solver  :   t_proc      (avg)   t_wall      (avg)    n_eval\n",
      "       nlp_f  |  49.00ms (  7.00ms)  34.52ms (  4.93ms)         7\n",
      "       nlp_g  |  22.00ms (  3.14ms)  23.40ms (  3.34ms)         7\n",
      "  nlp_grad_f  |  62.00ms (  7.75ms)  73.07ms (  9.13ms)         8\n",
      "  nlp_hess_l  | 262.00ms ( 43.67ms) 262.52ms ( 43.75ms)         6\n",
      "   nlp_jac_g  |  38.00ms (  4.75ms)  36.95ms (  4.62ms)         8\n",
      "       total  | 437.00ms (437.00ms) 439.24ms (439.24ms)         1\n"
     ]
    },
    {
     "data": {
      "text/plain": [
       "DM([34.1584, 57.087])"
      ]
     },
     "execution_count": 38,
     "metadata": {},
     "output_type": "execute_result"
    }
   ],
   "source": [
    "x0 = cas.vertcat(30, 45)\n",
    "res = solver(x0=x0, lbg=80, ubg=80)\n",
    "res[\"x\"]"
   ]
  },
  {
   "cell_type": "code",
   "execution_count": 39,
   "id": "660bdc6c-7dee-410c-a0ff-8a41d3463820",
   "metadata": {},
   "outputs": [],
   "source": [
    "assert_array_almost_equal(res[\"x\"], [[34.1584], [57.0871]], decimal=4)"
   ]
  },
  {
   "cell_type": "code",
   "execution_count": null,
   "id": "153336da-51b0-4a17-96e7-8ebefd510a26",
   "metadata": {},
   "outputs": [],
   "source": []
  },
  {
   "cell_type": "code",
   "execution_count": null,
   "id": "0e8af76a-0237-44ab-9e9e-d05d2ead6317",
   "metadata": {},
   "outputs": [],
   "source": []
  },
  {
   "cell_type": "code",
   "execution_count": null,
   "id": "a5655094",
   "metadata": {},
   "outputs": [],
   "source": []
  }
 ],
 "metadata": {
  "kernelspec": {
   "display_name": "casadi",
   "language": "python",
   "name": "python3"
  },
  "language_info": {
   "codemirror_mode": {
    "name": "ipython",
    "version": 3
   },
   "file_extension": ".py",
   "mimetype": "text/x-python",
   "name": "python",
   "nbconvert_exporter": "python",
   "pygments_lexer": "ipython3",
   "version": "3.12.4"
  }
 },
 "nbformat": 4,
 "nbformat_minor": 5
}
