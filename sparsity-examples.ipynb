{
 "cells": [
  {
   "cell_type": "markdown",
   "id": "6ca716d5-3282-400a-bf81-48b72265e498",
   "metadata": {},
   "source": [
    "# Attempt to understand how sparse symbolic matrices can be used"
   ]
  },
  {
   "cell_type": "code",
   "execution_count": 2,
   "id": "ac1ce5be-b7b8-4e88-8190-a5bdda4166df",
   "metadata": {},
   "outputs": [],
   "source": [
    "import casadi as cas"
   ]
  },
  {
   "cell_type": "code",
   "execution_count": 3,
   "id": "292027c0-1964-43c1-b9f1-4abe9c08ae20",
   "metadata": {},
   "outputs": [
    {
     "data": {
      "text/plain": [
       "Sparsity(2x2,2nz)"
      ]
     },
     "execution_count": 3,
     "metadata": {},
     "output_type": "execute_result"
    }
   ],
   "source": [
    "sp = cas.DM.eye(2).sparsity()\n",
    "sp"
   ]
  },
  {
   "cell_type": "code",
   "execution_count": 4,
   "id": "03509906-dd87-4609-86a1-222ee9fe86f6",
   "metadata": {},
   "outputs": [
    {
     "name": "stdout",
     "output_type": "stream",
     "text": [
      "*.\n",
      ".*\n"
     ]
    }
   ],
   "source": [
    "sp.spy()"
   ]
  },
  {
   "cell_type": "code",
   "execution_count": 5,
   "id": "b667580d-e4b1-45c5-a850-ef268d056c86",
   "metadata": {},
   "outputs": [
    {
     "data": {
      "text/plain": [
       "2"
      ]
     },
     "execution_count": 5,
     "metadata": {},
     "output_type": "execute_result"
    }
   ],
   "source": [
    "sp.nnz()"
   ]
  },
  {
   "cell_type": "code",
   "execution_count": 6,
   "id": "2c713117-05db-4915-bd1f-13ae23e032cc",
   "metadata": {},
   "outputs": [
    {
     "data": {
      "text/plain": [
       "MX(A)"
      ]
     },
     "execution_count": 6,
     "metadata": {},
     "output_type": "execute_result"
    }
   ],
   "source": [
    "# Make an MX with this sparsity pattern:\n",
    "A = cas.MX.sym(\"A\", sp)\n",
    "A"
   ]
  },
  {
   "cell_type": "code",
   "execution_count": 7,
   "id": "43563713-b0ab-4d04-b0a6-db127791e9f7",
   "metadata": {},
   "outputs": [
    {
     "data": {
      "text/plain": [
       "Sparsity(2x2,2nz)"
      ]
     },
     "execution_count": 7,
     "metadata": {},
     "output_type": "execute_result"
    }
   ],
   "source": [
    "A.sparsity()"
   ]
  },
  {
   "cell_type": "code",
   "execution_count": 8,
   "id": "acb6b636-3ab4-48b2-a9f8-652a5692e823",
   "metadata": {},
   "outputs": [
    {
     "data": {
      "text/plain": [
       "MX(A[0])"
      ]
     },
     "execution_count": 8,
     "metadata": {},
     "output_type": "execute_result"
    }
   ],
   "source": [
    "A[0, 0]"
   ]
  },
  {
   "cell_type": "code",
   "execution_count": 9,
   "id": "6cbc02a1-438e-4ba7-95c3-607571aa0a5c",
   "metadata": {},
   "outputs": [
    {
     "data": {
      "text/plain": [
       "MX(00)"
      ]
     },
     "execution_count": 9,
     "metadata": {},
     "output_type": "execute_result"
    }
   ],
   "source": [
    "A[0, 1]"
   ]
  },
  {
   "cell_type": "code",
   "execution_count": 10,
   "id": "80c4a488-4bfa-47f9-b02a-bc997697a6bd",
   "metadata": {},
   "outputs": [
    {
     "data": {
      "text/plain": [
       "Sparsity(3x3,2nz)"
      ]
     },
     "execution_count": 10,
     "metadata": {},
     "output_type": "execute_result"
    }
   ],
   "source": [
    "ss = cas.Sparsity.nonzeros(3, 3, [1, 4])\n",
    "ss"
   ]
  },
  {
   "cell_type": "code",
   "execution_count": 11,
   "id": "c793540a-bb3a-461f-81ed-19a466f16c62",
   "metadata": {},
   "outputs": [
    {
     "name": "stdout",
     "output_type": "stream",
     "text": [
      "...\n",
      "**.\n",
      "...\n"
     ]
    }
   ],
   "source": [
    "ss.spy()"
   ]
  },
  {
   "cell_type": "code",
   "execution_count": 12,
   "id": "bebb45f6-92c2-49de-8e77-7966fa441fed",
   "metadata": {},
   "outputs": [
    {
     "data": {
      "text/plain": [
       "2"
      ]
     },
     "execution_count": 12,
     "metadata": {},
     "output_type": "execute_result"
    }
   ],
   "source": [
    "ss.nnz()"
   ]
  },
  {
   "cell_type": "code",
   "execution_count": 13,
   "id": "243246ef-4d94-4e85-9e28-8ce7c40a426d",
   "metadata": {},
   "outputs": [
    {
     "data": {
      "text/plain": [
       "[1, 4]"
      ]
     },
     "execution_count": 13,
     "metadata": {},
     "output_type": "execute_result"
    }
   ],
   "source": [
    "idsfound = ss.find()\n",
    "idsfound"
   ]
  },
  {
   "cell_type": "code",
   "execution_count": 14,
   "id": "8ba53048-de6f-42d9-8926-e37e6a3995ae",
   "metadata": {},
   "outputs": [
    {
     "data": {
      "text/plain": [
       "SX(@1=1, \n",
       "[[00, 00, 00], \n",
       " [@1, @1, 00], \n",
       " [00, 00, 00]])"
      ]
     },
     "execution_count": 14,
     "metadata": {},
     "output_type": "execute_result"
    }
   ],
   "source": [
    "# Make an SX, mostly zeros, with ones at selected:\n",
    "xxa = cas.SX(ss)\n",
    "xxa"
   ]
  },
  {
   "cell_type": "code",
   "execution_count": 15,
   "id": "e348c6d0-6efa-40d5-970b-5081c23e84a8",
   "metadata": {},
   "outputs": [
    {
     "data": {
      "text/plain": [
       "SX(\n",
       "[[00, 00, 00], \n",
       " [xx_0, xx_1, 00], \n",
       " [00, 00, 00]])"
      ]
     },
     "execution_count": 15,
     "metadata": {},
     "output_type": "execute_result"
    }
   ],
   "source": [
    "# Make an SX sym with this sparsity.\n",
    "xxsym = cas.SX.sym('xx', ss)\n",
    "xxsym"
   ]
  },
  {
   "cell_type": "code",
   "execution_count": null,
   "id": "911dc9ab-2bf5-4c86-9df1-a200a965170b",
   "metadata": {},
   "outputs": [],
   "source": []
  },
  {
   "cell_type": "code",
   "execution_count": null,
   "id": "a4885547-17b8-47f2-bc82-d5193c7069da",
   "metadata": {},
   "outputs": [],
   "source": []
  },
  {
   "cell_type": "code",
   "execution_count": null,
   "id": "7ae5d2c4-ff3b-4d89-9c26-777f15fc9eaf",
   "metadata": {},
   "outputs": [],
   "source": []
  }
 ],
 "metadata": {
  "kernelspec": {
   "display_name": "Python (casadi)",
   "language": "python",
   "name": "casadi"
  },
  "language_info": {
   "codemirror_mode": {
    "name": "ipython",
    "version": 3
   },
   "file_extension": ".py",
   "mimetype": "text/x-python",
   "name": "python",
   "nbconvert_exporter": "python",
   "pygments_lexer": "ipython3",
   "version": "3.10.16"
  }
 },
 "nbformat": 4,
 "nbformat_minor": 5
}
