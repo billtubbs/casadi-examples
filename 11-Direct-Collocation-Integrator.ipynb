{
 "cells": [
  {
   "cell_type": "markdown",
   "metadata": {},
   "source": [
    "# Direct Collocation Integrator\n",
    "\n",
    "Using collocation to integrate an ODE system.  Collocation is a high-order implicit integration scheme that works well in practice."
   ]
  },
  {
   "cell_type": "code",
   "execution_count": 1,
   "metadata": {},
   "outputs": [
    {
     "name": "stdout",
     "output_type": "stream",
     "text": [
      "Casadi: 3.6.7\n",
      "Python: 3.10.13\n"
     ]
    }
   ],
   "source": [
    "import os\n",
    "import numpy as np\n",
    "import matplotlib.pyplot as plt\n",
    "from casadi import MX, SX, DM, Function, Opti\n",
    "import casadi as cas\n",
    "from platform import python_version\n",
    "from numpy.testing import assert_array_equal, assert_array_almost_equal\n",
    "\n",
    "print(f\"Casadi: {cas.__version__}\")\n",
    "print(f\"Python: {python_version()}\")"
   ]
  },
  {
   "cell_type": "markdown",
   "metadata": {},
   "source": [
    "## The Collocation Problem\n",
    "\n",
    "Consider the case of an autonomous system (no manipulated input)\n",
    "\n",
    "Solve an initial value problem:\n",
    "\n",
    "Get to $x(t_0 + \\Delta t)$ from $x(t_0)$ given $ \\dot{x}(t) = f(t, x)$."
   ]
  },
  {
   "cell_type": "markdown",
   "metadata": {},
   "source": [
    "The idea of collocation is to assume a polynomial $\\Pi(t)$ as an approximation to $x(t)$ in the interval $(t_0, t_0 + \\Delta t)$"
   ]
  },
  {
   "cell_type": "markdown",
   "metadata": {},
   "source": [
    "Need to find a set of coefficients of the polynomial that best match $ \\dot{x}(t) = f(t, x)$.\n",
    "\n",
    "$$\\Pi(t; \\text{coefficients})$$"
   ]
  },
  {
   "cell_type": "markdown",
   "metadata": {},
   "source": [
    "## Exercise\n",
    "\n",
    "Goal is to integrate the following time-dependent ODE\n",
    "\n",
    "$$\n",
    "\\frac{d\\left[\\begin{array}{l}\n",
    "x_1 \\\\\n",
    "x_2\n",
    "\\end{array}\\right]}{d t}=\\left[\\begin{array}{c}\n",
    "\\left(1-x_2^2\\right) x_1-x_2+t \\\\\n",
    "x_1\n",
    "\\end{array}\\right]\n",
    "$$\n",
    "\n",
    "from $t_0 = 2$ to $t_f = 2.1$, with an initial value of $x_0 = \\left[ \\begin{array}{c} 1 \\\\ 0.5 \\end{array} \\right]$."
   ]
  },
  {
   "cell_type": "markdown",
   "metadata": {},
   "source": [
    "## 1. Implement CasADi Function of Righthand Side of ODE\n",
    "\n",
    "Implement a CasADi Function $f$ that maps from time and state to the ODE’s right-hand side.\n",
    "\n",
    "Create suitable MX symbols and use the following boilerplate:\n",
    "\n",
    "```python\n",
    "f = Function('f', list_of_input_symbols, list_of_output_expressions,\n",
    "             list_of_input_labels, list_of_output_labels)\n",
    "```"
   ]
  },
  {
   "cell_type": "code",
   "execution_count": 2,
   "metadata": {},
   "outputs": [
    {
     "data": {
      "text/plain": [
       "Function(f:(t,x[2])->(dxdt[2]) MXFunction)"
      ]
     },
     "execution_count": 2,
     "metadata": {},
     "output_type": "execute_result"
    }
   ],
   "source": [
    "t = MX.sym('t')\n",
    "x = MX.sym('x', 2)\n",
    "x1, x2 = x[0], x[1]\n",
    "\n",
    "rhs = cas.vertcat(\n",
    "    (1 - x2 ** 2) * x1 - x2 + t,\n",
    "    x1\n",
    ")\n",
    "f = Function('f', [t, x], [rhs], ['t', 'x'], ['dxdt'])\n",
    "f"
   ]
  },
  {
   "cell_type": "code",
   "execution_count": 3,
   "metadata": {},
   "outputs": [],
   "source": [
    "# Test\n",
    "t0 = 2\n",
    "dt = 0.1\n",
    "tf = t0 + dt\n",
    "x0 = cas.vertcat(1, 0.5)\n",
    "\n",
    "assert_array_equal(np.array(f(t0, x0)).reshape(-1), [2.25, 1])"
   ]
  },
  {
   "cell_type": "code",
   "execution_count": null,
   "metadata": {},
   "outputs": [],
   "source": []
  },
  {
   "cell_type": "code",
   "execution_count": null,
   "metadata": {},
   "outputs": [],
   "source": []
  },
  {
   "cell_type": "code",
   "execution_count": null,
   "metadata": {},
   "outputs": [],
   "source": []
  }
 ],
 "metadata": {
  "kernelspec": {
   "display_name": "casadi",
   "language": "python",
   "name": "python3"
  },
  "language_info": {
   "codemirror_mode": {
    "name": "ipython",
    "version": 3
   },
   "file_extension": ".py",
   "mimetype": "text/x-python",
   "name": "python",
   "nbconvert_exporter": "python",
   "pygments_lexer": "ipython3",
   "version": "3.10.13"
  }
 },
 "nbformat": 4,
 "nbformat_minor": 2
}
