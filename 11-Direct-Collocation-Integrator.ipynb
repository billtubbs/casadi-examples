{
 "cells": [
  {
   "cell_type": "markdown",
   "metadata": {},
   "source": [
    "# Direct Collocation Integrator\n",
    "\n",
    "Using collocation to integrate an ODE system.  Collocation is a high-order implicit integration scheme that works well in practice."
   ]
  },
  {
   "cell_type": "code",
   "execution_count": 1,
   "metadata": {},
   "outputs": [
    {
     "name": "stdout",
     "output_type": "stream",
     "text": [
      "Casadi: 3.6.7\n",
      "Python: 3.10.16\n"
     ]
    }
   ],
   "source": [
    "import os\n",
    "import numpy as np\n",
    "import matplotlib.pyplot as plt\n",
    "from casadi import MX, SX, DM, Function, Opti\n",
    "import casadi as cas\n",
    "from platform import python_version\n",
    "from numpy.testing import assert_array_equal, assert_array_almost_equal\n",
    "\n",
    "print(f\"Casadi: {cas.__version__}\")\n",
    "print(f\"Python: {python_version()}\")"
   ]
  },
  {
   "cell_type": "markdown",
   "metadata": {},
   "source": [
    "## The Collocation Problem\n",
    "\n",
    "Consider the case of an autonomous system (no manipulated input)\n",
    "\n",
    "Solve an initial value problem:\n",
    "\n",
    "Get to $x(t_0 + \\Delta t)$ from $x(t_0)$ given $ \\dot{x}(t) = f(t, x)$."
   ]
  },
  {
   "cell_type": "markdown",
   "metadata": {},
   "source": [
    "The idea of collocation is to assume a polynomial $\\Pi(t)$ as an approximation to $x(t)$ in the interval $[t_0, t_0 + \\Delta t]$."
   ]
  },
  {
   "cell_type": "markdown",
   "metadata": {},
   "source": [
    "Need to find a set of coefficients of the polynomial that best match $ \\dot{x}(t) = f(t, x)$.\n",
    "\n",
    "$$\\Pi(t; \\text{coefficients})$$"
   ]
  },
  {
   "cell_type": "markdown",
   "metadata": {},
   "source": [
    "<img src=\"images/collocation_method_2.png\" width=\"50%\">"
   ]
  },
  {
   "cell_type": "markdown",
   "metadata": {},
   "source": [
    "## Exercise\n",
    "\n",
    "Goal is to integrate the following time-dependent ODE\n",
    "\n",
    "$$\n",
    "\\frac{d\\left[\\begin{array}{l}\n",
    "x_1 \\\\\n",
    "x_2\n",
    "\\end{array}\\right]}{d t}=\\left[\\begin{array}{c}\n",
    "\\left(1-x_2^2\\right) x_1-x_2+t \\\\\n",
    "x_1\n",
    "\\end{array}\\right]\n",
    "$$\n",
    "\n",
    "from $t_0 = 2$ to $t_f = 2.1$, with an initial value of $x_0 = \\left[ \\begin{array}{c} 1 \\\\ 0.5 \\end{array} \\right]$."
   ]
  },
  {
   "cell_type": "markdown",
   "metadata": {},
   "source": [
    "## 1. Implement CasADi Function of Righthand Side of ODE\n",
    "\n",
    "Implement a CasADi Function $f$ that maps from time and state to the ODE’s right-hand side.\n",
    "\n",
    "Create suitable MX symbols and use the following boilerplate:\n",
    "\n",
    "```python\n",
    "f = Function('f', list_of_input_symbols, list_of_output_expressions,\n",
    "             list_of_input_labels, list_of_output_labels)\n",
    "```"
   ]
  },
  {
   "cell_type": "code",
   "execution_count": 2,
   "metadata": {},
   "outputs": [
    {
     "data": {
      "text/plain": [
       "Function(f:(t,x[2])->(dxdt[2]) MXFunction)"
      ]
     },
     "execution_count": 2,
     "metadata": {},
     "output_type": "execute_result"
    }
   ],
   "source": [
    "t = MX.sym('t')\n",
    "x = MX.sym('x', 2)\n",
    "x1, x2 = x[0], x[1]\n",
    "\n",
    "# ODE righthand side\n",
    "rhs = cas.vertcat(\n",
    "    (1 - x2 ** 2) * x1 - x2 + t,\n",
    "    x1\n",
    ")\n",
    "f = Function('f', [t, x], [rhs], ['t', 'x'], ['dxdt'])\n",
    "f"
   ]
  },
  {
   "cell_type": "code",
   "execution_count": 3,
   "metadata": {},
   "outputs": [],
   "source": [
    "# Test\n",
    "t0 = 2\n",
    "dt = 0.1\n",
    "tf = t0 + dt\n",
    "x0 = cas.vertcat(1, 0.5)\n",
    "\n",
    "assert_array_equal(np.array(f(t0, x0)).reshape(-1), [2.25, 1])"
   ]
  },
  {
   "cell_type": "markdown",
   "metadata": {},
   "source": [
    "## 2. Integration Scheme\n",
    "\n",
    "We will use a degree $d = 4$ legendre scheme for our collocation integrator. Make use of CasADi’s `collocation_points` helper function to obtain values for the dimensionless collocation points $\\tau$. Use `help(collocation_points)` for help."
   ]
  },
  {
   "cell_type": "code",
   "execution_count": 4,
   "metadata": {},
   "outputs": [
    {
     "name": "stdout",
     "output_type": "stream",
     "text": [
      "Help on function collocation_points in module casadi.casadi:\n",
      "\n",
      "collocation_points(*args) -> 'std::vector< double,std::allocator< double > >'\n",
      "      [INTERNAL] \n",
      "    \n",
      "    ::\n",
      "    \n",
      "      collocation_points(int order, str scheme) -> [float]\n",
      "    \n",
      "    Obtain collocation points of specific order and scheme.\n",
      "    \n",
      "    Parameters:\n",
      "    -----------\n",
      "    \n",
      "    order: \n",
      "    Which order (1 to 9 supported)\n",
      "    \n",
      "    scheme: \n",
      "    'radau' or 'legendre'\n",
      "    \n",
      "    Extra doc: https://github.com/casadi/casadi/wiki/L_1so\n",
      "    \n",
      "    Doc source: \n",
      "    https://github.com/casadi/casadi/blob/develop/casadi/core/integration_tools.hpp#L120\n",
      "    \n",
      "    Implementation: \n",
      "    https://github.com/casadi/casadi/blob/develop/casadi/core/integration_tools.cpp#L120-L122\n",
      "\n"
     ]
    }
   ],
   "source": [
    "help(cas.collocation_points)"
   ]
  },
  {
   "cell_type": "code",
   "execution_count": 5,
   "metadata": {},
   "outputs": [
    {
     "data": {
      "text/plain": [
       "DM([[0.0694318, 0.330009, 0.669991, 0.930568]])"
      ]
     },
     "execution_count": 5,
     "metadata": {},
     "output_type": "execute_result"
    }
   ],
   "source": [
    "d = 4\n",
    "tau = DM(cas.collocation_points(d, 'legendre')).T\n",
    "tau"
   ]
  },
  {
   "cell_type": "markdown",
   "metadata": {},
   "source": [
    "## 3. Plot Interpolating Values\n",
    "\n",
    "Locate and download the `LagrangePolynomialEval` function in the course material. Its mathematical prescription is given by:\n",
    "\n",
    "$$\n",
    "p\\left(\\left[X_1, \\ldots, X_N\\right],\\left[Y_1, \\ldots, Y_N\\right], x\\right)=\\sum_{i=1}^N\\left(\\prod_{\\substack{1 \\leq j \\leq N \\\\ j \\neq i}} \\frac{x-X_j}{X_i-X_j}\\right) Y_i\n",
    "$$\n",
    "\n",
    "Plot the interpolating values for `X = [0 0.5 1], Y = [7 1 3]` and a range of x values between 0 and 1. Verify that the function performs an exact interpolation through each point `(Xi, Yi)`.\n"
   ]
  },
  {
   "cell_type": "code",
   "execution_count": 6,
   "metadata": {},
   "outputs": [
    {
     "data": {
      "image/png": "[encoded data removed]",
      "text/plain": [
       "<Figure size 640x480 with 1 Axes>"
      ]
     },
     "metadata": {},
     "output_type": "display_data"
    }
   ],
   "source": [
    "from lagrange_polynomial_eval import LagrangePolynomialEval\n",
    "\n",
    "X = [0, 0.5, 1]\n",
    "Y = [7, 1, 3]\n",
    "x = np.linspace(0, 1, 51)\n",
    "\n",
    "y_poly = LagrangePolynomialEval(X, Y, x)\n",
    "plt.plot(X, Y, 'o', label='collocation points')\n",
    "plt.plot(x, y_poly, '-', label='polynomial')\n",
    "plt.grid()\n",
    "plt.legend()\n",
    "plt.show()"
   ]
  },
  {
   "cell_type": "code",
   "execution_count": 7,
   "metadata": {},
   "outputs": [],
   "source": [
    "# Vectorized version for Numpy arrays only\n",
    "from lagrange_polynomial_eval import lagrange_polynomial_eval_numeric\n",
    "\n",
    "y_poly2 = lagrange_polynomial_eval_numeric(X, Y, x)\n",
    "assert_array_almost_equal(y_poly2.reshape(-1), y_poly)"
   ]
  },
  {
   "cell_type": "code",
   "execution_count": 8,
   "metadata": {},
   "outputs": [],
   "source": [
    "# Test with multi-dimensional Y\n",
    "X = [0, 0.5, 1]\n",
    "Y = [[7, 7], [1, 1], [3, 3]]\n",
    "x = np.linspace(0, 1, 11)\n",
    "\n",
    "y_poly2 = lagrange_polynomial_eval_numeric(X, Y, x)\n",
    "\n",
    "assert_array_almost_equal(\n",
    "    y_poly2, \n",
    "    [\n",
    "        [7.  , 7.  ],\n",
    "        [5.16, 5.16],\n",
    "        [3.64, 3.64],\n",
    "        [2.44, 2.44],\n",
    "        [1.56, 1.56],\n",
    "        [1.  , 1.  ],\n",
    "        [0.76, 0.76],\n",
    "        [0.84, 0.84],\n",
    "        [1.24, 1.24],\n",
    "        [1.96, 1.96],\n",
    "        [3.  , 3.  ]\n",
    "    ]\n",
    ")"
   ]
  },
  {
   "cell_type": "markdown",
   "metadata": {},
   "source": [
    "## 4. Scale the Collocation Points\n",
    "\n",
    "Scale the dimensionless collocation points $\\tau_i$ to obtain a collocation grid of the integration interval $[t_0, t_f]$."
   ]
  },
  {
   "cell_type": "code",
   "execution_count": 9,
   "metadata": {},
   "outputs": [
    {
     "data": {
      "text/plain": [
       "DM([[2.00694, 2.033, 2.067, 2.09306]])"
      ]
     },
     "execution_count": 9,
     "metadata": {},
     "output_type": "execute_result"
    }
   ],
   "source": [
    "t_coll = t0 + dt * tau\n",
    "t_coll"
   ]
  },
  {
   "cell_type": "markdown",
   "metadata": {},
   "source": [
    "## 5. Construct $\\Pi$ as a CasADi Function\n",
    "\n",
    "Construct $\\Pi$ as a CasADi Function with the following signature:\n",
    "\n",
    "```text\n",
    "Pi:(t,X0[2],Xc[2x4])->(Pi[2]) MXFunction\n",
    "```\n",
    "\n",
    "We desire that this Function interpolates exactly through $(t_0, X_0)$ and also through the points constructed by the collocation grid and the helper states $X_c$ defined on that grid.\n",
    "\n",
    "You’ll need to introduce some MX symbols, and call `LagrangePolynomialEval` with three symbolic expressions as arguments. Verify that $\\Pi$ evaluated at $t = t_0 + 0.05$, `X0` $= x_0$, and `Xc = [x0 + 1, x0 + 2, x0 + 4, x0 + 5]`, yields `[3.6501, 3.1501]`.\n"
   ]
  },
  {
   "cell_type": "code",
   "execution_count": 10,
   "metadata": {},
   "outputs": [
    {
     "data": {
      "text/plain": [
       "Function(Pi:(t,X0[2],Xc[2x4])->(Pi[2]) MXFunction)"
      ]
     },
     "execution_count": 10,
     "metadata": {},
     "output_type": "execute_result"
    }
   ],
   "source": [
    "from lagrange_polynomial_eval import LagrangePolynomialEval\n",
    "\n",
    "t0 = 2\n",
    "dt = 0.1\n",
    "nx = 2\n",
    "\n",
    "d = 4\n",
    "\n",
    "# Define collocation times\n",
    "tau = DM(cas.collocation_points(d, 'legendre')).T\n",
    "t_coll = t0 + dt * tau\n",
    "T = cas.horzcat(t0, t_coll)\n",
    "\n",
    "# Define collocation points\n",
    "X0 = MX.sym(\"X0\", nx)\n",
    "Xc = MX.sym(\"Xc\", nx, d)\n",
    "X = cas.horzcat(X0, Xc)\n",
    "\n",
    "# Polynomial function\n",
    "t = MX.sym('t')\n",
    "\n",
    "Pi_expr = LagrangePolynomialEval(T, X, t)\n",
    "\n",
    "Pi = Function('Pi', [t, X0, Xc], [Pi_expr], ['t', 'X0', 'Xc'], ['Pi'])\n",
    "Pi"
   ]
  },
  {
   "cell_type": "code",
   "execution_count": 11,
   "metadata": {},
   "outputs": [],
   "source": [
    "# Test\n",
    "assert str(Pi) == \"Pi:(t,X0[2],Xc[2x4])->(Pi[2]) MXFunction\"\n",
    "\n",
    "def evaluate_Pi(t0=2, dt=0.05, x0=(1, 0.5)):\n",
    "    t = t0 + dt\n",
    "    x0 = cas.vcat(x0)\n",
    "    Xc = cas.horzcat(x0+1, x0+2, x0+4, x0+5)\n",
    "    return Pi(t, x0, Xc)\n",
    "\n",
    "assert_array_almost_equal(evaluate_Pi(), [[3.65013], [3.15013]], decimal=5)"
   ]
  },
  {
   "cell_type": "markdown",
   "metadata": {},
   "source": [
    "## 6. Time Derivative of Pi\n",
    "\n",
    "Construct a CasADi function of the time-derivative of the $\\Pi$:\n",
    "\n",
    "```text\n",
    "dot_Pi:(t,X0[2],Xc[2x4])->(dPi[2]) MXFunction\n",
    "```\n",
    "\n",
    "Verify that it evaluates to `[61.1122; 61.1122]` for the same evaluation point."
   ]
  },
  {
   "cell_type": "code",
   "execution_count": 12,
   "metadata": {},
   "outputs": [
    {
     "data": {
      "text/plain": [
       "Function(dot_Pi:(t,X0[2],Xc[2x4])->(dPidt[2]) MXFunction)"
      ]
     },
     "execution_count": 12,
     "metadata": {},
     "output_type": "execute_result"
    }
   ],
   "source": [
    "dPidt_expr = cas.jacobian(Pi_expr, t)\n",
    "dot_Pi = Function('dot_Pi', [t, X0, Xc], [dPidt_expr], ['t', 'X0', 'Xc'], ['dPidt'])\n",
    "dot_Pi"
   ]
  },
  {
   "cell_type": "code",
   "execution_count": 13,
   "metadata": {},
   "outputs": [],
   "source": [
    "def evaluate_dot_Pi(t0=2, dt=0.05, x0=(1, 0.5)):\n",
    "    t = t0 + dt\n",
    "    x0 = cas.vcat(x0)\n",
    "    Xc = cas.horzcat(x0+1, x0+2, x0+4, x0+5)\n",
    "    return dot_Pi(t, x0, Xc)\n",
    "\n",
    "assert_array_almost_equal(evaluate_dot_Pi(), [[61.1122], [61.1122]], decimal=4)"
   ]
  },
  {
   "cell_type": "markdown",
   "metadata": {},
   "source": [
    "## 7. Create Expression for Collocation Residual\n",
    "\n",
    "Create a 8-by-1 expression g that represent the collocation residual (polynomial derivative \n",
    "should match right-hand side) for our system on the integration interval. Verify that, for \n",
    "`X0`$=x0$, and `Xc=[x0+1 x0+2 x0+4 x0+5]`, this yields `[107.130;103.137;35.726;16.509;...]`.\n",
    "\n",
    "Hint: To create a matrix expression out of individual parts formed in a for-loop, use the \n",
    "following idiom:\n",
    "\n",
    "```python\n",
    "g = []\n",
    "for j in range(d):\n",
    "    g.append( ... )\n",
    "g = vcat(g)\n",
    "```"
   ]
  },
  {
   "cell_type": "code",
   "execution_count": 14,
   "metadata": {},
   "outputs": [
    {
     "data": {
      "text/plain": [
       "DM([[2.00694, 2.033, 2.067, 2.09306]])"
      ]
     },
     "execution_count": 14,
     "metadata": {},
     "output_type": "execute_result"
    }
   ],
   "source": [
    "t_coll"
   ]
  },
  {
   "cell_type": "code",
   "execution_count": 15,
   "metadata": {},
   "outputs": [],
   "source": [
    "X0 = MX.sym(\"X0\", nx)\n",
    "Xc = MX.sym(\"Xc\", nx, d)\n",
    "\n",
    "g = []\n",
    "for j in range(d):\n",
    "    g.append(dot_Pi(t_coll[j], X0, Xc) - f(t_coll[j], Xc[:, j]))\n",
    "g = cas.vcat(g)\n",
    "\n",
    "assert g.shape == (8, 1)\n"
   ]
  },
  {
   "cell_type": "code",
   "execution_count": 16,
   "metadata": {},
   "outputs": [
    {
     "data": {
      "text/plain": [
       "Function(gf:(X0[2],Xc[2x4])->(g[8]) MXFunction)"
      ]
     },
     "execution_count": 16,
     "metadata": {},
     "output_type": "execute_result"
    }
   ],
   "source": [
    "gf = cas.Function('gf', [X0, Xc], [g], ['X0', 'Xc'], ['g'])\n",
    "gf"
   ]
  },
  {
   "cell_type": "code",
   "execution_count": 17,
   "metadata": {},
   "outputs": [],
   "source": [
    "def evaluate_g(x0=(1, 0.5)):\n",
    "    x0 = cas.vcat(x0)\n",
    "    Xc = cas.horzcat(x0+1, x0+2, x0+4, x0+5)\n",
    "    return gf(x0, Xc)\n",
    "\n",
    "assert_array_almost_equal(\n",
    "    evaluate_g(),\n",
    "    [[107.130], [103.137], [35.726], [16.509], [187.686], [84.003], [108.022], [-76.884]],\n",
    "    decimal=3\n",
    ")"
   ]
  },
  {
   "cell_type": "markdown",
   "metadata": {},
   "source": [
    "## 8. Use a Rootfinder to Find the Helper States $X_c$\n",
    "\n",
    "Finally, use a rootfinder to find the values of helper states Xc. Use `X0` as a parameter (`p`) of the rootfinder. Verify that you have an equal number of unknowns and equations first. Note that the rootfinder expects a column vector of unknowns. You may need to flatten a matrix with `vec(mat)`.\n",
    "\n",
    "Verify that your collocation integrator ends up at `xf = [1.226454824197, 0.6113162319035]`."
   ]
  },
  {
   "cell_type": "code",
   "execution_count": 18,
   "metadata": {},
   "outputs": [],
   "source": [
    "solver = cas.rootfinder('solver', 'newton', {'x': cas.vec(Xc), 'p': X0, 'g': g})\n",
    "\n",
    "def evaluate_solver(t0=2, dt=0.1, x0=(1, 0.5)):\n",
    "    x0 = cas.vcat(x0)\n",
    "    res = solver(x0=cas.repmat(x0, d, 1), p=x0)\n",
    "    Xc = res['x'].reshape((nx, d))\n",
    "    tf = t0 + dt\n",
    "    Y = Pi(tf, x0, Xc)\n",
    "    return Y\n",
    "\n",
    "Y_sol = evaluate_solver()\n",
    "\n",
    "assert_array_almost_equal(Y_sol, [[1.226454824197], [0.6113162319035]], decimal=12)"
   ]
  },
  {
   "cell_type": "markdown",
   "metadata": {},
   "source": [
    "## 9. Verify that the Result is Identical with CasADi’s Built-in Integrators"
   ]
  },
  {
   "cell_type": "code",
   "execution_count": 19,
   "metadata": {},
   "outputs": [
    {
     "name": "stdout",
     "output_type": "stream",
     "text": [
      "[1.22645, 0.611316]\n"
     ]
    }
   ],
   "source": [
    "def evaluate_with_builtin_integrator(t0=2, dt=0.1, x0=(1, 0.5)):\n",
    "\n",
    "    t = MX.sym('t')\n",
    "    x = MX.sym('x', 2)\n",
    "    x1, x2 = x[0], x[1]\n",
    "\n",
    "    # ODE righthand side\n",
    "    rhs = cas.vertcat(\n",
    "        (1 - x2 ** 2) * x1 - x2 + t,\n",
    "        x1\n",
    "    )\n",
    "\n",
    "    # Construct integrator\n",
    "    ode = {'x': x, 't': t, 'ode': rhs}\n",
    "    tf = t0 + dt\n",
    "    options = {\n",
    "        \"number_of_finite_elements\": 1,\n",
    "        \"interpolation_order\": 4,\n",
    "        \"collocation_scheme\": 'legendre'\n",
    "    }\n",
    "    intg = cas.integrator('intg', 'collocation', ode, t0, tf, options)\n",
    "\n",
    "    # Solve initial value problem\n",
    "    res = intg(x0=x0)\n",
    "\n",
    "    return res[\"xf\"]\n",
    "\n",
    "xf_sol = evaluate_with_builtin_integrator()\n",
    "print(xf_sol)\n",
    "assert_array_almost_equal(xf_sol, [[1.226454824197], [0.6113162319035]], decimal=12)"
   ]
  },
  {
   "cell_type": "code",
   "execution_count": 20,
   "metadata": {},
   "outputs": [],
   "source": []
  },
  {
   "cell_type": "code",
   "execution_count": null,
   "metadata": {},
   "outputs": [],
   "source": []
  },
  {
   "cell_type": "code",
   "execution_count": null,
   "metadata": {},
   "outputs": [],
   "source": []
  },
  {
   "cell_type": "code",
   "execution_count": null,
   "metadata": {},
   "outputs": [],
   "source": []
  }
 ],
 "metadata": {
  "kernelspec": {
   "display_name": "casadi",
   "language": "python",
   "name": "python3"
  },
  "language_info": {
   "codemirror_mode": {
    "name": "ipython",
    "version": 3
   },
   "file_extension": ".py",
   "mimetype": "text/x-python",
   "name": "python",
   "nbconvert_exporter": "python",
   "pygments_lexer": "ipython3",
   "version": "3.10.13"
  }
 },
 "nbformat": 4,
 "nbformat_minor": 2
}
