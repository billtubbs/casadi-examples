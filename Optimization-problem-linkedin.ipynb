{
 "cells": [
  {
   "cell_type": "code",
   "execution_count": null,
   "id": "fb943b77-045f-4dfe-990c-d64318d719cb",
   "metadata": {},
   "outputs": [],
   "source": []
  },
  {
   "cell_type": "markdown",
   "id": "01be99f1-ac1b-43f1-9edf-5612efb65cf5",
   "metadata": {},
   "source": [
    "<img src=\"images/optimization_problem.png\">"
   ]
  },
  {
   "cell_type": "code",
   "execution_count": 1,
   "id": "0e52e70e-b328-498e-8a34-13d0eabbbfef",
   "metadata": {},
   "outputs": [
    {
     "name": "stdout",
     "output_type": "stream",
     "text": [
      "\n",
      "******************************************************************************\n",
      "This program contains Ipopt, a library for large-scale nonlinear optimization.\n",
      " Ipopt is released as open source code under the Eclipse Public License (EPL).\n",
      "         For more information visit https://github.com/coin-or/Ipopt\n",
      "******************************************************************************\n",
      "\n",
      "This is Ipopt version 3.14.11, running with linear solver MUMPS 5.4.1.\n",
      "\n",
      "Number of nonzeros in equality constraint Jacobian...:        5\n",
      "Number of nonzeros in inequality constraint Jacobian.:        5\n",
      "Number of nonzeros in Lagrangian Hessian.............:       15\n",
      "\n",
      "Total number of variables............................:        5\n",
      "                     variables with only lower bounds:        0\n",
      "                variables with lower and upper bounds:        0\n",
      "                     variables with only upper bounds:        0\n",
      "Total number of equality constraints.................:        1\n",
      "Total number of inequality constraints...............:        5\n",
      "        inequality constraints with only lower bounds:        5\n",
      "   inequality constraints with lower and upper bounds:        0\n",
      "        inequality constraints with only upper bounds:        0\n",
      "\n",
      "iter    objective    inf_pr   inf_du lg(mu)  ||d||  lg(rg) alpha_du alpha_pr  ls\n",
      "   0  2.2080422e+01 0.00e+00 1.48e+01  -1.0 0.00e+00    -  0.00e+00 0.00e+00   0\n",
      "   1  1.1825754e+01 0.00e+00 2.43e+01  -1.0 5.15e-01    -  8.92e-01 1.00e+00f  1\n",
      "   2  6.7029019e+00 0.00e+00 1.02e+01  -1.0 6.25e-01    -  1.00e+00 1.00e+00f  1\n",
      "   3  4.4709916e+00 0.00e+00 4.34e+00  -1.0 6.51e-01    -  1.00e+00 1.00e+00f  1\n",
      "   4  3.9360837e+00 0.00e+00 1.36e+00  -1.0 2.42e-01    -  1.00e+00 1.00e+00f  1\n",
      "   5  3.8615812e+00 0.00e+00 2.35e-01  -1.0 1.18e-01    -  1.00e+00 1.00e+00f  1\n",
      "   6  3.8586296e+00 8.88e-16 8.17e-03  -1.7 2.98e-02    -  1.00e+00 1.00e+00f  1\n",
      "   7  3.8585931e+00 8.88e-16 1.76e-04  -3.8 2.87e-03    -  1.00e+00 1.00e+00f  1\n",
      "   8  3.8585931e+00 0.00e+00 2.17e-08  -5.7 3.13e-05    -  1.00e+00 1.00e+00h  1\n",
      "   9  3.8585931e+00 0.00e+00 1.24e-12  -8.6 2.22e-07    -  1.00e+00 1.00e+00f  1\n",
      "\n",
      "Number of Iterations....: 9\n",
      "\n",
      "                                   (scaled)                 (unscaled)\n",
      "Objective...............:   3.8585931192473590e+00    3.8585931192473590e+00\n",
      "Dual infeasibility......:   1.2416734307407751e-12    1.2416734307407751e-12\n",
      "Constraint violation....:   0.0000000000000000e+00    0.0000000000000000e+00\n",
      "Variable bound violation:   0.0000000000000000e+00    0.0000000000000000e+00\n",
      "Complementarity.........:   2.5066979778562230e-09    2.5066979778562230e-09\n",
      "Overall NLP error.......:   2.5066979778562230e-09    2.5066979778562230e-09\n",
      "\n",
      "\n",
      "Number of objective function evaluations             = 10\n",
      "Number of objective gradient evaluations             = 10\n",
      "Number of equality constraint evaluations            = 10\n",
      "Number of inequality constraint evaluations          = 10\n",
      "Number of equality constraint Jacobian evaluations   = 10\n",
      "Number of inequality constraint Jacobian evaluations = 10\n",
      "Number of Lagrangian Hessian evaluations             = 9\n",
      "Total seconds in IPOPT                               = 0.010\n",
      "\n",
      "EXIT: Optimal Solution Found.\n",
      "      solver  :   t_proc      (avg)   t_wall      (avg)    n_eval\n",
      "       nlp_f  |  87.00us (  8.70us)  26.87us (  2.69us)        10\n",
      "       nlp_g  | 121.00us ( 12.10us)  32.81us (  3.28us)        10\n",
      "  nlp_grad_f  | 190.00us ( 17.27us)  62.28us (  5.66us)        11\n",
      "  nlp_hess_l  | 463.00us ( 51.44us) 150.64us ( 16.74us)         9\n",
      "   nlp_jac_g  | 120.00us ( 10.91us)  41.26us (  3.75us)        11\n",
      "       total  |  30.28ms ( 30.28ms)  10.31ms ( 10.31ms)         1\n"
     ]
    },
    {
     "data": {
      "text/plain": [
       "{'x': 1.4743753734211582,\n",
       " 'y': 1.215213557586721,\n",
       " 'z': 1.0019491365172988,\n",
       " 'u': 0.7890995882750449,\n",
       " 'v': 0.5193623441997769}"
      ]
     },
     "execution_count": 1,
     "metadata": {},
     "output_type": "execute_result"
    }
   ],
   "source": [
    "import numpy as np\n",
    "import casadi as cas\n",
    "\n",
    "opti = cas.Opti()\n",
    "x = opti.variable()\n",
    "y = opti.variable()\n",
    "z = opti.variable()\n",
    "u = opti.variable()\n",
    "v = opti.variable()\n",
    "\n",
    "opti.subject_to(x >= 0)\n",
    "opti.subject_to(y >= 0)\n",
    "opti.subject_to(z >= 0)\n",
    "opti.subject_to(u >= 0)\n",
    "opti.subject_to(v >= 0)\n",
    "\n",
    "cost = 1 / x + 1 / (x * y) + 1 / (x * y * z) + 1 / (x * y * z * u) + 1 / (x * y * z * u * v)\n",
    "opti.minimize(cost)\n",
    "opti.subject_to(x + y + z + u + v == 5)\n",
    "\n",
    "# Random initial values\n",
    "initial_values = np.random.dirichlet([1] * 5) * 5\n",
    "\n",
    "opti.set_initial(x, initial_values[0])\n",
    "opti.set_initial(y, initial_values[1])\n",
    "opti.set_initial(z, initial_values[2])\n",
    "opti.set_initial(u, initial_values[3])\n",
    "opti.set_initial(v, initial_values[4])\n",
    "\n",
    "opti.solver('ipopt')\n",
    "sol = opti.solve()\n",
    "\n",
    "sol_values = {'x': sol.value(x), 'y': sol.value(y), 'z': sol.value(z), 'u': sol.value(u), 'v': sol.value(v)}\n",
    "sol_values"
   ]
  },
  {
   "cell_type": "code",
   "execution_count": 2,
   "id": "2f6ccef3-1ce7-4c3c-aa60-22bb506dc39d",
   "metadata": {},
   "outputs": [],
   "source": [
    "# Compare to solution from linkedin post\n",
    "#  - https://colab.research.google.com/drive/1AbEspNMItylyqF8xmnzM6DTEajb4F_fS?usp=sharing\n",
    "assert np.allclose(\n",
    "    np.fromiter(sol_values.values(), dtype=np.float64),\n",
    "    [1.474362874447831, 1.2152213290254503, 1.0019567105705354, 0.7890961106888514, 0.5193629752673317]\n",
    ")"
   ]
  },
  {
   "cell_type": "code",
   "execution_count": null,
   "id": "418c74d5-7ba3-46ac-8aaf-908a49bb1471",
   "metadata": {},
   "outputs": [],
   "source": []
  },
  {
   "cell_type": "code",
   "execution_count": null,
   "id": "f39a7136-7a50-4658-a630-4880b452f1a5",
   "metadata": {},
   "outputs": [],
   "source": []
  },
  {
   "cell_type": "code",
   "execution_count": null,
   "id": "bc736960-9aeb-4329-9714-a5a6c5a2f17f",
   "metadata": {},
   "outputs": [],
   "source": []
  }
 ],
 "metadata": {
  "kernelspec": {
   "display_name": "Python (casadi)",
   "language": "python",
   "name": "casadi"
  },
  "language_info": {
   "codemirror_mode": {
    "name": "ipython",
    "version": 3
   },
   "file_extension": ".py",
   "mimetype": "text/x-python",
   "name": "python",
   "nbconvert_exporter": "python",
   "pygments_lexer": "ipython3",
   "version": "3.11.8"
  }
 },
 "nbformat": 4,
 "nbformat_minor": 5
}
