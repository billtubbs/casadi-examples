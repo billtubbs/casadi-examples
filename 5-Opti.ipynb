{
 "cells": [
  {
   "cell_type": "markdown",
   "id": "247fb311-dabf-41f1-a441-4ea2917bbb1f",
   "metadata": {},
   "source": [
    "# CasADi's Opti Tool"
   ]
  },
  {
   "cell_type": "code",
   "execution_count": 1,
   "id": "f943ad8b-3fbb-4b45-bc66-91331e636a10",
   "metadata": {},
   "outputs": [],
   "source": [
    "import os\n",
    "import numpy as np\n",
    "from numpy.testing import assert_array_equal, assert_array_almost_equal\n",
    "import matplotlib.pyplot as plt\n",
    "from casadi import (\n",
    "    Opti,\n",
    "    diff, sum1, sum2,\n",
    "    jacobian, hessian\n",
    ")"
   ]
  },
  {
   "cell_type": "markdown",
   "id": "4cb7cc71-72b4-45ef-ad01-f875580b631f",
   "metadata": {},
   "source": [
    "## 1. Regular Springs"
   ]
  },
  {
   "cell_type": "markdown",
   "id": "c6a85843-b35a-4d50-ab55-53a8d0ce8620",
   "metadata": {},
   "source": [
    "### 1.1. Find the equilibrium position of the hanging chain"
   ]
  },
  {
   "cell_type": "code",
   "execution_count": 2,
   "id": "ddb10d70-a694-4405-8000-62755a2d7255",
   "metadata": {},
   "outputs": [],
   "source": [
    "N = 25  # number of point masses"
   ]
  },
  {
   "cell_type": "code",
   "execution_count": 3,
   "id": "f0d9541f-09e2-4960-b1ff-3182916317ec",
   "metadata": {},
   "outputs": [],
   "source": [
    "# Constants\n",
    "m = 40 / N # mass [kg]\n",
    "D = 70 * N # spring constant [J/m^2]\n",
    "g = 9.81 # gravitational constant [m/s^2]\n",
    "L = 5 / N  # reference length [m]"
   ]
  },
  {
   "cell_type": "code",
   "execution_count": 4,
   "id": "e3c7b115-7f77-49a1-aa2f-b4c67d20db9f",
   "metadata": {},
   "outputs": [
    {
     "data": {
      "text/plain": [
       "((25, 1), (25, 1))"
      ]
     },
     "execution_count": 4,
     "metadata": {},
     "output_type": "execute_result"
    }
   ],
   "source": [
    "opti = Opti()\n",
    "\n",
    "x = opti.variable(N)\n",
    "y = opti.variable(N)\n",
    "\n",
    "x.shape, y.shape"
   ]
  },
  {
   "cell_type": "code",
   "execution_count": 5,
   "id": "a4c7c7f5-1701-4383-a193-3f0d05110b73",
   "metadata": {},
   "outputs": [
    {
     "data": {
      "text/plain": [
       "(1, 1)"
      ]
     },
     "execution_count": 5,
     "metadata": {},
     "output_type": "execute_result"
    }
   ],
   "source": [
    "spring_potential = D * sum1(diff(x) ** 2 + diff(y) ** 2) / 2.\n",
    "gravitional_potential = m * g * sum1(y)\n",
    "V = spring_potential + gravitional_potential\n",
    "assert V.shape == (1, 1)\n",
    "opti.f.shape"
   ]
  },
  {
   "cell_type": "code",
   "execution_count": 6,
   "id": "0ce357e0-d2bb-4f93-a7c3-0d0998b0974c",
   "metadata": {},
   "outputs": [
    {
     "data": {
      "text/plain": [
       "(50, 1)"
      ]
     },
     "execution_count": 6,
     "metadata": {},
     "output_type": "execute_result"
    }
   ],
   "source": [
    "opti.minimize(V)\n",
    "opti.x.shape"
   ]
  },
  {
   "cell_type": "code",
   "execution_count": 7,
   "id": "99d6228b-d4ef-4b78-b483-397a45746e7a",
   "metadata": {},
   "outputs": [
    {
     "data": {
      "text/plain": [
       "(4, 1)"
      ]
     },
     "execution_count": 7,
     "metadata": {},
     "output_type": "execute_result"
    }
   ],
   "source": [
    "# Add constraints\n",
    "opti.subject_to(x[0] == -2)\n",
    "opti.subject_to(y[0] == 0)\n",
    "opti.subject_to(x[-1] == 2)\n",
    "opti.subject_to(y[-1] == 0)\n",
    "opti.g.shape"
   ]
  },
  {
   "cell_type": "code",
   "execution_count": 8,
   "id": "711f9f42-2f94-46ce-9c04-4a21c712a166",
   "metadata": {},
   "outputs": [
    {
     "name": "stdout",
     "output_type": "stream",
     "text": [
      "\n",
      "******************************************************************************\n",
      "This program contains Ipopt, a library for large-scale nonlinear optimization.\n",
      " Ipopt is released as open source code under the Eclipse Public License (EPL).\n",
      "         For more information visit https://github.com/coin-or/Ipopt\n",
      "******************************************************************************\n",
      "\n",
      "This is Ipopt version 3.14.11, running with linear solver MUMPS 5.4.1.\n",
      "\n",
      "Number of nonzeros in equality constraint Jacobian...:        4\n",
      "Number of nonzeros in inequality constraint Jacobian.:        0\n",
      "Number of nonzeros in Lagrangian Hessian.............:       98\n",
      "\n",
      "Total number of variables............................:       50\n",
      "                     variables with only lower bounds:        0\n",
      "                variables with lower and upper bounds:        0\n",
      "                     variables with only upper bounds:        0\n",
      "Total number of equality constraints.................:        4\n",
      "Total number of inequality constraints...............:        0\n",
      "        inequality constraints with only lower bounds:        0\n",
      "   inequality constraints with lower and upper bounds:        0\n",
      "        inequality constraints with only upper bounds:        0\n",
      "\n",
      "iter    objective    inf_pr   inf_du lg(mu)  ||d||  lg(rg) alpha_du alpha_pr  ls\n",
      "   0  0.0000000e+00 2.00e+00 1.57e+01  -1.0 0.00e+00    -  0.00e+00 0.00e+00   0\n",
      "   1  5.0238503e+02 1.54e-33 7.96e-13  -1.0 2.00e+00    -  1.00e+00 1.00e+00h  1\n",
      "\n",
      "Number of Iterations....: 1\n",
      "\n",
      "                                   (scaled)                 (unscaled)\n",
      "Objective...............:   5.0238502521904752e+02    5.0238502521904752e+02\n",
      "Dual infeasibility......:   7.9580786405131221e-13    7.9580786405131221e-13\n",
      "Constraint violation....:   1.5407439555097887e-33    1.5407439555097887e-33\n",
      "Variable bound violation:   0.0000000000000000e+00    0.0000000000000000e+00\n",
      "Complementarity.........:   0.0000000000000000e+00    0.0000000000000000e+00\n",
      "Overall NLP error.......:   3.2623990054030290e-13    7.9580786405131221e-13\n",
      "\n",
      "\n",
      "Number of objective function evaluations             = 2\n",
      "Number of objective gradient evaluations             = 2\n",
      "Number of equality constraint evaluations            = 2\n",
      "Number of inequality constraint evaluations          = 0\n",
      "Number of equality constraint Jacobian evaluations   = 2\n",
      "Number of inequality constraint Jacobian evaluations = 0\n",
      "Number of Lagrangian Hessian evaluations             = 1\n",
      "Total seconds in IPOPT                               = 0.006\n",
      "\n",
      "EXIT: Optimal Solution Found.\n",
      "      solver  :   t_proc      (avg)   t_wall      (avg)    n_eval\n",
      "       nlp_f  |  14.00us (  7.00us)  16.22us (  8.11us)         2\n",
      "       nlp_g  |  46.00us ( 23.00us)  31.75us ( 15.87us)         2\n",
      "  nlp_grad_f  |  42.00us ( 14.00us)  39.11us ( 13.04us)         3\n",
      "  nlp_hess_l  |  35.00us ( 35.00us)  30.92us ( 30.92us)         1\n",
      "   nlp_jac_g  |  13.00us (  4.33us)  12.69us (  4.23us)         3\n",
      "       total  |   5.69ms (  5.69ms)   6.17ms (  6.17ms)         1\n"
     ]
    }
   ],
   "source": [
    "opti.solver('ipopt')\n",
    "sol = opti.solve()"
   ]
  },
  {
   "cell_type": "code",
   "execution_count": 9,
   "id": "55feacdd-98f2-4f2f-a433-db10cc2141e6",
   "metadata": {},
   "outputs": [
    {
     "data": {
      "image/png": "[encoded data removed]",
      "text/plain": [
       "<Figure size 640x480 with 1 Axes>"
      ]
     },
     "metadata": {},
     "output_type": "display_data"
    }
   ],
   "source": [
    "fig, ax = plt.subplots()\n",
    "ax.plot(sol.value(x), sol.value(y), '-o')\n",
    "ax.set_aspect('equal')\n",
    "ax.set_xlabel('$x$')\n",
    "ax.set_ylabel('$y$')\n",
    "ax.grid()\n",
    "plt.show()"
   ]
  },
  {
   "cell_type": "code",
   "execution_count": 10,
   "id": "e361934c-bda3-4f0b-bb8a-51eb35360e87",
   "metadata": {},
   "outputs": [
    {
     "data": {
      "text/plain": [
       "((23, 1), (23, 1))"
      ]
     },
     "execution_count": 10,
     "metadata": {},
     "output_type": "execute_result"
    }
   ],
   "source": [
    "# Alternative without constrainst\n",
    "opti2 = Opti()\n",
    "\n",
    "x2 = opti2.variable(N - 2)\n",
    "y2 = opti2.variable(N - 2)\n",
    "\n",
    "x2.shape, y2.shape"
   ]
  },
  {
   "cell_type": "code",
   "execution_count": 11,
   "id": "ae8a9806-c061-4d7a-85ea-765903cff42d",
   "metadata": {},
   "outputs": [],
   "source": [
    "spring_potential = D * (\n",
    "    (x2[0] - -2.) ** 2\n",
    "    + y2[0] ** 2\n",
    "    + (x2[-1] - 2.) ** 2\n",
    "    + y2[-1] ** 2 \n",
    "    + sum1((x2[1:] - x2[:-1]) ** 2 + (y2[1:] - y2[:-1]) ** 2)\n",
    ") / 2.\n",
    "gravitional_potential = m * g * sum1(y2)\n",
    "V2 = spring_potential + gravitional_potential\n",
    "assert V2.shape == (1, 1)"
   ]
  },
  {
   "cell_type": "code",
   "execution_count": 12,
   "id": "f95d37d4-f823-4884-ae2f-fa1e29c57bcb",
   "metadata": {},
   "outputs": [
    {
     "name": "stdout",
     "output_type": "stream",
     "text": [
      "This is Ipopt version 3.14.11, running with linear solver MUMPS 5.4.1.\n",
      "\n",
      "Number of nonzeros in equality constraint Jacobian...:        0\n",
      "Number of nonzeros in inequality constraint Jacobian.:        0\n",
      "Number of nonzeros in Lagrangian Hessian.............:       90\n",
      "\n",
      "Total number of variables............................:       46\n",
      "                     variables with only lower bounds:        0\n",
      "                variables with lower and upper bounds:        0\n",
      "                     variables with only upper bounds:        0\n",
      "Total number of equality constraints.................:        0\n",
      "Total number of inequality constraints...............:        0\n",
      "        inequality constraints with only lower bounds:        0\n",
      "   inequality constraints with lower and upper bounds:        0\n",
      "        inequality constraints with only upper bounds:        0\n",
      "\n",
      "iter    objective    inf_pr   inf_du lg(mu)  ||d||  lg(rg) alpha_du alpha_pr  ls\n",
      "   0  7.0000000e+03 0.00e+00 1.00e+02  -1.0 0.00e+00    -  0.00e+00 0.00e+00   0\n",
      "   1  5.0238503e+02 0.00e+00 1.14e-14  -1.0 1.83e+00    -  1.00e+00 1.00e+00f  1\n",
      "\n",
      "Number of Iterations....: 1\n",
      "\n",
      "                                   (scaled)                 (unscaled)\n",
      "Objective...............:   1.4353857863401357e+01    5.0238502521904752e+02\n",
      "Dual infeasibility......:   1.1368683772161602e-14    3.9790393202565605e-13\n",
      "Constraint violation....:   0.0000000000000000e+00    0.0000000000000000e+00\n",
      "Variable bound violation:   0.0000000000000000e+00    0.0000000000000000e+00\n",
      "Complementarity.........:   0.0000000000000000e+00    0.0000000000000000e+00\n",
      "Overall NLP error.......:   1.1368683772161602e-14    3.9790393202565605e-13\n",
      "\n",
      "\n",
      "Number of objective function evaluations             = 2\n",
      "Number of objective gradient evaluations             = 2\n",
      "Number of equality constraint evaluations            = 0\n",
      "Number of inequality constraint evaluations          = 0\n",
      "Number of equality constraint Jacobian evaluations   = 0\n",
      "Number of inequality constraint Jacobian evaluations = 0\n",
      "Number of Lagrangian Hessian evaluations             = 1\n",
      "Total seconds in IPOPT                               = 0.001\n",
      "\n",
      "EXIT: Optimal Solution Found.\n",
      "      solver  :   t_proc      (avg)   t_wall      (avg)    n_eval\n",
      "       nlp_f  |  15.00us (  7.50us)  11.85us (  5.93us)         2\n",
      "  nlp_grad_f  |  34.00us ( 11.33us)  30.02us ( 10.01us)         3\n",
      "  nlp_hess_l  |  15.00us ( 15.00us)  14.09us ( 14.09us)         1\n",
      "       total  |   1.58ms (  1.58ms)   1.53ms (  1.53ms)         1\n"
     ]
    }
   ],
   "source": [
    "opti2.minimize(V2)\n",
    "opti2.solver('ipopt')\n",
    "sol2 = opti2.solve()"
   ]
  },
  {
   "cell_type": "code",
   "execution_count": 13,
   "id": "f5441911-6b7b-43ab-a156-faea4feac85c",
   "metadata": {},
   "outputs": [
    {
     "data": {
      "image/png": "[encoded data removed]",
      "text/plain": [
       "<Figure size 640x480 with 1 Axes>"
      ]
     },
     "metadata": {},
     "output_type": "display_data"
    }
   ],
   "source": [
    "fig, ax = plt.subplots()\n",
    "ax.plot(sol2.value(x2), sol2.value(y2), '-o')\n",
    "ax.set_aspect('equal')\n",
    "ax.set_xlabel('$x$')\n",
    "ax.set_ylabel('$y$')\n",
    "ax.grid()\n",
    "plt.show()"
   ]
  },
  {
   "cell_type": "code",
   "execution_count": 14,
   "id": "d338a17e-60fd-4a36-b6c8-dc8b1b489929",
   "metadata": {},
   "outputs": [],
   "source": [
    "assert max(np.abs(np.array(sol.value(x[1:-1])) - np.array(sol2.value(x2)))) < 1e-9\n",
    "assert max(np.abs(np.array(sol.value(y[1:-1])) - np.array(sol2.value(y2)))) < 1e-8"
   ]
  },
  {
   "cell_type": "markdown",
   "id": "d86ce605-044a-4fab-a511-05134381e237",
   "metadata": {},
   "source": [
    "### 1.2. Inspect the structure of the Hessian"
   ]
  },
  {
   "cell_type": "code",
   "execution_count": 15,
   "id": "39075eac-d65c-4ac6-84c7-67bdaf9b57f2",
   "metadata": {},
   "outputs": [
    {
     "data": {
      "text/plain": [
       "MX(vertcat(opti0_x_1, opti0_x_2))"
      ]
     },
     "execution_count": 15,
     "metadata": {},
     "output_type": "execute_result"
    }
   ],
   "source": [
    "opti.x"
   ]
  },
  {
   "cell_type": "code",
   "execution_count": 16,
   "id": "ebc4adca-5552-4cfe-9ea5-02db3aa55b01",
   "metadata": {},
   "outputs": [
    {
     "name": "stdout",
     "output_type": "stream",
     "text": [
      "**................................................\n",
      "***...............................................\n",
      ".***..............................................\n",
      "..***.............................................\n",
      "...***............................................\n",
      "....***...........................................\n",
      ".....***..........................................\n",
      "......***.........................................\n",
      ".......***........................................\n",
      "........***.......................................\n",
      ".........***......................................\n",
      "..........***.....................................\n",
      "...........***....................................\n",
      "............***...................................\n",
      ".............***..................................\n",
      "..............***.................................\n",
      "...............***................................\n",
      "................***...............................\n",
      ".................***..............................\n",
      "..................***.............................\n",
      "...................***............................\n",
      "....................***...........................\n",
      ".....................***..........................\n",
      "......................***.........................\n",
      ".......................**.........................\n",
      ".........................**.......................\n",
      ".........................***......................\n",
      "..........................***.....................\n",
      "...........................***....................\n",
      "............................***...................\n",
      ".............................***..................\n",
      "..............................***.................\n",
      "...............................***................\n",
      "................................***...............\n",
      ".................................***..............\n",
      "..................................***.............\n",
      "...................................***............\n",
      "....................................***...........\n",
      ".....................................***..........\n",
      "......................................***.........\n",
      ".......................................***........\n",
      "........................................***.......\n",
      ".........................................***......\n",
      "..........................................***.....\n",
      "...........................................***....\n",
      "............................................***...\n",
      ".............................................***..\n",
      "..............................................***.\n",
      "...............................................***\n",
      "................................................**\n"
     ]
    }
   ],
   "source": [
    "hessian(opti.f, opti.x)[0].sparsity().spy()"
   ]
  },
  {
   "cell_type": "markdown",
   "id": "80e6d0b2-cf1a-40b6-98f2-684793ee00ea",
   "metadata": {},
   "source": [
    "### 1.3. Inspect the value of the Lagrange gradient at the solution"
   ]
  },
  {
   "cell_type": "code",
   "execution_count": 17,
   "id": "5f39dfff-f3a5-462e-86c7-6feb2a264054",
   "metadata": {},
   "outputs": [
    {
     "data": {
      "text/plain": [
       "(4, 1)"
      ]
     },
     "execution_count": 17,
     "metadata": {},
     "output_type": "execute_result"
    }
   ],
   "source": [
    "opti.lam_g.shape"
   ]
  },
  {
   "cell_type": "code",
   "execution_count": 18,
   "id": "5298e430-9e77-47c0-b37a-b8411afea4e0",
   "metadata": {},
   "outputs": [
    {
     "data": {
      "text/plain": [
       "(1, 1)"
      ]
     },
     "execution_count": 18,
     "metadata": {},
     "output_type": "execute_result"
    }
   ],
   "source": [
    "lag = opti.f + opti.lam_g.T @ opti.g\n",
    "lag.shape"
   ]
  },
  {
   "cell_type": "code",
   "execution_count": 19,
   "id": "f6af17da-9b04-4493-892a-6a02c753436a",
   "metadata": {},
   "outputs": [
    {
     "data": {
      "text/plain": [
       "array([ 2.27373675e-13, -3.97903932e-13,  0.00000000e+00,  0.00000000e+00,\n",
       "        3.97903932e-13,  0.00000000e+00, -3.97903932e-13,  3.97903932e-13,\n",
       "       -3.97903932e-13,  1.70530257e-13,  5.68434189e-14, -5.68434189e-14,\n",
       "        5.68434189e-14, -1.70530257e-13,  2.27373675e-13, -2.84217094e-13,\n",
       "        1.70530257e-13, -3.41060513e-13,  5.68434189e-13, -3.97903932e-13,\n",
       "       -3.97903932e-13,  7.95807864e-13, -3.97903932e-13,  0.00000000e+00,\n",
       "        5.68434189e-14,  0.00000000e+00,  2.84217094e-14, -2.84217094e-14,\n",
       "        2.84217094e-14, -5.68434189e-14, -8.52651283e-14, -7.10542736e-14,\n",
       "        2.27373675e-13, -7.10542736e-14,  1.20792265e-13, -7.10542736e-14,\n",
       "       -7.10542736e-14,  1.24344979e-13, -7.10542736e-14,  1.24344979e-13,\n",
       "       -6.39488462e-14, -7.81597009e-14,  2.84217094e-14,  2.84217094e-14,\n",
       "        1.42108547e-14,  4.26325641e-14, -1.42108547e-13,  5.68434189e-14,\n",
       "        2.84217094e-14, -2.84217094e-14])"
      ]
     },
     "execution_count": 19,
     "metadata": {},
     "output_type": "execute_result"
    }
   ],
   "source": [
    "grad_lag = sol.value(jacobian(lag, opti.x))\n",
    "grad_lag"
   ]
  },
  {
   "cell_type": "code",
   "execution_count": 20,
   "id": "5fa09bdf-1a81-4e28-bdbe-c2d48ea693a9",
   "metadata": {},
   "outputs": [
    {
     "data": {
      "text/plain": [
       "1.6727132820544395e-12"
      ]
     },
     "execution_count": 20,
     "metadata": {},
     "output_type": "execute_result"
    }
   ],
   "source": [
    "np.linalg.norm(grad_lag)"
   ]
  },
  {
   "cell_type": "code",
   "execution_count": null,
   "id": "ba64d743-c7e9-4511-a022-b5b22ec961b4",
   "metadata": {},
   "outputs": [],
   "source": []
  },
  {
   "cell_type": "code",
   "execution_count": null,
   "id": "6349ee47-13cd-41e2-8812-7fef6c2941cc",
   "metadata": {},
   "outputs": [],
   "source": []
  },
  {
   "cell_type": "code",
   "execution_count": null,
   "id": "a2763461-0a0f-4173-9b63-481911c6cdbc",
   "metadata": {},
   "outputs": [],
   "source": []
  },
  {
   "cell_type": "code",
   "execution_count": null,
   "id": "a9e93d14-d00c-4956-9729-5412c5f90ff1",
   "metadata": {},
   "outputs": [],
   "source": []
  }
 ],
 "metadata": {
  "kernelspec": {
   "display_name": "Python (casadi)",
   "language": "python",
   "name": "casadi"
  },
  "language_info": {
   "codemirror_mode": {
    "name": "ipython",
    "version": 3
   },
   "file_extension": ".py",
   "mimetype": "text/x-python",
   "name": "python",
   "nbconvert_exporter": "python",
   "pygments_lexer": "ipython3",
   "version": "3.10.13"
  }
 },
 "nbformat": 4,
 "nbformat_minor": 5
}
