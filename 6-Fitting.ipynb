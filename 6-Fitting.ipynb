{
 "cells": [
  {
   "cell_type": "markdown",
   "id": "247fb311-dabf-41f1-a441-4ea2917bbb1f",
   "metadata": {},
   "source": [
    "# Fitting"
   ]
  },
  {
   "cell_type": "code",
   "execution_count": 1,
   "id": "f943ad8b-3fbb-4b45-bc66-91331e636a10",
   "metadata": {},
   "outputs": [],
   "source": [
    "import os\n",
    "import numpy as np\n",
    "from numpy.testing import assert_array_equal, assert_array_almost_equal\n",
    "import matplotlib.pyplot as plt\n",
    "from casadi import (\n",
    "    Opti, vertcat, horzcat, sum2,\n",
    "    gradient, jacobian, hessian\n",
    ")"
   ]
  },
  {
   "cell_type": "code",
   "execution_count": 2,
   "id": "79e68b50-2ea8-4980-aeb3-b45831bc9f39",
   "metadata": {},
   "outputs": [],
   "source": [
    "data_dir = 'data'"
   ]
  },
  {
   "cell_type": "markdown",
   "id": "b113702f-3485-4dae-9b8a-a9a87ef45c73",
   "metadata": {},
   "source": [
    "## Predator-Prey System Model"
   ]
  },
  {
   "cell_type": "markdown",
   "id": "6957e795-d5f9-423b-a59f-cc8d20edd776",
   "metadata": {},
   "source": [
    "$$x_{k+1} = (a x_k - \\alpha x_k y_k) / (1 + \\gamma x_k)$$ \n",
    "$$y_{k+1} = (b y_k - \\beta x_k y_k) / (1 + \\delta y_k)$$ \n",
    "\n",
    "Unknown parameters:\n",
    "\n",
    "$$\n",
    "p = \\left[\n",
    "\\begin{matrix}\n",
    "    a & b & \\alpha & \\beta & \\gamma & \\delta\n",
    "\\end{matrix} \n",
    "\\right]^T$$\n"
   ]
  },
  {
   "cell_type": "markdown",
   "id": "4cb7cc71-72b4-45ef-ad01-f875580b631f",
   "metadata": {},
   "source": [
    "## 1. Alternative Formulations"
   ]
  },
  {
   "cell_type": "markdown",
   "id": "43bbaf67-ecbd-46f2-a530-08bd65e33f4b",
   "metadata": {},
   "source": [
    "### 1.1. Simulate the estimated population dynamics without CasADi"
   ]
  },
  {
   "cell_type": "code",
   "execution_count": 3,
   "id": "3884b0b9-7bf4-4c89-a213-6a21d40db973",
   "metadata": {},
   "outputs": [
    {
     "name": "stdout",
     "output_type": "stream",
     "text": [
      "  0: (10.0000, 0.1000)\n",
      "  1: (11.5410, 0.1209)\n",
      "  2: (12.9171, 0.1501)\n",
      "  3: (14.0516, 0.1910)\n",
      "  4: (14.8979, 0.2476)\n",
      "  5: (15.4339, 0.3254)\n",
      "  6: (15.6513, 0.4311)\n",
      "  7: (15.5445, 0.5725)\n",
      "  8: (15.1051, 0.7578)\n",
      "  9: (14.3225, 0.9938)\n",
      " 10: (13.1929, 1.2829)\n"
     ]
    }
   ],
   "source": [
    "def state_transition(z, a, b, alpha, beta, gamma, delta):\n",
    "    xk, yk = z[0], z[1]\n",
    "    xkp1 = (a * xk - alpha * xk * yk) / (1 + gamma * xk)\n",
    "    ykp1 = (b * yk + beta * xk * yk) / (1 + delta * yk)\n",
    "    return xkp1, ykp1\n",
    "\n",
    "p = [1.43, 0.99, 0.22, 0.022, 0.022, 0.011]\n",
    "xk, yk = [10, 0.1]\n",
    "print(f\"{0:3d}: ({xk:.4f}, {yk:.4f})\")\n",
    "N = 10\n",
    "z_predicted = [(xk, yk)]\n",
    "for k in range(1, N+1):\n",
    "    xk, yk = state_transition((xk, yk), *p)\n",
    "    z_predicted.append((xk, yk))\n",
    "    print(f\"{k:3d}: ({xk:.4f}, {yk:.4f})\")\n",
    "z_predicted = np.array(z_predicted)"
   ]
  },
  {
   "cell_type": "code",
   "execution_count": 4,
   "id": "28461ed2-470a-4f03-b758-eb4e1cac993d",
   "metadata": {},
   "outputs": [
    {
     "data": {
      "image/png": "[encoded data removed]",
      "text/plain": [
       "<Figure size 640x480 with 1 Axes>"
      ]
     },
     "metadata": {},
     "output_type": "display_data"
    }
   ],
   "source": [
    "plt.plot(z_predicted[:, 0], z_predicted[:, 1], marker='o')\n",
    "plt.xlabel('$x_k$')\n",
    "plt.ylabel('$y_k$')\n",
    "plt.grid()"
   ]
  },
  {
   "cell_type": "code",
   "execution_count": 5,
   "id": "1b81d5f7-9b5f-48e2-a32b-fc9aaee62f41",
   "metadata": {},
   "outputs": [],
   "source": [
    "assert_array_almost_equal(np.array([xk, yk]), [13.1929, 1.2829], decimal=4)"
   ]
  },
  {
   "cell_type": "markdown",
   "id": "d8c5d470-3555-4182-8841-41f458816ded",
   "metadata": {},
   "source": [
    "### 1.2. Compute sum-of-squared-deviations"
   ]
  },
  {
   "cell_type": "code",
   "execution_count": 6,
   "id": "348bbcba-ecb5-49d8-aeb6-4e148f20e72e",
   "metadata": {},
   "outputs": [
    {
     "data": {
      "text/plain": [
       "(101, 2)"
      ]
     },
     "execution_count": 6,
     "metadata": {},
     "output_type": "execute_result"
    }
   ],
   "source": [
    "filename = 'data.mat'\n",
    "z_data = np.loadtxt(os.path.join(data_dir, filename))\n",
    "z_data.shape"
   ]
  },
  {
   "cell_type": "code",
   "execution_count": 7,
   "id": "88c6c4a0-c2a1-42e7-8709-6f94b62850b4",
   "metadata": {},
   "outputs": [
    {
     "data": {
      "text/plain": [
       "array([[-0.87431694, -0.01097694],\n",
       "       [-1.6817023 , -0.02793707],\n",
       "       [-2.34973866, -0.05371554],\n",
       "       [-2.83088477, -0.09214206],\n",
       "       [-3.09893528, -0.14823668],\n",
       "       [-3.13951539, -0.22829839],\n",
       "       [-2.94064131, -0.33971614],\n",
       "       [-2.48754172, -0.49022574],\n",
       "       [-1.76403134, -0.68624828],\n",
       "       [-0.7615959 , -0.93001532]])"
      ]
     },
     "execution_count": 7,
     "metadata": {},
     "output_type": "execute_result"
    }
   ],
   "source": [
    "errors = z_data[1:11, :] - z_predicted[1:11, :]\n",
    "errors"
   ]
  },
  {
   "cell_type": "code",
   "execution_count": 8,
   "id": "4cc96b9c-df3e-40d2-8514-6cca216507f5",
   "metadata": {},
   "outputs": [
    {
     "data": {
      "text/plain": [
       "56.892724199822695"
      ]
     },
     "execution_count": 8,
     "metadata": {},
     "output_type": "execute_result"
    }
   ],
   "source": [
    "sse = np.sum((errors) ** 2)\n",
    "sse"
   ]
  },
  {
   "cell_type": "code",
   "execution_count": 9,
   "id": "78975a0f-7cdc-4f95-b04b-697a55f6646e",
   "metadata": {},
   "outputs": [],
   "source": [
    "assert round(sse, 3) == 56.893"
   ]
  },
  {
   "cell_type": "markdown",
   "id": "bad6b11c-964b-409a-beb0-c5e16777b231",
   "metadata": {},
   "source": [
    "### 1.3. Fit parameters"
   ]
  },
  {
   "cell_type": "code",
   "execution_count": 11,
   "id": "4ad7f75e-3405-436f-9f75-7d0ad7dc7a3c",
   "metadata": {},
   "outputs": [
    {
     "data": {
      "text/plain": [
       "(1, 1)"
      ]
     },
     "execution_count": 11,
     "metadata": {},
     "output_type": "execute_result"
    }
   ],
   "source": [
    "opti = Opti()\n",
    "\n",
    "N = 100\n",
    "a = opti.variable()\n",
    "b = opti.variable()\n",
    "alpha = opti.variable() \n",
    "beta = opti.variable()\n",
    "gamma = opti.variable()\n",
    "delta = opti.variable()\n",
    "\n",
    "xk, yk = 10, 0.1\n",
    "\n",
    "# Construct objective function and add constraints\n",
    "f = 0\n",
    "for k in range(1, N + 1):\n",
    "    xkp1, ykp1 = state_transition(vertcat(xk, yk), a, b, alpha, beta, gamma, delta)\n",
    "    f += sum2((xkp1 - z_data[k, 0]) ** 2 + (ykp1 - z_data[k, 1]) ** 2)\n",
    "    xk, yk = xkp1, ykp1\n",
    "\n",
    "f.shape"
   ]
  },
  {
   "cell_type": "code",
   "execution_count": 12,
   "id": "636b8c96-7ee0-46fe-b502-7f33d953f171",
   "metadata": {},
   "outputs": [
    {
     "name": "stdout",
     "output_type": "stream",
     "text": [
      "\n",
      "******************************************************************************\n",
      "This program contains Ipopt, a library for large-scale nonlinear optimization.\n",
      " Ipopt is released as open source code under the Eclipse Public License (EPL).\n",
      "         For more information visit https://github.com/coin-or/Ipopt\n",
      "******************************************************************************\n",
      "\n",
      "This is Ipopt version 3.14.11, running with linear solver MUMPS 5.4.1.\n",
      "\n",
      "Number of nonzeros in equality constraint Jacobian...:        0\n",
      "Number of nonzeros in inequality constraint Jacobian.:        0\n",
      "Number of nonzeros in Lagrangian Hessian.............:       21\n",
      "\n",
      "Total number of variables............................:        6\n",
      "                     variables with only lower bounds:        0\n",
      "                variables with lower and upper bounds:        0\n",
      "                     variables with only upper bounds:        0\n",
      "Total number of equality constraints.................:        0\n",
      "Total number of inequality constraints...............:        0\n",
      "        inequality constraints with only lower bounds:        0\n",
      "   inequality constraints with lower and upper bounds:        0\n",
      "        inequality constraints with only upper bounds:        0\n",
      "\n",
      "iter    objective    inf_pr   inf_du lg(mu)  ||d||  lg(rg) alpha_du alpha_pr  ls\n",
      "   0  2.1360947e+03 0.00e+00 1.00e+02  -1.0 0.00e+00    -  0.00e+00 0.00e+00   0\n",
      "   1  1.4121086e+03 0.00e+00 6.05e+02  -1.0 3.17e-02   4.0 1.00e+00 5.00e-01f  2\n",
      "   2  5.5125082e+02 0.00e+00 2.18e+02  -1.0 1.90e-03   3.5 1.00e+00 1.00e+00f  1\n",
      "   3  1.9195955e+02 0.00e+00 7.04e+01  -1.0 6.09e-03   3.0 1.00e+00 1.00e+00f  1\n",
      "   4  6.3988086e+01 0.00e+00 1.89e+01  -1.0 6.89e-03   2.6 1.00e+00 1.00e+00f  1\n",
      "   5  2.4812592e+01 0.00e+00 3.59e+00  -1.0 6.47e-03   2.1 1.00e+00 1.00e+00f  1\n",
      "   6  1.5144912e+01 0.00e+00 4.29e-01  -1.0 5.40e-03   1.6 1.00e+00 1.00e+00f  1\n",
      "   7  1.1417494e+01 0.00e+00 3.53e-01  -1.7 8.52e-03   1.1 1.00e+00 1.00e+00f  1\n",
      "   8  7.2163820e+00 0.00e+00 1.84e+00  -1.7 1.80e-02   0.7 1.00e+00 1.00e+00f  1\n",
      "   9  2.1101231e+00 0.00e+00 2.86e+00  -1.7 3.65e-02   0.2 1.00e+00 1.00e+00f  1\n",
      "iter    objective    inf_pr   inf_du lg(mu)  ||d||  lg(rg) alpha_du alpha_pr  ls\n",
      "  10  2.9715945e-01 0.00e+00 4.57e-01  -1.7 3.08e-02  -0.3 1.00e+00 1.00e+00f  1\n",
      "  11  2.8635344e-02 0.00e+00 2.81e-01  -1.7 4.15e-02    -  1.00e+00 1.00e+00f  1\n",
      "  12  3.3934841e-05 0.00e+00 8.44e-03  -1.7 1.10e-03    -  1.00e+00 1.00e+00f  1\n",
      "  13  6.6129692e-10 0.00e+00 3.97e-05  -3.8 2.89e-04    -  1.00e+00 1.00e+00f  1\n",
      "  14  2.5109013e-19 0.00e+00 3.97e-10  -5.7 1.02e-06    -  1.00e+00 1.00e+00f  1\n",
      "\n",
      "Number of Iterations....: 14\n",
      "\n",
      "                                   (scaled)                 (unscaled)\n",
      "Objective...............:   2.4125120961338947e-22    2.5109013127905390e-19\n",
      "Dual infeasibility......:   3.9743530760903337e-10    4.1364386824174865e-07\n",
      "Constraint violation....:   0.0000000000000000e+00    0.0000000000000000e+00\n",
      "Variable bound violation:   0.0000000000000000e+00    0.0000000000000000e+00\n",
      "Complementarity.........:   0.0000000000000000e+00    0.0000000000000000e+00\n",
      "Overall NLP error.......:   3.9743530760903337e-10    4.1364386824174865e-07\n",
      "\n",
      "\n",
      "Number of objective function evaluations             = 20\n",
      "Number of objective gradient evaluations             = 15\n",
      "Number of equality constraint evaluations            = 0\n",
      "Number of inequality constraint evaluations          = 0\n",
      "Number of equality constraint Jacobian evaluations   = 0\n",
      "Number of inequality constraint Jacobian evaluations = 0\n",
      "Number of Lagrangian Hessian evaluations             = 14\n",
      "Total seconds in IPOPT                               = 0.046\n",
      "\n",
      "EXIT: Optimal Solution Found.\n",
      "      solver  :   t_proc      (avg)   t_wall      (avg)    n_eval\n",
      "       nlp_f  |   1.15ms ( 57.25us)   1.11ms ( 55.37us)        20\n",
      "  nlp_grad_f  |   2.56ms (160.00us)   2.49ms (155.86us)        16\n",
      "  nlp_hess_l  |  30.70ms (  2.19ms)  30.64ms (  2.19ms)        14\n",
      "       total  |  47.15ms ( 47.15ms)  46.53ms ( 46.53ms)         1\n"
     ]
    }
   ],
   "source": [
    "p = vertcat(a, b, alpha, beta, gamma, delta)\n",
    "opti.minimize(f)\n",
    "opti.solver('ipopt')\n",
    "opti.set_initial(p, [1.43, 0.99, 0.22, 0.022, 0.022, 0.011])\n",
    "\n",
    "sol = opti.solve()"
   ]
  },
  {
   "cell_type": "code",
   "execution_count": 19,
   "id": "32d8edd4-d7f8-480e-a3e7-ea6428272336",
   "metadata": {},
   "outputs": [
    {
     "data": {
      "text/plain": [
       "array([1.3 , 0.9 , 0.2 , 0.02, 0.02, 0.01])"
      ]
     },
     "execution_count": 19,
     "metadata": {},
     "output_type": "execute_result"
    }
   ],
   "source": [
    "sol.value(p)"
   ]
  },
  {
   "cell_type": "code",
   "execution_count": 20,
   "id": "40e0c056-379f-4813-88ff-07c3821bfc7c",
   "metadata": {},
   "outputs": [],
   "source": [
    "assert_array_almost_equal(sol.value(p), [1.3 , 0.9 , 0.2 , 0.02, 0.02, 0.01])"
   ]
  },
  {
   "cell_type": "code",
   "execution_count": null,
   "id": "209d44ed-8e48-4d91-9372-6834259ec9a7",
   "metadata": {},
   "outputs": [],
   "source": []
  },
  {
   "cell_type": "code",
   "execution_count": null,
   "id": "6d2a2e6b-e8bb-4401-bbb7-d9ffb7ac179e",
   "metadata": {},
   "outputs": [],
   "source": []
  },
  {
   "cell_type": "code",
   "execution_count": null,
   "id": "6f491f28-fed1-4e8a-9ed8-1658984e0416",
   "metadata": {},
   "outputs": [],
   "source": []
  }
 ],
 "metadata": {
  "kernelspec": {
   "display_name": "Python (casadi)",
   "language": "python",
   "name": "casadi"
  },
  "language_info": {
   "codemirror_mode": {
    "name": "ipython",
    "version": 3
   },
   "file_extension": ".py",
   "mimetype": "text/x-python",
   "name": "python",
   "nbconvert_exporter": "python",
   "pygments_lexer": "ipython3",
   "version": "3.10.13"
  }
 },
 "nbformat": 4,
 "nbformat_minor": 5
}
