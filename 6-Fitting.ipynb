{
 "cells": [
  {
   "cell_type": "markdown",
   "id": "247fb311-dabf-41f1-a441-4ea2917bbb1f",
   "metadata": {},
   "source": [
    "# Fitting"
   ]
  },
  {
   "cell_type": "code",
   "execution_count": 1,
   "id": "f943ad8b-3fbb-4b45-bc66-91331e636a10",
   "metadata": {},
   "outputs": [],
   "source": [
    "import os\n",
    "import numpy as np\n",
    "from numpy.testing import assert_array_equal, assert_array_almost_equal\n",
    "import matplotlib.pyplot as plt\n",
    "from casadi import (\n",
    "    MX, DM, Function, Opti,\n",
    "    vec, vcat, vertcat, horzcat, sum2, triu,\n",
    "    gradient, jacobian, hessian\n",
    ")"
   ]
  },
  {
   "cell_type": "code",
   "execution_count": 2,
   "id": "79e68b50-2ea8-4980-aeb3-b45831bc9f39",
   "metadata": {},
   "outputs": [],
   "source": [
    "data_dir = 'data'"
   ]
  },
  {
   "cell_type": "markdown",
   "id": "b113702f-3485-4dae-9b8a-a9a87ef45c73",
   "metadata": {},
   "source": [
    "## Predator-Prey System Model"
   ]
  },
  {
   "cell_type": "markdown",
   "id": "6957e795-d5f9-423b-a59f-cc8d20edd776",
   "metadata": {},
   "source": [
    "$$x_{k+1} = (a x_k - \\alpha x_k y_k) / (1 + \\gamma x_k)$$ \n",
    "$$y_{k+1} = (b y_k - \\beta x_k y_k) / (1 + \\delta y_k)$$ \n",
    "\n",
    "Unknown parameters:\n",
    "\n",
    "$$\n",
    "p = \\left[\n",
    "\\begin{matrix}\n",
    "    a & b & \\alpha & \\beta & \\gamma & \\delta\n",
    "\\end{matrix} \n",
    "\\right]^T$$\n"
   ]
  },
  {
   "cell_type": "markdown",
   "id": "4cb7cc71-72b4-45ef-ad01-f875580b631f",
   "metadata": {},
   "source": [
    "## 1. Alternative Formulations"
   ]
  },
  {
   "cell_type": "markdown",
   "id": "43bbaf67-ecbd-46f2-a530-08bd65e33f4b",
   "metadata": {},
   "source": [
    "### 1.1. Simulate the estimated population dynamics without CasADi"
   ]
  },
  {
   "cell_type": "code",
   "execution_count": 3,
   "id": "3884b0b9-7bf4-4c89-a213-6a21d40db973",
   "metadata": {},
   "outputs": [
    {
     "name": "stdout",
     "output_type": "stream",
     "text": [
      "  0: (10.0000, 0.1000)\n",
      "  1: (11.5410, 0.1209)\n",
      "  2: (12.9171, 0.1501)\n",
      "  3: (14.0516, 0.1910)\n",
      "  4: (14.8979, 0.2476)\n",
      "  5: (15.4339, 0.3254)\n",
      "  6: (15.6513, 0.4311)\n",
      "  7: (15.5445, 0.5725)\n",
      "  8: (15.1051, 0.7578)\n",
      "  9: (14.3225, 0.9938)\n",
      " 10: (13.1929, 1.2829)\n"
     ]
    }
   ],
   "source": [
    "def state_transition(z, a, b, alpha, beta, gamma, delta):\n",
    "    xk, yk = z[0], z[1]\n",
    "    xkp1 = (a * xk - alpha * xk * yk) / (1 + gamma * xk)\n",
    "    ykp1 = (b * yk + beta * xk * yk) / (1 + delta * yk)\n",
    "    return xkp1, ykp1\n",
    "\n",
    "p = [1.43, 0.99, 0.22, 0.022, 0.022, 0.011]\n",
    "xk, yk = [10, 0.1]\n",
    "print(f\"{0:3d}: ({xk:.4f}, {yk:.4f})\")\n",
    "N = 10\n",
    "z_predicted = [(xk, yk)]\n",
    "for k in range(1, N+1):\n",
    "    xk, yk = state_transition((xk, yk), *p)\n",
    "    z_predicted.append((xk, yk))\n",
    "    print(f\"{k:3d}: ({xk:.4f}, {yk:.4f})\")\n",
    "z_predicted = np.array(z_predicted)"
   ]
  },
  {
   "cell_type": "code",
   "execution_count": 4,
   "id": "28461ed2-470a-4f03-b758-eb4e1cac993d",
   "metadata": {},
   "outputs": [
    {
     "data": {
      "image/png": "[encoded data removed]",
      "text/plain": [
       "<Figure size 640x480 with 1 Axes>"
      ]
     },
     "metadata": {},
     "output_type": "display_data"
    }
   ],
   "source": [
    "plt.plot(z_predicted[:, 0], z_predicted[:, 1], marker='o')\n",
    "plt.xlabel('$x_k$')\n",
    "plt.ylabel('$y_k$')\n",
    "plt.grid()"
   ]
  },
  {
   "cell_type": "code",
   "execution_count": 5,
   "id": "1b81d5f7-9b5f-48e2-a32b-fc9aaee62f41",
   "metadata": {},
   "outputs": [],
   "source": [
    "assert_array_almost_equal(np.array([xk, yk]), [13.1929, 1.2829], decimal=4)"
   ]
  },
  {
   "cell_type": "markdown",
   "id": "d8c5d470-3555-4182-8841-41f458816ded",
   "metadata": {},
   "source": [
    "### 1.2. Compute sum-of-squared-deviations"
   ]
  },
  {
   "cell_type": "code",
   "execution_count": 6,
   "id": "348bbcba-ecb5-49d8-aeb6-4e148f20e72e",
   "metadata": {},
   "outputs": [
    {
     "data": {
      "text/plain": [
       "(101, 2)"
      ]
     },
     "execution_count": 6,
     "metadata": {},
     "output_type": "execute_result"
    }
   ],
   "source": [
    "filename = 'data.mat'\n",
    "z_data = np.loadtxt(os.path.join(data_dir, filename))\n",
    "z_data.shape"
   ]
  },
  {
   "cell_type": "code",
   "execution_count": 7,
   "id": "88c6c4a0-c2a1-42e7-8709-6f94b62850b4",
   "metadata": {},
   "outputs": [
    {
     "data": {
      "text/plain": [
       "array([[ 0.        ,  0.        ],\n",
       "       [-0.87431694, -0.01097694],\n",
       "       [-1.6817023 , -0.02793707],\n",
       "       [-2.34973866, -0.05371554],\n",
       "       [-2.83088477, -0.09214206],\n",
       "       [-3.09893528, -0.14823668],\n",
       "       [-3.13951539, -0.22829839],\n",
       "       [-2.94064131, -0.33971614],\n",
       "       [-2.48754172, -0.49022574],\n",
       "       [-1.76403134, -0.68624828],\n",
       "       [-0.7615959 , -0.93001532]])"
      ]
     },
     "execution_count": 7,
     "metadata": {},
     "output_type": "execute_result"
    }
   ],
   "source": [
    "errors = z_data[:11] - z_predicted\n",
    "errors"
   ]
  },
  {
   "cell_type": "code",
   "execution_count": 8,
   "id": "4cc96b9c-df3e-40d2-8514-6cca216507f5",
   "metadata": {},
   "outputs": [
    {
     "data": {
      "text/plain": [
       "56.8927241998227"
      ]
     },
     "execution_count": 8,
     "metadata": {},
     "output_type": "execute_result"
    }
   ],
   "source": [
    "sse = np.sum((errors) ** 2)\n",
    "sse"
   ]
  },
  {
   "cell_type": "code",
   "execution_count": 9,
   "id": "78975a0f-7cdc-4f95-b04b-697a55f6646e",
   "metadata": {},
   "outputs": [],
   "source": [
    "assert round(sse, 3) == 56.893"
   ]
  },
  {
   "cell_type": "markdown",
   "id": "bad6b11c-964b-409a-beb0-c5e16777b231",
   "metadata": {},
   "source": [
    "### 1.3. Fit parameters"
   ]
  },
  {
   "cell_type": "code",
   "execution_count": 10,
   "id": "4ad7f75e-3405-436f-9f75-7d0ad7dc7a3c",
   "metadata": {},
   "outputs": [
    {
     "data": {
      "text/plain": [
       "(1, 1)"
      ]
     },
     "execution_count": 10,
     "metadata": {},
     "output_type": "execute_result"
    }
   ],
   "source": [
    "opti = Opti()\n",
    "\n",
    "N = 100\n",
    "a = opti.variable()\n",
    "b = opti.variable()\n",
    "alpha = opti.variable() \n",
    "beta = opti.variable()\n",
    "gamma = opti.variable()\n",
    "delta = opti.variable()\n",
    "p = vertcat(a, b, alpha, beta, gamma, delta)\n",
    "\n",
    "# Construct objective function and add constraints\n",
    "xk, yk = 10, 0.1\n",
    "f = 0\n",
    "k = 0\n",
    "while True:\n",
    "    f += sum2((xk - z_data[k, 0]) ** 2 + (yk - z_data[k, 1]) ** 2)\n",
    "    if k == N:\n",
    "        break\n",
    "    xk, yk = state_transition(vertcat(xk, yk), a, b, alpha, beta, gamma, delta)\n",
    "    k += 1\n",
    "\n",
    "f.shape"
   ]
  },
  {
   "cell_type": "code",
   "execution_count": 11,
   "id": "636b8c96-7ee0-46fe-b502-7f33d953f171",
   "metadata": {},
   "outputs": [
    {
     "name": "stdout",
     "output_type": "stream",
     "text": [
      "\n",
      "******************************************************************************\n",
      "This program contains Ipopt, a library for large-scale nonlinear optimization.\n",
      " Ipopt is released as open source code under the Eclipse Public License (EPL).\n",
      "         For more information visit https://github.com/coin-or/Ipopt\n",
      "******************************************************************************\n",
      "\n",
      "This is Ipopt version 3.14.11, running with linear solver MUMPS 5.4.1.\n",
      "\n",
      "Number of nonzeros in equality constraint Jacobian...:        0\n",
      "Number of nonzeros in inequality constraint Jacobian.:        0\n",
      "Number of nonzeros in Lagrangian Hessian.............:       21\n",
      "\n",
      "Total number of variables............................:        6\n",
      "                     variables with only lower bounds:        0\n",
      "                variables with lower and upper bounds:        0\n",
      "                     variables with only upper bounds:        0\n",
      "Total number of equality constraints.................:        0\n",
      "Total number of inequality constraints...............:        0\n",
      "        inequality constraints with only lower bounds:        0\n",
      "   inequality constraints with lower and upper bounds:        0\n",
      "        inequality constraints with only upper bounds:        0\n",
      "\n",
      "iter    objective    inf_pr   inf_du lg(mu)  ||d||  lg(rg) alpha_du alpha_pr  ls\n",
      "   0  2.1360947e+03 0.00e+00 1.00e+02  -1.0 0.00e+00    -  0.00e+00 0.00e+00   0\n",
      "   1  1.4121086e+03 0.00e+00 6.05e+02  -1.0 3.17e-02   4.0 1.00e+00 5.00e-01f  2\n",
      "   2  5.5125082e+02 0.00e+00 2.18e+02  -1.0 1.90e-03   3.5 1.00e+00 1.00e+00f  1\n",
      "   3  1.9195955e+02 0.00e+00 7.04e+01  -1.0 6.09e-03   3.0 1.00e+00 1.00e+00f  1\n",
      "   4  6.3988086e+01 0.00e+00 1.89e+01  -1.0 6.89e-03   2.6 1.00e+00 1.00e+00f  1\n",
      "   5  2.4812592e+01 0.00e+00 3.59e+00  -1.0 6.47e-03   2.1 1.00e+00 1.00e+00f  1\n",
      "   6  1.5144912e+01 0.00e+00 4.29e-01  -1.0 5.40e-03   1.6 1.00e+00 1.00e+00f  1\n",
      "   7  1.1417494e+01 0.00e+00 3.53e-01  -1.7 8.52e-03   1.1 1.00e+00 1.00e+00f  1\n",
      "   8  7.2163820e+00 0.00e+00 1.84e+00  -1.7 1.80e-02   0.7 1.00e+00 1.00e+00f  1\n",
      "   9  2.1101231e+00 0.00e+00 2.86e+00  -1.7 3.65e-02   0.2 1.00e+00 1.00e+00f  1\n",
      "iter    objective    inf_pr   inf_du lg(mu)  ||d||  lg(rg) alpha_du alpha_pr  ls\n",
      "  10  2.9715945e-01 0.00e+00 4.57e-01  -1.7 3.08e-02  -0.3 1.00e+00 1.00e+00f  1\n",
      "  11  2.8635344e-02 0.00e+00 2.81e-01  -1.7 4.15e-02    -  1.00e+00 1.00e+00f  1\n",
      "  12  3.3934841e-05 0.00e+00 8.44e-03  -1.7 1.10e-03    -  1.00e+00 1.00e+00f  1\n",
      "  13  6.6129692e-10 0.00e+00 3.97e-05  -3.8 2.89e-04    -  1.00e+00 1.00e+00f  1\n",
      "  14  2.5109013e-19 0.00e+00 3.97e-10  -5.7 1.02e-06    -  1.00e+00 1.00e+00f  1\n",
      "\n",
      "Number of Iterations....: 14\n",
      "\n",
      "                                   (scaled)                 (unscaled)\n",
      "Objective...............:   2.4125120961338947e-22    2.5109013127905390e-19\n",
      "Dual infeasibility......:   3.9743530760903337e-10    4.1364386824174865e-07\n",
      "Constraint violation....:   0.0000000000000000e+00    0.0000000000000000e+00\n",
      "Variable bound violation:   0.0000000000000000e+00    0.0000000000000000e+00\n",
      "Complementarity.........:   0.0000000000000000e+00    0.0000000000000000e+00\n",
      "Overall NLP error.......:   3.9743530760903337e-10    4.1364386824174865e-07\n",
      "\n",
      "\n",
      "Number of objective function evaluations             = 20\n",
      "Number of objective gradient evaluations             = 15\n",
      "Number of equality constraint evaluations            = 0\n",
      "Number of inequality constraint evaluations          = 0\n",
      "Number of equality constraint Jacobian evaluations   = 0\n",
      "Number of inequality constraint Jacobian evaluations = 0\n",
      "Number of Lagrangian Hessian evaluations             = 14\n",
      "Total seconds in IPOPT                               = 0.044\n",
      "\n",
      "EXIT: Optimal Solution Found.\n",
      "      solver  :   t_proc      (avg)   t_wall      (avg)    n_eval\n",
      "       nlp_f  |   1.17ms ( 58.55us)   1.13ms ( 56.66us)        20\n",
      "  nlp_grad_f  |   2.77ms (173.19us)   2.69ms (167.93us)        16\n",
      "  nlp_hess_l  |  29.77ms (  2.13ms)  29.75ms (  2.13ms)        14\n",
      "       total  |  45.59ms ( 45.59ms)  44.84ms ( 44.84ms)         1\n"
     ]
    }
   ],
   "source": [
    "opti.minimize(f)\n",
    "opti.solver('ipopt')\n",
    "opti.set_initial(p, [1.43, 0.99, 0.22, 0.022, 0.022, 0.011])\n",
    "\n",
    "sol = opti.solve()"
   ]
  },
  {
   "cell_type": "code",
   "execution_count": 12,
   "id": "32d8edd4-d7f8-480e-a3e7-ea6428272336",
   "metadata": {},
   "outputs": [
    {
     "data": {
      "text/plain": [
       "array([1.3 , 0.9 , 0.2 , 0.02, 0.02, 0.01])"
      ]
     },
     "execution_count": 12,
     "metadata": {},
     "output_type": "execute_result"
    }
   ],
   "source": [
    "sol.value(p)"
   ]
  },
  {
   "cell_type": "code",
   "execution_count": 13,
   "id": "40e0c056-379f-4813-88ff-07c3821bfc7c",
   "metadata": {},
   "outputs": [],
   "source": [
    "assert_array_almost_equal(sol.value(p), [1.3 , 0.9 , 0.2 , 0.02, 0.02, 0.01])"
   ]
  },
  {
   "cell_type": "markdown",
   "id": "e5739483-ba6e-496a-9be9-4ffc2783dadc",
   "metadata": {},
   "source": [
    "## 2. CasADi solvers"
   ]
  },
  {
   "cell_type": "markdown",
   "id": "c4221152-7a48-4c45-abe0-13d68c9bda9b",
   "metadata": {},
   "source": [
    "### 1.2 Reformulate implementation"
   ]
  },
  {
   "cell_type": "code",
   "execution_count": 14,
   "id": "6f491f28-fed1-4e8a-9ed8-1658984e0416",
   "metadata": {},
   "outputs": [
    {
     "data": {
      "text/plain": [
       "(202, 1)"
      ]
     },
     "execution_count": 14,
     "metadata": {},
     "output_type": "execute_result"
    }
   ],
   "source": [
    "opti = Opti()\n",
    "\n",
    "N = 100\n",
    "a = opti.variable()\n",
    "b = opti.variable()\n",
    "alpha = opti.variable() \n",
    "beta = opti.variable()\n",
    "gamma = opti.variable()\n",
    "delta = opti.variable()\n",
    "p = vertcat(a, b, alpha, beta, gamma, delta)\n",
    "\n",
    "# Construct objective function and add constraints\n",
    "xk, yk = 10, 0.1\n",
    "F = []\n",
    "k = 0\n",
    "while True:\n",
    "    F.append(xk - z_data[k, 0])\n",
    "    F.append(yk - z_data[k, 1])\n",
    "    if k == N:\n",
    "        break\n",
    "    xk, yk = state_transition(vertcat(xk, yk), a, b, alpha, beta, gamma, delta)\n",
    "    k += 1\n",
    "\n",
    "F = vertcat(*F)\n",
    "F.shape"
   ]
  },
  {
   "cell_type": "code",
   "execution_count": 15,
   "id": "8355dcd2-bf2c-41fc-99f7-ebd551f0928d",
   "metadata": {},
   "outputs": [
    {
     "name": "stdout",
     "output_type": "stream",
     "text": [
      "This is Ipopt version 3.14.11, running with linear solver MUMPS 5.4.1.\n",
      "\n",
      "Number of nonzeros in equality constraint Jacobian...:        0\n",
      "Number of nonzeros in inequality constraint Jacobian.:        0\n",
      "Number of nonzeros in Lagrangian Hessian.............:       21\n",
      "\n",
      "Total number of variables............................:        6\n",
      "                     variables with only lower bounds:        0\n",
      "                variables with lower and upper bounds:        0\n",
      "                     variables with only upper bounds:        0\n",
      "Total number of equality constraints.................:        0\n",
      "Total number of inequality constraints...............:        0\n",
      "        inequality constraints with only lower bounds:        0\n",
      "   inequality constraints with lower and upper bounds:        0\n",
      "        inequality constraints with only upper bounds:        0\n",
      "\n",
      "iter    objective    inf_pr   inf_du lg(mu)  ||d||  lg(rg) alpha_du alpha_pr  ls\n",
      "   0  2.1360947e+03 0.00e+00 1.00e+02  -1.0 0.00e+00    -  0.00e+00 0.00e+00   0\n",
      "   1  1.4121086e+03 0.00e+00 6.05e+02  -1.0 3.17e-02   4.0 1.00e+00 5.00e-01f  2\n",
      "   2  5.5125082e+02 0.00e+00 2.18e+02  -1.0 1.90e-03   3.5 1.00e+00 1.00e+00f  1\n",
      "   3  1.9195955e+02 0.00e+00 7.04e+01  -1.0 6.09e-03   3.0 1.00e+00 1.00e+00f  1\n",
      "   4  6.3988086e+01 0.00e+00 1.89e+01  -1.0 6.89e-03   2.6 1.00e+00 1.00e+00f  1\n",
      "   5  2.4812592e+01 0.00e+00 3.59e+00  -1.0 6.47e-03   2.1 1.00e+00 1.00e+00f  1\n",
      "   6  1.5144912e+01 0.00e+00 4.29e-01  -1.0 5.40e-03   1.6 1.00e+00 1.00e+00f  1\n",
      "   7  1.1417494e+01 0.00e+00 3.53e-01  -1.7 8.52e-03   1.1 1.00e+00 1.00e+00f  1\n",
      "   8  7.2163820e+00 0.00e+00 1.84e+00  -1.7 1.80e-02   0.7 1.00e+00 1.00e+00f  1\n",
      "   9  2.1101231e+00 0.00e+00 2.86e+00  -1.7 3.65e-02   0.2 1.00e+00 1.00e+00f  1\n",
      "iter    objective    inf_pr   inf_du lg(mu)  ||d||  lg(rg) alpha_du alpha_pr  ls\n",
      "  10  2.9715945e-01 0.00e+00 4.57e-01  -1.7 3.08e-02  -0.3 1.00e+00 1.00e+00f  1\n",
      "  11  2.8635344e-02 0.00e+00 2.81e-01  -1.7 4.15e-02    -  1.00e+00 1.00e+00f  1\n",
      "  12  3.3934841e-05 0.00e+00 8.44e-03  -1.7 1.10e-03    -  1.00e+00 1.00e+00f  1\n",
      "  13  6.6129692e-10 0.00e+00 3.97e-05  -3.8 2.89e-04    -  1.00e+00 1.00e+00f  1\n",
      "  14  2.5109013e-19 0.00e+00 3.97e-10  -5.7 1.02e-06    -  1.00e+00 1.00e+00f  1\n",
      "\n",
      "Number of Iterations....: 14\n",
      "\n",
      "                                   (scaled)                 (unscaled)\n",
      "Objective...............:   2.4125120961338947e-22    2.5109013127905390e-19\n",
      "Dual infeasibility......:   3.9743530760903337e-10    4.1364386824174865e-07\n",
      "Constraint violation....:   0.0000000000000000e+00    0.0000000000000000e+00\n",
      "Variable bound violation:   0.0000000000000000e+00    0.0000000000000000e+00\n",
      "Complementarity.........:   0.0000000000000000e+00    0.0000000000000000e+00\n",
      "Overall NLP error.......:   3.9743530760903337e-10    4.1364386824174865e-07\n",
      "\n",
      "\n",
      "Number of objective function evaluations             = 20\n",
      "Number of objective gradient evaluations             = 15\n",
      "Number of equality constraint evaluations            = 0\n",
      "Number of inequality constraint evaluations          = 0\n",
      "Number of equality constraint Jacobian evaluations   = 0\n",
      "Number of inequality constraint Jacobian evaluations = 0\n",
      "Number of Lagrangian Hessian evaluations             = 14\n",
      "Total seconds in IPOPT                               = 0.039\n",
      "\n",
      "EXIT: Optimal Solution Found.\n",
      "      solver  :   t_proc      (avg)   t_wall      (avg)    n_eval\n",
      "       nlp_f  |   1.16ms ( 57.75us)   1.11ms ( 55.69us)        20\n",
      "  nlp_grad_f  |   2.72ms (169.81us)   2.51ms (156.86us)        16\n",
      "  nlp_hess_l  |  25.15ms (  1.80ms)  25.16ms (  1.80ms)        14\n",
      "       total  |  39.63ms ( 39.63ms)  38.90ms ( 38.90ms)         1\n"
     ]
    }
   ],
   "source": [
    "opti.minimize(F.T @ F)\n",
    "opti.solver('ipopt')\n",
    "opti.set_initial(p, [1.43, 0.99, 0.22, 0.022, 0.022, 0.011])\n",
    "sol = opti.solve()"
   ]
  },
  {
   "cell_type": "code",
   "execution_count": 16,
   "id": "79f7f196-d2d0-432d-84ce-889f21b12ff7",
   "metadata": {},
   "outputs": [
    {
     "data": {
      "text/plain": [
       "array([1.3 , 0.9 , 0.2 , 0.02, 0.02, 0.01])"
      ]
     },
     "execution_count": 16,
     "metadata": {},
     "output_type": "execute_result"
    }
   ],
   "source": [
    "sol.value(p)"
   ]
  },
  {
   "cell_type": "code",
   "execution_count": 17,
   "id": "2e2239e1-719f-41f1-b7b4-6ef71913f04a",
   "metadata": {},
   "outputs": [],
   "source": [
    "assert_array_almost_equal(sol.value(p), [1.3 , 0.9 , 0.2 , 0.02, 0.02, 0.01])"
   ]
  },
  {
   "cell_type": "markdown",
   "id": "2680ed6d-203a-4ac2-a08d-63c8357d8529",
   "metadata": {},
   "source": [
    "### 2.2. Pass a custom Hessian H to IPOPT"
   ]
  },
  {
   "cell_type": "code",
   "execution_count": 18,
   "id": "a91adaa8-3649-426f-9db7-02d403dce276",
   "metadata": {},
   "outputs": [
    {
     "data": {
      "text/plain": [
       "(202, 1)"
      ]
     },
     "execution_count": 18,
     "metadata": {},
     "output_type": "execute_result"
    }
   ],
   "source": [
    "opti = Opti()\n",
    "\n",
    "N = 100\n",
    "a = opti.variable()\n",
    "b = opti.variable()\n",
    "alpha = opti.variable() \n",
    "beta = opti.variable()\n",
    "gamma = opti.variable()\n",
    "delta = opti.variable()\n",
    "p = vertcat(a, b, alpha, beta, gamma, delta)\n",
    "\n",
    "# Construct objective function and add constraints\n",
    "xk, yk = 10, 0.1\n",
    "F = []\n",
    "k = 0\n",
    "while True:\n",
    "    F.append(xk - z_data[k, 0])\n",
    "    F.append(yk - z_data[k, 1])\n",
    "    if k == N:\n",
    "        break\n",
    "    xk, yk = state_transition(vertcat(xk, yk), a, b, alpha, beta, gamma, delta)\n",
    "    k += 1\n",
    "\n",
    "F = vertcat(*F)  # can also use vcat(F)\n",
    "F.shape"
   ]
  },
  {
   "cell_type": "markdown",
   "id": "4c257a29-fc0b-4a19-b07d-2acf4e4ed23c",
   "metadata": {},
   "source": [
    "Least-squares minimization update\n",
    "\n",
    "$$\\Delta x = - (\\nabla^2 f)^{-1} \\nabla f $$\n",
    "\n",
    "Gauss-Newton Hessian approximation\n",
    "\n",
    "$$\\nabla^2f = J^T J$$"
   ]
  },
  {
   "cell_type": "code",
   "execution_count": 19,
   "id": "8a4c22e7-f6d9-47c9-8ef2-411ee8692c41",
   "metadata": {},
   "outputs": [],
   "source": [
    "opti.minimize(F.T @ F)"
   ]
  },
  {
   "cell_type": "code",
   "execution_count": 20,
   "id": "7479bfde-903b-4439-9386-5aec3dc59323",
   "metadata": {},
   "outputs": [
    {
     "data": {
      "text/plain": [
       "(202, 6)"
      ]
     },
     "execution_count": 20,
     "metadata": {},
     "output_type": "execute_result"
    }
   ],
   "source": [
    "J = jacobian(F, p)\n",
    "J.shape"
   ]
  },
  {
   "cell_type": "code",
   "execution_count": 21,
   "id": "15c4ec66-cda8-467c-a9ea-36e306a80015",
   "metadata": {},
   "outputs": [],
   "source": [
    "H = 2 * J.T @ J  # need to include the 2 here because obj. func. excluded the 1/2"
   ]
  },
  {
   "cell_type": "code",
   "execution_count": 22,
   "id": "1e8d1c2e-4fea-4c81-919c-665d43a1320a",
   "metadata": {},
   "outputs": [],
   "source": [
    "sigma = MX.sym('sigma')\n",
    "hess_lag = Function(\n",
    "    'hess_lag',\n",
    "    [opti.x, opti.p, sigma, opti.lam_g],\n",
    "    [sigma * triu(H)]\n",
    ")\n",
    "opts = {'hess_lag': hess_lag}\n",
    "opti.solver('ipopt', opts)"
   ]
  },
  {
   "cell_type": "code",
   "execution_count": 23,
   "id": "fa55b101-beeb-4a93-a003-6af3f23d0b4c",
   "metadata": {},
   "outputs": [
    {
     "name": "stdout",
     "output_type": "stream",
     "text": [
      "This is Ipopt version 3.14.11, running with linear solver MUMPS 5.4.1.\n",
      "\n",
      "Number of nonzeros in equality constraint Jacobian...:        0\n",
      "Number of nonzeros in inequality constraint Jacobian.:        0\n",
      "Number of nonzeros in Lagrangian Hessian.............:       21\n",
      "\n",
      "Total number of variables............................:        6\n",
      "                     variables with only lower bounds:        0\n",
      "                variables with lower and upper bounds:        0\n",
      "                     variables with only upper bounds:        0\n",
      "Total number of equality constraints.................:        0\n",
      "Total number of inequality constraints...............:        0\n",
      "        inequality constraints with only lower bounds:        0\n",
      "   inequality constraints with lower and upper bounds:        0\n",
      "        inequality constraints with only upper bounds:        0\n",
      "\n",
      "iter    objective    inf_pr   inf_du lg(mu)  ||d||  lg(rg) alpha_du alpha_pr  ls\n",
      "   0  2.1360947e+03 0.00e+00 1.00e+02  -1.0 0.00e+00    -  0.00e+00 0.00e+00   0\n",
      "   1  1.8745988e+03 0.00e+00 9.01e+01  -1.0 1.08e+00    -  1.00e+00 2.50e-01f  3\n",
      "   2  1.6086069e+03 0.00e+00 5.73e+01  -1.0 3.07e-01    -  1.00e+00 5.00e-01f  2\n",
      "   3  2.2417210e+02 0.00e+00 7.46e+01  -1.0 2.64e-01    -  1.00e+00 1.00e+00f  1\n",
      "   4  1.0819285e+02 0.00e+00 4.34e+01  -1.0 1.35e-01    -  1.00e+00 1.00e+00f  1\n",
      "   5  4.9373225e+01 0.00e+00 2.61e+01  -1.0 1.62e-01    -  1.00e+00 1.00e+00f  1\n",
      "   6  9.2356051e-01 0.00e+00 2.62e+00  -1.0 5.07e-02    -  1.00e+00 1.00e+00f  1\n",
      "   7  4.4017412e-03 0.00e+00 4.53e-02  -1.0 2.35e-02    -  1.00e+00 1.00e+00f  1\n",
      "   8  2.8163863e-07 0.00e+00 1.42e-03  -2.5 1.34e-03    -  1.00e+00 1.00e+00f  1\n",
      "   9  4.4096371e-15 0.00e+00 1.33e-07  -5.7 2.58e-05    -  1.00e+00 1.00e+00f  1\n",
      "iter    objective    inf_pr   inf_du lg(mu)  ||d||  lg(rg) alpha_du alpha_pr  ls\n",
      "  10  1.8310966e-27 0.00e+00 1.55e-13  -8.6 2.33e-09    -  1.00e+00 1.00e+00f  1\n",
      "\n",
      "Number of Iterations....: 10\n",
      "\n",
      "                                   (scaled)                 (unscaled)\n",
      "Objective...............:   1.7593453859138616e-30    1.8310965761466250e-27\n",
      "Dual infeasibility......:   1.5514153320585186e-13    1.6146865336723710e-10\n",
      "Constraint violation....:   0.0000000000000000e+00    0.0000000000000000e+00\n",
      "Variable bound violation:   0.0000000000000000e+00    0.0000000000000000e+00\n",
      "Complementarity.........:   0.0000000000000000e+00    0.0000000000000000e+00\n",
      "Overall NLP error.......:   1.5514153320585186e-13    1.6146865336723710e-10\n",
      "\n",
      "\n",
      "Number of objective function evaluations             = 22\n",
      "Number of objective gradient evaluations             = 11\n",
      "Number of equality constraint evaluations            = 0\n",
      "Number of inequality constraint evaluations          = 0\n",
      "Number of equality constraint Jacobian evaluations   = 0\n",
      "Number of inequality constraint Jacobian evaluations = 0\n",
      "Number of Lagrangian Hessian evaluations             = 10\n",
      "Total seconds in IPOPT                               = 0.040\n",
      "\n",
      "EXIT: Optimal Solution Found.\n",
      "      solver  :   t_proc      (avg)   t_wall      (avg)    n_eval\n",
      "       nlp_f  |   3.96ms (180.09us)   4.33ms (197.03us)        22\n",
      "  nlp_grad_f  |   6.41ms (534.17us)   6.25ms (520.54us)        12\n",
      "  nlp_hess_l  |  12.73ms (  1.27ms)  13.03ms (  1.30ms)        10\n",
      "       total  |  39.00ms ( 39.00ms)  40.06ms ( 40.06ms)         1\n"
     ]
    }
   ],
   "source": [
    "opti.set_initial(p, [1.43, 0.99, 0.22, 0.022, 0.022, 0.011])\n",
    "sol = opti.solve()"
   ]
  },
  {
   "cell_type": "code",
   "execution_count": 24,
   "id": "ad292a05-6527-4cea-9784-904c2ea751fc",
   "metadata": {},
   "outputs": [],
   "source": [
    "assert_array_almost_equal(sol.value(p), [1.3 , 0.9 , 0.2 , 0.02, 0.02, 0.01])"
   ]
  },
  {
   "cell_type": "markdown",
   "id": "14710d54-e844-4fe2-9420-22a4f3f376c5",
   "metadata": {},
   "source": [
    "### 2.3. Reformulate again"
   ]
  },
  {
   "cell_type": "code",
   "execution_count": 25,
   "id": "15aab9e4-ac97-475e-a83d-5007b36b41da",
   "metadata": {},
   "outputs": [
    {
     "data": {
      "text/plain": [
       "(101, 2)"
      ]
     },
     "execution_count": 25,
     "metadata": {},
     "output_type": "execute_result"
    }
   ],
   "source": [
    "opti = Opti()\n",
    "\n",
    "N = 100\n",
    "a = opti.variable()\n",
    "b = opti.variable()\n",
    "alpha = opti.variable() \n",
    "beta = opti.variable()\n",
    "gamma = opti.variable()\n",
    "delta = opti.variable()\n",
    "p = vertcat(a, b, alpha, beta, gamma, delta)\n",
    "\n",
    "xk, yk = 10, 0.1\n",
    "\n",
    "# Simulate system\n",
    "# Z = []\n",
    "# for k in range(1, N + 1):\n",
    "#     xk, yk = state_transition(vertcat(xk, yk), a, b, alpha, beta, gamma, delta)\n",
    "#     Z.append(horzcat(xk, yk))\n",
    "# Z = vcat(Z)\n",
    "\n",
    "# Using a list comprehension\n",
    "z = horzcat(10, 0.1)\n",
    "Z = vcat([z] + [\n",
    "    (z := horzcat(*state_transition(z, a, b, alpha, beta, gamma, delta)))\n",
    "    for k in range(1, N + 1)\n",
    "])\n",
    "\n",
    "Z.shape"
   ]
  },
  {
   "cell_type": "code",
   "execution_count": 26,
   "id": "03188c64-d761-4323-bdcb-2dcddb3bb816",
   "metadata": {},
   "outputs": [
    {
     "data": {
      "text/plain": [
       "Function(S:(p[6])->(Z[101x2]) MXFunction)"
      ]
     },
     "execution_count": 26,
     "metadata": {},
     "output_type": "execute_result"
    }
   ],
   "source": [
    "S = Function('S', [p], [Z], ['p'], ['Z'])\n",
    "S"
   ]
  },
  {
   "cell_type": "code",
   "execution_count": 27,
   "id": "a0d2d4bb-d217-413c-b2ca-8503475af7b2",
   "metadata": {},
   "outputs": [],
   "source": [
    "F = vec(S(p) - z_data)\n",
    "opti.minimize(F.T @ F)\n",
    "opti.solver('ipopt', opts)"
   ]
  },
  {
   "cell_type": "code",
   "execution_count": 28,
   "id": "bdc84da6-c435-4202-ac3d-ef877aca4776",
   "metadata": {},
   "outputs": [
    {
     "name": "stdout",
     "output_type": "stream",
     "text": [
      "This is Ipopt version 3.14.11, running with linear solver MUMPS 5.4.1.\n",
      "\n",
      "Number of nonzeros in equality constraint Jacobian...:        0\n",
      "Number of nonzeros in inequality constraint Jacobian.:        0\n",
      "Number of nonzeros in Lagrangian Hessian.............:       21\n",
      "\n",
      "Total number of variables............................:        6\n",
      "                     variables with only lower bounds:        0\n",
      "                variables with lower and upper bounds:        0\n",
      "                     variables with only upper bounds:        0\n",
      "Total number of equality constraints.................:        0\n",
      "Total number of inequality constraints...............:        0\n",
      "        inequality constraints with only lower bounds:        0\n",
      "   inequality constraints with lower and upper bounds:        0\n",
      "        inequality constraints with only upper bounds:        0\n",
      "\n",
      "iter    objective    inf_pr   inf_du lg(mu)  ||d||  lg(rg) alpha_du alpha_pr  ls\n",
      "   0  2.1360947e+03 0.00e+00 1.00e+02  -1.0 0.00e+00    -  0.00e+00 0.00e+00   0\n",
      "   1  1.8745988e+03 0.00e+00 9.01e+01  -1.0 1.08e+00    -  1.00e+00 2.50e-01f  3\n",
      "   2  1.6086069e+03 0.00e+00 5.73e+01  -1.0 3.07e-01    -  1.00e+00 5.00e-01f  2\n",
      "   3  2.2417210e+02 0.00e+00 7.46e+01  -1.0 2.64e-01    -  1.00e+00 1.00e+00f  1\n",
      "   4  1.0819285e+02 0.00e+00 4.34e+01  -1.0 1.35e-01    -  1.00e+00 1.00e+00f  1\n",
      "   5  4.9373225e+01 0.00e+00 2.61e+01  -1.0 1.62e-01    -  1.00e+00 1.00e+00f  1\n",
      "   6  9.2356051e-01 0.00e+00 2.62e+00  -1.0 5.07e-02    -  1.00e+00 1.00e+00f  1\n",
      "   7  4.4017412e-03 0.00e+00 4.53e-02  -1.0 2.35e-02    -  1.00e+00 1.00e+00f  1\n",
      "   8  2.8163863e-07 0.00e+00 1.42e-03  -2.5 1.34e-03    -  1.00e+00 1.00e+00f  1\n",
      "   9  4.4096371e-15 0.00e+00 1.33e-07  -5.7 2.58e-05    -  1.00e+00 1.00e+00f  1\n",
      "iter    objective    inf_pr   inf_du lg(mu)  ||d||  lg(rg) alpha_du alpha_pr  ls\n",
      "  10  1.8310966e-27 0.00e+00 1.55e-13  -8.6 2.33e-09    -  1.00e+00 1.00e+00f  1\n",
      "\n",
      "Number of Iterations....: 10\n",
      "\n",
      "                                   (scaled)                 (unscaled)\n",
      "Objective...............:   1.7593453859138616e-30    1.8310965761466250e-27\n",
      "Dual infeasibility......:   1.5514153320585186e-13    1.6146865336723710e-10\n",
      "Constraint violation....:   0.0000000000000000e+00    0.0000000000000000e+00\n",
      "Variable bound violation:   0.0000000000000000e+00    0.0000000000000000e+00\n",
      "Complementarity.........:   0.0000000000000000e+00    0.0000000000000000e+00\n",
      "Overall NLP error.......:   1.5514153320585186e-13    1.6146865336723710e-10\n",
      "\n",
      "\n",
      "Number of objective function evaluations             = 22\n",
      "Number of objective gradient evaluations             = 11\n",
      "Number of equality constraint evaluations            = 0\n",
      "Number of inequality constraint evaluations          = 0\n",
      "Number of equality constraint Jacobian evaluations   = 0\n",
      "Number of inequality constraint Jacobian evaluations = 0\n",
      "Number of Lagrangian Hessian evaluations             = 10\n",
      "Total seconds in IPOPT                               = 0.030\n",
      "\n",
      "EXIT: Optimal Solution Found.\n",
      "      solver  :   t_proc      (avg)   t_wall      (avg)    n_eval\n",
      "       nlp_f  |   2.28ms (103.55us)   2.26ms (102.59us)        22\n",
      "  nlp_grad_f  |   4.32ms (360.25us)   4.33ms (360.48us)        12\n",
      "  nlp_hess_l  |  11.12ms (  1.11ms)  11.05ms (  1.10ms)        10\n",
      "       total  |  32.04ms ( 32.04ms)  30.64ms ( 30.64ms)         1\n"
     ]
    }
   ],
   "source": [
    "opti.set_initial(p, [1.43, 0.99, 0.22, 0.022, 0.022, 0.011])\n",
    "sol = opti.solve()"
   ]
  },
  {
   "cell_type": "code",
   "execution_count": 29,
   "id": "5d6cb7d4-31c6-498d-b95b-1523abc42707",
   "metadata": {},
   "outputs": [],
   "source": [
    "assert_array_almost_equal(sol.value(p), [1.3 , 0.9 , 0.2 , 0.02, 0.02, 0.01])"
   ]
  },
  {
   "cell_type": "markdown",
   "id": "a13dfc60-1e2a-4805-abc7-2a033582369e",
   "metadata": {},
   "source": [
    "### 2.4. Outlier in the data"
   ]
  },
  {
   "cell_type": "code",
   "execution_count": 30,
   "id": "0548c584-f02d-4ed8-8edc-5cf99d0dd2cd",
   "metadata": {},
   "outputs": [
    {
     "name": "stdout",
     "output_type": "stream",
     "text": [
      "This is Ipopt version 3.14.11, running with linear solver MUMPS 5.4.1.\n",
      "\n",
      "Number of nonzeros in equality constraint Jacobian...:        0\n",
      "Number of nonzeros in inequality constraint Jacobian.:        0\n",
      "Number of nonzeros in Lagrangian Hessian.............:       21\n",
      "\n",
      "Total number of variables............................:        6\n",
      "                     variables with only lower bounds:        0\n",
      "                variables with lower and upper bounds:        0\n",
      "                     variables with only upper bounds:        0\n",
      "Total number of equality constraints.................:        0\n",
      "Total number of inequality constraints...............:        0\n",
      "        inequality constraints with only lower bounds:        0\n",
      "   inequality constraints with lower and upper bounds:        0\n",
      "        inequality constraints with only upper bounds:        0\n",
      "\n",
      "iter    objective    inf_pr   inf_du lg(mu)  ||d||  lg(rg) alpha_du alpha_pr  ls\n",
      "   0  2.3104722e+03 0.00e+00 1.00e+02  -1.0 0.00e+00    -  0.00e+00 0.00e+00   0\n",
      "   1  6.1399004e+02 0.00e+00 4.56e+01  -1.0 4.43e-02   4.0 1.00e+00 2.50e-01f  3\n",
      "   2  3.8064062e+02 0.00e+00 1.94e+01  -1.0 4.44e-03   3.5 1.00e+00 1.00e+00f  1\n",
      "   3  2.4751380e+02 0.00e+00 9.89e+00  -1.0 6.06e-03   3.0 1.00e+00 1.00e+00f  1\n",
      "   4  1.7737125e+02 0.00e+00 4.64e+00  -1.0 7.34e-03   2.6 1.00e+00 1.00e+00f  1\n",
      "   5  1.4796682e+02 0.00e+00 1.78e+00  -1.0 6.82e-03   2.1 1.00e+00 1.00e+00f  1\n",
      "   6  1.3946279e+02 0.00e+00 4.78e-01  -1.0 5.73e-03   1.6 1.00e+00 1.00e+00f  1\n",
      "   7  1.3650258e+02 0.00e+00 2.30e-01  -1.7 9.02e-03   1.1 1.00e+00 1.00e+00f  1\n",
      "   8  1.3278444e+02 0.00e+00 1.43e+00  -1.7 2.10e-02   0.7 1.00e+00 1.00e+00f  1\n",
      "   9  1.2468039e+02 0.00e+00 2.49e+00  -1.7 5.85e-02   0.2 1.00e+00 1.00e+00f  1\n",
      "iter    objective    inf_pr   inf_du lg(mu)  ||d||  lg(rg) alpha_du alpha_pr  ls\n",
      "  10  1.2413784e+02 0.00e+00 3.95e+00  -1.7 5.58e-02  -0.3 1.00e+00 1.00e+00f  1\n",
      "  11  1.2168761e+02 0.00e+00 7.56e-01  -1.7 1.93e-02    -  1.00e+00 1.00e+00f  1\n",
      "  12  1.2121062e+02 0.00e+00 5.26e-01  -1.7 9.09e-03    -  1.00e+00 1.00e+00f  1\n",
      "  13  1.2117558e+02 0.00e+00 2.58e-02  -1.7 2.58e-03    -  1.00e+00 1.00e+00f  1\n",
      "  14  1.2117518e+02 0.00e+00 7.84e-04  -3.8 6.99e-04    -  1.00e+00 1.00e+00f  1\n",
      "  15  1.2117518e+02 0.00e+00 1.22e-07  -5.7 8.41e-06    -  1.00e+00 1.00e+00f  1\n",
      "  16  1.2117518e+02 0.00e+00 7.30e-14  -8.6 2.53e-09    -  1.00e+00 1.00e+00f  1\n",
      "\n",
      "Number of Iterations....: 16\n",
      "\n",
      "                                   (scaled)                 (unscaled)\n",
      "Objective...............:   1.2425689054379313e-01    1.2117518459183485e+02\n",
      "Dual infeasibility......:   7.3028894367505900e-14    7.1217698405234829e-11\n",
      "Constraint violation....:   0.0000000000000000e+00    0.0000000000000000e+00\n",
      "Variable bound violation:   0.0000000000000000e+00    0.0000000000000000e+00\n",
      "Complementarity.........:   0.0000000000000000e+00    0.0000000000000000e+00\n",
      "Overall NLP error.......:   7.3028894367505900e-14    7.1217698405234829e-11\n",
      "\n",
      "\n",
      "Number of objective function evaluations             = 23\n",
      "Number of objective gradient evaluations             = 17\n",
      "Number of equality constraint evaluations            = 0\n",
      "Number of inequality constraint evaluations          = 0\n",
      "Number of equality constraint Jacobian evaluations   = 0\n",
      "Number of inequality constraint Jacobian evaluations = 0\n",
      "Number of Lagrangian Hessian evaluations             = 16\n",
      "Total seconds in IPOPT                               = 0.048\n",
      "\n",
      "EXIT: Optimal Solution Found.\n",
      "      solver  :   t_proc      (avg)   t_wall      (avg)    n_eval\n",
      "       nlp_f  |   1.18ms ( 51.52us)   1.17ms ( 50.72us)        23\n",
      "  nlp_grad_f  |   3.01ms (167.06us)   3.00ms (166.69us)        18\n",
      "  nlp_hess_l  |  31.60ms (  1.98ms)  31.62ms (  1.98ms)        16\n",
      "       total  |  48.85ms ( 48.85ms)  48.68ms ( 48.68ms)         1\n"
     ]
    }
   ],
   "source": [
    "z_data_outlier = z_data.copy()\n",
    "z_data_outlier[9, 0] = 1\n",
    "\n",
    "opti = Opti()\n",
    "\n",
    "N = 100\n",
    "a = opti.variable()\n",
    "b = opti.variable()\n",
    "alpha = opti.variable() \n",
    "beta = opti.variable()\n",
    "gamma = opti.variable()\n",
    "delta = opti.variable()\n",
    "p = vertcat(a, b, alpha, beta, gamma, delta)\n",
    "\n",
    "x, y = 10, 0.1\n",
    "z = horzcat(10, 0.1)\n",
    "Z = vcat([z] + [\n",
    "    (z := horzcat(*state_transition(z, a, b, alpha, beta, gamma, delta)))\n",
    "    for k in range(1, N + 1)\n",
    "])\n",
    "S = Function('S', [p], [Z], ['p'], ['Z'])\n",
    "\n",
    "F = vec(S(p) - z_data_outlier)\n",
    "opti.minimize(F.T @ F)\n",
    "\n",
    "opti.solver('ipopt')\n",
    "p0 = [1.43, 0.99, 0.22, 0.022, 0.022, 0.011]\n",
    "opti.set_initial(p, p0)\n",
    "sol = opti.solve()"
   ]
  },
  {
   "cell_type": "code",
   "execution_count": 31,
   "id": "7e3929d1-f0b9-4c85-a33a-81ea1beb819f",
   "metadata": {},
   "outputs": [
    {
     "data": {
      "text/plain": [
       "array([ 1.31922177,  0.84966348,  0.19291711,  0.02440464,  0.02408137,\n",
       "       -0.01738025])"
      ]
     },
     "execution_count": 31,
     "metadata": {},
     "output_type": "execute_result"
    }
   ],
   "source": [
    "p_sol = sol.value(p)\n",
    "p_sol"
   ]
  },
  {
   "cell_type": "code",
   "execution_count": 32,
   "id": "ab46f7b3-b934-4047-b913-8d67c76fb6b6",
   "metadata": {},
   "outputs": [
    {
     "data": {
      "image/png": "[encoded data removed]",
      "text/plain": [
       "<Figure size 640x480 with 1 Axes>"
      ]
     },
     "metadata": {},
     "output_type": "display_data"
    }
   ],
   "source": [
    "z_pred = S(p_sol)\n",
    "colors = ['tab:blue', 'tab:orange']\n",
    "lines = plt.plot(z_data_outlier, ls='none', marker='.', label='data')\n",
    "for i, line in enumerate(lines):\n",
    "    plt.plot(z_pred[:, i], label='model', color=line.get_color())\n",
    "plt.legend()\n",
    "plt.grid()\n",
    "plt.show()"
   ]
  },
  {
   "cell_type": "code",
   "execution_count": null,
   "id": "97fbba44-867b-483c-8fb7-ba5c194f44dd",
   "metadata": {},
   "outputs": [],
   "source": []
  },
  {
   "cell_type": "code",
   "execution_count": null,
   "id": "2292d5fc-7673-414e-ae44-5deaf927088b",
   "metadata": {},
   "outputs": [],
   "source": []
  },
  {
   "cell_type": "code",
   "execution_count": null,
   "id": "8bf63eda-d50c-45dd-9c5c-08a2857e0495",
   "metadata": {},
   "outputs": [],
   "source": []
  },
  {
   "cell_type": "code",
   "execution_count": null,
   "id": "a73fdf26-a88b-4a3b-b308-631d6626396b",
   "metadata": {},
   "outputs": [],
   "source": []
  }
 ],
 "metadata": {
  "kernelspec": {
   "display_name": "Python (casadi)",
   "language": "python",
   "name": "casadi"
  },
  "language_info": {
   "codemirror_mode": {
    "name": "ipython",
    "version": 3
   },
   "file_extension": ".py",
   "mimetype": "text/x-python",
   "name": "python",
   "nbconvert_exporter": "python",
   "pygments_lexer": "ipython3",
   "version": "3.10.13"
  }
 },
 "nbformat": 4,
 "nbformat_minor": 5
}
