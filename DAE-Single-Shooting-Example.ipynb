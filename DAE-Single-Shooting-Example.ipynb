{
 "cells": [
  {
   "cell_type": "markdown",
   "id": "1846cfee-3121-41cd-b552-8e9b6f382a3b",
   "metadata": {},
   "source": [
    "# DAE Single Shooting Example\n",
    "\n",
    "From documentation here:\n",
    " - https://github.com/casadi/casadi/blob/main/docs/examples/python/dae_single_shooting.py"
   ]
  },
  {
   "cell_type": "markdown",
   "id": "dd8a6088-2423-4190-b894-734f53169cee",
   "metadata": {},
   "source": [
    "Compact implementation of a direct single shooting method for DAEs using a minimal\n",
    "number of CasADi concepts."
   ]
  },
  {
   "cell_type": "markdown",
   "id": "539267fb-f0ff-411a-845e-acdc75c6c2ea",
   "metadata": {},
   "source": [
    "Solve the following optimal control problem (OCP) in differential-algebraic equations (DAE):"
   ]
  },
  {
   "cell_type": "markdown",
   "id": "c744ae0d-a8ea-45ec-b1f4-c1c06971f61d",
   "metadata": {
    "jp-MarkdownHeadingCollapsed": true
   },
   "source": [
    "\\begin{equation}\n",
    "\\begin{aligned}\n",
    "\\min_{x_0,x_1,z,u} \\quad & \\int_{t=0}^{10} x_0^2 + x_1^2 + u^2  dt  \\\\\n",
    "\\textrm{subject to:} & \\\\\n",
    " & \\begin{aligned}\n",
    "                  \\dot{x}_0 &= z x_0 - x_1 + u \\quad & \\textrm{for} \\quad 0 \\le t \\le 10 \\\\\n",
    "                  \\dot{x}_1 &= x_0 \\quad & \\textrm{for} \\quad 0 \\le t \\le 10 \\\\\n",
    "                  0 &= x_1^2 + z - 1 \\quad & \\textrm{for} \\quad 0 \\le t \\le 10 \\\\\n",
    "              x_0(t=0) &= 0 & \\\\\n",
    "              x_1(t=0) &= 1 & \\\\\n",
    "              x_0(t=10) &= 0 & \\\\\n",
    "              x_1(t=10) &= 0 & \\\\\n",
    "              -0.75 \\le u &\\le 1 \\quad & \\textrm{for} \\quad 0 \\le t \\le 10\n",
    "            \\end{aligned}\n",
    "\\end{aligned}\n",
    "\\end{equation}"
   ]
  },
  {
   "cell_type": "markdown",
   "id": "b0585bba-f341-456e-a27d-c2080483363a",
   "metadata": {},
   "source": [
    "Note that other methods such as direct collocation or direct multiple shooting\n",
    "are usually preferably to the direct single shooting method in practise."
   ]
  },
  {
   "cell_type": "code",
   "execution_count": 1,
   "id": "03766627-cf89-49e4-97d6-3486cd18a957",
   "metadata": {},
   "outputs": [],
   "source": [
    "import casadi as ca"
   ]
  },
  {
   "cell_type": "code",
   "execution_count": 2,
   "id": "60ca6887-740e-4cbe-9149-978e9d3b3adc",
   "metadata": {},
   "outputs": [],
   "source": [
    "# Declare variables\n",
    "n = 2\n",
    "x = ca.SX.sym(\"x\", n) # Differential states\n",
    "z = ca.SX.sym(\"z\")   # Algebraic variable\n",
    "u = ca.SX.sym(\"u\")   # Control"
   ]
  },
  {
   "cell_type": "code",
   "execution_count": 3,
   "id": "5161809b-7e0e-4da7-8f2f-2d2fd2cf1b9d",
   "metadata": {},
   "outputs": [],
   "source": [
    "# Differential equation\n",
    "f_x = ca.vertcat(\n",
    "    z * x[0] - x[1] + u, \n",
    "    x[0]\n",
    ")"
   ]
  },
  {
   "cell_type": "code",
   "execution_count": 4,
   "id": "5566c217-5c9d-403f-8460-855fe9f63207",
   "metadata": {},
   "outputs": [],
   "source": [
    "# Algebraic equation\n",
    "f_z = x[1]**2 + z - 1"
   ]
  },
  {
   "cell_type": "code",
   "execution_count": 5,
   "id": "f82f3deb-bfc1-4cad-b006-17ac8d61a9ca",
   "metadata": {},
   "outputs": [],
   "source": [
    "# Lagrange cost term (quadrature)\n",
    "f_q = x[0]**2 + x[1]**2 + u**2"
   ]
  },
  {
   "cell_type": "code",
   "execution_count": 6,
   "id": "67452e4c-3e22-42c1-8057-d5bae9dc4bea",
   "metadata": {},
   "outputs": [],
   "source": [
    "# Create an integrator\n",
    "dae = {'x': x, 'z': z, 'p': u, 'ode': f_x, 'alg': f_z, 'quad': f_q}\n",
    "\n",
    "# interval length 0.5s\n",
    "I = ca.integrator('I', \"idas\", dae, 0, 0.5)"
   ]
  },
  {
   "cell_type": "code",
   "execution_count": 7,
   "id": "b5ddbc9a-35c1-45b5-bfa4-77ce3041ad60",
   "metadata": {},
   "outputs": [],
   "source": [
    "# All controls\n",
    "U = ca.MX.sym(\"U\", 20)"
   ]
  },
  {
   "cell_type": "code",
   "execution_count": 8,
   "id": "63bbde61-51f5-440a-b62a-534cfa8acbda",
   "metadata": {},
   "outputs": [],
   "source": [
    "# Construct graph of integrator calls\n",
    "X  = [0, 1]\n",
    "J = 0\n",
    "for k in range(20):\n",
    "    Ik = I(x0=X, p=U[k])\n",
    "    X = Ik['xf']\n",
    "    J += Ik['qf']   # Sum up quadratures"
   ]
  },
  {
   "cell_type": "code",
   "execution_count": 9,
   "id": "e11560d6-30ba-4c2f-b403-dbd4a6e03180",
   "metadata": {},
   "outputs": [],
   "source": [
    "# Allocate an NLP solver\n",
    "nlp = {'x': U, 'f': J, 'g': X}\n",
    "opts = {\"ipopt.linear_solver\": \"ma27\"}\n",
    "solver = ca.nlpsol(\"solver\", \"ipopt\", nlp, opts)"
   ]
  },
  {
   "cell_type": "code",
   "execution_count": 10,
   "id": "cf03920d-5134-4626-8abd-5ad5ceb9e0d8",
   "metadata": {},
   "outputs": [
    {
     "name": "stdout",
     "output_type": "stream",
     "text": [
      "Exception of type: DYNAMIC_LIBRARY_FAILURE in file \"/Users/runner/work/casadi/casadi/build/external_projects/src/ipopt-external/src/Common/IpLibraryLoader.cpp\" at line 72:\n",
      " Exception message: dlopen(libhsl.dylib, 0x0002): tried: 'libhsl.dylib' (no such file), '/System/Volumes/Preboot/Cryptexes/OSlibhsl.dylib' (no such file), '/Users/billtubbs/anaconda3/envs/casadi/lib/python3.10/site-packages/casadi/libhsl.dylib' (no such file), '/Users/billtubbs/anaconda3/envs/casadi/bin/../lib/libhsl.dylib' (no such file), '/usr/lib/libhsl.dylib' (no such file, not in dyld cache), 'libhsl.dylib' (no such file), '/usr/local/lib/libhsl.dylib' (no such file), '/usr/lib/libhsl.dylib' (no such file, not in dyld cache)\n",
      "\n",
      "EXIT: Library loading failure.\n",
      "      solver  :   t_proc      (avg)   t_wall      (avg)    n_eval\n",
      "       total  | 705.00us (705.00us) 637.45us (637.45us)         1\n"
     ]
    }
   ],
   "source": [
    "# Pass bounds, initial guess and solve NLP\n",
    "sol = solver(lbx = -0.75, # Lower variable bound\n",
    "             ubx =  1.0,  # Upper variable bound\n",
    "             lbg =  0.0,  # Lower constraint bound\n",
    "             ubg =  0.0,  # Upper constraint bound\n",
    "             x0  =  0.0) # Initial guess"
   ]
  },
  {
   "cell_type": "code",
   "execution_count": 11,
   "id": "b83a858d-d072-471e-a608-fb71ac5755cd",
   "metadata": {},
   "outputs": [
    {
     "data": {
      "text/plain": [
       "dict_keys(['f', 'g', 'lam_g', 'lam_p', 'lam_x', 'x'])"
      ]
     },
     "execution_count": 11,
     "metadata": {},
     "output_type": "execute_result"
    }
   ],
   "source": [
    "sol.keys()"
   ]
  },
  {
   "cell_type": "code",
   "execution_count": 12,
   "id": "c0e1f0b3-ea2e-4dd4-b517-405d232a5b47",
   "metadata": {},
   "outputs": [
    {
     "data": {
      "text/plain": [
       "DM([0, 0, 0, 0, 0, 0, 0, 0, 0, 0, 0, 0, 0, 0, 0, 0, 0, 0, 0, 0])"
      ]
     },
     "execution_count": 12,
     "metadata": {},
     "output_type": "execute_result"
    }
   ],
   "source": [
    "sol['x']"
   ]
  },
  {
   "cell_type": "code",
   "execution_count": null,
   "id": "337a6417-dff7-4e5e-a234-ce9c9b4cd3ae",
   "metadata": {},
   "outputs": [],
   "source": []
  },
  {
   "cell_type": "code",
   "execution_count": null,
   "id": "dfc33894-5133-4d92-9d25-1f926b874750",
   "metadata": {},
   "outputs": [],
   "source": []
  }
 ],
 "metadata": {
  "kernelspec": {
   "display_name": "Python (casadi)",
   "language": "python",
   "name": "casadi"
  },
  "language_info": {
   "codemirror_mode": {
    "name": "ipython",
    "version": 3
   },
   "file_extension": ".py",
   "mimetype": "text/x-python",
   "name": "python",
   "nbconvert_exporter": "python",
   "pygments_lexer": "ipython3",
   "version": "3.10.13"
  }
 },
 "nbformat": 4,
 "nbformat_minor": 5
}
