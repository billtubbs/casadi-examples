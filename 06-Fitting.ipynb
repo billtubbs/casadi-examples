{
 "cells": [
  {
   "cell_type": "markdown",
   "id": "247fb311-dabf-41f1-a441-4ea2917bbb1f",
   "metadata": {},
   "source": [
    "# Fitting"
   ]
  },
  {
   "cell_type": "code",
   "execution_count": 13,
   "id": "f943ad8b-3fbb-4b45-bc66-91331e636a10",
   "metadata": {},
   "outputs": [
    {
     "name": "stdout",
     "output_type": "stream",
     "text": [
      "Casadi: 3.6.5\n",
      "Python: 3.12.4\n"
     ]
    }
   ],
   "source": [
    "import os\n",
    "import numpy as np\n",
    "from numpy.testing import assert_array_almost_equal\n",
    "import matplotlib.pyplot as plt\n",
    "from casadi import MX, DM, Function, Opti\n",
    "import casadi as cas\n",
    "from platform import python_version\n",
    "\n",
    "print(f\"Casadi: {cas.__version__}\")\n",
    "print(f\"Python: {python_version()}\")"
   ]
  },
  {
   "cell_type": "code",
   "execution_count": 14,
   "id": "79e68b50-2ea8-4980-aeb3-b45831bc9f39",
   "metadata": {},
   "outputs": [],
   "source": [
    "data_dir = 'data'"
   ]
  },
  {
   "cell_type": "markdown",
   "id": "b113702f-3485-4dae-9b8a-a9a87ef45c73",
   "metadata": {},
   "source": [
    "## Predator-Prey System Model"
   ]
  },
  {
   "cell_type": "markdown",
   "id": "6957e795-d5f9-423b-a59f-cc8d20edd776",
   "metadata": {},
   "source": [
    "$$x_{k+1} = (a x_k - \\alpha x_k y_k) / (1 + \\gamma x_k)$$ \n",
    "$$y_{k+1} = (b y_k - \\beta x_k y_k) / (1 + \\delta y_k)$$ \n",
    "\n",
    "Unknown parameters:\n",
    "\n",
    "$$\n",
    "p = \\left[\n",
    "\\begin{matrix}\n",
    "    a & b & \\alpha & \\beta & \\gamma & \\delta\n",
    "\\end{matrix} \n",
    "\\right]^T$$\n"
   ]
  },
  {
   "cell_type": "markdown",
   "id": "4cb7cc71-72b4-45ef-ad01-f875580b631f",
   "metadata": {},
   "source": [
    "## 1. Alternative Formulations"
   ]
  },
  {
   "cell_type": "markdown",
   "id": "43bbaf67-ecbd-46f2-a530-08bd65e33f4b",
   "metadata": {},
   "source": [
    "### 1.1. Simulate the estimated population dynamics without CasADi"
   ]
  },
  {
   "cell_type": "code",
   "execution_count": 15,
   "id": "3884b0b9-7bf4-4c89-a213-6a21d40db973",
   "metadata": {},
   "outputs": [
    {
     "name": "stdout",
     "output_type": "stream",
     "text": [
      "  0: (10.0000, 0.1000)\n",
      "  1: (11.5410, 0.1209)\n",
      "  2: (12.9171, 0.1501)\n",
      "  3: (14.0516, 0.1910)\n",
      "  4: (14.8979, 0.2476)\n",
      "  5: (15.4339, 0.3254)\n",
      "  6: (15.6513, 0.4311)\n",
      "  7: (15.5445, 0.5725)\n",
      "  8: (15.1051, 0.7578)\n",
      "  9: (14.3225, 0.9938)\n",
      " 10: (13.1929, 1.2829)\n"
     ]
    }
   ],
   "source": [
    "def state_transition(z, a, b, alpha, beta, gamma, delta):\n",
    "    xk, yk = z[0], z[1]\n",
    "    xkp1 = (a * xk - alpha * xk * yk) / (1 + gamma * xk)\n",
    "    ykp1 = (b * yk + beta * xk * yk) / (1 + delta * yk)\n",
    "    return xkp1, ykp1\n",
    "\n",
    "p = [1.43, 0.99, 0.22, 0.022, 0.022, 0.011]\n",
    "xk, yk = [10, 0.1]\n",
    "print(f\"{0:3d}: ({xk:.4f}, {yk:.4f})\")\n",
    "N = 10\n",
    "z_predicted = [(xk, yk)]\n",
    "for k in range(1, N+1):\n",
    "    xk, yk = state_transition((xk, yk), *p)\n",
    "    z_predicted.append((xk, yk))\n",
    "    print(f\"{k:3d}: ({xk:.4f}, {yk:.4f})\")\n",
    "z_predicted = np.array(z_predicted)"
   ]
  },
  {
   "cell_type": "code",
   "execution_count": 16,
   "id": "28461ed2-470a-4f03-b758-eb4e1cac993d",
   "metadata": {},
   "outputs": [
    {
     "data": {
      "image/png": "[encoded data removed]",
      "text/plain": [
       "<Figure size 640x480 with 1 Axes>"
      ]
     },
     "metadata": {},
     "output_type": "display_data"
    }
   ],
   "source": [
    "plt.plot(z_predicted[:, 0], z_predicted[:, 1], marker='o')\n",
    "plt.xlabel('$x_k$')\n",
    "plt.ylabel('$y_k$')\n",
    "plt.grid()"
   ]
  },
  {
   "cell_type": "code",
   "execution_count": 17,
   "id": "1b81d5f7-9b5f-48e2-a32b-fc9aaee62f41",
   "metadata": {},
   "outputs": [],
   "source": [
    "assert_array_almost_equal(np.array([xk, yk]), [13.1929, 1.2829], decimal=4)"
   ]
  },
  {
   "cell_type": "markdown",
   "id": "d8c5d470-3555-4182-8841-41f458816ded",
   "metadata": {},
   "source": [
    "### 1.2. Compute sum-of-squared-deviations"
   ]
  },
  {
   "cell_type": "code",
   "execution_count": 18,
   "id": "348bbcba-ecb5-49d8-aeb6-4e148f20e72e",
   "metadata": {},
   "outputs": [
    {
     "ename": "FileNotFoundError",
     "evalue": "data\\data.mat not found.",
     "output_type": "error",
     "traceback": [
      "\u001b[1;31m---------------------------------------------------------------------------\u001b[0m",
      "\u001b[1;31mFileNotFoundError\u001b[0m                         Traceback (most recent call last)",
      "Cell \u001b[1;32mIn[18], line 2\u001b[0m\n\u001b[0;32m      1\u001b[0m filename \u001b[38;5;241m=\u001b[39m \u001b[38;5;124m'\u001b[39m\u001b[38;5;124mdata.mat\u001b[39m\u001b[38;5;124m'\u001b[39m\n\u001b[1;32m----> 2\u001b[0m z_data \u001b[38;5;241m=\u001b[39m \u001b[43mnp\u001b[49m\u001b[38;5;241;43m.\u001b[39;49m\u001b[43mloadtxt\u001b[49m\u001b[43m(\u001b[49m\u001b[43mos\u001b[49m\u001b[38;5;241;43m.\u001b[39;49m\u001b[43mpath\u001b[49m\u001b[38;5;241;43m.\u001b[39;49m\u001b[43mjoin\u001b[49m\u001b[43m(\u001b[49m\u001b[43mdata_dir\u001b[49m\u001b[43m,\u001b[49m\u001b[43m \u001b[49m\u001b[43mfilename\u001b[49m\u001b[43m)\u001b[49m\u001b[43m)\u001b[49m\n\u001b[0;32m      3\u001b[0m z_data\u001b[38;5;241m.\u001b[39mshape\n",
      "File \u001b[1;32mc:\\Users\\BillTubbs\\casadi-examples\\.venv\\Lib\\site-packages\\numpy\\lib\\_npyio_impl.py:1380\u001b[0m, in \u001b[0;36mloadtxt\u001b[1;34m(fname, dtype, comments, delimiter, converters, skiprows, usecols, unpack, ndmin, encoding, max_rows, quotechar, like)\u001b[0m\n\u001b[0;32m   1377\u001b[0m \u001b[38;5;28;01mif\u001b[39;00m \u001b[38;5;28misinstance\u001b[39m(delimiter, \u001b[38;5;28mbytes\u001b[39m):\n\u001b[0;32m   1378\u001b[0m     delimiter \u001b[38;5;241m=\u001b[39m delimiter\u001b[38;5;241m.\u001b[39mdecode(\u001b[38;5;124m'\u001b[39m\u001b[38;5;124mlatin1\u001b[39m\u001b[38;5;124m'\u001b[39m)\n\u001b[1;32m-> 1380\u001b[0m arr \u001b[38;5;241m=\u001b[39m \u001b[43m_read\u001b[49m\u001b[43m(\u001b[49m\u001b[43mfname\u001b[49m\u001b[43m,\u001b[49m\u001b[43m \u001b[49m\u001b[43mdtype\u001b[49m\u001b[38;5;241;43m=\u001b[39;49m\u001b[43mdtype\u001b[49m\u001b[43m,\u001b[49m\u001b[43m \u001b[49m\u001b[43mcomment\u001b[49m\u001b[38;5;241;43m=\u001b[39;49m\u001b[43mcomment\u001b[49m\u001b[43m,\u001b[49m\u001b[43m \u001b[49m\u001b[43mdelimiter\u001b[49m\u001b[38;5;241;43m=\u001b[39;49m\u001b[43mdelimiter\u001b[49m\u001b[43m,\u001b[49m\n\u001b[0;32m   1381\u001b[0m \u001b[43m            \u001b[49m\u001b[43mconverters\u001b[49m\u001b[38;5;241;43m=\u001b[39;49m\u001b[43mconverters\u001b[49m\u001b[43m,\u001b[49m\u001b[43m \u001b[49m\u001b[43mskiplines\u001b[49m\u001b[38;5;241;43m=\u001b[39;49m\u001b[43mskiprows\u001b[49m\u001b[43m,\u001b[49m\u001b[43m \u001b[49m\u001b[43musecols\u001b[49m\u001b[38;5;241;43m=\u001b[39;49m\u001b[43musecols\u001b[49m\u001b[43m,\u001b[49m\n\u001b[0;32m   1382\u001b[0m \u001b[43m            \u001b[49m\u001b[43munpack\u001b[49m\u001b[38;5;241;43m=\u001b[39;49m\u001b[43munpack\u001b[49m\u001b[43m,\u001b[49m\u001b[43m \u001b[49m\u001b[43mndmin\u001b[49m\u001b[38;5;241;43m=\u001b[39;49m\u001b[43mndmin\u001b[49m\u001b[43m,\u001b[49m\u001b[43m \u001b[49m\u001b[43mencoding\u001b[49m\u001b[38;5;241;43m=\u001b[39;49m\u001b[43mencoding\u001b[49m\u001b[43m,\u001b[49m\n\u001b[0;32m   1383\u001b[0m \u001b[43m            \u001b[49m\u001b[43mmax_rows\u001b[49m\u001b[38;5;241;43m=\u001b[39;49m\u001b[43mmax_rows\u001b[49m\u001b[43m,\u001b[49m\u001b[43m \u001b[49m\u001b[43mquote\u001b[49m\u001b[38;5;241;43m=\u001b[39;49m\u001b[43mquotechar\u001b[49m\u001b[43m)\u001b[49m\n\u001b[0;32m   1385\u001b[0m \u001b[38;5;28;01mreturn\u001b[39;00m arr\n",
      "File \u001b[1;32mc:\\Users\\BillTubbs\\casadi-examples\\.venv\\Lib\\site-packages\\numpy\\lib\\_npyio_impl.py:997\u001b[0m, in \u001b[0;36m_read\u001b[1;34m(fname, delimiter, comment, quote, imaginary_unit, usecols, skiplines, max_rows, converters, ndmin, unpack, dtype, encoding)\u001b[0m\n\u001b[0;32m    995\u001b[0m     fname \u001b[38;5;241m=\u001b[39m os\u001b[38;5;241m.\u001b[39mfspath(fname)\n\u001b[0;32m    996\u001b[0m \u001b[38;5;28;01mif\u001b[39;00m \u001b[38;5;28misinstance\u001b[39m(fname, \u001b[38;5;28mstr\u001b[39m):\n\u001b[1;32m--> 997\u001b[0m     fh \u001b[38;5;241m=\u001b[39m \u001b[43mnp\u001b[49m\u001b[38;5;241;43m.\u001b[39;49m\u001b[43mlib\u001b[49m\u001b[38;5;241;43m.\u001b[39;49m\u001b[43m_datasource\u001b[49m\u001b[38;5;241;43m.\u001b[39;49m\u001b[43mopen\u001b[49m\u001b[43m(\u001b[49m\u001b[43mfname\u001b[49m\u001b[43m,\u001b[49m\u001b[43m \u001b[49m\u001b[38;5;124;43m'\u001b[39;49m\u001b[38;5;124;43mrt\u001b[39;49m\u001b[38;5;124;43m'\u001b[39;49m\u001b[43m,\u001b[49m\u001b[43m \u001b[49m\u001b[43mencoding\u001b[49m\u001b[38;5;241;43m=\u001b[39;49m\u001b[43mencoding\u001b[49m\u001b[43m)\u001b[49m\n\u001b[0;32m    998\u001b[0m     \u001b[38;5;28;01mif\u001b[39;00m encoding \u001b[38;5;129;01mis\u001b[39;00m \u001b[38;5;28;01mNone\u001b[39;00m:\n\u001b[0;32m    999\u001b[0m         encoding \u001b[38;5;241m=\u001b[39m \u001b[38;5;28mgetattr\u001b[39m(fh, \u001b[38;5;124m'\u001b[39m\u001b[38;5;124mencoding\u001b[39m\u001b[38;5;124m'\u001b[39m, \u001b[38;5;124m'\u001b[39m\u001b[38;5;124mlatin1\u001b[39m\u001b[38;5;124m'\u001b[39m)\n",
      "File \u001b[1;32mc:\\Users\\BillTubbs\\casadi-examples\\.venv\\Lib\\site-packages\\numpy\\lib\\_datasource.py:192\u001b[0m, in \u001b[0;36mopen\u001b[1;34m(path, mode, destpath, encoding, newline)\u001b[0m\n\u001b[0;32m    155\u001b[0m \u001b[38;5;250m\u001b[39m\u001b[38;5;124;03m\"\"\"\u001b[39;00m\n\u001b[0;32m    156\u001b[0m \u001b[38;5;124;03mOpen `path` with `mode` and return the file object.\u001b[39;00m\n\u001b[0;32m    157\u001b[0m \n\u001b[1;32m   (...)\u001b[0m\n\u001b[0;32m    188\u001b[0m \n\u001b[0;32m    189\u001b[0m \u001b[38;5;124;03m\"\"\"\u001b[39;00m\n\u001b[0;32m    191\u001b[0m ds \u001b[38;5;241m=\u001b[39m DataSource(destpath)\n\u001b[1;32m--> 192\u001b[0m \u001b[38;5;28;01mreturn\u001b[39;00m \u001b[43mds\u001b[49m\u001b[38;5;241;43m.\u001b[39;49m\u001b[43mopen\u001b[49m\u001b[43m(\u001b[49m\u001b[43mpath\u001b[49m\u001b[43m,\u001b[49m\u001b[43m \u001b[49m\u001b[43mmode\u001b[49m\u001b[43m,\u001b[49m\u001b[43m \u001b[49m\u001b[43mencoding\u001b[49m\u001b[38;5;241;43m=\u001b[39;49m\u001b[43mencoding\u001b[49m\u001b[43m,\u001b[49m\u001b[43m \u001b[49m\u001b[43mnewline\u001b[49m\u001b[38;5;241;43m=\u001b[39;49m\u001b[43mnewline\u001b[49m\u001b[43m)\u001b[49m\n",
      "File \u001b[1;32mc:\\Users\\BillTubbs\\casadi-examples\\.venv\\Lib\\site-packages\\numpy\\lib\\_datasource.py:532\u001b[0m, in \u001b[0;36mDataSource.open\u001b[1;34m(self, path, mode, encoding, newline)\u001b[0m\n\u001b[0;32m    529\u001b[0m     \u001b[38;5;28;01mreturn\u001b[39;00m _file_openers[ext](found, mode\u001b[38;5;241m=\u001b[39mmode,\n\u001b[0;32m    530\u001b[0m                               encoding\u001b[38;5;241m=\u001b[39mencoding, newline\u001b[38;5;241m=\u001b[39mnewline)\n\u001b[0;32m    531\u001b[0m \u001b[38;5;28;01melse\u001b[39;00m:\n\u001b[1;32m--> 532\u001b[0m     \u001b[38;5;28;01mraise\u001b[39;00m \u001b[38;5;167;01mFileNotFoundError\u001b[39;00m(\u001b[38;5;124mf\u001b[39m\u001b[38;5;124m\"\u001b[39m\u001b[38;5;132;01m{\u001b[39;00mpath\u001b[38;5;132;01m}\u001b[39;00m\u001b[38;5;124m not found.\u001b[39m\u001b[38;5;124m\"\u001b[39m)\n",
      "\u001b[1;31mFileNotFoundError\u001b[0m: data\\data.mat not found."
     ]
    }
   ],
   "source": [
    "filename = 'data.mat'\n",
    "z_data = np.loadtxt(os.path.join(data_dir, filename))\n",
    "z_data.shape"
   ]
  },
  {
   "cell_type": "code",
   "execution_count": null,
   "id": "88c6c4a0-c2a1-42e7-8709-6f94b62850b4",
   "metadata": {},
   "outputs": [],
   "source": [
    "errors = z_data[:11] - z_predicted\n",
    "errors"
   ]
  },
  {
   "cell_type": "code",
   "execution_count": null,
   "id": "4cc96b9c-df3e-40d2-8514-6cca216507f5",
   "metadata": {},
   "outputs": [],
   "source": [
    "sse = np.sum((errors) ** 2)\n",
    "sse"
   ]
  },
  {
   "cell_type": "code",
   "execution_count": null,
   "id": "78975a0f-7cdc-4f95-b04b-697a55f6646e",
   "metadata": {},
   "outputs": [],
   "source": [
    "assert round(sse, 3) == 56.893"
   ]
  },
  {
   "cell_type": "markdown",
   "id": "bad6b11c-964b-409a-beb0-c5e16777b231",
   "metadata": {},
   "source": [
    "### 1.3. Fit parameters"
   ]
  },
  {
   "cell_type": "code",
   "execution_count": null,
   "id": "4ad7f75e-3405-436f-9f75-7d0ad7dc7a3c",
   "metadata": {},
   "outputs": [],
   "source": [
    "opti = Opti()\n",
    "\n",
    "N = 100\n",
    "a = opti.variable()\n",
    "b = opti.variable()\n",
    "alpha = opti.variable() \n",
    "beta = opti.variable()\n",
    "gamma = opti.variable()\n",
    "delta = opti.variable()\n",
    "p = cas.vertcat(a, b, alpha, beta, gamma, delta)\n",
    "\n",
    "# Construct objective function and add constraints\n",
    "xk, yk = 10, 0.1\n",
    "f = 0\n",
    "k = 0\n",
    "while True:\n",
    "    f += cas.sum2((xk - z_data[k, 0]) ** 2 + (yk - z_data[k, 1]) ** 2)\n",
    "    if k == N:\n",
    "        break\n",
    "    xk, yk = state_transition(cas.vertcat(xk, yk), a, b, alpha, beta, gamma, delta)\n",
    "    k += 1\n",
    "\n",
    "f.shape"
   ]
  },
  {
   "cell_type": "code",
   "execution_count": null,
   "id": "636b8c96-7ee0-46fe-b502-7f33d953f171",
   "metadata": {},
   "outputs": [],
   "source": [
    "opti.minimize(f)\n",
    "opti.solver('ipopt')\n",
    "opti.set_initial(p, [1.43, 0.99, 0.22, 0.022, 0.022, 0.011])\n",
    "\n",
    "sol = opti.solve()"
   ]
  },
  {
   "cell_type": "code",
   "execution_count": null,
   "id": "32d8edd4-d7f8-480e-a3e7-ea6428272336",
   "metadata": {},
   "outputs": [],
   "source": [
    "sol.value(p)"
   ]
  },
  {
   "cell_type": "code",
   "execution_count": null,
   "id": "40e0c056-379f-4813-88ff-07c3821bfc7c",
   "metadata": {},
   "outputs": [],
   "source": [
    "assert_array_almost_equal(sol.value(p), [1.3 , 0.9 , 0.2 , 0.02, 0.02, 0.01])"
   ]
  },
  {
   "cell_type": "markdown",
   "id": "e5739483-ba6e-496a-9be9-4ffc2783dadc",
   "metadata": {},
   "source": [
    "## 2. CasADi solvers"
   ]
  },
  {
   "cell_type": "markdown",
   "id": "c4221152-7a48-4c45-abe0-13d68c9bda9b",
   "metadata": {},
   "source": [
    "### 1.2 Reformulate implementation"
   ]
  },
  {
   "cell_type": "code",
   "execution_count": null,
   "id": "6f491f28-fed1-4e8a-9ed8-1658984e0416",
   "metadata": {},
   "outputs": [],
   "source": [
    "opti = Opti()\n",
    "\n",
    "N = 100\n",
    "a = opti.variable()\n",
    "b = opti.variable()\n",
    "alpha = opti.variable() \n",
    "beta = opti.variable()\n",
    "gamma = opti.variable()\n",
    "delta = opti.variable()\n",
    "p = cas.vertcat(a, b, alpha, beta, gamma, delta)\n",
    "\n",
    "# Construct objective function and add constraints\n",
    "xk, yk = 10, 0.1\n",
    "F = []\n",
    "k = 0\n",
    "while True:\n",
    "    F.append(xk - z_data[k, 0])\n",
    "    F.append(yk - z_data[k, 1])\n",
    "    if k == N:\n",
    "        break\n",
    "    xk, yk = state_transition(cas.vertcat(xk, yk), a, b, alpha, beta, gamma, delta)\n",
    "    k += 1\n",
    "\n",
    "F = cas.vertcat(*F)\n",
    "F.shape"
   ]
  },
  {
   "cell_type": "code",
   "execution_count": null,
   "id": "8355dcd2-bf2c-41fc-99f7-ebd551f0928d",
   "metadata": {},
   "outputs": [],
   "source": [
    "opti.minimize(F.T @ F)\n",
    "opti.solver('ipopt')\n",
    "opti.set_initial(p, [1.43, 0.99, 0.22, 0.022, 0.022, 0.011])\n",
    "sol = opti.solve()"
   ]
  },
  {
   "cell_type": "markdown",
   "id": "f19aae95-53a2-4b00-93fe-3c30bc9bb0c9",
   "metadata": {},
   "source": [
    "Note:\n",
    " - `lg(rg)` in the iterations table above relates to the necessary step of regularizing the Hessian by adding $\\beta I$ to it.  E.g 4 means $\\beta = 10^4$, which is quite a lot and might slow down convergence."
   ]
  },
  {
   "cell_type": "code",
   "execution_count": null,
   "id": "79f7f196-d2d0-432d-84ce-889f21b12ff7",
   "metadata": {},
   "outputs": [],
   "source": [
    "sol.value(p)"
   ]
  },
  {
   "cell_type": "code",
   "execution_count": null,
   "id": "2e2239e1-719f-41f1-b7b4-6ef71913f04a",
   "metadata": {},
   "outputs": [],
   "source": [
    "assert_array_almost_equal(sol.value(p), [1.3 , 0.9 , 0.2 , 0.02, 0.02, 0.01])"
   ]
  },
  {
   "cell_type": "markdown",
   "id": "2680ed6d-203a-4ac2-a08d-63c8357d8529",
   "metadata": {},
   "source": [
    "### 2.2. Pass a custom Hessian H to IPOPT"
   ]
  },
  {
   "cell_type": "code",
   "execution_count": null,
   "id": "a91adaa8-3649-426f-9db7-02d403dce276",
   "metadata": {},
   "outputs": [],
   "source": [
    "opti = Opti()\n",
    "\n",
    "N = 100\n",
    "a = opti.variable()\n",
    "b = opti.variable()\n",
    "alpha = opti.variable() \n",
    "beta = opti.variable()\n",
    "gamma = opti.variable()\n",
    "delta = opti.variable()\n",
    "p = cas.vertcat(a, b, alpha, beta, gamma, delta)\n",
    "\n",
    "# Construct objective function and add constraints\n",
    "xk, yk = 10, 0.1\n",
    "F = []\n",
    "k = 0\n",
    "while True:\n",
    "    F.append(xk - z_data[k, 0])\n",
    "    F.append(yk - z_data[k, 1])\n",
    "    if k == N:\n",
    "        break\n",
    "    xk, yk = state_transition(cas.vertcat(xk, yk), a, b, alpha, beta, gamma, delta)\n",
    "    k += 1\n",
    "\n",
    "F = cas.vertcat(*F)  # can also use vcat(F)\n",
    "F.shape"
   ]
  },
  {
   "cell_type": "markdown",
   "id": "4c257a29-fc0b-4a19-b07d-2acf4e4ed23c",
   "metadata": {},
   "source": [
    "Least-squares minimization update\n",
    "\n",
    "$$\\Delta x = - (\\nabla^2 f)^{-1} \\nabla f $$\n",
    "\n",
    "Gauss-Newton Hessian approximation\n",
    "\n",
    "$$\\nabla^2f = J^T J$$"
   ]
  },
  {
   "cell_type": "code",
   "execution_count": null,
   "id": "8a4c22e7-f6d9-47c9-8ef2-411ee8692c41",
   "metadata": {},
   "outputs": [],
   "source": [
    "opti.minimize(F.T @ F)"
   ]
  },
  {
   "cell_type": "code",
   "execution_count": null,
   "id": "7479bfde-903b-4439-9386-5aec3dc59323",
   "metadata": {},
   "outputs": [],
   "source": [
    "J = cas.jacobian(F, p)\n",
    "J.shape"
   ]
  },
  {
   "cell_type": "code",
   "execution_count": null,
   "id": "15c4ec66-cda8-467c-a9ea-36e306a80015",
   "metadata": {},
   "outputs": [],
   "source": [
    "H = 2 * J.T @ J  # need to include the 2 here because obj. func. excluded the 1/2\n",
    "H.shape"
   ]
  },
  {
   "cell_type": "code",
   "execution_count": null,
   "id": "7fa3a55f-fed2-4eae-9a08-c6a63c88b2dd",
   "metadata": {},
   "outputs": [],
   "source": [
    "H.sparsity().spy()"
   ]
  },
  {
   "cell_type": "code",
   "execution_count": null,
   "id": "1e8d1c2e-4fea-4c81-919c-665d43a1320a",
   "metadata": {},
   "outputs": [],
   "source": [
    "sigma = MX.sym('sigma')\n",
    "# Overwrite default CasADi Hessian provided to IPOPT. \n",
    "# When using custom Hessians in CasADi, you have to \n",
    "# comply with the internals of the solver. As it \n",
    "# happens, IPOPT solver requests only the upper \n",
    "# triangular part of the symmetric Hessian.\n",
    "hess_lag = Function(\n",
    "    'hess_lag',\n",
    "    [opti.x, opti.p, sigma, opti.lam_g],\n",
    "    [sigma * cas.triu(H)]\n",
    ")\n",
    "opts = {'hess_lag': hess_lag}\n",
    "opti.solver('ipopt', opts)"
   ]
  },
  {
   "cell_type": "code",
   "execution_count": null,
   "id": "fa55b101-beeb-4a93-a003-6af3f23d0b4c",
   "metadata": {},
   "outputs": [],
   "source": [
    "opti.set_initial(p, [1.43, 0.99, 0.22, 0.022, 0.022, 0.011])\n",
    "sol = opti.solve()"
   ]
  },
  {
   "cell_type": "code",
   "execution_count": null,
   "id": "ad292a05-6527-4cea-9784-904c2ea751fc",
   "metadata": {},
   "outputs": [],
   "source": [
    "assert_array_almost_equal(sol.value(p), [1.3 , 0.9 , 0.2 , 0.02, 0.02, 0.01])"
   ]
  },
  {
   "cell_type": "markdown",
   "id": "ba89d065-97bf-43eb-93ef-d85244cd5f21",
   "metadata": {},
   "source": [
    "Note:\n",
    " - This converged faster compared to previous attempt (10 iterations compared to 14) and regularization of the Hessian was not needed (`lg(rg)` or $\\beta$ was zero)"
   ]
  },
  {
   "cell_type": "markdown",
   "id": "14710d54-e844-4fe2-9420-22a4f3f376c5",
   "metadata": {},
   "source": [
    "### 2.3. Reformulate again"
   ]
  },
  {
   "cell_type": "code",
   "execution_count": null,
   "id": "15aab9e4-ac97-475e-a83d-5007b36b41da",
   "metadata": {},
   "outputs": [],
   "source": [
    "opti = Opti()\n",
    "\n",
    "N = 100\n",
    "a = opti.variable()\n",
    "b = opti.variable()\n",
    "alpha = opti.variable() \n",
    "beta = opti.variable()\n",
    "gamma = opti.variable()\n",
    "delta = opti.variable()\n",
    "p = cas.vertcat(a, b, alpha, beta, gamma, delta)\n",
    "\n",
    "xk, yk = 10, 0.1\n",
    "\n",
    "# Simulate system\n",
    "# Z = []\n",
    "# for k in range(1, N + 1):\n",
    "#     xk, yk = state_transition(cas.vertcat(xk, yk), a, b, alpha, beta, gamma, delta)\n",
    "#     Z.append(cas.horzcat(xk, yk))\n",
    "# Z = vcat(Z)\n",
    "\n",
    "# Using a list comprehension\n",
    "z = cas.horzcat(10, 0.1)\n",
    "Z = cas.vcat([z] + [\n",
    "    (z := cas.horzcat(*state_transition(z, a, b, alpha, beta, gamma, delta)))\n",
    "    for k in range(1, N + 1)\n",
    "])\n",
    "\n",
    "Z.shape"
   ]
  },
  {
   "cell_type": "code",
   "execution_count": null,
   "id": "03188c64-d761-4323-bdcb-2dcddb3bb816",
   "metadata": {},
   "outputs": [],
   "source": [
    "# Create a mapping between the decision variables (parameters) and \n",
    "# the whole state trajectory\n",
    "S = Function('S', [p], [Z], ['p'], ['Z'])\n",
    "S"
   ]
  },
  {
   "cell_type": "code",
   "execution_count": null,
   "id": "a0d2d4bb-d217-413c-b2ca-8503475af7b2",
   "metadata": {},
   "outputs": [],
   "source": [
    "F = cas.vec(S(p) - z_data)\n",
    "opti.minimize(F.T @ F)\n",
    "opti.solver('ipopt', opts)"
   ]
  },
  {
   "cell_type": "code",
   "execution_count": null,
   "id": "bdc84da6-c435-4202-ac3d-ef877aca4776",
   "metadata": {},
   "outputs": [],
   "source": [
    "opti.set_initial(p, [1.43, 0.99, 0.22, 0.022, 0.022, 0.011])\n",
    "sol = opti.solve()"
   ]
  },
  {
   "cell_type": "code",
   "execution_count": null,
   "id": "5d6cb7d4-31c6-498d-b95b-1523abc42707",
   "metadata": {},
   "outputs": [],
   "source": [
    "assert_array_almost_equal(sol.value(p), [1.3 , 0.9 , 0.2 , 0.02, 0.02, 0.01])"
   ]
  },
  {
   "cell_type": "markdown",
   "id": "a13dfc60-1e2a-4805-abc7-2a033582369e",
   "metadata": {},
   "source": [
    "### 2.4. With an outlier in the data"
   ]
  },
  {
   "cell_type": "code",
   "execution_count": null,
   "id": "0548c584-f02d-4ed8-8edc-5cf99d0dd2cd",
   "metadata": {},
   "outputs": [],
   "source": [
    "z_data_outlier = z_data.copy()\n",
    "z_data_outlier[9, 0] = 1\n",
    "\n",
    "opti = Opti()\n",
    "\n",
    "N = 100\n",
    "a = opti.variable()\n",
    "b = opti.variable()\n",
    "alpha = opti.variable() \n",
    "beta = opti.variable()\n",
    "gamma = opti.variable()\n",
    "delta = opti.variable()\n",
    "p = cas.vertcat(a, b, alpha, beta, gamma, delta)\n",
    "\n",
    "x, y = 10, 0.1\n",
    "z = cas.horzcat(10, 0.1)\n",
    "Z = cas.vcat([z] + [\n",
    "    (z := cas.horzcat(*state_transition(z, a, b, alpha, beta, gamma, delta)))\n",
    "    for k in range(1, N + 1)\n",
    "])\n",
    "S = Function('S', [p], [Z], ['p'], ['Z'])\n",
    "\n",
    "F = cas.vec(S(p) - z_data_outlier)\n",
    "opti.minimize(F.T @ F)\n",
    "\n",
    "opti.solver('ipopt')\n",
    "p0 = [1.43, 0.99, 0.22, 0.022, 0.022, 0.011]\n",
    "opti.set_initial(p, p0)\n",
    "sol = opti.solve()"
   ]
  },
  {
   "cell_type": "code",
   "execution_count": null,
   "id": "7e3929d1-f0b9-4c85-a33a-81ea1beb819f",
   "metadata": {},
   "outputs": [],
   "source": [
    "p_sol = sol.value(p)\n",
    "p_sol"
   ]
  },
  {
   "cell_type": "code",
   "execution_count": null,
   "id": "ab46f7b3-b934-4047-b913-8d67c76fb6b6",
   "metadata": {},
   "outputs": [],
   "source": [
    "z_pred = S(p_sol)\n",
    "colors = ['tab:blue', 'tab:orange']\n",
    "lines = plt.plot(z_data_outlier, ls='none', marker='.', label='data')\n",
    "for i, line in enumerate(lines):\n",
    "    plt.plot(z_pred[:, i], label='model', color=line.get_color())\n",
    "plt.legend()\n",
    "plt.grid()\n",
    "plt.show()"
   ]
  },
  {
   "cell_type": "markdown",
   "id": "94eabe66-5c95-49bb-b213-e08e31c5943c",
   "metadata": {},
   "source": [
    "Comment:\n",
    " - Fit is quite badly affected by the outlier.  Method is not robust."
   ]
  },
  {
   "cell_type": "markdown",
   "id": "9f63954d-fb2b-4b1b-9ae6-54e869b65b54",
   "metadata": {},
   "source": [
    "### 2.5 Fit using a 1-norm"
   ]
  },
  {
   "cell_type": "code",
   "execution_count": null,
   "id": "2292d5fc-7673-414e-ae44-5deaf927088b",
   "metadata": {},
   "outputs": [],
   "source": [
    "opti = Opti()\n",
    "\n",
    "N = 100\n",
    "a = opti.variable()\n",
    "b = opti.variable()\n",
    "alpha = opti.variable() \n",
    "beta = opti.variable()\n",
    "gamma = opti.variable()\n",
    "delta = opti.variable()\n",
    "p = cas.vertcat(a, b, alpha, beta, gamma, delta)\n",
    "\n",
    "x, y = 10, 0.1\n",
    "z = cas.horzcat(10, 0.1)\n",
    "Z = cas.vcat([z] + [\n",
    "    (z := cas.horzcat(*state_transition(z, a, b, alpha, beta, gamma, delta)))\n",
    "    for k in range(1, N + 1)\n",
    "])\n",
    "S = Function('S', [p], [Z], ['p'], ['Z'])\n",
    "\n",
    "F = cas.vec(S(p) - z_data_outlier)\n",
    "\n",
    "# Use an L1-norm\n",
    "# Method requires 'squeezing' the errors between constraints\n",
    "# and penalizing the distance between the constraints - see slide 14 in lecture notes\n",
    "L = opti.variable(2 * (N + 1))\n",
    "opti.minimize(cas.sum1(L))\n",
    "opti.subject_to(opti.bounded(-L, F, L))\n",
    "\n",
    "opti.solver('ipopt')\n",
    "p0 = [1.43, 0.99, 0.22, 0.022, 0.022, 0.011]\n",
    "opti.set_initial(p, p0)\n",
    "sol = opti.solve()"
   ]
  },
  {
   "cell_type": "code",
   "execution_count": null,
   "id": "019549fb-39c1-4dfc-9337-348bb5fa72f3",
   "metadata": {},
   "outputs": [],
   "source": [
    "p_sol = sol.value(p)\n",
    "p_sol"
   ]
  },
  {
   "cell_type": "code",
   "execution_count": null,
   "id": "8bf63eda-d50c-45dd-9c5c-08a2857e0495",
   "metadata": {},
   "outputs": [],
   "source": [
    "assert_array_almost_equal(sol.value(p), [1.3 , 0.9 , 0.2 , 0.02, 0.02, 0.01])"
   ]
  },
  {
   "cell_type": "code",
   "execution_count": null,
   "id": "a73fdf26-a88b-4a3b-b308-631d6626396b",
   "metadata": {},
   "outputs": [],
   "source": [
    "z_pred = S(p_sol)\n",
    "colors = ['tab:blue', 'tab:orange']\n",
    "lines = plt.plot(z_data_outlier, ls='none', marker='.', label='data')\n",
    "for i, line in enumerate(lines):\n",
    "    plt.plot(z_pred[:, i], label='model', color=line.get_color())\n",
    "plt.legend()\n",
    "plt.grid()\n",
    "plt.show()"
   ]
  },
  {
   "cell_type": "code",
   "execution_count": null,
   "id": "463e07d4-3966-4372-b9d3-f00b5948d463",
   "metadata": {},
   "outputs": [],
   "source": []
  },
  {
   "cell_type": "code",
   "execution_count": null,
   "id": "59a07fdd-c5bf-4ec2-bd71-85bb1f0f3b32",
   "metadata": {},
   "outputs": [],
   "source": []
  },
  {
   "cell_type": "code",
   "execution_count": null,
   "id": "9a338fe9-a153-4227-9b5c-5e8df8533501",
   "metadata": {},
   "outputs": [],
   "source": []
  },
  {
   "cell_type": "code",
   "execution_count": null,
   "id": "ae18ae89-72a1-47dd-bb72-27975a3f9fa7",
   "metadata": {},
   "outputs": [],
   "source": []
  }
 ],
 "metadata": {
  "kernelspec": {
   "display_name": ".venv",
   "language": "python",
   "name": "python3"
  },
  "language_info": {
   "codemirror_mode": {
    "name": "ipython",
    "version": 3
   },
   "file_extension": ".py",
   "mimetype": "text/x-python",
   "name": "python",
   "nbconvert_exporter": "python",
   "pygments_lexer": "ipython3",
   "version": "3.12.4"
  }
 },
 "nbformat": 4,
 "nbformat_minor": 5
}
