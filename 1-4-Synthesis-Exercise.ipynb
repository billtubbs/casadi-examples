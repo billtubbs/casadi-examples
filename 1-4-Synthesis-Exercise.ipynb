{
 "cells": [
  {
   "cell_type": "markdown",
   "id": "e12a1324-7139-4ce6-acd5-94778d095e31",
   "metadata": {},
   "source": [
    "# Exercise: Nonlinear Programming¶"
   ]
  },
  {
   "cell_type": "code",
   "execution_count": 173,
   "id": "3a6669a3-ca33-4652-80fa-62aa0aeb34ea",
   "metadata": {},
   "outputs": [
    {
     "data": {
      "text/plain": [
       "'3.6.4'"
      ]
     },
     "execution_count": 173,
     "metadata": {},
     "output_type": "execute_result"
    }
   ],
   "source": [
    "import os\n",
    "import numpy as np\n",
    "from numpy.testing import assert_array_equal, assert_array_almost_equal\n",
    "import matplotlib.pyplot as plt\n",
    "from casadi import (\n",
    "    DM, SX, MX, Function,\n",
    "    vertcat, horzcat,\n",
    "    norm_2,\n",
    "    rootfinder\n",
    ")\n",
    "\n",
    "import casadi\n",
    "casadi.__version__"
   ]
  },
  {
   "cell_type": "code",
   "execution_count": 174,
   "id": "eaca20d0-b9aa-4bfe-9530-0047db5af18a",
   "metadata": {},
   "outputs": [],
   "source": [
    "plot_dir = 'plots'\n",
    "if not os.path.exists(plot_dir):\n",
    "    os.mkdir(plot_dir)"
   ]
  },
  {
   "cell_type": "markdown",
   "id": "00397cd0-ef26-4e63-954c-a519877e0fd3",
   "metadata": {},
   "source": [
    "## Golf Ball Problem"
   ]
  },
  {
   "cell_type": "markdown",
   "id": "3da1352f-53e2-466e-b27c-604940e54e29",
   "metadata": {},
   "source": [
    "\\begin{aligned}\n",
    "\\cases{\\begin{matrix}\n",
    "    \\dot{\\mathbf{p}} = \\mathbf{v} \\\\\n",
    "    \\dot{\\mathbf{v}} = \\mathbf{g} - \\frac{1}{m} c \\| \\mathbf{v} \\|_2 \\mathbf{v}\n",
    "\\end{matrix}\n",
    "}\n",
    "\\end{aligned}\n",
    "\n",
    "where\n",
    "\n",
    "\\begin{aligned}\n",
    "\\mathbf{p} = \\left[ \\begin{matrix} x \\\\ y \\end{matrix} \\right],\n",
    "\\mathbf{v} = \\left[ \\begin{matrix} v_x \\\\ v_y \\end{matrix} \\right],\n",
    "\\mathbf{g} = \\left[ \\begin{matrix} 0 \\\\ -g \\end{matrix} \\right]\n",
    "\\end{aligned}"
   ]
  },
  {
   "cell_type": "markdown",
   "id": "cdd98905-19a3-4c1d-8ce4-16d85b01538e",
   "metadata": {},
   "source": [
    "## 1. Integrating the golf ball’s state"
   ]
  },
  {
   "cell_type": "markdown",
   "id": "9f732133-1cf9-43bf-9b55-fed2811e2530",
   "metadata": {},
   "source": [
    "### 1.1 CasADi expression for the ODE"
   ]
  },
  {
   "cell_type": "code",
   "execution_count": 189,
   "id": "6b1ba4dd-0751-4895-b9ed-c26086cd9547",
   "metadata": {},
   "outputs": [
    {
     "data": {
      "text/plain": [
       "DM([00, -9.81])"
      ]
     },
     "execution_count": 189,
     "metadata": {},
     "output_type": "execute_result"
    }
   ],
   "source": [
    "p = MX.sym('p', 2)\n",
    "v = MX.sym('v', 2)\n",
    "\n",
    "# Constants\n",
    "m = DM(0.04593)\n",
    "g = SX(2, 1)\n",
    "g[1] = -9.81\n",
    "c = DM(17.5e-5)\n",
    "g = DM(2, 1)\n",
    "g[1] = -9.81\n",
    "g"
   ]
  },
  {
   "cell_type": "code",
   "execution_count": 190,
   "id": "845972f7-aeeb-4eda-969d-6b000a262ba9",
   "metadata": {},
   "outputs": [
    {
     "data": {
      "text/plain": [
       "MX(vertcat(v, ([0, -9.81]-(((0.000175*||v||_F)*v)/0.04593))))"
      ]
     },
     "execution_count": 190,
     "metadata": {},
     "output_type": "execute_result"
    }
   ],
   "source": [
    "rhs = vertcat(\n",
    "    v,\n",
    "    g - c * norm_2(v) * v / m\n",
    ")\n",
    "\n",
    "assert rhs.shape == (4, 1)\n",
    "rhs"
   ]
  },
  {
   "cell_type": "code",
   "execution_count": 194,
   "id": "ad3ef544-405f-4d74-988d-0847ba0de8f6",
   "metadata": {},
   "outputs": [],
   "source": [
    "f = Function('rhs', [vertcat(p, v)], [rhs])\n",
    "assert_array_almost_equal(\n",
    "    f([0.0, 0.0, 35.0, 30.0]), \n",
    "    [[35], [30], [-6.14737], [-15.0792]], \n",
    "    decimal=4\n",
    ")"
   ]
  },
  {
   "cell_type": "code",
   "execution_count": null,
   "id": "5923eaf2-cf63-4fb0-8bff-ecef356cc865",
   "metadata": {},
   "outputs": [],
   "source": []
  },
  {
   "cell_type": "code",
   "execution_count": null,
   "id": "f18b5481-3486-4dd4-81f5-3e2ec7903a76",
   "metadata": {},
   "outputs": [],
   "source": []
  },
  {
   "cell_type": "code",
   "execution_count": null,
   "id": "4f30c7a6-3070-4ad8-ad35-5901f7f35b65",
   "metadata": {},
   "outputs": [],
   "source": []
  },
  {
   "cell_type": "code",
   "execution_count": null,
   "id": "4ceb03af-5f02-4a04-8ba6-4585c5332795",
   "metadata": {},
   "outputs": [],
   "source": []
  },
  {
   "cell_type": "code",
   "execution_count": null,
   "id": "7b3e691f-d7d1-4d3e-9cc5-ec5e6d751d36",
   "metadata": {},
   "outputs": [],
   "source": []
  }
 ],
 "metadata": {
  "kernelspec": {
   "display_name": "Python (casadi)",
   "language": "python",
   "name": "casadi"
  },
  "language_info": {
   "codemirror_mode": {
    "name": "ipython",
    "version": 3
   },
   "file_extension": ".py",
   "mimetype": "text/x-python",
   "name": "python",
   "nbconvert_exporter": "python",
   "pygments_lexer": "ipython3",
   "version": "3.10.13"
  }
 },
 "nbformat": 4,
 "nbformat_minor": 5
}
