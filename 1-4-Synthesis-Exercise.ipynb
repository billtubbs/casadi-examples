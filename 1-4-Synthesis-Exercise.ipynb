{
 "cells": [
  {
   "cell_type": "markdown",
   "id": "e12a1324-7139-4ce6-acd5-94778d095e31",
   "metadata": {},
   "source": [
    "# Exercise: Nonlinear Programming¶"
   ]
  },
  {
   "cell_type": "code",
   "execution_count": 1,
   "id": "3a6669a3-ca33-4652-80fa-62aa0aeb34ea",
   "metadata": {},
   "outputs": [
    {
     "data": {
      "text/plain": [
       "'3.6.4'"
      ]
     },
     "execution_count": 1,
     "metadata": {},
     "output_type": "execute_result"
    }
   ],
   "source": [
    "import os\n",
    "import numpy as np\n",
    "from numpy.testing import assert_array_equal, assert_array_almost_equal\n",
    "import matplotlib.pyplot as plt\n",
    "from casadi import (\n",
    "    DM, SX, MX, Function,\n",
    "    vertcat, horzcat,\n",
    "    norm_2, sin, cos, pi,\n",
    "    integrator, rootfinder\n",
    ")\n",
    "\n",
    "import casadi\n",
    "casadi.__version__"
   ]
  },
  {
   "cell_type": "code",
   "execution_count": 2,
   "id": "eaca20d0-b9aa-4bfe-9530-0047db5af18a",
   "metadata": {},
   "outputs": [],
   "source": [
    "plot_dir = 'plots'\n",
    "if not os.path.exists(plot_dir):\n",
    "    os.mkdir(plot_dir)"
   ]
  },
  {
   "cell_type": "markdown",
   "id": "00397cd0-ef26-4e63-954c-a519877e0fd3",
   "metadata": {},
   "source": [
    "## Golf Ball Problem"
   ]
  },
  {
   "cell_type": "markdown",
   "id": "3da1352f-53e2-466e-b27c-604940e54e29",
   "metadata": {},
   "source": [
    "\\begin{aligned}\n",
    "\\cases{\\begin{matrix}\n",
    "    \\dot{\\mathbf{p}} = \\mathbf{v} \\\\\n",
    "    \\dot{\\mathbf{v}} = \\mathbf{g} - \\frac{1}{m} c \\| \\mathbf{v} \\|_2 \\mathbf{v}\n",
    "\\end{matrix}\n",
    "}\n",
    "\\end{aligned}\n",
    "\n",
    "where\n",
    "\n",
    "\\begin{aligned}\n",
    "\\mathbf{p} = \\left[ \\begin{matrix} x \\\\ y \\end{matrix} \\right],\n",
    "\\mathbf{v} = \\left[ \\begin{matrix} v_x \\\\ v_y \\end{matrix} \\right],\n",
    "\\mathbf{g} = \\left[ \\begin{matrix} 0 \\\\ -g \\end{matrix} \\right]\n",
    "\\end{aligned}"
   ]
  },
  {
   "cell_type": "markdown",
   "id": "cdd98905-19a3-4c1d-8ce4-16d85b01538e",
   "metadata": {},
   "source": [
    "## 1. Integrating the golf ball’s state"
   ]
  },
  {
   "cell_type": "markdown",
   "id": "9f732133-1cf9-43bf-9b55-fed2811e2530",
   "metadata": {},
   "source": [
    "### 1.1 CasADi expression for the ODE"
   ]
  },
  {
   "cell_type": "code",
   "execution_count": 3,
   "id": "6b1ba4dd-0751-4895-b9ed-c26086cd9547",
   "metadata": {},
   "outputs": [
    {
     "data": {
      "text/plain": [
       "DM([00, -9.81])"
      ]
     },
     "execution_count": 3,
     "metadata": {},
     "output_type": "execute_result"
    }
   ],
   "source": [
    "p = MX.sym('p', 2)\n",
    "v = MX.sym('v', 2)\n",
    "\n",
    "# Constants\n",
    "m = DM(0.04593)\n",
    "g = SX(2, 1)\n",
    "g[1] = -9.81\n",
    "c = DM(17.5e-5)\n",
    "g = DM(2, 1)\n",
    "g[1] = -9.81\n",
    "g"
   ]
  },
  {
   "cell_type": "code",
   "execution_count": 4,
   "id": "845972f7-aeeb-4eda-969d-6b000a262ba9",
   "metadata": {},
   "outputs": [
    {
     "data": {
      "text/plain": [
       "MX(vertcat(v, ([0, -9.81]-(((0.000175*||v||_F)*v)/0.04593))))"
      ]
     },
     "execution_count": 4,
     "metadata": {},
     "output_type": "execute_result"
    }
   ],
   "source": [
    "rhs = vertcat(\n",
    "    v,\n",
    "    g - c * norm_2(v) * v / m\n",
    ")\n",
    "\n",
    "assert rhs.shape == (4, 1)\n",
    "rhs"
   ]
  },
  {
   "cell_type": "code",
   "execution_count": 5,
   "id": "ad3ef544-405f-4d74-988d-0847ba0de8f6",
   "metadata": {},
   "outputs": [],
   "source": [
    "f = Function('rhs', [vertcat(p, v)], [rhs])\n",
    "assert_array_almost_equal(\n",
    "    f([0.0, 0.0, 35.0, 30.0]), \n",
    "    [[35], [30], [-6.14737], [-15.0792]], \n",
    "    decimal=4\n",
    ")"
   ]
  },
  {
   "cell_type": "markdown",
   "id": "7b0d9dd9-5a5c-474c-876b-7b52ba0c8e2b",
   "metadata": {},
   "source": [
    "### 2. Create a CasADi integrator"
   ]
  },
  {
   "cell_type": "code",
   "execution_count": 6,
   "id": "f18b5481-3486-4dd4-81f5-3e2ec7903a76",
   "metadata": {},
   "outputs": [
    {
     "data": {
      "text/plain": [
       "Function(intg:(x0[4],z0[0],p[0],u[0],adj_xf[],adj_zf[],adj_qf[])->(xf[4],zf[0],qf[0],adj_x0[],adj_z0[],adj_p[],adj_u[]) CvodesInterface)"
      ]
     },
     "execution_count": 6,
     "metadata": {},
     "output_type": "execute_result"
    }
   ],
   "source": [
    "ode = {'x': vertcat(p, v), 'ode': rhs}\n",
    "t0, t1 = 0., 1.\n",
    "intg = integrator('intg', 'cvodes', ode, t0, t1)\n",
    "intg"
   ]
  },
  {
   "cell_type": "code",
   "execution_count": 7,
   "id": "4f30c7a6-3070-4ad8-ad35-5901f7f35b65",
   "metadata": {},
   "outputs": [
    {
     "data": {
      "text/plain": [
       "DM([32.3549, 23.0661, 30.075, 16.6423])"
      ]
     },
     "execution_count": 7,
     "metadata": {},
     "output_type": "execute_result"
    }
   ],
   "source": [
    "x0 = [0.0, 0.0, 35.0, 30.0]\n",
    "xf, _, _, _, _, _, _ = intg(x0, [], [], [], [], [], [])\n",
    "xf"
   ]
  },
  {
   "cell_type": "code",
   "execution_count": 8,
   "id": "4ceb03af-5f02-4a04-8ba6-4585c5332795",
   "metadata": {},
   "outputs": [],
   "source": [
    "assert_array_almost_equal(xf, [[32.3549], [23.0661], [30.075], [16.6423]], decimal=4)"
   ]
  },
  {
   "cell_type": "markdown",
   "id": "cfce9abc-d394-441b-a20d-bc6a1b8ee671",
   "metadata": {},
   "source": [
    "## 2. Determining the reach of the golf ball"
   ]
  },
  {
   "cell_type": "markdown",
   "id": "5b2dc328-9a20-4f7f-8f88-5da2ce0e6046",
   "metadata": {},
   "source": [
    "### 2.1 Function to compute state in one second"
   ]
  },
  {
   "cell_type": "code",
   "execution_count": 9,
   "id": "27eb7f33-35fe-4377-ab25-edf098e16658",
   "metadata": {},
   "outputs": [
    {
     "data": {
      "text/plain": [
       "DM([32.3549, 23.0661, 30.075, 16.6423])"
      ]
     },
     "execution_count": 9,
     "metadata": {},
     "output_type": "execute_result"
    }
   ],
   "source": [
    "X0 = MX.sym('X0', 4)\n",
    "fly1sec = Function('fly1sec', [X0], [intg(x0, [], [], [], [], [], [])[0]])\n",
    "# Or fly1sec = Function('fly1sec', [X0], [intg(x0=x0)['xf']])\n",
    "x1 = fly1sec([0.0,0.0,35.0,20.0])\n",
    "x1"
   ]
  },
  {
   "cell_type": "code",
   "execution_count": 10,
   "id": "cf63e5bf-ef42-4efd-8794-ae770b98eb9d",
   "metadata": {},
   "outputs": [],
   "source": [
    "assert_array_almost_equal(x1, [[32.3549], [23.0661], [30.075], [16.6423]], decimal=4)"
   ]
  },
  {
   "cell_type": "markdown",
   "id": "43e05904-80d8-42d0-b458-07c14c89f8b2",
   "metadata": {},
   "source": [
    "### 2.2 Function to compute state at time $t$\n",
    "\n"
   ]
  },
  {
   "cell_type": "code",
   "execution_count": 11,
   "id": "28ce7059-f52b-4896-9e98-0ab94c55818d",
   "metadata": {},
   "outputs": [
    {
     "data": {
      "text/plain": [
       "Function(fly:(i0[4],i1)->(o0[4]) MXFunction)"
      ]
     },
     "execution_count": 11,
     "metadata": {},
     "output_type": "execute_result"
    }
   ],
   "source": [
    "T = MX.sym('T')\n",
    "ode_T = {'x': vertcat(p, v), 'ode': T * rhs,'p':T}\n",
    "intg = integrator('intg', 'cvodes', ode_T, 0., 1.)\n",
    "fly = Function('fly', [X0, T], [intg(x0=X0, p=T)['xf']])\n",
    "fly"
   ]
  },
  {
   "cell_type": "code",
   "execution_count": 12,
   "id": "88999d24-4b83-48b4-9b32-d5ec4e222f47",
   "metadata": {},
   "outputs": [
    {
     "data": {
      "text/plain": [
       "DM([130.338, 8.27205, 19.8961, -21.2868])"
      ]
     },
     "execution_count": 12,
     "metadata": {},
     "output_type": "execute_result"
    }
   ],
   "source": [
    "xT = fly([0.0, 0.0, 35.0, 30.0], 5)\n",
    "xT"
   ]
  },
  {
   "cell_type": "code",
   "execution_count": 13,
   "id": "a329a573-2131-47db-b487-ed4088616c17",
   "metadata": {},
   "outputs": [],
   "source": [
    "assert_array_almost_equal(xT, [[130.3377], [8.27205], [19.8961], [-21.2868]], decimal=4)"
   ]
  },
  {
   "cell_type": "markdown",
   "id": "fa5d1ecb-16ec-4e68-a916-183ddff7efe6",
   "metadata": {},
   "source": [
    "### 2.3 Shoot function"
   ]
  },
  {
   "cell_type": "code",
   "execution_count": 14,
   "id": "86a850fb-095f-440e-9ee6-dc7ccfd4b6be",
   "metadata": {},
   "outputs": [
    {
     "data": {
      "text/plain": [
       "DM([155.243, -11.0833, 22.6012, -23.8282])"
      ]
     },
     "execution_count": 14,
     "metadata": {},
     "output_type": "execute_result"
    }
   ],
   "source": [
    "v = MX.sym('v')\n",
    "theta = MX.sym('theta')\n",
    "theta_rad = theta * pi / 180\n",
    "shoot = Function(\n",
    "    'shoot', \n",
    "    [v, theta, T], \n",
    "    [fly(vertcat(0., 0., v * cos(theta_rad), v * sin(theta_rad)), T)]\n",
    ")\n",
    "xT = shoot(50, 30, 5)\n",
    "xT"
   ]
  },
  {
   "cell_type": "code",
   "execution_count": 15,
   "id": "df034cda-ccd5-4ee3-a67e-ddc0697dc311",
   "metadata": {},
   "outputs": [],
   "source": [
    "assert_array_almost_equal(xT, [[155.2433], [-11.0833], [22.6012], [-23.8282]], decimal=4)"
   ]
  },
  {
   "cell_type": "code",
   "execution_count": null,
   "id": "d08e7827-109d-490b-a50c-0b6bc76edf86",
   "metadata": {},
   "outputs": [],
   "source": []
  },
  {
   "cell_type": "code",
   "execution_count": null,
   "id": "a8b66693-a81f-4fd5-8ee1-8a931aa83bf4",
   "metadata": {},
   "outputs": [],
   "source": []
  },
  {
   "cell_type": "code",
   "execution_count": null,
   "id": "01ac1f5b-f8d9-408a-b0ae-3ae53154090d",
   "metadata": {},
   "outputs": [],
   "source": []
  },
  {
   "cell_type": "code",
   "execution_count": null,
   "id": "8c6926d5-c618-4c93-9c7e-ae35d8341d5c",
   "metadata": {},
   "outputs": [],
   "source": []
  }
 ],
 "metadata": {
  "kernelspec": {
   "display_name": "Python (casadi)",
   "language": "python",
   "name": "casadi"
  },
  "language_info": {
   "codemirror_mode": {
    "name": "ipython",
    "version": 3
   },
   "file_extension": ".py",
   "mimetype": "text/x-python",
   "name": "python",
   "nbconvert_exporter": "python",
   "pygments_lexer": "ipython3",
   "version": "3.10.13"
  }
 },
 "nbformat": 4,
 "nbformat_minor": 5
}
